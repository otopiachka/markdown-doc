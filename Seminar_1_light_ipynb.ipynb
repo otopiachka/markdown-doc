{
  "nbformat": 4,
  "nbformat_minor": 0,
  "metadata": {
    "colab": {
      "name": "Копия блокнота \"Копия блокнота \"Seminar_1_light.ipynb\"\"",
      "provenance": [],
      "collapsed_sections": [
        "-M_cYMnffIlv",
        "Wqb7ELINw7jX"
      ],
      "include_colab_link": true
    },
    "kernelspec": {
      "name": "python3",
      "display_name": "Python 3"
    },
    "accelerator": "GPU"
  },
  "cells": [
    {
      "cell_type": "markdown",
      "metadata": {
        "id": "view-in-github",
        "colab_type": "text"
      },
      "source": [
        "<a href=\"https://colab.research.google.com/github/otopiachka/markdown-doc/blob/master/Seminar_1_light_ipynb.ipynb\" target=\"_parent\"><img src=\"https://colab.research.google.com/assets/colab-badge.svg\" alt=\"Open In Colab\"/></a>"
      ]
    },
    {
      "cell_type": "markdown",
      "metadata": {
        "id": "tSsFNcn3umTW"
      },
      "source": [
        "# Семинар 1\n",
        "\n",
        "**Нейронные сети и Keras: быстрый старт.**\n",
        "\n",
        "[Кишкун Анастасия](https://kichkun.github.io/)\n",
        "[Аленичева Алиса](https://korney3.github.io/)\n",
        "\n",
        "Skoltech"
      ]
    },
    {
      "cell_type": "markdown",
      "metadata": {
        "id": "x1BwVpklQzUN"
      },
      "source": [
        "## **Глубокое машинное обучение**\n",
        "\n",
        "<img src=\"https://evilinside.ru/wp-content/uploads/2018/12/mashinnoe-obuchenie-dlya-lyudej-razbiraemsya-prostymi-slovami-5c129b36b6ca3.jpg\" width=\"500\">\n"
      ]
    },
    {
      "cell_type": "markdown",
      "metadata": {
        "id": "2fhp5iHtcvC6"
      },
      "source": [
        "## 1) Что такое нейросеть?\n",
        "\n",
        "Концепции нейрона, полносвязного слоя, глубокого обучения\n",
        "Простейшая нейросеть состоит из **нейронов** - вычислительных узлов. \n",
        "\n",
        "<img src=\"https://evilinside.ru/wp-content/uploads/2018/12/mashinnoe-obuchenie-dlya-lyudej-razbiraemsya-prostymi-slovami-5c129b5d73101.jpg\" width=\"400\">\n",
        "\n",
        " \n",
        "\n",
        "\n",
        "\n",
        "\n",
        "\n",
        "\n",
        "\n",
        "\n",
        "\n"
      ]
    },
    {
      "cell_type": "markdown",
      "metadata": {
        "id": "_BsI7KjzjfYn"
      },
      "source": [
        "### Dense Layer (Полносвязный слой)\n"
      ]
    },
    {
      "cell_type": "markdown",
      "metadata": {
        "id": "ENrDTsViFfFr"
      },
      "source": [
        "\n",
        "\n",
        "Нейроны объеденяются в слои. Из рассмотренной выше модели нейронов получаются **dense** (полносвязные) слои нейронов: все элементы входных данных связаны с каждым нейроном.\n",
        "\n",
        "Слои нейронов между входными и выходными данными называются **hidden** (скрытыми) слоями. Чем больше слоев, тем **глубже** нейросеть.\n",
        "\n",
        "\n",
        "\n",
        "<img src=\"https://neurohive.io/wp-content/uploads/2018/07/neuronnaya-set.gif\" width=\"500\">\n"
      ]
    },
    {
      "cell_type": "markdown",
      "metadata": {
        "id": "Z5VdD15p1FYI"
      },
      "source": [
        "### Глубокое обучение\n",
        "\n",
        "\n",
        "\n",
        "\n",
        "\n",
        "\n",
        "\n",
        "\n"
      ]
    },
    {
      "cell_type": "markdown",
      "metadata": {
        "id": "gs07E484jrk4"
      },
      "source": [
        "Совместное обучение большого числа различных слоев нейросети.\n",
        "\n",
        "*   Нейросеть можно строить из множества \"блоков\" (слоев), как конструктор\n",
        "*   Каждый блок может обладать своей архитектурой, независимо вычисляя выходные данные и градиенты.\n",
        "\n",
        "<table>\n",
        "<tr>\n",
        "<td><img src=\"https://spectrum.ieee.org/image/MjkxMjcwNg.octet-stream\" width=\"400\"></td>\n",
        "<td><img src=\"https://img.icons8.com/plasticine/2x/arrow.png\" width=\"200\"></td>\n",
        "<td><img src=\"https://pics.livejournal.com/xotab_81/pic/001zc7aq\" width=\"500\"></td>\n",
        "</tr>\n"
      ]
    },
    {
      "cell_type": "markdown",
      "metadata": {
        "id": "Dxl38BxDkwgn"
      },
      "source": [
        "## 2) Библиотека Keras\n",
        "\n",
        "Основные возможности"
      ]
    },
    {
      "cell_type": "markdown",
      "metadata": {
        "id": "eKvb8oJol-2I"
      },
      "source": [
        "<img src=\"https://keras.io/img/keras-logo-small-wb.png\" width=\"300\">\n",
        "\n",
        "* Библиотека для машинного обучения (прежде всего, для обучения нейронных сетей)\n",
        "\n",
        "* **Keras**  - удобный \"пользовательский интерфейс\" для более низкоуровневых библиотек (например, TensorFlow) \n",
        "\n",
        "* Основные принципы: \n",
        "    1. Удобство использования\n",
        "    2. Модульность\n",
        "    3. Масштабируемость\n",
        "    4. Работа с Python\n",
        "    \n",
        "Инструмент с низким порогом входа, подходящий как продвинутым исследователям, так и любителям."
      ]
    },
    {
      "cell_type": "markdown",
      "metadata": {
        "id": "g6eO0YUeWe7V"
      },
      "source": [
        "**keras** - одна из самых популярных библиотек для глубинного обучения \n",
        "(надстройка над другими библиотеками).\n",
        "\n",
        "**keras** использует библиотеку **tensorflow** от Google, которая позволяет строить нейронные сети с высокой эффективностью и скоростью.\n",
        "Именно поэтому сейчас **tensorflow** - наиболее популярная библиотека для глубинного обучения."
      ]
    },
    {
      "cell_type": "markdown",
      "metadata": {
        "id": "fXI034Rim7KK"
      },
      "source": [
        "## 3) MNIST\n",
        "\n",
        "Построение нейронной сети для решения задачи классификации рукописных цифр\n",
        "![](https://upload.wikimedia.org/wikipedia/commons/2/27/MnistExamples.png)"
      ]
    },
    {
      "cell_type": "markdown",
      "metadata": {
        "id": "7ofxvJirWvlp"
      },
      "source": [
        "### Нам нужно распознать рукописные цифры по их изображениям. Так как цифр 10, то в нашей задаче классификации 10 классов. \n",
        "\n",
        "Наш набор данных MNIST часто используются для демонстрации возможностей различных алгоритмов машинного и глубинного обучения, так как для него достаточно просто добиться хорошей точности работы."
      ]
    },
    {
      "cell_type": "markdown",
      "metadata": {
        "id": "Tl72AZCwdwn4"
      },
      "source": [
        "### Процесс анализа данных:\n",
        "1. Загрузим данные для обучения и тестирования\n",
        "2. Предобработаем данные\n",
        "3. Создадим модель для обучения\n",
        "4. Обучим модель\n",
        "5. Протестируем модель\n",
        "6. Попробуем улучшить модель"
      ]
    },
    {
      "cell_type": "markdown",
      "metadata": {
        "id": "8uG1CkzPL1XD"
      },
      "source": [
        "### Пререквизиты:\n",
        "* `!pip install numpy`\n",
        "* `!pip install pandas`\n",
        "* `!pip install tensorflow`\n",
        "* `!pip install keras`"
      ]
    },
    {
      "cell_type": "markdown",
      "metadata": {
        "id": "RxgnPcOV3yQQ"
      },
      "source": [
        "Выполните следующую ячейку, нажав `Shift + Enter`. Менеджер пакетов питона `pip` выполнит установку пакетов `numpy`, `pandas`, `tensorflow` и `keras`"
      ]
    },
    {
      "cell_type": "markdown",
      "metadata": {
        "id": "1dUaMUXXUiEc"
      },
      "source": [
        ""
      ]
    },
    {
      "cell_type": "code",
      "metadata": {
        "id": "85JkeJgaL1XF",
        "colab": {
          "base_uri": "https://localhost:8080/",
          "height": 870
        },
        "outputId": "66393258-37e8-4484-f677-1fd5cb99f3d5"
      },
      "source": [
        "!pip install numpy\n",
        "!pip install pandas\n",
        "!pip install tensorflow\n",
        "!pip install keras"
      ],
      "execution_count": null,
      "outputs": [
        {
          "output_type": "stream",
          "text": [
            "Requirement already satisfied: numpy in /usr/local/lib/python3.6/dist-packages (1.18.5)\n",
            "Requirement already satisfied: pandas in /usr/local/lib/python3.6/dist-packages (1.0.5)\n",
            "Requirement already satisfied: numpy>=1.13.3 in /usr/local/lib/python3.6/dist-packages (from pandas) (1.18.5)\n",
            "Requirement already satisfied: pytz>=2017.2 in /usr/local/lib/python3.6/dist-packages (from pandas) (2018.9)\n",
            "Requirement already satisfied: python-dateutil>=2.6.1 in /usr/local/lib/python3.6/dist-packages (from pandas) (2.8.1)\n",
            "Requirement already satisfied: six>=1.5 in /usr/local/lib/python3.6/dist-packages (from python-dateutil>=2.6.1->pandas) (1.15.0)\n",
            "Requirement already satisfied: tensorflow in /usr/local/lib/python3.6/dist-packages (2.3.0)\n",
            "Requirement already satisfied: scipy==1.4.1 in /usr/local/lib/python3.6/dist-packages (from tensorflow) (1.4.1)\n",
            "Requirement already satisfied: grpcio>=1.8.6 in /usr/local/lib/python3.6/dist-packages (from tensorflow) (1.31.0)\n",
            "Requirement already satisfied: astunparse==1.6.3 in /usr/local/lib/python3.6/dist-packages (from tensorflow) (1.6.3)\n",
            "Requirement already satisfied: protobuf>=3.9.2 in /usr/local/lib/python3.6/dist-packages (from tensorflow) (3.12.4)\n",
            "Requirement already satisfied: termcolor>=1.1.0 in /usr/local/lib/python3.6/dist-packages (from tensorflow) (1.1.0)\n",
            "Requirement already satisfied: google-pasta>=0.1.8 in /usr/local/lib/python3.6/dist-packages (from tensorflow) (0.2.0)\n",
            "Requirement already satisfied: six>=1.12.0 in /usr/local/lib/python3.6/dist-packages (from tensorflow) (1.15.0)\n",
            "Requirement already satisfied: wheel>=0.26 in /usr/local/lib/python3.6/dist-packages (from tensorflow) (0.35.1)\n",
            "Requirement already satisfied: keras-preprocessing<1.2,>=1.1.1 in /usr/local/lib/python3.6/dist-packages (from tensorflow) (1.1.2)\n",
            "Requirement already satisfied: opt-einsum>=2.3.2 in /usr/local/lib/python3.6/dist-packages (from tensorflow) (3.3.0)\n",
            "Requirement already satisfied: tensorboard<3,>=2.3.0 in /usr/local/lib/python3.6/dist-packages (from tensorflow) (2.3.0)\n",
            "Requirement already satisfied: gast==0.3.3 in /usr/local/lib/python3.6/dist-packages (from tensorflow) (0.3.3)\n",
            "Requirement already satisfied: absl-py>=0.7.0 in /usr/local/lib/python3.6/dist-packages (from tensorflow) (0.8.1)\n",
            "Requirement already satisfied: tensorflow-estimator<2.4.0,>=2.3.0 in /usr/local/lib/python3.6/dist-packages (from tensorflow) (2.3.0)\n",
            "Requirement already satisfied: wrapt>=1.11.1 in /usr/local/lib/python3.6/dist-packages (from tensorflow) (1.12.1)\n",
            "Requirement already satisfied: h5py<2.11.0,>=2.10.0 in /usr/local/lib/python3.6/dist-packages (from tensorflow) (2.10.0)\n",
            "Requirement already satisfied: numpy<1.19.0,>=1.16.0 in /usr/local/lib/python3.6/dist-packages (from tensorflow) (1.18.5)\n",
            "Requirement already satisfied: setuptools in /usr/local/lib/python3.6/dist-packages (from protobuf>=3.9.2->tensorflow) (49.6.0)\n",
            "Requirement already satisfied: google-auth<2,>=1.6.3 in /usr/local/lib/python3.6/dist-packages (from tensorboard<3,>=2.3.0->tensorflow) (1.17.2)\n",
            "Requirement already satisfied: google-auth-oauthlib<0.5,>=0.4.1 in /usr/local/lib/python3.6/dist-packages (from tensorboard<3,>=2.3.0->tensorflow) (0.4.1)\n",
            "Requirement already satisfied: markdown>=2.6.8 in /usr/local/lib/python3.6/dist-packages (from tensorboard<3,>=2.3.0->tensorflow) (3.2.2)\n",
            "Requirement already satisfied: requests<3,>=2.21.0 in /usr/local/lib/python3.6/dist-packages (from tensorboard<3,>=2.3.0->tensorflow) (2.23.0)\n",
            "Requirement already satisfied: werkzeug>=0.11.15 in /usr/local/lib/python3.6/dist-packages (from tensorboard<3,>=2.3.0->tensorflow) (1.0.1)\n",
            "Requirement already satisfied: tensorboard-plugin-wit>=1.6.0 in /usr/local/lib/python3.6/dist-packages (from tensorboard<3,>=2.3.0->tensorflow) (1.7.0)\n",
            "Requirement already satisfied: pyasn1-modules>=0.2.1 in /usr/local/lib/python3.6/dist-packages (from google-auth<2,>=1.6.3->tensorboard<3,>=2.3.0->tensorflow) (0.2.8)\n",
            "Requirement already satisfied: rsa<5,>=3.1.4; python_version >= \"3\" in /usr/local/lib/python3.6/dist-packages (from google-auth<2,>=1.6.3->tensorboard<3,>=2.3.0->tensorflow) (4.6)\n",
            "Requirement already satisfied: cachetools<5.0,>=2.0.0 in /usr/local/lib/python3.6/dist-packages (from google-auth<2,>=1.6.3->tensorboard<3,>=2.3.0->tensorflow) (4.1.1)\n",
            "Requirement already satisfied: requests-oauthlib>=0.7.0 in /usr/local/lib/python3.6/dist-packages (from google-auth-oauthlib<0.5,>=0.4.1->tensorboard<3,>=2.3.0->tensorflow) (1.3.0)\n",
            "Requirement already satisfied: importlib-metadata; python_version < \"3.8\" in /usr/local/lib/python3.6/dist-packages (from markdown>=2.6.8->tensorboard<3,>=2.3.0->tensorflow) (1.7.0)\n",
            "Requirement already satisfied: urllib3!=1.25.0,!=1.25.1,<1.26,>=1.21.1 in /usr/local/lib/python3.6/dist-packages (from requests<3,>=2.21.0->tensorboard<3,>=2.3.0->tensorflow) (1.24.3)\n",
            "Requirement already satisfied: chardet<4,>=3.0.2 in /usr/local/lib/python3.6/dist-packages (from requests<3,>=2.21.0->tensorboard<3,>=2.3.0->tensorflow) (3.0.4)\n",
            "Requirement already satisfied: idna<3,>=2.5 in /usr/local/lib/python3.6/dist-packages (from requests<3,>=2.21.0->tensorboard<3,>=2.3.0->tensorflow) (2.10)\n",
            "Requirement already satisfied: certifi>=2017.4.17 in /usr/local/lib/python3.6/dist-packages (from requests<3,>=2.21.0->tensorboard<3,>=2.3.0->tensorflow) (2020.6.20)\n",
            "Requirement already satisfied: pyasn1<0.5.0,>=0.4.6 in /usr/local/lib/python3.6/dist-packages (from pyasn1-modules>=0.2.1->google-auth<2,>=1.6.3->tensorboard<3,>=2.3.0->tensorflow) (0.4.8)\n",
            "Requirement already satisfied: oauthlib>=3.0.0 in /usr/local/lib/python3.6/dist-packages (from requests-oauthlib>=0.7.0->google-auth-oauthlib<0.5,>=0.4.1->tensorboard<3,>=2.3.0->tensorflow) (3.1.0)\n",
            "Requirement already satisfied: zipp>=0.5 in /usr/local/lib/python3.6/dist-packages (from importlib-metadata; python_version < \"3.8\"->markdown>=2.6.8->tensorboard<3,>=2.3.0->tensorflow) (3.1.0)\n",
            "Requirement already satisfied: keras in /usr/local/lib/python3.6/dist-packages (2.4.3)\n",
            "Requirement already satisfied: numpy>=1.9.1 in /usr/local/lib/python3.6/dist-packages (from keras) (1.18.5)\n",
            "Requirement already satisfied: h5py in /usr/local/lib/python3.6/dist-packages (from keras) (2.10.0)\n",
            "Requirement already satisfied: scipy>=0.14 in /usr/local/lib/python3.6/dist-packages (from keras) (1.4.1)\n",
            "Requirement already satisfied: pyyaml in /usr/local/lib/python3.6/dist-packages (from keras) (3.13)\n",
            "Requirement already satisfied: six in /usr/local/lib/python3.6/dist-packages (from h5py->keras) (1.15.0)\n"
          ],
          "name": "stdout"
        }
      ]
    },
    {
      "cell_type": "markdown",
      "metadata": {
        "id": "T6aUApHy4OzK"
      },
      "source": [
        "Загрузим необходимые библиотеки: `keras` для работы с нейросетями, `numpy` для научных вычислений, `matplotlib` для построения графиков. \n",
        "\n",
        "* Наша нейронная сеть будет делать ряд последовательных преобразований входных данных, поэтому нам нужен тип нейронных сетей Sequential: импортируем его из раздела `keras.models`.\n",
        "\n",
        "* Типы преобразваний, с которыми мы будем работать: плотный слой Dense, активация Activation, преобразование картинки в длинный вектор Flatten. Каждое преобразование будет отдельным слоем в последовательной модели, поэтому импортируем их из `keras.layers`\n",
        "\n",
        "Еще мы будем использовать данные MNIST - они тоже лежат прямо в `keras`, как достать этот датасет рассмотрим дальше.\n",
        "\n",
        "Выполните ячейку ниже:"
      ]
    },
    {
      "cell_type": "code",
      "metadata": {
        "id": "9G11oTPyL1XP",
        "colab": {
          "base_uri": "https://localhost:8080/",
          "height": 51
        },
        "outputId": "6841daa9-f28b-478a-ba44-968196e3924b"
      },
      "source": [
        "%tensorflow_version 1.x\n",
        "# Импортируем сам keras\n",
        "import keras\n",
        "# Последовательный тип модели\n",
        "from keras.models import Sequential\n",
        "# Импортируем полносвязный слой, слои активации и слой, превращающий картинку в вектор\n",
        "from keras.layers import Dense, Activation, Flatten\n",
        "# Импортируем датасеты, чтобы вытащить оттуда нужные нам данные\n",
        "import keras.datasets\n",
        " \n",
        "import numpy as np\n",
        "from matplotlib import pyplot as plt\n",
        " \n",
        "# Эти библиотеки отключают лишние предупреждения от библиотек, в частности,\n",
        "# tensorflow, чтобы не засорять вывод наших результатов\n",
        "import os\n",
        "os.environ['TF_CPP_MIN_LOG_LEVEL'] = '3' \n",
        "from tensorflow.python.util import deprecation\n",
        "deprecation._PRINT_DEPRECATION_WARNINGS = False\n",
        "import warnings\n",
        "warnings.filterwarnings(\"ignore\")\n",
        " \n",
        "# keras является оболочкой для более низкоуровневых библиотек, \n",
        "# в нашем случае мы используем tensorflow, у которого на данный момент \n",
        "# поддерживаются две версии, установим первую\n",
        "import tensorflow.compat.v1 as tf\n",
        "tf.disable_v2_behavior()"
      ],
      "execution_count": null,
      "outputs": [
        {
          "output_type": "stream",
          "text": [
            "TensorFlow 1.x selected.\n"
          ],
          "name": "stdout"
        },
        {
          "output_type": "stream",
          "text": [
            "Using TensorFlow backend.\n"
          ],
          "name": "stderr"
        }
      ]
    },
    {
      "cell_type": "markdown",
      "metadata": {
        "id": "CMlzR26x4mIp"
      },
      "source": [
        "Обратим внимание, что вывод ячейки `Using TensorFlow backend.` - это означает, что в качестве бэкэнда используется библиотека для вычисления `tensorflow`."
      ]
    },
    {
      "cell_type": "markdown",
      "metadata": {
        "id": "6yDr98umrnOt"
      },
      "source": [
        "### Utils\n",
        "\n",
        "Здесь некоторые дополнительные функции, которые облегчат нам работу с данными (В них разбираться не нужно, только запустить)"
      ]
    },
    {
      "cell_type": "code",
      "metadata": {
        "id": "kOqMCh9Tkh-E"
      },
      "source": [
        "#@title\n",
        "def plot_MNIST_samples_grid(image_data, dataset_name='', N=8):\n",
        "  \"\"\"\n",
        "    Эта функция строит NxN самплов из датасета image_data\n",
        "\n",
        "    Параметры\n",
        "    ----------\n",
        "    image_data : array\n",
        "        Array of shape \n",
        "        (number_of_samples, image_width, image_height, number of channels)\n",
        "        with images\n",
        "    dataset_name : str\n",
        "        Name of dataset to write in the title\n",
        "    N : int\n",
        "        Size of grid of samples \n",
        "  \"\"\"\n",
        "  plt.figure(figsize=(10,10))\n",
        "  data1=image_data[:N*N]\n",
        "  \n",
        "  image_width=image_data.shape[1]\n",
        "  image_heigth=image_data.shape[2]\n",
        "\n",
        "  if len(data1.shape)==4:\n",
        "    image_channels=image_data.shape[3]\n",
        "    data1 = data1.reshape(N, N,image_width,image_heigth, image_channels)\n",
        "    data1 = np.transpose(data1,(0,2,1,3,4))\n",
        "    data1 = data1.reshape(N*image_width,N*image_heigth,image_channels)\n",
        "    plt.imshow(data1)\n",
        "\n",
        "  elif len(data1.shape)==3:\n",
        "    data1 = data1.reshape(N, N,image_width,image_heigth)\n",
        "    data1 = np.transpose(data1,(0,2,1,3))\n",
        "    data1 = data1.reshape(N*image_width,N*image_heigth)\n",
        "    plt.imshow(data1,cmap='gray')\n",
        "  plt.xticks([])\n",
        "  plt.yticks([])\n",
        "  plt.grid(False)\n",
        "  plt.title('First '+ str(N*N) + ' '+dataset_name+ ' samples of training set')\n",
        "  plt.show()\n",
        "\n",
        "def plot_MNIST_samples(image_data, label_data, classes,  N=8):\n",
        "  \"\"\"\n",
        "    Эта функция строит N самплов каждого класса из датасета image_data\n",
        "\n",
        "    Параметры\n",
        "    ----------\n",
        "    image_data : array\n",
        "        Array of shape \n",
        "        (number_of_samples, image_width, image_height, number of channels)\n",
        "        with images\n",
        "    label_data : array\n",
        "        Array of shape \n",
        "        (number_of_samples, )\n",
        "        with labels\n",
        "    classes : list\n",
        "        list with classes names\n",
        "    dataset_name : str\n",
        "        Name of dataset to write in the title\n",
        "    N : int\n",
        "        Number of samples for each class \n",
        "  \"\"\"\n",
        "  plt.figure(figsize=(10,N))\n",
        "  num_classes = len(classes)\n",
        "  for i, y in enumerate(classes):\n",
        "      idxs = np.flatnonzero(label_data == y)\n",
        "      idxs = np.random.choice(idxs, N, replace=False)\n",
        "      for i, idx in enumerate(idxs):\n",
        "          plt_idx = i * num_classes + y + 1\n",
        "          plt.subplot(N, num_classes, plt_idx)\n",
        "          plt.imshow(image_data[idx], cmap='gray')\n",
        "          plt.axis('off')\n",
        "          if i == 0:\n",
        "              plt.title(str(y))\n",
        "  plt.show()\n",
        "\n",
        "from sklearn.metrics import confusion_matrix\n",
        "import itertools\n",
        "\n",
        "def plot_confusion_matrix(cm, classes,\n",
        "                          normalize=False,\n",
        "                          title='Confusion matrix',\n",
        "                          cmap=plt.cm.Blues):\n",
        "    \"\"\"\n",
        "    Эта функция выводит confusion matrix.\n",
        "    Нормализация может быть добавлена изменением значения флага \n",
        "    `normalize` на `True`\n",
        "    \"\"\"\n",
        "    plt.imshow(cm, interpolation='nearest', cmap=cmap)\n",
        "    plt.title(title)\n",
        "    plt.colorbar()\n",
        "    tick_marks = np.arange(len(classes))\n",
        "    plt.xticks(tick_marks, classes, rotation=45)\n",
        "    plt.yticks(tick_marks, classes)\n",
        "\n",
        "    if normalize:\n",
        "        cm = cm.astype('float') / cm.sum(axis=1)[:, np.newaxis]\n",
        "\n",
        "    thresh = cm.max() / 2.\n",
        "    for i, j in itertools.product(range(cm.shape[0]), range(cm.shape[1])):\n",
        "        plt.text(j, i, cm[i, j],\n",
        "                 horizontalalignment=\"center\",\n",
        "                 color=\"white\" if cm[i, j] > thresh else \"black\")\n",
        "\n",
        "    plt.tight_layout()\n",
        "    plt.ylabel('True label')\n",
        "    plt.xlabel('Predicted label')\n",
        "\n",
        "def display_errors(errors_index,img_errors,pred_errors, obs_errors):\n",
        "    \"\"\" \n",
        "    Эта функция показывает 6 картинок с предсказанными и настоящими классами\n",
        "    \"\"\"\n",
        "    n = 0\n",
        "    nrows = 2\n",
        "    ncols = 3\n",
        "    fig, ax = plt.subplots(nrows,ncols,sharex=True,sharey=True)\n",
        "    for row in range(nrows):\n",
        "        for col in range(ncols):\n",
        "            error = errors_index[n]\n",
        "            ax[row,col].imshow((img_errors[error]).reshape((28,28)),cmap='gray')\n",
        "            ax[row,col].set_title(\"Predicted label :{}\\nTrue label :{}\".format(pred_errors[error],obs_errors[error]))\n",
        "            n += 1\n",
        "    plt.tight_layout()"
      ],
      "execution_count": null,
      "outputs": []
    },
    {
      "cell_type": "markdown",
      "metadata": {
        "id": "AIpnql06YNc7"
      },
      "source": [
        "### 1. Загрузка данных. \n",
        "\n",
        "В keras уже есть несколько популярных датасетов, которые можно легко загрузить. Давайте загрузим набор данных MNIST."
      ]
    },
    {
      "cell_type": "code",
      "metadata": {
        "id": "CqNeI_QlVriX"
      },
      "source": [
        "# Импортируем модуль датасета MNIST\n",
        "from keras.datasets import mnist"
      ],
      "execution_count": null,
      "outputs": []
    },
    {
      "cell_type": "code",
      "metadata": {
        "id": "MRc87g0JL1XR",
        "colab": {
          "base_uri": "https://localhost:8080/",
          "height": 51
        },
        "outputId": "350b6485-e93e-49b2-9c27-68fa64540a30"
      },
      "source": [
        "# Выгрузим тренировочные и тестовые данные при помощи метода load_data\n",
        "(X_train, y_train), (X_test, y_test) = mnist.load_data()"
      ],
      "execution_count": null,
      "outputs": [
        {
          "output_type": "stream",
          "text": [
            "Downloading data from https://storage.googleapis.com/tensorflow/tf-keras-datasets/mnist.npz\n",
            "11493376/11490434 [==============================] - 0s 0us/step\n"
          ],
          "name": "stdout"
        }
      ]
    },
    {
      "cell_type": "markdown",
      "metadata": {
        "id": "D5z73jb02Uc0"
      },
      "source": [
        "Посмотрим на содержание датасета, вызвав функцию `plot_MNIST_samples`,\n",
        "которая строит на одной картинке **N** самплов из массива картинок\n",
        "**X_train** для каждого класса"
      ]
    },
    {
      "cell_type": "code",
      "metadata": {
        "id": "qu_s1amHcIUh",
        "colab": {
          "base_uri": "https://localhost:8080/",
          "height": 427
        },
        "outputId": "24468a82-a20b-4488-ce2f-67974afb21df"
      },
      "source": [
        "# Создадим лист с именами классов - цифрами от 0 до 9\n",
        "classes = list(range(0,10))\n",
        "plot_MNIST_samples(X_train, y_train, classes, N=7)"
      ],
      "execution_count": null,
      "outputs": [
        {
          "output_type": "display_data",
          "data": {
            "image/png": "[encoded data removed]",
            "text/plain": [
              "<Figure size 720x504 with 70 Axes>"
            ]
          },
          "metadata": {
            "tags": [],
            "needs_background": "light"
          }
        }
      ]
    },
    {
      "cell_type": "markdown",
      "metadata": {
        "id": "TNB3heFHYWfC"
      },
      "source": [
        "### 2. Подготовка данных \n",
        "**Нормализация значений на [0,1] и перевод целевой переменной в one-hot формат**\n",
        "\n",
        "\n"
      ]
    },
    {
      "cell_type": "markdown",
      "metadata": {
        "id": "1Jk3nwrJuGLu"
      },
      "source": [
        "Нейронные сети более капризны по сравнению с линейными моделями и моделями на основе решающих деревьев. \n",
        "\n",
        "Поэтому им нужна предварительная нормализация данных: чтобы значения всех входных признаков лежали в интервале от $0$ до $1$. \n",
        "\n",
        "При этом каждый пиксель картинки представлен в виде целого числа от $0$ до $255$ (для черно-белых картинок) и в виде набора из трех целых чисел от $0$ до $255$ для цветных.\n",
        "\n",
        "Поэтому нормализацию картинки можно произвести простым делением на $255$.\n",
        "\n",
        "\n",
        "\n"
      ]
    },
    {
      "cell_type": "markdown",
      "metadata": {
        "id": "HPz3h-kWu2XW"
      },
      "source": [
        "Еще нейронной сети нужно значение выходной переменной в one-hot формате.\n",
        "\n",
        "Напомним, что такое **one-hot encoding**. \n",
        "\n",
        "Сейчас наша целевая переменная - цифры от $0$ до $9$, то есть $10$ классов. Для каждой картинки наша сеть будет предсказывать вероятность принадлежности к каждому из этих десяти классов. \n",
        "\n",
        "Соответственно, истинным значением целевой переменной будет вектор длины $10$, состоящий из $0$ с одной $1$ на месте номера класса, к которому принадлежит картинка (то есть вероятность $1$, что цифра на самом деле принадлежит к конкретному классу).\n",
        "\n",
        "<img src=\"https://fsd.multiurok.ru/viewImage.php?image=http://piximus.net/media/19285/words-that-are-short-for-something-12.jpg\" width=\"300\">\n",
        "\n",
        "Это делаем функцией из `keras` `keras.utils.to_categorical`, которая принимает на вход исходный вектор значений выходной переменной и число классов."
      ]
    },
    {
      "cell_type": "code",
      "metadata": {
        "id": "9QZzn-yQbG1A",
        "colab": {
          "base_uri": "https://localhost:8080/",
          "height": 34
        },
        "outputId": "4190d3cb-7eb7-4d0d-ba72-e3cf75a90beb"
      },
      "source": [
        "y_train"
      ],
      "execution_count": null,
      "outputs": [
        {
          "output_type": "execute_result",
          "data": {
            "text/plain": [
              "array([5, 0, 4, ..., 5, 6, 8], dtype=uint8)"
            ]
          },
          "metadata": {
            "tags": []
          },
          "execution_count": 7
        }
      ]
    },
    {
      "cell_type": "code",
      "metadata": {
        "id": "hbw-RAM2Y6tT"
      },
      "source": [
        "X_train = X_train / 255 \n",
        "X_test = X_test / 255\n",
        "\n",
        "y_train = keras.utils.to_categorical(y_train, 10)\n",
        "y_test = keras.utils.to_categorical(y_test, 10)"
      ],
      "execution_count": null,
      "outputs": []
    },
    {
      "cell_type": "code",
      "metadata": {
        "id": "_qEa-PCUa4up",
        "colab": {
          "base_uri": "https://localhost:8080/",
          "height": 136
        },
        "outputId": "240d18ce-f6d4-4707-e3e9-a8adc3170048"
      },
      "source": [
        "y_train"
      ],
      "execution_count": null,
      "outputs": [
        {
          "output_type": "execute_result",
          "data": {
            "text/plain": [
              "array([[0., 0., 0., ..., 0., 0., 0.],\n",
              "       [1., 0., 0., ..., 0., 0., 0.],\n",
              "       [0., 0., 0., ..., 0., 0., 0.],\n",
              "       ...,\n",
              "       [0., 0., 0., ..., 0., 0., 0.],\n",
              "       [0., 0., 0., ..., 0., 0., 0.],\n",
              "       [0., 0., 0., ..., 0., 1., 0.]], dtype=float32)"
            ]
          },
          "metadata": {
            "tags": []
          },
          "execution_count": 9
        }
      ]
    },
    {
      "cell_type": "code",
      "metadata": {
        "id": "NnCEwB4iamIr",
        "colab": {
          "base_uri": "https://localhost:8080/",
          "height": 136
        },
        "outputId": "ecaab076-aa6f-41b6-cf41-519391a7a767"
      },
      "source": [
        "y_test"
      ],
      "execution_count": null,
      "outputs": [
        {
          "output_type": "execute_result",
          "data": {
            "text/plain": [
              "array([[0., 0., 0., ..., 1., 0., 0.],\n",
              "       [0., 0., 1., ..., 0., 0., 0.],\n",
              "       [0., 1., 0., ..., 0., 0., 0.],\n",
              "       ...,\n",
              "       [0., 0., 0., ..., 0., 0., 0.],\n",
              "       [0., 0., 0., ..., 0., 0., 0.],\n",
              "       [0., 0., 0., ..., 0., 0., 0.]], dtype=float32)"
            ]
          },
          "metadata": {
            "tags": []
          },
          "execution_count": 10
        }
      ]
    },
    {
      "cell_type": "markdown",
      "metadata": {
        "id": "S2986SBBZJIs"
      },
      "source": [
        "Посмотрим на то, в каком виде у нас хранятся входные признаки, напечатав размер первого объекта из обучающей выборки (метод **shape**)\n",
        "\n",
        "Для данных MNIST это изображения 28 на 28."
      ]
    },
    {
      "cell_type": "code",
      "metadata": {
        "id": "VGjF5U_eL1XU",
        "colab": {
          "base_uri": "https://localhost:8080/",
          "height": 34
        },
        "outputId": "a1a8d4c4-cc41-43c4-ee01-d1419d3aaf0b"
      },
      "source": [
        "input_size = X_train[0].shape\n",
        "input_size"
      ],
      "execution_count": null,
      "outputs": [
        {
          "output_type": "execute_result",
          "data": {
            "text/plain": [
              "(28, 28)"
            ]
          },
          "metadata": {
            "tags": []
          },
          "execution_count": 11
        }
      ]
    },
    {
      "cell_type": "code",
      "metadata": {
        "id": "u9f_p4H2POQ9",
        "colab": {
          "base_uri": "https://localhost:8080/",
          "height": 34
        },
        "outputId": "31eeaf0e-038e-4ca7-c77f-2d3c6c0b7fb8"
      },
      "source": [
        "X_train.shape"
      ],
      "execution_count": null,
      "outputs": [
        {
          "output_type": "execute_result",
          "data": {
            "text/plain": [
              "(60000, 28, 28)"
            ]
          },
          "metadata": {
            "tags": []
          },
          "execution_count": 12
        }
      ]
    },
    {
      "cell_type": "markdown",
      "metadata": {
        "id": "uOfHrF7KZZOj"
      },
      "source": [
        "### 3. Создание модели для обучения\n",
        "\n",
        "Sequential здесь означает последовательный тип модели, в который мы добавляем слои друг за другом. Инициализируем модель:"
      ]
    },
    {
      "cell_type": "code",
      "metadata": {
        "id": "mt8gkzJDL1XW"
      },
      "source": [
        "# Создаем пустую модель\n",
        "model = Sequential()"
      ],
      "execution_count": null,
      "outputs": []
    },
    {
      "cell_type": "markdown",
      "metadata": {
        "id": "MMKOCnmMZgk_"
      },
      "source": [
        "#### Добавляем в модель слой за слоем. \n",
        "\n",
        "<img src=\"https://ml4a.github.io/images/figures/mnist_2layers.png\" width=\"600\">\n",
        "\n",
        "\n",
        "* сначала растягиваем картинку в длинный вектор слоем `Flatten`\n",
        "* потом идет полносвязный слой - нейроны в следующем слое зависят от всех переменных в предыдущем\n",
        "* далее используем функцию активации `ReLU`\n",
        "* потом идет следующий полносвязный слой. В нем $10$ выходов - по числу классов\n",
        "* в конце используем функцию активации `SoftMax`\n",
        "\n",
        "**ReLU** - стандартный выбор для функции активации нейронов внутри нейросети. Несмотря на простоту функции, эксперименты показывают, что эта функция активации достаточна для эффективного обучения нейросетей.\n",
        "\n",
        "**Softmax** - функция активации для выходного слоя нейронов в задачах классификации с числом классов $>2$. Она переводит выходные значения сети в вероятности принадлежности конкретного элемента выборки к одному из класов.\n",
        "\n",
        "*Важно: в первом слое `Sequential` модели keras необходимо указать размерность входных данных $28*28=784$ , перед активацией делаем плотный слой с размерностью $10$ по числу классов*\n",
        "\n",
        "\n"
      ]
    },
    {
      "cell_type": "code",
      "metadata": {
        "id": "7L_idgx4aTSQ"
      },
      "source": [
        "# Этот слой превратит нашу двумерную картинку в вектор\n",
        "model.add(Flatten(input_shape=input_size))\n",
        "\n",
        "# Добавляем скрытый полносвязный слой из 128 нейронов\n",
        "model.add(Dense(units=128, input_shape=input_size))\n",
        "#И активацию для скрытого слоя нейронов\n",
        "model.add(Activation('relu'))\n",
        "\n",
        "# Добавляем выходной полносвязный слой из 10 нейронов\n",
        "model.add(Dense(units=10))\n",
        "# Чтобы получить на выходе вероятности для каждого класса, выбираем активацию\n",
        "# softmax\n",
        "model.add(Activation('softmax'))"
      ],
      "execution_count": null,
      "outputs": []
    },
    {
      "cell_type": "markdown",
      "metadata": {
        "id": "dXa68zvcabbz"
      },
      "source": [
        "После описания архитектуры необходимо скомпилировать модель при помощи метода `compile`, указав минимизируемую функцию потерь (параметр `loss`), \n",
        "оптимизатор (параметр `optimizer`, который позаботится об изменении весов модели) и метрику (параметр `metrics`), по которой будет оцениваться точность работы на тестовой выборке в процессе обучения"
      ]
    },
    {
      "cell_type": "code",
      "metadata": {
        "id": "m07_4onHL1XZ"
      },
      "source": [
        "# Компилируем модель с функцией ошибки categorical entropy, оптимизатором Адам \n",
        "# (оптимизатор, который со стандартным набором параметров может обучить эффективную\n",
        "#  нейросеть), и метрикой - количеством правильно угаданных цифр.\n",
        "model.compile(loss='categorical_crossentropy',\n",
        "              optimizer='adam',\n",
        "              metrics=['accuracy'])"
      ],
      "execution_count": null,
      "outputs": []
    },
    {
      "cell_type": "markdown",
      "metadata": {
        "id": "RlpUm6MadcGt"
      },
      "source": [
        "Еще можно посмотреть на нашу модель в целом: сколько в ней слоев, сколько параметров у каждого слоя с помощью команды model.summary()"
      ]
    },
    {
      "cell_type": "code",
      "metadata": {
        "id": "-eD6-YNjL1Xb",
        "colab": {
          "base_uri": "https://localhost:8080/",
          "height": 323
        },
        "outputId": "f1f56d1d-0e59-4b11-e302-1ac4ff38d3d2"
      },
      "source": [
        "model.summary()"
      ],
      "execution_count": null,
      "outputs": [
        {
          "output_type": "stream",
          "text": [
            "Model: \"sequential_1\"\n",
            "_________________________________________________________________\n",
            "Layer (type)                 Output Shape              Param #   \n",
            "=================================================================\n",
            "flatten_1 (Flatten)          (None, 784)               0         \n",
            "_________________________________________________________________\n",
            "dense_1 (Dense)              (None, 128)               100480    \n",
            "_________________________________________________________________\n",
            "activation_1 (Activation)    (None, 128)               0         \n",
            "_________________________________________________________________\n",
            "dense_2 (Dense)              (None, 10)                1290      \n",
            "_________________________________________________________________\n",
            "activation_2 (Activation)    (None, 10)                0         \n",
            "=================================================================\n",
            "Total params: 101,770\n",
            "Trainable params: 101,770\n",
            "Non-trainable params: 0\n",
            "_________________________________________________________________\n"
          ],
          "name": "stdout"
        }
      ]
    },
    {
      "cell_type": "markdown",
      "metadata": {
        "id": "iuTVdcO1Of0Z"
      },
      "source": [
        "### Обучение нейросети\n",
        "\n",
        "**Обучение** нейросети - изменение **весов** нейронов при помощи метода обратного распространения ошибки"
      ]
    },
    {
      "cell_type": "markdown",
      "metadata": {
        "id": "C_hq5K6Oahnr"
      },
      "source": [
        "### 4. Обучение модели\n",
        "**Тренировка с указанием данных, числа эпох и размера подвыборки** \n",
        "\n",
        "Теперь задана структура модели и то, как мы будем ее обучать.\n",
        "Обучаем ее аналогично `sklearn` - с помощью метода `fit`.\n",
        "\n",
        "После запуска `fit` параметры оптимизируются градиентым спуском.\n",
        "На каждом шаге градиентного спуска мы используем функцию потерь, которая подсчитана только по части полной выборки.\n",
        "\n",
        "Два дополнительных параметра для обучения:\n",
        "* **batch_size** - размер подвыборки, которая используется для одного шага оптимизации = 40 \n",
        "* **epochs** - число эпох - сколько раз мы проходим полностью по всей выборке\n",
        "\n",
        "[Эксперименты](https://arxiv.org/abs/1609.04836) показывают, что выбор **batch_size** в диапазоне $32-512$ в среднем обеспечивает нормальную обобщающую способность нейросети, то есть помогает модели делать лучшие предсказания на новых данных, не присутствующих в тренировочной выборке. \n",
        "\n",
        "Количество эпох **epochs** обычно выбирают так, чтобы метрика качества на валидационной выборке не стала убывать (то есть, не произошло переобучения). \n",
        "\n",
        "В целом, подбор подобных макропараметров сети является отдельным классом задач, поскольку одна и та же архитектура нейросети может значительно улучшать/ухудшать результаты предсказаний в зависимости от выбранных значений."
      ]
    },
    {
      "cell_type": "code",
      "metadata": {
        "id": "1yJBEO5MawBa",
        "colab": {
          "base_uri": "https://localhost:8080/",
          "height": 258
        },
        "outputId": "c42f3d13-8d54-4f93-b979-398579bbab64"
      },
      "source": [
        "model.fit(X_train, y_train, epochs=5, batch_size=40)"
      ],
      "execution_count": null,
      "outputs": [
        {
          "output_type": "stream",
          "text": [
            "WARNING:tensorflow:From /tensorflow-1.15.2/python3.6/keras/backend/tensorflow_backend.py:422: The name tf.global_variables is deprecated. Please use tf.compat.v1.global_variables instead.\n",
            "\n",
            "Epoch 1/5\n",
            "60000/60000 [==============================] - 7s 123us/step - loss: 0.2730 - accuracy: 0.9237\n",
            "Epoch 2/5\n",
            "60000/60000 [==============================] - 6s 96us/step - loss: 0.1230 - accuracy: 0.9639\n",
            "Epoch 3/5\n",
            "60000/60000 [==============================] - 6s 95us/step - loss: 0.0844 - accuracy: 0.9750\n",
            "Epoch 4/5\n",
            "60000/60000 [==============================] - 6s 96us/step - loss: 0.0616 - accuracy: 0.9816\n",
            "Epoch 5/5\n",
            "60000/60000 [==============================] - 6s 96us/step - loss: 0.0479 - accuracy: 0.9855\n"
          ],
          "name": "stdout"
        },
        {
          "output_type": "execute_result",
          "data": {
            "text/plain": [
              "<keras.callbacks.callbacks.History at 0x7f4ecaa5f630>"
            ]
          },
          "metadata": {
            "tags": []
          },
          "execution_count": 17
        }
      ]
    },
    {
      "cell_type": "markdown",
      "metadata": {
        "id": "uQ92EA7pdG8B"
      },
      "source": [
        "### 5. Валидация качества модели на тестовых данных.\n",
        "Протестируем модель на тестовой выборке для этого используется метод `evaluate`.\n",
        "Выводится **loss** и **точность**."
      ]
    },
    {
      "cell_type": "code",
      "metadata": {
        "scrolled": true,
        "id": "So0AMrOtL1Xd",
        "colab": {
          "base_uri": "https://localhost:8080/",
          "height": 51
        },
        "outputId": "0db3488d-0106-466d-d3cb-8cc53f50c99e"
      },
      "source": [
        "model.evaluate(X_test, y_test)"
      ],
      "execution_count": null,
      "outputs": [
        {
          "output_type": "stream",
          "text": [
            "10000/10000 [==============================] - 1s 79us/step\n"
          ],
          "name": "stdout"
        },
        {
          "output_type": "execute_result",
          "data": {
            "text/plain": [
              "[0.07341073898035101, 0.9781000018119812]"
            ]
          },
          "metadata": {
            "tags": []
          },
          "execution_count": 18
        }
      ]
    },
    {
      "cell_type": "markdown",
      "metadata": {
        "id": "53SddAA9rZcH"
      },
      "source": [
        "Что это означает: для нашей модели на основе нейронной сети мы получаем точность 98% - то есть, с вероятностью 98% модель определяет, какая цифра нарисована на картинке"
      ]
    },
    {
      "cell_type": "markdown",
      "metadata": {
        "id": "HCJSQ3tynDbb"
      },
      "source": [
        "## 4) Сверточные нейросети\n",
        "\n",
        "Слой сверточной сети состоит из **ядра** - окна с весами, которое последовательно проходит по пикселям входящего изображения (на картинке движется ядро размером $3\\text{x}3$) и складывает их с соответствующими весами."
      ]
    },
    {
      "cell_type": "markdown",
      "metadata": {
        "id": "3_IwoLX3TC_Y"
      },
      "source": [
        "<table>\n",
        "<tr>\n",
        "<td>\n",
        "<img src=\"https://neurohive.io/wp-content/uploads/2018/07/convolutional-neural-network.gif\" width=\"500\">\n",
        "</td>\n",
        "</tr>\n",
        "<tr>\n",
        "<td>\n",
        "<img src=\"https://neurohive.io/wp-content/uploads/2018/07/2d-covolutions.gif\" width=\"500\">\n",
        "</td>\n",
        "</tr>\n",
        "</table>\n",
        "\n",
        "\n",
        "<img src=\"https://i.stack.imgur.com/YDusp.png\" width=\"700\">\n",
        "\n"
      ]
    },
    {
      "cell_type": "markdown",
      "metadata": {
        "id": "Nf4z1aj_OJw5"
      },
      "source": [
        "Таким образом, использование сверток помогает извлекать паттерны на картинке.\n",
        "\n",
        "Чем глубже сверточный слой, тем более сложные паттерны он способен распознавать:\n",
        "\n",
        "![](https://raw.githubusercontent.com/MerkulovDaniil/TensorFlow_and_Keras_crash_course/master/rus/2_Deep%20Learning%20and%20Keras/features.png)"
      ]
    },
    {
      "cell_type": "markdown",
      "metadata": {
        "id": "-M_cYMnffIlv"
      },
      "source": [
        "#### MaxPool\n",
        "\n",
        "Слой, похожий на свертку, но вместо суммирования элементов входного изображения с весами ядра, этот слой внутри перемещающегося окна выбирает максимальный элемент и передает его дальше.\n",
        "\n",
        "Обычно слои **Conv** и **MaxPool** используют в паре, **MaxPool** используется для уменьшения размерности данных."
      ]
    },
    {
      "cell_type": "markdown",
      "metadata": {
        "id": "yxcwO6mmfpdM"
      },
      "source": [
        "<table>\n",
        "<tr>\n",
        "<td>\n",
        "<img src=\"https://mlblr.com/images/maxpool.gif\" width=\"400\">\n",
        "</td>\n",
        "</tr>\n",
        "<tr>\n",
        "<td>\n",
        "<img src=\"https://algorithmia.com/blog/wp-content/uploads/2018/03/word-image-5.png\" width=\"500\">\n",
        "</td>\n",
        "</tr>\n",
        "</table>\n",
        "\n",
        "\n",
        "\n",
        "\n",
        "\n"
      ]
    },
    {
      "cell_type": "markdown",
      "metadata": {
        "id": "xQWfh0c1gADl"
      },
      "source": [
        "### 6. Улучшение модели: добавим сверточный слой и посмотрим на результат."
      ]
    },
    {
      "cell_type": "markdown",
      "metadata": {
        "id": "WUCezkiXDrDH"
      },
      "source": [
        "Теперь вместо того, чтобы превращать нашу картинку в вектор (из-за чего мы теряем много информации о взаимном расположении пикселей) и отправлять на вход `Dense` слоям, сначала мы произведем свертку изображения при помощи `Conv2D`.\n",
        "\n",
        "Таким образом мы постараемся извлечь основные паттерны цифр, и только потом результат свертки превратим в вектор и передадим его полносвязной части нейросети."
      ]
    },
    {
      "cell_type": "markdown",
      "metadata": {
        "id": "6CFF3-RLhGH4"
      },
      "source": [
        "Добавим явно число каналов(слоев цвета) в наш датасет - это важно для сверточных слоев. Поскольку наш датасет черно-белый, изображение состоит из одного канала (в отличие от $3$х RGB каналов цветных изображений). \n",
        "т.е. делается преобразование ($60000$, $28$, $28$) -> ($60000$, $28$, $28$, $1$). Это не изменяет общие размеры матриц, но `keras` принимает на вход именно такую структуру данных - если мы используем сверточные слои.\n",
        "\n",
        "\n"
      ]
    },
    {
      "cell_type": "code",
      "metadata": {
        "id": "J6gkFZuMhL_f",
        "colab": {
          "base_uri": "https://localhost:8080/",
          "height": 34
        },
        "outputId": "df99f48f-ef3e-498c-aa01-7e94009dda9b"
      },
      "source": [
        "X_train, X_test = X_train.reshape((60000, 28, 28, 1)), X_test.reshape((10000, 28, 28, 1))\n",
        "input_size = X_train[0].shape\n",
        "print(input_size)"
      ],
      "execution_count": null,
      "outputs": [
        {
          "output_type": "stream",
          "text": [
            "(28, 28, 1)\n"
          ],
          "name": "stdout"
        }
      ]
    },
    {
      "cell_type": "markdown",
      "metadata": {
        "id": "JB8OqlSHhQYd"
      },
      "source": [
        "Мы используем новый тип преобразования в слое - сверточный `Conv2D`"
      ]
    },
    {
      "cell_type": "code",
      "metadata": {
        "id": "JZyg7D08L1Xg"
      },
      "source": [
        "from keras.layers import Conv2D"
      ],
      "execution_count": null,
      "outputs": []
    },
    {
      "cell_type": "markdown",
      "metadata": {
        "id": "0jWP1X9Vh76x"
      },
      "source": [
        "Создание модели. `Sequential` здесь снова означает последовательный тип модели, в который мы добавляем слои друг за другом"
      ]
    },
    {
      "cell_type": "code",
      "metadata": {
        "id": "Ow_oxCQmiCkZ"
      },
      "source": [
        "# Задаем пустую модель\n",
        "conv_model = Sequential()"
      ],
      "execution_count": null,
      "outputs": []
    },
    {
      "cell_type": "markdown",
      "metadata": {
        "id": "XqXj7PlliB23"
      },
      "source": [
        "Здесь мы используем сверточный слой, который обучает $24$ ядра размером $3$x$3$ для поиска \n",
        " конкретных геометрических (настраиваемых в процессе обучения) паттернов на входном изображении.\n"
      ]
    },
    {
      "cell_type": "code",
      "metadata": {
        "id": "8v4Fbs5Shr79"
      },
      "source": [
        "# В начале добавляем сверточный слой, первый параметр - количество фильров (24),\n",
        "# второй - размер \"ядра\" - окошка, перемещающегося по входному изображению (3,3),\n",
        "# padding - добавление пикселей по краям изображения, чтобы сделать свертку на \n",
        "# крайних пикселях, режим `same` - повторение края\n",
        "conv_model.add(Conv2D(24, (3, 3), padding='same', input_shape=input_size))\n",
        "\n",
        "# Для сверточного слоя тоже нужна активация и ReLU подходит сюда так же, \n",
        "# как и для скрытого полносвязного слоя\n",
        "conv_model.add(Activation('relu'))\n",
        "\n",
        "# Разворачиваем результат свертки в вектор\n",
        "conv_model.add(Flatten())\n",
        "\n",
        "# Добавляем полносвязный скрытый слой, вид активации можно указать сразу \n",
        "# в описании Dense слоя, в данном случае - ReLU\n",
        "conv_model.add(Dense(64, activation='relu'))\n",
        "\n",
        "# Для выходного полносвязного слоя указываем количество итоговых классов и \n",
        "# softmax для активации\n",
        "conv_model.add(Dense(10, activation='softmax'))"
      ],
      "execution_count": null,
      "outputs": []
    },
    {
      "cell_type": "code",
      "metadata": {
        "id": "Bhfoz8W2L1Xi",
        "colab": {
          "base_uri": "https://localhost:8080/",
          "height": 323
        },
        "outputId": "461f2893-f5bd-4e64-f119-5741d9324e9b"
      },
      "source": [
        "# При помощи метода `summary` мы можем посмотреть,как выглядит наша \n",
        "# итоговая архитектура нейросети и количество параметров (весов)\n",
        "conv_model.summary()"
      ],
      "execution_count": null,
      "outputs": [
        {
          "output_type": "stream",
          "text": [
            "Model: \"sequential_2\"\n",
            "_________________________________________________________________\n",
            "Layer (type)                 Output Shape              Param #   \n",
            "=================================================================\n",
            "conv2d_1 (Conv2D)            (None, 28, 28, 24)        240       \n",
            "_________________________________________________________________\n",
            "activation_3 (Activation)    (None, 28, 28, 24)        0         \n",
            "_________________________________________________________________\n",
            "flatten_2 (Flatten)          (None, 18816)             0         \n",
            "_________________________________________________________________\n",
            "dense_3 (Dense)              (None, 64)                1204288   \n",
            "_________________________________________________________________\n",
            "dense_4 (Dense)              (None, 10)                650       \n",
            "=================================================================\n",
            "Total params: 1,205,178\n",
            "Trainable params: 1,205,178\n",
            "Non-trainable params: 0\n",
            "_________________________________________________________________\n"
          ],
          "name": "stdout"
        }
      ]
    },
    {
      "cell_type": "markdown",
      "metadata": {
        "id": "BEfkQmx8iRUH"
      },
      "source": [
        "После описания архитектуры необходимо скомпилировать модель, указав минимизируемую функцию потерь, \n",
        "оптимизатор и попросив модель выводить точность работы на тестовой выорке в процессе обучения\n"
      ]
    },
    {
      "cell_type": "code",
      "metadata": {
        "id": "QzkuwxBuiOzS"
      },
      "source": [
        "# Компилируем модель с функцией ошибки categorical entropy, оптимизатором Адам \n",
        "# (оптимизатор, который со стандартным набором параметров может обучить эффективную\n",
        "#  нейросеть), и метрикой - количеством правильно угаданных цифр.\n",
        "conv_model.compile(loss='categorical_crossentropy',\n",
        "                   optimizer='adam',\n",
        "                   metrics=['accuracy'])"
      ],
      "execution_count": null,
      "outputs": []
    },
    {
      "cell_type": "markdown",
      "metadata": {
        "id": "S4mM0LJphwui"
      },
      "source": [
        "Тренировка с указанием данных, числа эпох и размера подвыборки"
      ]
    },
    {
      "cell_type": "code",
      "metadata": {
        "id": "n3f0J-COhuc6",
        "colab": {
          "base_uri": "https://localhost:8080/",
          "height": 204
        },
        "outputId": "f202d718-87a2-4498-a663-1dfd26abe456"
      },
      "source": [
        "conv_model.fit(X_train, y_train, epochs=5, batch_size=32)"
      ],
      "execution_count": null,
      "outputs": [
        {
          "output_type": "stream",
          "text": [
            "Epoch 1/5\n",
            "60000/60000 [==============================] - 17s 285us/step - loss: 0.1656 - accuracy: 0.9511\n",
            "Epoch 2/5\n",
            "60000/60000 [==============================] - 13s 217us/step - loss: 0.0543 - accuracy: 0.9837\n",
            "Epoch 3/5\n",
            "60000/60000 [==============================] - 13s 216us/step - loss: 0.0311 - accuracy: 0.9904\n",
            "Epoch 4/5\n",
            "60000/60000 [==============================] - 13s 217us/step - loss: 0.0207 - accuracy: 0.9931\n",
            "Epoch 5/5\n",
            "60000/60000 [==============================] - 13s 217us/step - loss: 0.0128 - accuracy: 0.9959\n"
          ],
          "name": "stdout"
        },
        {
          "output_type": "execute_result",
          "data": {
            "text/plain": [
              "<keras.callbacks.callbacks.History at 0x7f4ec8952dd8>"
            ]
          },
          "metadata": {
            "tags": []
          },
          "execution_count": 25
        }
      ]
    },
    {
      "cell_type": "markdown",
      "metadata": {
        "id": "NzMjjDbzil3b"
      },
      "source": [
        "Проверим качество работы модели на тестовых данных. Выводится loss и точность."
      ]
    },
    {
      "cell_type": "code",
      "metadata": {
        "id": "M5AnjO2JL1Xj",
        "colab": {
          "base_uri": "https://localhost:8080/",
          "height": 51
        },
        "outputId": "ed5e98d8-be11-4f5d-a317-e8b0b2a2cfaf"
      },
      "source": [
        "conv_model.evaluate(X_test, y_test)"
      ],
      "execution_count": null,
      "outputs": [
        {
          "output_type": "stream",
          "text": [
            "10000/10000 [==============================] - 1s 99us/step\n"
          ],
          "name": "stdout"
        },
        {
          "output_type": "execute_result",
          "data": {
            "text/plain": [
              "[0.06162130496690697, 0.9832000136375427]"
            ]
          },
          "metadata": {
            "tags": []
          },
          "execution_count": 26
        }
      ]
    },
    {
      "cell_type": "markdown",
      "metadata": {
        "id": "cQLUPBbJMky5"
      },
      "source": [
        "#### Получение предсказаний классов на основе выходных данных нейросети\n",
        "\n",
        "Как мы уже поняли, выходной слой нейросети возвращает нам вектор длиной $10$ (количество классов) с **вероятностями** принадлежности данного объекта каждому классу. Как же нам получить итоговые предсказания, то есть сами **номера классов**? "
      ]
    },
    {
      "cell_type": "markdown",
      "metadata": {
        "id": "keN5xDLoLvvr"
      },
      "source": [
        "\n",
        "Верифицируем, что полученное значение точности модели соответствует точности модели, которую мы получим с помощью обычной кобминации подсчета прогноза и затем вызова функции accuracy_score."
      ]
    },
    {
      "cell_type": "code",
      "metadata": {
        "id": "Am7beN2MILMj",
        "colab": {
          "base_uri": "https://localhost:8080/",
          "height": 34
        },
        "outputId": "d5cf9103-72da-4f59-f626-55c709dd86a9"
      },
      "source": [
        "# Импортируем знакомую нам функцию подсчета accuracy\n",
        "from sklearn.metrics import accuracy_score\n",
        "\n",
        "# Метод predict модели возвращает выходные значения последнего слоя нейросети \n",
        "# То есть y_test_predictions сейчас содержит len(X_test) векторов \n",
        "# предсказанных вероятностей\n",
        "y_test_predictions = conv_model.predict(X_test)\n",
        "\n",
        "# y_test содержит one-hot формат исходных классов, то есть вероятности 1, стоящие \n",
        "# в элементах вектора, отвечающих за правильный номер класса\n",
        "\n",
        "# Получим предсказанные номера классов, попросив выдать нам номера выходного вектора,\n",
        "# содержащие самые большие вероятности (то есть тот класс, в котором сеть уверена\n",
        "#                                       с наибольшей вероятностью)\n",
        "# Это делается при помощи функции np.argmax. Аргумент axis показывает, \n",
        "# что нас интересует поиск максимальных значений не среди всей выборки (axis=0), \n",
        "# а среди 10ти классов (axis=1)\n",
        "\n",
        "y_predicted_classes=np.argmax(y_test_predictions, axis=1)\n",
        "y_real_classes=np.argmax(y_test, axis=1)\n",
        "\n",
        "#посчитаем точность наших предсказаний\n",
        "print(accuracy_score(y_real_classes, y_predicted_classes))"
      ],
      "execution_count": null,
      "outputs": [
        {
          "output_type": "stream",
          "text": [
            "0.9832\n"
          ],
          "name": "stdout"
        }
      ]
    },
    {
      "cell_type": "markdown",
      "metadata": {
        "id": "jPX9MA3Jnw3V"
      },
      "source": [
        "## 5) Бонус: Переобучение. Dropout\n",
        "\n",
        "Иногда нейросеть вместо того, чтобы \"понять\" общие паттерны данных просто \"заучивает\" обучающую выборку: на тренировочной части датасета модель правильно угадывает принадлежность к классу, а на валидационном датасете результативность в разы снижается."
      ]
    },
    {
      "cell_type": "markdown",
      "metadata": {
        "id": "Wt4_WlQVe7r_"
      },
      "source": [
        "\n",
        "\n",
        "Такая ситуация называется **переобучением** (overfitting).\n",
        "\n",
        "<img src=\"https://miro.medium.com/max/900/1*xoXxugPVIeZImf5NVfIwAQ.jpeg\" width=\"500\">\n",
        "\n",
        "\n"
      ]
    },
    {
      "cell_type": "markdown",
      "metadata": {
        "id": "ssBYo-mUgD00"
      },
      "source": [
        "**Dropout** - техника спасения нейросетей от переобучения, при которой в процессе тренировки случайно \"выключаются\" некоторые нейроны из моделей.\n",
        "\n",
        "Альтернативный взгляд - вместо тренировки одной большой сети проходит одновременная тренировка нескольких подсетей меньшего размера, результаты которых потом усредняются (в каком то смысле, сглаживаются).\n",
        "\n",
        "![](https://github.com/MerkulovDaniil/TensorFlow_and_Keras_crash_course/blob/master/rus/2_Deep%20Learning%20and%20Keras/dropout.gif?raw=true)\n",
        "\n",
        "Давайте попробуем посмотреть, как написать сеть, состоящую из нескольких сверточных слоев с использованием `dropout` на `keras`"
      ]
    },
    {
      "cell_type": "markdown",
      "metadata": {
        "id": "AFvowfoLkHtp"
      },
      "source": [
        "### 7. Модель из нескольких сверточных слоев с дропаутами"
      ]
    },
    {
      "cell_type": "code",
      "metadata": {
        "id": "7J6YIa0RnIwj",
        "colab": {
          "base_uri": "https://localhost:8080/",
          "height": 71
        },
        "outputId": "32a8d6a3-3773-4a85-94b6-0843ac86fdbc"
      },
      "source": [
        "from keras.layers import Conv2D, MaxPooling2D, Dropout\n",
        "\n",
        "\n",
        "# Все так же, создаем модель\n",
        "cnn = Sequential()\n",
        "\n",
        "# Начинаем со сверточного слоя, указывая тип активации на выходе из него и способ заполнения краев (padding)\n",
        "cnn.add(Conv2D(64, (3, 3), input_shape=input_size, activation='selu', padding='same'))\n",
        "\n",
        "\n",
        "# Слой dropout, который на каждом шаге \"выключает\" 25% случайно выбранных нейронов\n",
        "cnn.add(Dropout(0.25))\n",
        "\n",
        "# Еще сверточный слой\n",
        "cnn.add(Conv2D(32, (3, 3), activation='selu', padding='same'))\n",
        "# Здесь мы используем метод MaxPooling, который уменьшает размер обрабатываемого изображения, \n",
        "# выбирая из 4 пикселей 1 с максимальным значением, чтобы это быстрее считалось. (2,2) -> 1\n",
        "cnn.add(MaxPooling2D(pool_size=(2, 2)))\n",
        "\n",
        "cnn.add(Dropout(0.5))\n",
        "\n",
        "# Последний слой необходим для классификации, но перед ним необходимо векторизовать данные\n",
        "cnn.add(Flatten())\n",
        "cnn.add(Dense(10, activation='softmax'))\n",
        "\n",
        "# Компилируем модель с функцией ошибки categorical entropy, оптимизатором Адам \n",
        "# (оптимизатор, который со стандартным набором параметров может обучить эффективную\n",
        "#  нейросеть), и метрикой - количеством правильно угаданных цифр.\n",
        "cnn.compile(loss='categorical_crossentropy',\n",
        "                  optimizer = 'nadam',\n",
        "                  metrics = ['accuracy'])"
      ],
      "execution_count": null,
      "outputs": [
        {
          "output_type": "stream",
          "text": [
            "WARNING:tensorflow:From /tensorflow-1.15.2/python3.6/keras/backend/tensorflow_backend.py:4070: The name tf.nn.max_pool is deprecated. Please use tf.nn.max_pool2d instead.\n",
            "\n"
          ],
          "name": "stdout"
        }
      ]
    },
    {
      "cell_type": "code",
      "metadata": {
        "id": "ndYDYVxInMT3",
        "colab": {
          "base_uri": "https://localhost:8080/",
          "height": 391
        },
        "outputId": "4494a040-2e2f-442e-fd97-30a1b350168d"
      },
      "source": [
        "#Посмотрим, из чего у нас состоит итоговая архитектура\n",
        "cnn.summary()"
      ],
      "execution_count": null,
      "outputs": [
        {
          "output_type": "stream",
          "text": [
            "Model: \"sequential_3\"\n",
            "_________________________________________________________________\n",
            "Layer (type)                 Output Shape              Param #   \n",
            "=================================================================\n",
            "conv2d_2 (Conv2D)            (None, 28, 28, 64)        640       \n",
            "_________________________________________________________________\n",
            "dropout_1 (Dropout)          (None, 28, 28, 64)        0         \n",
            "_________________________________________________________________\n",
            "conv2d_3 (Conv2D)            (None, 28, 28, 32)        18464     \n",
            "_________________________________________________________________\n",
            "max_pooling2d_1 (MaxPooling2 (None, 14, 14, 32)        0         \n",
            "_________________________________________________________________\n",
            "dropout_2 (Dropout)          (None, 14, 14, 32)        0         \n",
            "_________________________________________________________________\n",
            "flatten_3 (Flatten)          (None, 6272)              0         \n",
            "_________________________________________________________________\n",
            "dense_5 (Dense)              (None, 10)                62730     \n",
            "=================================================================\n",
            "Total params: 81,834\n",
            "Trainable params: 81,834\n",
            "Non-trainable params: 0\n",
            "_________________________________________________________________\n"
          ],
          "name": "stdout"
        }
      ]
    },
    {
      "cell_type": "code",
      "metadata": {
        "id": "QmYolMLDL1Xm",
        "colab": {
          "base_uri": "https://localhost:8080/",
          "height": 204
        },
        "outputId": "1ed5f32a-1480-4d21-a4e3-9e52e2c74354"
      },
      "source": [
        "# При помощи fit натренируем 5 эпох нашу модель с размером батча 128\n",
        "# На выходе мы получим натренированную модель и структуру history_cnn, \n",
        "# из которой можно достать значения функции ошибки и метрик качества\n",
        "\n",
        "history_cnn = cnn.fit(X_train, y_train,\n",
        "      batch_size=128,\n",
        "      epochs=5,\n",
        "      validation_data=(X_test, y_test))"
      ],
      "execution_count": null,
      "outputs": [
        {
          "output_type": "stream",
          "text": [
            "Train on 60000 samples, validate on 10000 samples\n",
            "Epoch 1/5\n",
            "60000/60000 [==============================] - 15s 256us/step - loss: 0.2569 - accuracy: 0.9228 - val_loss: 0.1068 - val_accuracy: 0.9672\n",
            "Epoch 2/5\n",
            "60000/60000 [==============================] - 15s 245us/step - loss: 0.1403 - accuracy: 0.9592 - val_loss: 0.1029 - val_accuracy: 0.9678\n",
            "Epoch 3/5\n",
            "60000/60000 [==============================] - 15s 246us/step - loss: 0.1278 - accuracy: 0.9633 - val_loss: 0.0960 - val_accuracy: 0.9735\n",
            "Epoch 4/5\n",
            "60000/60000 [==============================] - 15s 246us/step - loss: 0.1164 - accuracy: 0.9663 - val_loss: 0.0736 - val_accuracy: 0.9784\n",
            "Epoch 5/5\n",
            "60000/60000 [==============================] - 15s 245us/step - loss: 0.1132 - accuracy: 0.9681 - val_loss: 0.0772 - val_accuracy: 0.9779\n"
          ],
          "name": "stdout"
        }
      ]
    },
    {
      "cell_type": "code",
      "metadata": {
        "id": "QUICZr1xGMIT",
        "colab": {
          "base_uri": "https://localhost:8080/",
          "height": 34
        },
        "outputId": "54f1eb14-8c39-42db-fe59-641fb0086a88"
      },
      "source": [
        "# history_cnn.history - словарь, содержащий значения функции ошибки и точности \n",
        "# на трейновой и тестовой выборках каждую эпоху\n",
        "history_cnn.history.keys()"
      ],
      "execution_count": null,
      "outputs": [
        {
          "output_type": "execute_result",
          "data": {
            "text/plain": [
              "dict_keys(['val_loss', 'val_accuracy', 'loss', 'accuracy'])"
            ]
          },
          "metadata": {
            "tags": []
          },
          "execution_count": 31
        }
      ]
    },
    {
      "cell_type": "code",
      "metadata": {
        "id": "RW1V8_Qtdnf-",
        "colab": {
          "base_uri": "https://localhost:8080/",
          "height": 265
        },
        "outputId": "57d32868-d1b0-4d96-a652-82d5b4a89d2f"
      },
      "source": [
        "# Построим графики точности на валидационной (val_acc) и трейновой (acc) выборках\n",
        "# в конце каждой эпохи обучения\n",
        "\n",
        "plt.plot(history_cnn.history['val_accuracy'], '-o', label='validation accuracy')\n",
        "plt.plot(history_cnn.history['accuracy'], '--s', label='training accuracy')\n",
        "plt.legend();"
      ],
      "execution_count": null,
      "outputs": [
        {
          "output_type": "display_data",
          "data": {
            "image/png": "[encoded data removed]",
            "text/plain": [
              "<Figure size 432x288 with 1 Axes>"
            ]
          },
          "metadata": {
            "tags": [],
            "needs_background": "light"
          }
        }
      ]
    },
    {
      "cell_type": "code",
      "metadata": {
        "id": "S87Xm1NcqkBV",
        "colab": {
          "base_uri": "https://localhost:8080/",
          "height": 51
        },
        "outputId": "c1cd501e-3cec-4f86-91eb-6fe914851fa9"
      },
      "source": [
        "# Выведем метрики качества нашей нейросети (функцию ошибки и точность)\n",
        "# для тестовой выборки\n",
        "cnn.evaluate(X_test, y_test)"
      ],
      "execution_count": null,
      "outputs": [
        {
          "output_type": "stream",
          "text": [
            "10000/10000 [==============================] - 1s 137us/step\n"
          ],
          "name": "stdout"
        },
        {
          "output_type": "execute_result",
          "data": {
            "text/plain": [
              "[0.07720757414195105, 0.9779000282287598]"
            ]
          },
          "metadata": {
            "tags": []
          },
          "execution_count": 33
        }
      ]
    },
    {
      "cell_type": "markdown",
      "metadata": {
        "id": "kwafJPB5uJxJ"
      },
      "source": [
        ""
      ]
    },
    {
      "cell_type": "markdown",
      "metadata": {
        "id": "54EsL6PlvcQp"
      },
      "source": [
        "## Выводы\n",
        "\n",
        "\n",
        "\n"
      ]
    },
    {
      "cell_type": "markdown",
      "metadata": {
        "id": "hcttYN6b160g"
      },
      "source": [
        "1.   Мы познакомились с **нейросетями** и основными терминами - **нейрон**, **слои**, **функция активации**, **функция ошибки (loss)**, **обучение/тренировка**, **батч**, **эпоха**...\n",
        "\n",
        "2.   Начали учиться работать с библиотекой для \"дрессировки\" нейронных сетей **`keras`**\n",
        "\n",
        "3.   На примере одного из самых популярных датасетов черно-белых картинок **MNIST** посмотрели, как строить нейросети для задачи **классификации**\n",
        "\n",
        "4.  Узнали разницу между **полносвязными Dense** и **сверточными Conv2D** слоями нейросетей и поняли, что свертки позволяют обучать гораздо более эффективные предсказательные модели на изображениях\n",
        "\n",
        "5.  Получили представление о **переобучении** нейросетей и узнали один из способов увеличения обобщающей способности модели - **Dropout**\n",
        "\n",
        "6. Познакомились с новыми слоями нейростей - **Flatten**, превращающим картинку в вектор и  **MaxPooling** - уменьшающим размер изображения после свертки\n"
      ]
    },
    {
      "cell_type": "markdown",
      "metadata": {
        "id": "-rUFs2EEr_PD"
      },
      "source": [
        "![Градиентный спуск](https://neurohive.io/wp-content/uploads/2018/11/minimum-funkcii-570x309.png)"
      ]
    },
    {
      "cell_type": "markdown",
      "metadata": {
        "id": "Wqb7ELINw7jX"
      },
      "source": [
        "## В следующий раз\n",
        "\n",
        "\n",
        "\n"
      ]
    },
    {
      "cell_type": "markdown",
      "metadata": {
        "id": "QZOYlHea188l"
      },
      "source": [
        "1.   Датасет цветных фото из $10$ классов - **CIFAR10**\n",
        "\n",
        "2.   Лечение переобучения при помощи **аугментации данных**\n",
        "\n",
        "3.  Задача бинарной классификации кошек и собак\n",
        "\n",
        "4.  Увеличение предсказательной способности модели через **transfer learning**\n",
        "\n",
        "5. \\+ Бонус для самых любопытных - **сегментация** :^)"
      ]
    },
    {
      "cell_type": "code",
      "metadata": {
        "id": "-SRVV3PyJzKF"
      },
      "source": [
        ""
      ],
      "execution_count": null,
      "outputs": []
    }
  ]
}