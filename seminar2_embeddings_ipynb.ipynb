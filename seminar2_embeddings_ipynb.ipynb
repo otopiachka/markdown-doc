{
  "nbformat": 4,
  "nbformat_minor": 0,
  "metadata": {
    "colab": {
      "name": "Копия блокнота \"seminar2_embeddings.ipynb\"",
      "provenance": [],
      "collapsed_sections": [
        "ZNHMtmbqX-rl",
        "juR4NX0wX-r_",
        "CXKnPffPX-sY",
        "yI2MToHc3Vk1",
        "Sv0wxUXIX-se",
        "9qZcF3nGX-sp"
      ],
      "include_colab_link": true
    },
    "kernelspec": {
      "display_name": "Python 3",
      "language": "python",
      "name": "python3"
    },
    "language_info": {
      "codemirror_mode": {
        "name": "ipython",
        "version": 3
      },
      "file_extension": ".py",
      "mimetype": "text/x-python",
      "name": "python",
      "nbconvert_exporter": "python",
      "pygments_lexer": "ipython3",
      "version": "3.6.3"
    },
    "widgets": {
      "application/vnd.jupyter.widget-state+json": {
        "65adb9a814d04aa2b0a2b96d852dfab9": {
          "model_module": "@jupyter-widgets/controls",
          "model_name": "HBoxModel",
          "state": {
            "_view_name": "HBoxView",
            "_dom_classes": [],
            "_model_name": "HBoxModel",
            "_view_module": "@jupyter-widgets/controls",
            "_model_module_version": "1.5.0",
            "_view_count": null,
            "_view_module_version": "1.5.0",
            "box_style": "",
            "layout": "IPY_MODEL_ce6951729bb04747bbad5da46ddb92ec",
            "_model_module": "@jupyter-widgets/controls",
            "children": [
              "IPY_MODEL_5609cc0a631c427db56924b69d539e08",
              "IPY_MODEL_f766556929ac4e67955eba8747b0ba21"
            ]
          }
        },
        "ce6951729bb04747bbad5da46ddb92ec": {
          "model_module": "@jupyter-widgets/base",
          "model_name": "LayoutModel",
          "state": {
            "_view_name": "LayoutView",
            "grid_template_rows": null,
            "right": null,
            "justify_content": null,
            "_view_module": "@jupyter-widgets/base",
            "overflow": null,
            "_model_module_version": "1.2.0",
            "_view_count": null,
            "flex_flow": null,
            "width": null,
            "min_width": null,
            "border": null,
            "align_items": null,
            "bottom": null,
            "_model_module": "@jupyter-widgets/base",
            "top": null,
            "grid_column": null,
            "overflow_y": null,
            "overflow_x": null,
            "grid_auto_flow": null,
            "grid_area": null,
            "grid_template_columns": null,
            "flex": null,
            "_model_name": "LayoutModel",
            "justify_items": null,
            "grid_row": null,
            "max_height": null,
            "align_content": null,
            "visibility": null,
            "align_self": null,
            "height": null,
            "min_height": null,
            "padding": null,
            "grid_auto_rows": null,
            "grid_gap": null,
            "max_width": null,
            "order": null,
            "_view_module_version": "1.2.0",
            "grid_template_areas": null,
            "object_position": null,
            "object_fit": null,
            "grid_auto_columns": null,
            "margin": null,
            "display": null,
            "left": null
          }
        },
        "5609cc0a631c427db56924b69d539e08": {
          "model_module": "@jupyter-widgets/controls",
          "model_name": "FloatProgressModel",
          "state": {
            "_view_name": "ProgressView",
            "style": "IPY_MODEL_8c98aa6ecc3f40989a86540d4df386bf",
            "_dom_classes": [],
            "description": "100%",
            "_model_name": "FloatProgressModel",
            "bar_style": "success",
            "max": 528987,
            "_view_module": "@jupyter-widgets/controls",
            "_model_module_version": "1.5.0",
            "value": 528987,
            "_view_count": null,
            "_view_module_version": "1.5.0",
            "orientation": "horizontal",
            "min": 0,
            "description_tooltip": null,
            "_model_module": "@jupyter-widgets/controls",
            "layout": "IPY_MODEL_e5a8d97a953045ed966f6f9d0e3be290"
          }
        },
        "f766556929ac4e67955eba8747b0ba21": {
          "model_module": "@jupyter-widgets/controls",
          "model_name": "HTMLModel",
          "state": {
            "_view_name": "HTMLView",
            "style": "IPY_MODEL_3ead6cbf66ae4ed98035b69e0d5644d4",
            "_dom_classes": [],
            "description": "",
            "_model_name": "HTMLModel",
            "placeholder": "​",
            "_view_module": "@jupyter-widgets/controls",
            "_model_module_version": "1.5.0",
            "value": " 528987/528987 [00:12&lt;00:00, 42633.92it/s]",
            "_view_count": null,
            "_view_module_version": "1.5.0",
            "description_tooltip": null,
            "_model_module": "@jupyter-widgets/controls",
            "layout": "IPY_MODEL_85c62010afdd46ccb38e10e8bc671b54"
          }
        },
        "8c98aa6ecc3f40989a86540d4df386bf": {
          "model_module": "@jupyter-widgets/controls",
          "model_name": "ProgressStyleModel",
          "state": {
            "_view_name": "StyleView",
            "_model_name": "ProgressStyleModel",
            "description_width": "initial",
            "_view_module": "@jupyter-widgets/base",
            "_model_module_version": "1.5.0",
            "_view_count": null,
            "_view_module_version": "1.2.0",
            "bar_color": null,
            "_model_module": "@jupyter-widgets/controls"
          }
        },
        "e5a8d97a953045ed966f6f9d0e3be290": {
          "model_module": "@jupyter-widgets/base",
          "model_name": "LayoutModel",
          "state": {
            "_view_name": "LayoutView",
            "grid_template_rows": null,
            "right": null,
            "justify_content": null,
            "_view_module": "@jupyter-widgets/base",
            "overflow": null,
            "_model_module_version": "1.2.0",
            "_view_count": null,
            "flex_flow": null,
            "width": null,
            "min_width": null,
            "border": null,
            "align_items": null,
            "bottom": null,
            "_model_module": "@jupyter-widgets/base",
            "top": null,
            "grid_column": null,
            "overflow_y": null,
            "overflow_x": null,
            "grid_auto_flow": null,
            "grid_area": null,
            "grid_template_columns": null,
            "flex": null,
            "_model_name": "LayoutModel",
            "justify_items": null,
            "grid_row": null,
            "max_height": null,
            "align_content": null,
            "visibility": null,
            "align_self": null,
            "height": null,
            "min_height": null,
            "padding": null,
            "grid_auto_rows": null,
            "grid_gap": null,
            "max_width": null,
            "order": null,
            "_view_module_version": "1.2.0",
            "grid_template_areas": null,
            "object_position": null,
            "object_fit": null,
            "grid_auto_columns": null,
            "margin": null,
            "display": null,
            "left": null
          }
        },
        "3ead6cbf66ae4ed98035b69e0d5644d4": {
          "model_module": "@jupyter-widgets/controls",
          "model_name": "DescriptionStyleModel",
          "state": {
            "_view_name": "StyleView",
            "_model_name": "DescriptionStyleModel",
            "description_width": "",
            "_view_module": "@jupyter-widgets/base",
            "_model_module_version": "1.5.0",
            "_view_count": null,
            "_view_module_version": "1.2.0",
            "_model_module": "@jupyter-widgets/controls"
          }
        },
        "85c62010afdd46ccb38e10e8bc671b54": {
          "model_module": "@jupyter-widgets/base",
          "model_name": "LayoutModel",
          "state": {
            "_view_name": "LayoutView",
            "grid_template_rows": null,
            "right": null,
            "justify_content": null,
            "_view_module": "@jupyter-widgets/base",
            "overflow": null,
            "_model_module_version": "1.2.0",
            "_view_count": null,
            "flex_flow": null,
            "width": null,
            "min_width": null,
            "border": null,
            "align_items": null,
            "bottom": null,
            "_model_module": "@jupyter-widgets/base",
            "top": null,
            "grid_column": null,
            "overflow_y": null,
            "overflow_x": null,
            "grid_auto_flow": null,
            "grid_area": null,
            "grid_template_columns": null,
            "flex": null,
            "_model_name": "LayoutModel",
            "justify_items": null,
            "grid_row": null,
            "max_height": null,
            "align_content": null,
            "visibility": null,
            "align_self": null,
            "height": null,
            "min_height": null,
            "padding": null,
            "grid_auto_rows": null,
            "grid_gap": null,
            "max_width": null,
            "order": null,
            "_view_module_version": "1.2.0",
            "grid_template_areas": null,
            "object_position": null,
            "object_fit": null,
            "grid_auto_columns": null,
            "margin": null,
            "display": null,
            "left": null
          }
        },
        "38030aa7c61d438498ced5b6934b4fb9": {
          "model_module": "@jupyter-widgets/controls",
          "model_name": "HBoxModel",
          "state": {
            "_view_name": "HBoxView",
            "_dom_classes": [],
            "_model_name": "HBoxModel",
            "_view_module": "@jupyter-widgets/controls",
            "_model_module_version": "1.5.0",
            "_view_count": null,
            "_view_module_version": "1.5.0",
            "box_style": "",
            "layout": "IPY_MODEL_9f117e1688b4456f88372c3f352b4430",
            "_model_module": "@jupyter-widgets/controls",
            "children": [
              "IPY_MODEL_b7a1a4e90e5048f09a3e5e458d8eddd6",
              "IPY_MODEL_bacde2a9f4f2489db2c2ef212c4cc827"
            ]
          }
        },
        "9f117e1688b4456f88372c3f352b4430": {
          "model_module": "@jupyter-widgets/base",
          "model_name": "LayoutModel",
          "state": {
            "_view_name": "LayoutView",
            "grid_template_rows": null,
            "right": null,
            "justify_content": null,
            "_view_module": "@jupyter-widgets/base",
            "overflow": null,
            "_model_module_version": "1.2.0",
            "_view_count": null,
            "flex_flow": null,
            "width": null,
            "min_width": null,
            "border": null,
            "align_items": null,
            "bottom": null,
            "_model_module": "@jupyter-widgets/base",
            "top": null,
            "grid_column": null,
            "overflow_y": null,
            "overflow_x": null,
            "grid_auto_flow": null,
            "grid_area": null,
            "grid_template_columns": null,
            "flex": null,
            "_model_name": "LayoutModel",
            "justify_items": null,
            "grid_row": null,
            "max_height": null,
            "align_content": null,
            "visibility": null,
            "align_self": null,
            "height": null,
            "min_height": null,
            "padding": null,
            "grid_auto_rows": null,
            "grid_gap": null,
            "max_width": null,
            "order": null,
            "_view_module_version": "1.2.0",
            "grid_template_areas": null,
            "object_position": null,
            "object_fit": null,
            "grid_auto_columns": null,
            "margin": null,
            "display": null,
            "left": null
          }
        },
        "b7a1a4e90e5048f09a3e5e458d8eddd6": {
          "model_module": "@jupyter-widgets/controls",
          "model_name": "FloatProgressModel",
          "state": {
            "_view_name": "ProgressView",
            "style": "IPY_MODEL_e19ebd2fa67c428788bfcbfcc4d3b1e7",
            "_dom_classes": [],
            "description": "100%",
            "_model_name": "FloatProgressModel",
            "bar_style": "success",
            "max": 226834,
            "_view_module": "@jupyter-widgets/controls",
            "_model_module_version": "1.5.0",
            "value": 226834,
            "_view_count": null,
            "_view_module_version": "1.5.0",
            "orientation": "horizontal",
            "min": 0,
            "description_tooltip": null,
            "_model_module": "@jupyter-widgets/controls",
            "layout": "IPY_MODEL_9b533443e88347eaad31351968310acd"
          }
        },
        "bacde2a9f4f2489db2c2ef212c4cc827": {
          "model_module": "@jupyter-widgets/controls",
          "model_name": "HTMLModel",
          "state": {
            "_view_name": "HTMLView",
            "style": "IPY_MODEL_f28b8a2482a045dcba1dff1b2518b5f2",
            "_dom_classes": [],
            "description": "",
            "_model_name": "HTMLModel",
            "placeholder": "​",
            "_view_module": "@jupyter-widgets/controls",
            "_model_module_version": "1.5.0",
            "value": " 226834/226834 [10:21&lt;00:00, 364.93it/s]",
            "_view_count": null,
            "_view_module_version": "1.5.0",
            "description_tooltip": null,
            "_model_module": "@jupyter-widgets/controls",
            "layout": "IPY_MODEL_70704152243e4841ade1cfae79505527"
          }
        },
        "e19ebd2fa67c428788bfcbfcc4d3b1e7": {
          "model_module": "@jupyter-widgets/controls",
          "model_name": "ProgressStyleModel",
          "state": {
            "_view_name": "StyleView",
            "_model_name": "ProgressStyleModel",
            "description_width": "initial",
            "_view_module": "@jupyter-widgets/base",
            "_model_module_version": "1.5.0",
            "_view_count": null,
            "_view_module_version": "1.2.0",
            "bar_color": null,
            "_model_module": "@jupyter-widgets/controls"
          }
        },
        "9b533443e88347eaad31351968310acd": {
          "model_module": "@jupyter-widgets/base",
          "model_name": "LayoutModel",
          "state": {
            "_view_name": "LayoutView",
            "grid_template_rows": null,
            "right": null,
            "justify_content": null,
            "_view_module": "@jupyter-widgets/base",
            "overflow": null,
            "_model_module_version": "1.2.0",
            "_view_count": null,
            "flex_flow": null,
            "width": null,
            "min_width": null,
            "border": null,
            "align_items": null,
            "bottom": null,
            "_model_module": "@jupyter-widgets/base",
            "top": null,
            "grid_column": null,
            "overflow_y": null,
            "overflow_x": null,
            "grid_auto_flow": null,
            "grid_area": null,
            "grid_template_columns": null,
            "flex": null,
            "_model_name": "LayoutModel",
            "justify_items": null,
            "grid_row": null,
            "max_height": null,
            "align_content": null,
            "visibility": null,
            "align_self": null,
            "height": null,
            "min_height": null,
            "padding": null,
            "grid_auto_rows": null,
            "grid_gap": null,
            "max_width": null,
            "order": null,
            "_view_module_version": "1.2.0",
            "grid_template_areas": null,
            "object_position": null,
            "object_fit": null,
            "grid_auto_columns": null,
            "margin": null,
            "display": null,
            "left": null
          }
        },
        "f28b8a2482a045dcba1dff1b2518b5f2": {
          "model_module": "@jupyter-widgets/controls",
          "model_name": "DescriptionStyleModel",
          "state": {
            "_view_name": "StyleView",
            "_model_name": "DescriptionStyleModel",
            "description_width": "",
            "_view_module": "@jupyter-widgets/base",
            "_model_module_version": "1.5.0",
            "_view_count": null,
            "_view_module_version": "1.2.0",
            "_model_module": "@jupyter-widgets/controls"
          }
        },
        "70704152243e4841ade1cfae79505527": {
          "model_module": "@jupyter-widgets/base",
          "model_name": "LayoutModel",
          "state": {
            "_view_name": "LayoutView",
            "grid_template_rows": null,
            "right": null,
            "justify_content": null,
            "_view_module": "@jupyter-widgets/base",
            "overflow": null,
            "_model_module_version": "1.2.0",
            "_view_count": null,
            "flex_flow": null,
            "width": null,
            "min_width": null,
            "border": null,
            "align_items": null,
            "bottom": null,
            "_model_module": "@jupyter-widgets/base",
            "top": null,
            "grid_column": null,
            "overflow_y": null,
            "overflow_x": null,
            "grid_auto_flow": null,
            "grid_area": null,
            "grid_template_columns": null,
            "flex": null,
            "_model_name": "LayoutModel",
            "justify_items": null,
            "grid_row": null,
            "max_height": null,
            "align_content": null,
            "visibility": null,
            "align_self": null,
            "height": null,
            "min_height": null,
            "padding": null,
            "grid_auto_rows": null,
            "grid_gap": null,
            "max_width": null,
            "order": null,
            "_view_module_version": "1.2.0",
            "grid_template_areas": null,
            "object_position": null,
            "object_fit": null,
            "grid_auto_columns": null,
            "margin": null,
            "display": null,
            "left": null
          }
        }
      }
    }
  },
  "cells": [
    {
      "cell_type": "markdown",
      "metadata": {
        "id": "view-in-github",
        "colab_type": "text"
      },
      "source": [
        "<a href=\"https://colab.research.google.com/github/otopiachka/markdown-doc/blob/master/seminar2_embeddings_ipynb.ipynb\" target=\"_parent\"><img src=\"https://colab.research.google.com/assets/colab-badge.svg\" alt=\"Open In Colab\"/></a>"
      ]
    },
    {
      "cell_type": "markdown",
      "metadata": {
        "id": "ypt7ymI8X-rM"
      },
      "source": [
        "# Embeddings  [![Open In Colab](https://colab.research.google.com/assets/colab-badge.svg)](https://colab.research.google.com/github/PragmaticsLab/NLP-course-FinTech/blob/master/seminars/2/2_embeddings.ipynb)\n",
        "\n",
        "## Word2Vec\n",
        "\n",
        "Векторные модели, которые мы рассматривали до этого (BOW, мешок слов; TF-IDF), условно называются *счётными*. Они основываются на том, что так или иначе \"считают\" слова и их соседей, и на основе этого строят вектора для слов. \n",
        "\n",
        "Другой класс моделей, который повсеместно распространён на сегодняшний день, называется *предсказательными* (или *нейронными*) моделями. Идея этих моделей заключается в использовании нейросетевых архитектур, которые \"предсказывают\" (а не считают) соседей для каждого слова.\n",
        "\n",
        " Одной из самых известных таких моделей является word2vec. Технология основана на нейронной сети, предсказывающей вероятность встретить слово в заданном контексте. Этот инструмент был разработан группой исследователей Google в 2013 году, руководителем проекта был Томаш Миколов (сейчас работает в Facebook). Вот две самые главные статьи:\n",
        "\n",
        "* [Efficient Estimation of Word Representations in Vector Space](https://arxiv.org/pdf/1301.3781.pdf)\n",
        "* [Distributed Representations of Words and Phrases and their Compositionality](https://arxiv.org/abs/1310.4546)\n",
        "\n",
        "\n",
        "Полученные таким образом вектора называются *распределенными представлениями слов*, вложениями или **эмбеддингами**.\n",
        "По сути мы тоже делаем **transfer learning**, но теперь для текстов, а не для картинок.\n",
        "\n",
        "\n",
        "### Как это обучается?\n",
        "Мы задаём вектор для каждого слова с помощью матрицы $w$ и вектор контекста с помощью матрицы $W$. По сути, word2vec является обобщающим названием для двух архитектур Skip-Gram и Continuous Bag-Of-Words (CBOW).  \n",
        "\n",
        "![](https://www.researchgate.net/profile/Daniel_Braun6/publication/326588219/figure/fig1/AS:652185784295425@1532504616288/Continuous-Bag-of-words-CBOW-CB-and-Skip-gram-SG-training-model-illustrations.png)\n",
        "\n",
        "**CBOW** предсказывает текущее слово, исходя из окружающего его контекста. \n",
        "\n",
        "**Skip-gram**, наоборот, использует текущее слово, чтобы предугадывать окружающие его слова. \n",
        "\n",
        "### Как это работает?\n",
        "Word2vec принимает большой текстовый корпус в качестве входных данных и сопоставляет каждому слову вектор, выдавая координаты слов на выходе. Сначала он создает словарь, «обучаясь» на входных текстовых данных, а затем вычисляет векторное представление слов. \n",
        "\n",
        "Векторное представление основывается на *контекстной близости*: слова, встречающиеся в тексте рядом с одинаковыми словами (а следовательно, согласно дистрибутивной гипотезе, имеющие схожий смысл), в векторном представлении будут иметь близкие координаты векторов-слов. Для вычисления близости слов используется косинусное расстояние между их векторами.\n",
        "\n",
        "\n",
        "С помощью дистрибутивных векторных моделей можно строить семантические пропорции (они же аналогии: А относится к B так же, как C относится к D) и решать примеры:\n",
        "\n",
        "* *король: мужчина = королева: женщина* \n",
        " $\\Rightarrow$ \n",
        "* *король - мужчина + женщина = королева*"
      ]
    },
    {
      "cell_type": "markdown",
      "metadata": {
        "id": "Z3sSyfHaX-rN"
      },
      "source": [
        "![w2v](https://cdn-images-1.medium.com/max/2600/1*sXNXYfAqfLUeiDXPCo130w.png)"
      ]
    },
    {
      "cell_type": "markdown",
      "metadata": {
        "id": "0oH_UDyFX-rO"
      },
      "source": [
        "### Проблемы\n",
        "Невозможно установить тип семантических отношений между словами: синонимы, антонимы и т.д. будут одинаково близки, потому что обычно употребляются в схожих контекстах. Поэтому близкие в векторном пространстве слова называют *семантическими ассоциатами*. Это значит, что они семантически связаны, но как именно — непонятно.\n",
        "\n",
        "\n",
        "## RusVectōrēs\n",
        "\n",
        "\n",
        "На сайте [RusVectōrēs](https://rusvectores.org/ru/) собраны предобученные на различных данных модели для русского языка, а также можно поискать наиболее близкие слова к заданному, посчитать семантическую близость нескольких слов и порешать примеры с помощью «калькулятора семантической близости».\n",
        "\n",
        "\n",
        "Для других языков также можно найти предобученные модели — например, модели [fastText](https://fasttext.cc/docs/en/english-vectors.html) и [GloVe](https://nlp.stanford.edu/projects/glove/) (о них чуть дальше)."
      ]
    },
    {
      "cell_type": "markdown",
      "metadata": {
        "id": "yXNm8flVX-rP"
      },
      "source": [
        "## Gensim\n",
        "\n",
        "Использовать предобученную модель эмбеддингов или обучить свою можно с помощью библиотеки `gensim`. Вот [ее документация](https://radimrehurek.com/gensim/models/word2vec.html).\n",
        "\n",
        "### Как использовать готовую модель\n",
        "\n",
        "Модели word2vec бывают разных форматов:\n",
        "\n",
        "* .vec.gz — обычный файл (текстовый)\n",
        "* .bin.gz — бинарный файл\n",
        "\n",
        "Загружаются они с помощью одного и того же класса `KeyedVectors`, меняется только параметр `binary` у функции `load_word2vec_format`. \n",
        "\n",
        "Если же эмбеддинги обучены **не** с помощью word2vec, то для загрузки нужно использовать функцию `load`. Т.е. **для загрузки предобученных эмбеддингов *glove, fasttext, bpe* и любых других нужна именно она**.\n",
        "\n",
        "Скачаем с RusVectōrēs модель для русского языка, обученную на НКРЯ образца 2015 г. "
      ]
    },
    {
      "cell_type": "markdown",
      "metadata": {
        "id": "Gst_y0jCwMDD"
      },
      "source": [
        "Для начала импортируем необходимые библиотеки:"
      ]
    },
    {
      "cell_type": "code",
      "metadata": {
        "id": "sTLnNKaNX-rP"
      },
      "source": [
        "import urllib.request # библиотека для скачивания данных\n",
        "import gensim # библиотека для загрузки и использвоания моделй w2v\n",
        "from gensim.models import word2vec # непосредственно методы w2v"
      ],
      "execution_count": 1,
      "outputs": []
    },
    {
      "cell_type": "code",
      "metadata": {
        "id": "zm9z6SN3X-rS",
        "colab": {
          "base_uri": "https://localhost:8080/"
        },
        "outputId": "ccb9bbc3-6649-41a1-b994-3a050a4cc4af"
      },
      "source": [
        "# скачиваем модель ruscorpora_mystem_cbow_300 с сайта rusvectores\n",
        "# 300 - размерность вектора embeddings для слов\n",
        " \n",
        "urllib.request.urlretrieve(\"http://rusvectores.org/static/models/rusvectores2/ruscorpora_mystem_cbow_300_2_2015.bin.gz\",\n",
        "                           \"ruscorpora_mystem_cbow_300_2_2015.bin.gz\")"
      ],
      "execution_count": 2,
      "outputs": [
        {
          "output_type": "execute_result",
          "data": {
            "text/plain": [
              "('ruscorpora_mystem_cbow_300_2_2015.bin.gz',\n",
              " <http.client.HTTPMessage at 0x7fe76b0717f0>)"
            ]
          },
          "metadata": {
            "tags": []
          },
          "execution_count": 2
        }
      ]
    },
    {
      "cell_type": "markdown",
      "metadata": {
        "id": "ZjEZgNGvu9Fg"
      },
      "source": [
        "Загружаем скачанную модель. Обратите внимание, что мы скачали бинарный файл (.bin.gz), поэтому у функции ```load_word2vec_format()``` параметр ```binary=True``` \n"
      ]
    },
    {
      "cell_type": "code",
      "metadata": {
        "id": "mkuCawyFX-rW"
      },
      "source": [
        "model_path = 'ruscorpora_mystem_cbow_300_2_2015.bin.gz'\n",
        "\n",
        "model_ru = gensim.models.KeyedVectors.load_word2vec_format(model_path, binary=True)"
      ],
      "execution_count": 3,
      "outputs": []
    },
    {
      "cell_type": "markdown",
      "metadata": {
        "id": "4bh6JXrzxJo9"
      },
      "source": [
        "Посмотрим на ближайших соседей следующей группы слов:"
      ]
    },
    {
      "cell_type": "code",
      "metadata": {
        "id": "H4D0hMgkX-rY"
      },
      "source": [
        "words = ['день_S', 'ночь_S', 'человек_S', 'семантика_S', 'биткоин_S']"
      ],
      "execution_count": 4,
      "outputs": []
    },
    {
      "cell_type": "markdown",
      "metadata": {
        "id": "jbTShU9aX-ra"
      },
      "source": [
        "Частеречные тэги (например, _S, тег части речи слова) нужны, поскольку это специфика скачанной модели - она была натренирована на словах, размеченных по частям речи (и лемматизированных). \n",
        "\n",
        "**NB!** В названиях моделей на `rusvectores` указано, какой тегсет (набор обозначений тегов) они используют (mystem, upos и т.д.)\n",
        "\n",
        "Попросим у модели 10 ближайших соседей для каждого слова и косинусные близости для каждого:"
      ]
    },
    {
      "cell_type": "code",
      "metadata": {
        "id": "9Uer5sHyX-ra",
        "colab": {
          "base_uri": "https://localhost:8080/"
        },
        "outputId": "82e86e06-88c8-40d7-f964-92f6bbf619ac"
      },
      "source": [
        "for word in words:\n",
        "    # есть ли слово в модели? \n",
        "    if word in model_ru:\n",
        "        print(word)\n",
        "        # смотрим на вектор слова (его размерность 300, смотрим на первые 10 чисел)\n",
        "        print(model_ru[word][:10])\n",
        "        # выдаем 10 ближайших соседей слова:\n",
        "        for word, sim in model_ru.most_similar(positive=[word], topn=10):\n",
        "            # слово + коэффициент косинусной близости\n",
        "            print(word, ': ', sim)\n",
        "        print('\\n')\n",
        "    else:\n",
        "        # Увы!\n",
        "        print('Увы, слова \"%s\" нет в модели!' % word)"
      ],
      "execution_count": 5,
      "outputs": [
        {
          "output_type": "stream",
          "text": [
            "день_S\n",
            "[-0.02580778  0.00970898  0.01941961 -0.02332282  0.02017624  0.07275085\n",
            " -0.01444375  0.03316632  0.01242602  0.02833412]\n",
            "неделя_S :  0.7165195941925049\n",
            "месяц_S :  0.631048858165741\n",
            "вечер_S :  0.5828739404678345\n",
            "утро_S :  0.5676207542419434\n",
            "час_S :  0.5605547428131104\n",
            "минута_S :  0.5297019481658936\n",
            "гекатомбеон_S :  0.4897990822792053\n",
            "денек_S :  0.48224714398384094\n",
            "полчаса_S :  0.48217129707336426\n",
            "ночь_S :  0.478074848651886\n",
            "\n",
            "\n",
            "ночь_S\n",
            "[-0.00688948  0.00408364  0.06975466 -0.00959525  0.0194835   0.04057068\n",
            " -0.00994112  0.06064967 -0.00522624  0.00520327]\n",
            "вечер_S :  0.6946247816085815\n",
            "утро_S :  0.57301926612854\n",
            "ноченька_S :  0.5582467317581177\n",
            "рассвет_S :  0.5553582906723022\n",
            "ночка_S :  0.5351512432098389\n",
            "полдень_S :  0.5334426164627075\n",
            "полночь_S :  0.478694349527359\n",
            "день_S :  0.4780748784542084\n",
            "сумерки_S :  0.4390218257904053\n",
            "фундерфун_S :  0.4340824782848358\n",
            "\n",
            "\n",
            "человек_S\n",
            "[ 0.02013756 -0.02670703 -0.02039861 -0.05477146  0.00086402 -0.01636335\n",
            "  0.04240306 -0.00025525 -0.14045681  0.04785006]\n",
            "женщина_S :  0.5979775190353394\n",
            "парень_S :  0.4991787374019623\n",
            "мужчина_S :  0.4767409563064575\n",
            "мужик_S :  0.47384002804756165\n",
            "россиянин_S :  0.47190436720848083\n",
            "народ_S :  0.4654741883277893\n",
            "согражданин_S :  0.45378512144088745\n",
            "горожанин_S :  0.44368088245391846\n",
            "девушка_S :  0.44314485788345337\n",
            "иностранец_S :  0.43849867582321167\n",
            "\n",
            "\n",
            "семантика_S\n",
            "[-0.03066749  0.0053851   0.1110732   0.0152335   0.00440643  0.00384104\n",
            "  0.00096944 -0.03538784 -0.00079585  0.03220548]\n",
            "семантический_A :  0.5334584712982178\n",
            "понятие_S :  0.5030269622802734\n",
            "сочетаемость_S :  0.4817051291465759\n",
            "актант_S :  0.47596412897109985\n",
            "хронотоп_S :  0.46330299973487854\n",
            "метафора_S :  0.46158894896507263\n",
            "мышление_S :  0.4610119163990021\n",
            "парадигма_S :  0.45796656608581543\n",
            "лексема_S :  0.45688074827194214\n",
            "смысловой_A :  0.4543077349662781\n",
            "\n",
            "\n",
            "Увы, слова \"биткоин_S\" нет в модели!\n"
          ],
          "name": "stdout"
        },
        {
          "output_type": "stream",
          "text": [
            "/usr/local/lib/python3.6/dist-packages/gensim/matutils.py:737: FutureWarning: Conversion of the second argument of issubdtype from `int` to `np.signedinteger` is deprecated. In future, it will be treated as `np.int64 == np.dtype(int).type`.\n",
            "  if np.issubdtype(vec.dtype, np.int):\n"
          ],
          "name": "stderr"
        }
      ]
    },
    {
      "cell_type": "markdown",
      "metadata": {
        "id": "1GqDmAcJX-rc"
      },
      "source": [
        "Находить косинусную близость пары слов функцией ```similarity()```:"
      ]
    },
    {
      "cell_type": "code",
      "metadata": {
        "id": "MDFjOSJjX-rd",
        "colab": {
          "base_uri": "https://localhost:8080/"
        },
        "outputId": "a4b0ca7d-f878-4112-cfce-d994c7970ce4"
      },
      "source": [
        "print(model_ru.similarity('человек_S', 'обезьяна_S'))"
      ],
      "execution_count": 6,
      "outputs": [
        {
          "output_type": "stream",
          "text": [
            "0.23895611\n"
          ],
          "name": "stdout"
        },
        {
          "output_type": "stream",
          "text": [
            "/usr/local/lib/python3.6/dist-packages/gensim/matutils.py:737: FutureWarning: Conversion of the second argument of issubdtype from `int` to `np.signedinteger` is deprecated. In future, it will be treated as `np.int64 == np.dtype(int).type`.\n",
            "  if np.issubdtype(vec.dtype, np.int):\n"
          ],
          "name": "stderr"
        }
      ]
    },
    {
      "cell_type": "markdown",
      "metadata": {
        "id": "B0w4pQooX-rf"
      },
      "source": [
        "У загруженной модели много различных функций. Например, можно решать задачи на семантическую близость.\n",
        "\n",
        "Что получится, если вычесть из пиццы Италию и прибавить Сибирь?\n",
        "\n",
        "Для решения примера в качестве параметров метода ```most_similar()``` необходимо передать:\n",
        "* positive — вектора, которые мы складываем\n",
        "* negative — вектора, которые вычитаем\n",
        "\n",
        "*Замечание:* не забываем взять самый близкий элемент, для этого необходимо указать ```[0][0]```."
      ]
    },
    {
      "cell_type": "code",
      "metadata": {
        "id": "N0L5_TCQX-rf",
        "colab": {
          "base_uri": "https://localhost:8080/"
        },
        "outputId": "d4e64f83-d8e2-4e63-d9ad-bf787b99a5f3"
      },
      "source": [
        "print(model_ru.most_similar(positive=['футбол_S', 'россия_S'], negative=['хоккей_S'])[0][0])"
      ],
      "execution_count": 7,
      "outputs": [
        {
          "output_type": "stream",
          "text": [
            "страна_S\n"
          ],
          "name": "stdout"
        },
        {
          "output_type": "stream",
          "text": [
            "/usr/local/lib/python3.6/dist-packages/gensim/matutils.py:737: FutureWarning: Conversion of the second argument of issubdtype from `int` to `np.signedinteger` is deprecated. In future, it will be treated as `np.int64 == np.dtype(int).type`.\n",
            "  if np.issubdtype(vec.dtype, np.int):\n"
          ],
          "name": "stderr"
        }
      ]
    },
    {
      "cell_type": "code",
      "metadata": {
        "id": "-fmv1d051n35",
        "colab": {
          "base_uri": "https://localhost:8080/"
        },
        "outputId": "20fb86ce-2567-4aee-d4e7-57a6157ec822"
      },
      "source": [
        "# придумайте и проверьте с помощью метода most_similar какую-нибудь  аналогию\n",
        "print(model_ru.most_similar(positive=['борщ_S', 'италия_S'], negative=['пицца_S'])[0][0])\n",
        "\n"
      ],
      "execution_count": 8,
      "outputs": [
        {
          "output_type": "stream",
          "text": [
            "англия_S\n"
          ],
          "name": "stdout"
        },
        {
          "output_type": "stream",
          "text": [
            "/usr/local/lib/python3.6/dist-packages/gensim/matutils.py:737: FutureWarning: Conversion of the second argument of issubdtype from `int` to `np.signedinteger` is deprecated. In future, it will be treated as `np.int64 == np.dtype(int).type`.\n",
            "  if np.issubdtype(vec.dtype, np.int):\n"
          ],
          "name": "stderr"
        }
      ]
    },
    {
      "cell_type": "markdown",
      "metadata": {
        "id": "kqEwG7HiypUc"
      },
      "source": [
        "Метод ```doesnt_match()``` находит \"лишнее слово\" в группе слов:"
      ]
    },
    {
      "cell_type": "code",
      "metadata": {
        "id": "DrN2Jc31X-rh",
        "colab": {
          "base_uri": "https://localhost:8080/",
          "height": 128
        },
        "outputId": "c8ab949e-d3dc-49af-e018-4e1cd02f9544"
      },
      "source": [
        "model_ru.doesnt_match('пицца_S пельмень_S хот-дог_S ананас_S'.split())"
      ],
      "execution_count": 9,
      "outputs": [
        {
          "output_type": "stream",
          "text": [
            "/usr/local/lib/python3.6/dist-packages/gensim/models/keyedvectors.py:895: FutureWarning: arrays to stack must be passed as a \"sequence\" type such as list or tuple. Support for non-sequence iterables such as generators is deprecated as of NumPy 1.16 and will raise an error in the future.\n",
            "  vectors = vstack(self.word_vec(word, use_norm=True) for word in used_words).astype(REAL)\n",
            "/usr/local/lib/python3.6/dist-packages/gensim/matutils.py:737: FutureWarning: Conversion of the second argument of issubdtype from `int` to `np.signedinteger` is deprecated. In future, it will be treated as `np.int64 == np.dtype(int).type`.\n",
            "  if np.issubdtype(vec.dtype, np.int):\n"
          ],
          "name": "stderr"
        },
        {
          "output_type": "execute_result",
          "data": {
            "application/vnd.google.colaboratory.intrinsic+json": {
              "type": "string"
            },
            "text/plain": [
              "'ананас_S'"
            ]
          },
          "metadata": {
            "tags": []
          },
          "execution_count": 9
        }
      ]
    },
    {
      "cell_type": "markdown",
      "metadata": {
        "id": "ZNHMtmbqX-rl"
      },
      "source": [
        "### Как обучить свою модель\n",
        "\n",
        "В качестве обучающих данных возьмем размеченные и неразмеченные отзывы о фильмах (датасет взят с Kaggle)."
      ]
    },
    {
      "cell_type": "code",
      "metadata": {
        "id": "-1Vz9le-X-rl",
        "colab": {
          "base_uri": "https://localhost:8080/"
        },
        "outputId": "36454ad2-1c48-4dad-b5ff-701b712483ad"
      },
      "source": [
        "# скачиваем датасет\n",
        "! wget https://raw.githubusercontent.com/ancatmara/data-science-nlp/master/data/w2v/train/unlabeledTrainData.tsv"
      ],
      "execution_count": 10,
      "outputs": [
        {
          "output_type": "stream",
          "text": [
            "--2020-12-05 08:10:40--  https://raw.githubusercontent.com/ancatmara/data-science-nlp/master/data/w2v/train/unlabeledTrainData.tsv\n",
            "Resolving raw.githubusercontent.com (raw.githubusercontent.com)... 151.101.0.133, 151.101.64.133, 151.101.128.133, ...\n",
            "Connecting to raw.githubusercontent.com (raw.githubusercontent.com)|151.101.0.133|:443... connected.\n",
            "HTTP request sent, awaiting response... 200 OK\n",
            "Length: 67281491 (64M) [text/plain]\n",
            "Saving to: ‘unlabeledTrainData.tsv’\n",
            "\n",
            "unlabeledTrainData. 100%[===================>]  64.16M  83.9MB/s    in 0.8s    \n",
            "\n",
            "2020-12-05 08:10:45 (83.9 MB/s) - ‘unlabeledTrainData.tsv’ saved [67281491/67281491]\n",
            "\n"
          ],
          "name": "stdout"
        }
      ]
    },
    {
      "cell_type": "markdown",
      "metadata": {
        "id": "ZbsiYw2Y2IwH"
      },
      "source": [
        "Загрузим датасет в датафрейм и посмотрим на него, делаем это с помощью уже привычной библиотеки **pandas**:"
      ]
    },
    {
      "cell_type": "code",
      "metadata": {
        "id": "B2wv-vSxX-ro",
        "colab": {
          "base_uri": "https://localhost:8080/"
        },
        "outputId": "d4571e9d-c26d-4d21-b283-ebc9b50cae58"
      },
      "source": [
        "import pandas as pd\n",
        "\n",
        "# считываем данные в формате csv\n",
        "data = pd.read_csv(\"unlabeledTrainData.tsv\", header=0, delimiter=\"\\t\", quoting=3)\n",
        "\n",
        "len(data)"
      ],
      "execution_count": 11,
      "outputs": [
        {
          "output_type": "execute_result",
          "data": {
            "text/plain": [
              "50000"
            ]
          },
          "metadata": {
            "tags": []
          },
          "execution_count": 11
        }
      ]
    },
    {
      "cell_type": "code",
      "metadata": {
        "id": "eEGmrh-nX-rq",
        "colab": {
          "base_uri": "https://localhost:8080/",
          "height": 204
        },
        "outputId": "a9f1c0b2-5855-4033-a7bb-aabdbec2be10"
      },
      "source": [
        "# проверяем, что все корректно загрузилось\n",
        "data.head()"
      ],
      "execution_count": 12,
      "outputs": [
        {
          "output_type": "execute_result",
          "data": {
            "text/html": [
              "<div>\n",
              "<style scoped>\n",
              "    .dataframe tbody tr th:only-of-type {\n",
              "        vertical-align: middle;\n",
              "    }\n",
              "\n",
              "    .dataframe tbody tr th {\n",
              "        vertical-align: top;\n",
              "    }\n",
              "\n",
              "    .dataframe thead th {\n",
              "        text-align: right;\n",
              "    }\n",
              "</style>\n",
              "<table border=\"1\" class=\"dataframe\">\n",
              "  <thead>\n",
              "    <tr style=\"text-align: right;\">\n",
              "      <th></th>\n",
              "      <th>id</th>\n",
              "      <th>review</th>\n",
              "    </tr>\n",
              "  </thead>\n",
              "  <tbody>\n",
              "    <tr>\n",
              "      <th>0</th>\n",
              "      <td>\"9999_0\"</td>\n",
              "      <td>\"Watching Time Chasers, it obvious that it was...</td>\n",
              "    </tr>\n",
              "    <tr>\n",
              "      <th>1</th>\n",
              "      <td>\"45057_0\"</td>\n",
              "      <td>\"I saw this film about 20 years ago and rememb...</td>\n",
              "    </tr>\n",
              "    <tr>\n",
              "      <th>2</th>\n",
              "      <td>\"15561_0\"</td>\n",
              "      <td>\"Minor Spoilers&lt;br /&gt;&lt;br /&gt;In New York, Joan B...</td>\n",
              "    </tr>\n",
              "    <tr>\n",
              "      <th>3</th>\n",
              "      <td>\"7161_0\"</td>\n",
              "      <td>\"I went to see this film with a great deal of ...</td>\n",
              "    </tr>\n",
              "    <tr>\n",
              "      <th>4</th>\n",
              "      <td>\"43971_0\"</td>\n",
              "      <td>\"Yes, I agree with everyone on this site this ...</td>\n",
              "    </tr>\n",
              "  </tbody>\n",
              "</table>\n",
              "</div>"
            ],
            "text/plain": [
              "          id                                             review\n",
              "0   \"9999_0\"  \"Watching Time Chasers, it obvious that it was...\n",
              "1  \"45057_0\"  \"I saw this film about 20 years ago and rememb...\n",
              "2  \"15561_0\"  \"Minor Spoilers<br /><br />In New York, Joan B...\n",
              "3   \"7161_0\"  \"I went to see this film with a great deal of ...\n",
              "4  \"43971_0\"  \"Yes, I agree with everyone on this site this ..."
            ]
          },
          "metadata": {
            "tags": []
          },
          "execution_count": 12
        }
      ]
    },
    {
      "cell_type": "markdown",
      "metadata": {
        "id": "oIZaQ3kYX-rt"
      },
      "source": [
        "Нам необходимо отчистить данные от лишнего: убрать ссылки, html-разметку и небуквенные символы. Затем нужно привести все к нижнему регистру и токенизировать. \n",
        "\n",
        "На выходе мы хотим получить массив из предложений, каждое из которых представляет собой массив слов.\n",
        "\n",
        "Импортируем необходимые библиотеки и методы:"
      ]
    },
    {
      "cell_type": "code",
      "metadata": {
        "id": "4hm6sz-LzaTl",
        "colab": {
          "base_uri": "https://localhost:8080/"
        },
        "outputId": "da143f16-77eb-45d9-894c-8993cea71195"
      },
      "source": [
        "import nltk.data # библиотека Natural Language Toolkit\n",
        "import re   # библиотека для регулярных выражений\n",
        "from bs4 import BeautifulSoup # библиотека для парсинга xml\n",
        "from nltk.corpus import stopwords # стоп-слова из NLTK\n",
        "from nltk.tokenize import sent_tokenize, RegexpTokenizer  # токенизаторы из NLTK\n",
        "nltk.download('punkt') # для правильной работы токенизатора"
      ],
      "execution_count": 13,
      "outputs": [
        {
          "output_type": "stream",
          "text": [
            "[nltk_data] Downloading package punkt to /root/nltk_data...\n",
            "[nltk_data]   Unzipping tokenizers/punkt.zip.\n"
          ],
          "name": "stdout"
        },
        {
          "output_type": "execute_result",
          "data": {
            "text/plain": [
              "True"
            ]
          },
          "metadata": {
            "tags": []
          },
          "execution_count": 13
        }
      ]
    },
    {
      "cell_type": "code",
      "metadata": {
        "id": "CZecGjfwzjq9"
      },
      "source": [
        "tokenizer = nltk.data.load('tokenizers/punkt/english.pickle')"
      ],
      "execution_count": 14,
      "outputs": []
    },
    {
      "cell_type": "markdown",
      "metadata": {
        "id": "crMypdC30jrp"
      },
      "source": [
        "Функции для очистки данных:"
      ]
    },
    {
      "cell_type": "code",
      "metadata": {
        "id": "irbunSOfX-rt"
      },
      "source": [
        "def review_to_wordlist(review, remove_stopwords=False):\n",
        "    # убираем ссылки вне тегов\n",
        "    review = re.sub(r\"http[s]?://(?:[a-zA-Z]|[0-9]|[$-_@.&+]|[!*\\(\\),]|(?:%[0-9a-fA-F][0-9a-fA-F]))+\", \" \", review)\n",
        "    # достаем сам текст\n",
        "    review_text = BeautifulSoup(review, \"lxml\").get_text()\n",
        "    # оставляем только буквенные символы\n",
        "    review_text = re.sub(\"[^a-zA-Z]\",\" \", review_text)\n",
        "    # приводим к нижнему регистру и разбиваем на слова по символу пробела\n",
        "    words = review_text.lower().split()\n",
        "    if remove_stopwords:\n",
        "      # убираем стоп-слова\n",
        "        stops = stopwords.words(\"english\")\n",
        "        words = [w for w in words if not w in stops]\n",
        "    return(words)\n",
        "\n",
        "def review_to_sentences(review, tokenizer, remove_stopwords=False):\n",
        "    raw_sentences = tokenizer.tokenize(review.strip())\n",
        "    sentences = []\n",
        "    for raw_sentence in raw_sentences:\n",
        "        if len(raw_sentence) > 0:\n",
        "            sentences.append(review_to_wordlist(raw_sentence, remove_stopwords))\n",
        "    return sentences"
      ],
      "execution_count": 15,
      "outputs": []
    },
    {
      "cell_type": "markdown",
      "metadata": {
        "id": "M7LYYyZB0zoV"
      },
      "source": [
        "Проходим по всему датасету и парсим написанной выше функцией текст в списки слов, удаляя при этом лишнее:"
      ]
    },
    {
      "cell_type": "code",
      "metadata": {
        "id": "bolPEuQgX-rv",
        "colab": {
          "base_uri": "https://localhost:8080/"
        },
        "outputId": "19d2a674-3978-4d66-a4e8-30ef5b9f2867"
      },
      "source": [
        "sentences = []  \n",
        "\n",
        "print(\"Parsing sentences from training set...\")\n",
        "for review in data[\"review\"]:\n",
        "    sentences += review_to_sentences(review, tokenizer)"
      ],
      "execution_count": 16,
      "outputs": [
        {
          "output_type": "stream",
          "text": [
            "Parsing sentences from training set...\n"
          ],
          "name": "stdout"
        },
        {
          "output_type": "stream",
          "text": [
            "/usr/local/lib/python3.6/dist-packages/bs4/__init__.py:273: UserWarning: \"b'.'\" looks like a filename, not markup. You should probably open this file and pass the filehandle into Beautiful Soup.\n",
            "  ' Beautiful Soup.' % markup)\n",
            "/usr/local/lib/python3.6/dist-packages/bs4/__init__.py:273: UserWarning: \"b'..'\" looks like a filename, not markup. You should probably open this file and pass the filehandle into Beautiful Soup.\n",
            "  ' Beautiful Soup.' % markup)\n"
          ],
          "name": "stderr"
        }
      ]
    },
    {
      "cell_type": "markdown",
      "metadata": {
        "id": "SKOn9yqG06fj"
      },
      "source": [
        "Посмотрим, что получилось:"
      ]
    },
    {
      "cell_type": "code",
      "metadata": {
        "id": "FbrH6TdfX-rx",
        "colab": {
          "base_uri": "https://localhost:8080/"
        },
        "outputId": "e5edac63-68ed-4f5d-d3ce-5c732825a05c"
      },
      "source": [
        "print(len(sentences))\n",
        "print(sentences[0])"
      ],
      "execution_count": 17,
      "outputs": [
        {
          "output_type": "stream",
          "text": [
            "528987\n",
            "['watching', 'time', 'chasers', 'it', 'obvious', 'that', 'it', 'was', 'made', 'by', 'a', 'bunch', 'of', 'friends']\n"
          ],
          "name": "stdout"
        }
      ]
    },
    {
      "cell_type": "code",
      "metadata": {
        "id": "JB37dj2tg-dk"
      },
      "source": [
        "# это понадобится нам позже для обучения другой модели эмбеддингов \n",
        "\n",
        "with open('clean_text.txt', 'w') as f:\n",
        "    for s in sentences[:5000]:\n",
        "        f.write(' '.join(s))\n",
        "        f.write('\\n')"
      ],
      "execution_count": 18,
      "outputs": []
    },
    {
      "cell_type": "markdown",
      "metadata": {
        "id": "qqFhuv7XX-r1"
      },
      "source": [
        "Обучаем и сохраняем модель. \n",
        "\n",
        "\n",
        "Основные параметры:\n",
        "* данные должны быть итерируемым объектом \n",
        "* size — размер вектора, \n",
        "* window — размер окна наблюдения,\n",
        "* min_count — мин. частотность слова в корпусе,\n",
        "* sg — используемый алгоритм обучения (0 — CBOW, 1 — Skip-gram),\n",
        "* sample — порог для downsampling'a высокочастотных слов,\n",
        "* workers — количество потоков,\n",
        "* alpha — learning rate,\n",
        "* iter — количество итераций,\n",
        "* max_vocab_size — позволяет выставить ограничение по памяти при создании словаря (т.е. если ограничение превышается, то низкочастотные слова будут выбрасываться). Для сравнения: 10 млн слов = 1Гб RAM.\n",
        "\n",
        "**NB!** Обратите внимание, что тренировка модели не включает препроцессинг! Это значит, что избавляться от пунктуации, приводить слова к нижнему регистру, лемматизировать их, проставлять частеречные теги придется до тренировки модели (если, конечно, это необходимо для вашей задачи). Т.е. в каком виде слова будут в исходном тексте, в таком они будут и в модели."
      ]
    },
    {
      "cell_type": "code",
      "metadata": {
        "id": "OB2FqIioX-r1",
        "colab": {
          "base_uri": "https://localhost:8080/"
        },
        "outputId": "31631547-057b-4d3f-e96d-adcbcb0044b3"
      },
      "source": [
        "print(\"Training model...\")\n",
        "# обучаем модель с векторами размерности 300, длиной окна 10\n",
        "%time model_en = word2vec.Word2Vec(sentences, workers=4, size=300, min_count=10, window=10, sample=1e-3)"
      ],
      "execution_count": 19,
      "outputs": [
        {
          "output_type": "stream",
          "text": [
            "Training model...\n",
            "CPU times: user 4min 18s, sys: 835 ms, total: 4min 19s\n",
            "Wall time: 2min 17s\n"
          ],
          "name": "stdout"
        }
      ]
    },
    {
      "cell_type": "markdown",
      "metadata": {
        "id": "HFU6SYAZX-r3"
      },
      "source": [
        "Смотрим, сколько в модели слов."
      ]
    },
    {
      "cell_type": "code",
      "metadata": {
        "id": "HA3P0CUYX-r4",
        "colab": {
          "base_uri": "https://localhost:8080/"
        },
        "outputId": "f5348742-08b3-4058-cb14-dd487c0ecf29"
      },
      "source": [
        "print(len(model_en.wv.vocab))"
      ],
      "execution_count": 20,
      "outputs": [
        {
          "output_type": "stream",
          "text": [
            "28308\n"
          ],
          "name": "stdout"
        }
      ]
    },
    {
      "cell_type": "markdown",
      "metadata": {
        "id": "2mU9sbGYX-r8"
      },
      "source": [
        "Попробуем оценить модель вручную, порешав примеры. Несколько дано ниже, попробуйте придумать свои."
      ]
    },
    {
      "cell_type": "code",
      "metadata": {
        "id": "n8OQxmUyX-r9",
        "colab": {
          "base_uri": "https://localhost:8080/"
        },
        "outputId": "5d5f8a2c-25fa-4d22-d9a1-c815ff6fb98d"
      },
      "source": [
        "print(model_en.wv.most_similar(positive=[\"woman\", \"actor\"], negative=[\"man\"], topn=1))\n",
        "print(model_en.wv.most_similar(positive=[\"dogs\", \"man\"], negative=[\"dog\"], topn=1))\n",
        "\n",
        "print(model_en.wv.most_similar(\"usa\", topn=3))\n",
        "\n",
        "print(model_en.wv.doesnt_match(\"comedy thriller western novel\".split()))"
      ],
      "execution_count": 21,
      "outputs": [
        {
          "output_type": "stream",
          "text": [
            "[('actress', 0.7581589221954346)]\n",
            "[('men', 0.672389030456543)]\n",
            "[('europe', 0.7526534199714661), ('canada', 0.7309041619300842), ('north', 0.7267833948135376)]\n",
            "novel\n"
          ],
          "name": "stdout"
        },
        {
          "output_type": "stream",
          "text": [
            "/usr/local/lib/python3.6/dist-packages/gensim/matutils.py:737: FutureWarning: Conversion of the second argument of issubdtype from `int` to `np.signedinteger` is deprecated. In future, it will be treated as `np.int64 == np.dtype(int).type`.\n",
            "  if np.issubdtype(vec.dtype, np.int):\n",
            "/usr/local/lib/python3.6/dist-packages/gensim/models/keyedvectors.py:895: FutureWarning: arrays to stack must be passed as a \"sequence\" type such as list or tuple. Support for non-sequence iterables such as generators is deprecated as of NumPy 1.16 and will raise an error in the future.\n",
            "  vectors = vstack(self.word_vec(word, use_norm=True) for word in used_words).astype(REAL)\n"
          ],
          "name": "stderr"
        }
      ]
    },
    {
      "cell_type": "code",
      "metadata": {
        "id": "lAO7cOj_p0Jn"
      },
      "source": [
        ""
      ],
      "execution_count": null,
      "outputs": []
    },
    {
      "cell_type": "markdown",
      "metadata": {
        "id": "juR4NX0wX-r_"
      },
      "source": [
        "### Как дообучить существующую модель\n",
        "\n",
        "При тренировке модели \"с нуля\" веса инициализируются случайно, однако, можно использовать для инициализации векторов веса из предобученной модели, таким образом как бы дообучая ее.\n",
        "\n",
        "Сначала посмотрим близость какой-нибудь пары слов в имеющейся модели, чтобы потом сравнить результат с дообученной."
      ]
    },
    {
      "cell_type": "code",
      "metadata": {
        "id": "rAUVp96kX-sA",
        "colab": {
          "base_uri": "https://localhost:8080/"
        },
        "outputId": "0a0ba9ba-f910-46c9-a862-83e0f773f9c6"
      },
      "source": [
        "model_en.wv.similarity('lion', 'rabbit')"
      ],
      "execution_count": 22,
      "outputs": [
        {
          "output_type": "stream",
          "text": [
            "/usr/local/lib/python3.6/dist-packages/gensim/matutils.py:737: FutureWarning: Conversion of the second argument of issubdtype from `int` to `np.signedinteger` is deprecated. In future, it will be treated as `np.int64 == np.dtype(int).type`.\n",
            "  if np.issubdtype(vec.dtype, np.int):\n"
          ],
          "name": "stderr"
        },
        {
          "output_type": "execute_result",
          "data": {
            "text/plain": [
              "0.29819545"
            ]
          },
          "metadata": {
            "tags": []
          },
          "execution_count": 22
        }
      ]
    },
    {
      "cell_type": "markdown",
      "metadata": {
        "id": "Mxsz8DKMX-sD"
      },
      "source": [
        "В качестве дополнительных данных для обучения возьмем английский текст «Алисы в Зазеркалье»."
      ]
    },
    {
      "cell_type": "code",
      "metadata": {
        "id": "4eTCOgpMX-sE",
        "colab": {
          "base_uri": "https://localhost:8080/"
        },
        "outputId": "2b111e76-1a5c-422c-8b59-379822212ef9"
      },
      "source": [
        "! wget https://raw.githubusercontent.com/ancatmara/data-science-nlp/master/data/w2v/train/alice.txt"
      ],
      "execution_count": 23,
      "outputs": [
        {
          "output_type": "stream",
          "text": [
            "--2020-12-05 08:19:08--  https://raw.githubusercontent.com/ancatmara/data-science-nlp/master/data/w2v/train/alice.txt\n",
            "Resolving raw.githubusercontent.com (raw.githubusercontent.com)... 151.101.0.133, 151.101.64.133, 151.101.128.133, ...\n",
            "Connecting to raw.githubusercontent.com (raw.githubusercontent.com)|151.101.0.133|:443... connected.\n",
            "HTTP request sent, awaiting response... 200 OK\n",
            "Length: 167631 (164K) [text/plain]\n",
            "Saving to: ‘alice.txt’\n",
            "\n",
            "alice.txt           100%[===================>] 163.70K  --.-KB/s    in 0.03s   \n",
            "\n",
            "2020-12-05 08:19:08 (5.63 MB/s) - ‘alice.txt’ saved [167631/167631]\n",
            "\n"
          ],
          "name": "stdout"
        }
      ]
    },
    {
      "cell_type": "code",
      "metadata": {
        "id": "yHuXJgB_X-sI",
        "colab": {
          "base_uri": "https://localhost:8080/"
        },
        "outputId": "6dcfa161-e236-42c4-a6b3-b25add28bf23"
      },
      "source": [
        "with open(\"alice.txt\", 'r', encoding='utf-8') as f:\n",
        "    text = f.read()\n",
        "\n",
        "# убираем переносы строк, токенизируем текст\n",
        "\n",
        "text = re.sub('\\n', ' ', text)\n",
        "sents = sent_tokenize(text)\n",
        "\n",
        "punct = '!\"#$%&()*+,-./:;<=>?@[\\]^_`{|}~„“«»†*—/\\-‘’'\n",
        "clean_sents = []\n",
        "\n",
        "# убираем всю пунктуацию и делим текст на слова по пробелу\n",
        "for sent in sents:\n",
        "    s = [w.lower().strip(punct) for w in sent.split()]\n",
        "    clean_sents.append(s)\n",
        "    \n",
        "print(clean_sents[:2])"
      ],
      "execution_count": 24,
      "outputs": [
        {
          "output_type": "stream",
          "text": [
            "[['through', 'the', 'looking-glass', 'by', 'lewis', 'carroll', 'chapter', 'i', 'looking-glass', 'house', 'one', 'thing', 'was', 'certain', 'that', 'the', 'white', 'kitten', 'had', 'had', 'nothing', 'to', 'do', 'with', 'it', '', 'it', 'was', 'the', 'black', 'kitten’s', 'fault', 'entirely'], ['for', 'the', 'white', 'kitten', 'had', 'been', 'having', 'its', 'face', 'washed', 'by', 'the', 'old', 'cat', 'for', 'the', 'last', 'quarter', 'of', 'an', 'hour', 'and', 'bearing', 'it', 'pretty', 'well', 'considering', 'so', 'you', 'see', 'that', 'it', 'couldn’t', 'have', 'had', 'any', 'hand', 'in', 'the', 'mischief']]\n"
          ],
          "name": "stdout"
        }
      ]
    },
    {
      "cell_type": "markdown",
      "metadata": {
        "id": "dH8f7GNBX-sK"
      },
      "source": [
        "Чтобы дообучить модель, надо сначала ее сохранить, а потом загрузить. Все параметры тренировки (размер вектора, мин. частота слова и т.п.) будут взяты из загруженной модели, т.е. задать их заново нельзя.\n",
        "\n",
        "**NB!** Дообучить можно только полную модель (сохраненные при обучении веса и параметры модели, то есть обект самой модеи), а `KeyedVectors` (просто пары \"слово - вектор\") — нельзя. Поэтому сохранять модель нужно в соотвествующем формате. Подробнее о разнице [вот тут](https://radimrehurek.com/gensim/models/keyedvectors.html)."
      ]
    },
    {
      "cell_type": "code",
      "metadata": {
        "id": "Rv--44TmX-sL",
        "colab": {
          "base_uri": "https://localhost:8080/"
        },
        "outputId": "e71159e3-f434-4b9a-c995-ee37e0c76f07"
      },
      "source": [
        "model_path = \"movie_reviews.model\"\n",
        "\n",
        "# так можно сохранить модель для последующего дообучения\n",
        "print(\"Saving model...\")\n",
        "model_en.save(model_path)"
      ],
      "execution_count": 25,
      "outputs": [
        {
          "output_type": "stream",
          "text": [
            "Saving model...\n"
          ],
          "name": "stdout"
        }
      ]
    },
    {
      "cell_type": "code",
      "metadata": {
        "id": "f6eZwBQzX-sQ",
        "colab": {
          "base_uri": "https://localhost:8080/"
        },
        "outputId": "53baba31-9749-4b4f-db9f-7ef58df0cb15"
      },
      "source": [
        "# загружаем нашу обученную модель и дообучаем на текстах \"Алисы\"\n",
        "\n",
        "model = word2vec.Word2Vec.load(model_path)\n",
        "\n",
        "model.build_vocab(clean_sents, update=True)\n",
        "model.train(clean_sents, total_examples=model.corpus_count, epochs=5)"
      ],
      "execution_count": 26,
      "outputs": [
        {
          "output_type": "execute_result",
          "data": {
            "text/plain": [
              "(97104, 150225)"
            ]
          },
          "metadata": {
            "tags": []
          },
          "execution_count": 26
        }
      ]
    },
    {
      "cell_type": "markdown",
      "metadata": {
        "id": "nMLhISWiX-sS"
      },
      "source": [
        "Лев и кролик стали ближе друг к другу!"
      ]
    },
    {
      "cell_type": "code",
      "metadata": {
        "id": "4USaUjmzX-sS",
        "colab": {
          "base_uri": "https://localhost:8080/"
        },
        "outputId": "2ada30b4-4b22-4a6f-fc13-424d6f989c51"
      },
      "source": [
        "model.wv.similarity('lion', 'rabbit')"
      ],
      "execution_count": 27,
      "outputs": [
        {
          "output_type": "stream",
          "text": [
            "/usr/local/lib/python3.6/dist-packages/gensim/matutils.py:737: FutureWarning: Conversion of the second argument of issubdtype from `int` to `np.signedinteger` is deprecated. In future, it will be treated as `np.int64 == np.dtype(int).type`.\n",
            "  if np.issubdtype(vec.dtype, np.int):\n"
          ],
          "name": "stderr"
        },
        {
          "output_type": "execute_result",
          "data": {
            "text/plain": [
              "0.31137896"
            ]
          },
          "metadata": {
            "tags": []
          },
          "execution_count": 27
        }
      ]
    },
    {
      "cell_type": "markdown",
      "metadata": {
        "id": "F5bYd1qmX-sT"
      },
      "source": [
        "Можно нормализовать вектора, тогда модель будет занимать меньше RAM. Однако после этого её нельзя дотренировывать. Здесь используется L2-нормализация: вектора нормализуются так, что если сложить квадраты всех элементов вектора, в сумме получится 1. \n",
        "\n",
        "Кроме того, сохраним не полные вектора, а `KeyedVectors`."
      ]
    },
    {
      "cell_type": "code",
      "metadata": {
        "id": "ZAVaTYvQX-sU",
        "colab": {
          "base_uri": "https://localhost:8080/"
        },
        "outputId": "76df7f1c-0ce1-4e90-8b30-f170fa87ef18"
      },
      "source": [
        "model.init_sims(replace=True)\n",
        "model_path = \"movies_alice.bin\"\n",
        "\n",
        "print(\"Saving model...\")\n",
        "model_en.wv.save_word2vec_format(model_path, binary=True)"
      ],
      "execution_count": 28,
      "outputs": [
        {
          "output_type": "stream",
          "text": [
            "Saving model...\n"
          ],
          "name": "stdout"
        }
      ]
    },
    {
      "cell_type": "markdown",
      "metadata": {
        "id": "CXKnPffPX-sY"
      },
      "source": [
        "## Оценка\n",
        "\n",
        "Задача обучения модели w2v - это usupervised задача (обучение без учителя), \"правильных\" ответов нет, поэтому нельзя вычислить некую метрику качества, чтобы сравнить две модели между собой или просто по значению одной метрики сказать, насколько хороша полученная модель. \n",
        "\n",
        "Тем не менее, существуют специальные выборки для оценки качества дистрибутивных моделей. Основных два: один измеряет точность решения задач на аналогии (пример про Россию и пельмени), а второй используется для оценки коэффициента семантической близости. \n",
        "\n",
        "### Word Similarity\n",
        "\n",
        "Этот метод заключается в том, чтобы оценить, насколько представления о семантической близости слов в модели соотносятся с \"представлениями\" людей.\n",
        "\n",
        "| слово 1    | слово 2    | близость | \n",
        "|------------|------------|----------|\n",
        "| кошка      | собака     | 0.7      |  \n",
        "| чашка      | кружка     | 0.9      |       \n",
        "\n",
        "Для каждой пары слов из заранее заданного датасета мы можем посчитать косинусное расстояние, и получить список таких значений близости. При этом у нас уже есть список значений близостей, сделанный людьми. Мы можем сравнить эти два списка и понять, насколько они похожи (например, посчитав корреляцию). Эта мера схожести должна говорить о том, насколько модель хорошо моделирует расстояния до слова.\n"
      ]
    },
    {
      "cell_type": "markdown",
      "metadata": {
        "id": "yI2MToHc3Vk1"
      },
      "source": [
        "\n",
        "### Аналогии\n",
        "\n",
        "Другая популярная задача для \"внутренней\" оценки называется задачей поиска аналогий. Как мы уже разбирали выше, с помощью простых арифметических операций мы можем модифицировать значение слова. Если заранее собрать набор слов-модификаторов, а также слов, которые мы хотим получить в результаты модификации, то на основе подсчёта количества \"попаданий\" в желаемое слово мы можем оценить, насколько хорошо работает модель.\n",
        "\n",
        "В качестве слов-модификаторов мы можем использовать семантические аналогии. Скажем, если у нас есть некоторое отношение \"страна-столица\", то для оценки модели мы можем использовать пары наподобие \"Россия-Москва\", \"Норвегия-Осло\", и т.д. Выборка будет выглядеть следующм образом:\n",
        "\n",
        "| слово 1    | слово 2    | отношение     | \n",
        "|------------|------------|---------------|\n",
        "| Россия     | Москва     | страна-столица|  \n",
        "| Норвегия   | Осло       | страна-столица|\n",
        "\n",
        "Рассматривая случайные две пары из этого набора, мы хотим, имея триплет (Россия, Москва, Норвегия), получить слово \"Осло\", т.е. найти такое слово, которое будет находиться в том же отношении со словом \"Норвегия\", как \"Россия\" находится с Москвой. \n",
        "\n",
        "Выборки для русского языка можно скачать на странице с моделями на RusVectores. Посчитаем качество нашей модели НКРЯ на выборке про аналогии:"
      ]
    },
    {
      "cell_type": "code",
      "metadata": {
        "id": "-YhZcONZX-sY",
        "colab": {
          "base_uri": "https://localhost:8080/"
        },
        "outputId": "f63c479e-4633-40c8-af45-4f05bcfd6230"
      },
      "source": [
        "! wget https://raw.githubusercontent.com/ancatmara/data-science-nlp/master/data/w2v/evaluation/ru_analogy_tagged.txt"
      ],
      "execution_count": 29,
      "outputs": [
        {
          "output_type": "stream",
          "text": [
            "--2020-12-05 08:20:21--  https://raw.githubusercontent.com/ancatmara/data-science-nlp/master/data/w2v/evaluation/ru_analogy_tagged.txt\n",
            "Resolving raw.githubusercontent.com (raw.githubusercontent.com)... 151.101.0.133, 151.101.64.133, 151.101.128.133, ...\n",
            "Connecting to raw.githubusercontent.com (raw.githubusercontent.com)|151.101.0.133|:443... connected.\n",
            "HTTP request sent, awaiting response... 200 OK\n",
            "Length: 871776 (851K) [text/plain]\n",
            "Saving to: ‘ru_analogy_tagged.txt’\n",
            "\n",
            "ru_analogy_tagged.t 100%[===================>] 851.34K  --.-KB/s    in 0.06s   \n",
            "\n",
            "2020-12-05 08:20:22 (12.9 MB/s) - ‘ru_analogy_tagged.txt’ saved [871776/871776]\n",
            "\n"
          ],
          "name": "stdout"
        }
      ]
    },
    {
      "cell_type": "markdown",
      "metadata": {
        "id": "rJGRHanIKXVg"
      },
      "source": [
        "Посчитаем точность модели на датасете с аналогиями:"
      ]
    },
    {
      "cell_type": "code",
      "metadata": {
        "id": "z54TWXlcX-sb",
        "colab": {
          "base_uri": "https://localhost:8080/"
        },
        "outputId": "2c17038f-adb3-4cb0-bb19-c5fc6bf6f289"
      },
      "source": [
        "res = model_ru.accuracy('ru_analogy_tagged.txt')"
      ],
      "execution_count": 30,
      "outputs": [
        {
          "output_type": "stream",
          "text": [
            "/usr/local/lib/python3.6/dist-packages/ipykernel_launcher.py:1: DeprecationWarning: Call to deprecated `accuracy` (Method will be removed in 4.0.0, use self.evaluate_word_analogies() instead).\n",
            "  \"\"\"Entry point for launching an IPython kernel.\n",
            "/usr/local/lib/python3.6/dist-packages/gensim/matutils.py:737: FutureWarning: Conversion of the second argument of issubdtype from `int` to `np.signedinteger` is deprecated. In future, it will be treated as `np.int64 == np.dtype(int).type`.\n",
            "  if np.issubdtype(vec.dtype, np.int):\n"
          ],
          "name": "stderr"
        }
      ]
    },
    {
      "cell_type": "code",
      "metadata": {
        "id": "tWNppFBeX-sd",
        "colab": {
          "base_uri": "https://localhost:8080/"
        },
        "outputId": "eb18752a-94f5-41fd-b5ae-895556dda4cb"
      },
      "source": [
        "print(res[4]['incorrect'][:10])"
      ],
      "execution_count": 31,
      "outputs": [
        {
          "output_type": "stream",
          "text": [
            "[('МАЛЬЧИК_S', 'ДЕВОЧКА_S', 'ДЕД_S', 'БАБКА_S'), ('МАЛЬЧИК_S', 'ДЕВОЧКА_S', 'КОРОЛЬ_S', 'КОРОЛЕВА_S'), ('МАЛЬЧИК_S', 'ДЕВОЧКА_S', 'ПРИНЦ_S', 'ПРИНЦЕССА_S'), ('МАЛЬЧИК_S', 'ДЕВОЧКА_S', 'ОТЧИМ_S', 'МАЧЕХА_S'), ('МАЛЬЧИК_S', 'ДЕВОЧКА_S', 'ПАСЫНОК_S', 'ПАДЧЕРИЦА_S'), ('БРАТ_S', 'СЕСТРА_S', 'ДЕД_S', 'БАБКА_S'), ('БРАТ_S', 'СЕСТРА_S', 'ОТЧИМ_S', 'МАЧЕХА_S'), ('БРАТ_S', 'СЕСТРА_S', 'ПАСЫНОК_S', 'ПАДЧЕРИЦА_S'), ('ПАПА_S', 'МАМА_S', 'ДЕД_S', 'БАБКА_S'), ('ПАПА_S', 'МАМА_S', 'ОТЧИМ_S', 'МАЧЕХА_S')]\n"
          ],
          "name": "stdout"
        }
      ]
    },
    {
      "cell_type": "markdown",
      "metadata": {
        "id": "Sv0wxUXIX-se"
      },
      "source": [
        "## Визуализация\n",
        "\n",
        "Еще один хороший способ глазами оценить качество модели -  визуализировать ее, например, на плоскости.\n",
        "### t-SNE\n",
        "\n",
        "**t-SNE**  (*t-distributed Stochastic Neighbor Embedding*) — техника нелинейного снижения размерности и визуализации многомерных переменных. Она разработана специально для данных высокой размерности Л. ван дер Маатеном и Д. Хинтоном, [вот их статья](http://jmlr.org/papers/volume9/vandermaaten08a/vandermaaten08a.pdf). t-SNE — это итеративный алгоритм, основанный на вычислении попарных расстояний между всеми объектами (в том числе поэтому он довольно медленный).\n",
        "\n",
        "\n",
        "Изобразим на плоскости 1000 самых частотных слов из коллекции текстов про кино:"
      ]
    },
    {
      "cell_type": "code",
      "metadata": {
        "id": "xipujjX83jm5"
      },
      "source": [
        "# импортируем необходимые библиотеки\n",
        "from nltk import FreqDist\n",
        "from tqdm import tqdm_notebook as tqdm\n",
        "from sklearn.manifold import TSNE"
      ],
      "execution_count": 32,
      "outputs": []
    },
    {
      "cell_type": "code",
      "metadata": {
        "id": "5UH91gFyX-sf",
        "colab": {
          "base_uri": "https://localhost:8080/",
          "height": 195,
          "referenced_widgets": [
            "65adb9a814d04aa2b0a2b96d852dfab9",
            "ce6951729bb04747bbad5da46ddb92ec",
            "5609cc0a631c427db56924b69d539e08",
            "f766556929ac4e67955eba8747b0ba21",
            "8c98aa6ecc3f40989a86540d4df386bf",
            "e5a8d97a953045ed966f6f9d0e3be290",
            "3ead6cbf66ae4ed98035b69e0d5644d4",
            "85c62010afdd46ccb38e10e8bc671b54"
          ]
        },
        "outputId": "7c585067-3092-42bd-abdc-0bf4444fdd3a"
      },
      "source": [
        "top_words = []\n",
        "\n",
        "# строим простой словарь частотности употреблений всех слов\n",
        "fd = FreqDist()\n",
        "for s in tqdm(sentences):\n",
        "    fd.update(s)\n",
        "    \n",
        "# оставляем только 1000 самых частых слов\n",
        "for w in fd.most_common(1000):\n",
        "    top_words.append(w[0])\n",
        "    \n",
        "print(top_words[:50:])\n",
        "top_words_vec = model[top_words]"
      ],
      "execution_count": 33,
      "outputs": [
        {
          "output_type": "stream",
          "text": [
            "/usr/local/lib/python3.6/dist-packages/ipykernel_launcher.py:5: TqdmDeprecationWarning: This function will be removed in tqdm==5.0.0\n",
            "Please use `tqdm.notebook.tqdm` instead of `tqdm.tqdm_notebook`\n",
            "  \"\"\"\n"
          ],
          "name": "stderr"
        },
        {
          "output_type": "display_data",
          "data": {
            "application/vnd.jupyter.widget-view+json": {
              "model_id": "65adb9a814d04aa2b0a2b96d852dfab9",
              "version_minor": 0,
              "version_major": 2
            },
            "text/plain": [
              "HBox(children=(FloatProgress(value=0.0, max=528987.0), HTML(value='')))"
            ]
          },
          "metadata": {
            "tags": []
          }
        },
        {
          "output_type": "stream",
          "text": [
            "\n",
            "['the', 'and', 'a', 'of', 'to', 'is', 'it', 'in', 'i', 'this', 'that', 's', 'was', 'as', 'with', 'for', 'movie', 'but', 'film', 'you', 't', 'on', 'not', 'he', 'are', 'his', 'have', 'be', 'one', 'all', 'they', 'at', 'by', 'who', 'an', 'from', 'so', 'like', 'there', 'or', 'her', 'just', 'about', 'out', 'has', 'if', 'what', 'some', 'good', 'can']\n"
          ],
          "name": "stdout"
        },
        {
          "output_type": "stream",
          "text": [
            "/usr/local/lib/python3.6/dist-packages/ipykernel_launcher.py:13: DeprecationWarning: Call to deprecated `__getitem__` (Method will be removed in 4.0.0, use self.wv.__getitem__() instead).\n",
            "  del sys.path[0]\n"
          ],
          "name": "stderr"
        }
      ]
    },
    {
      "cell_type": "code",
      "metadata": {
        "id": "9OfQGPTezjrm",
        "colab": {
          "base_uri": "https://localhost:8080/"
        },
        "outputId": "8f640654-b30f-4686-f564-a9a8b4fdfdd3"
      },
      "source": [
        "top_words_vec = model[top_words]"
      ],
      "execution_count": 34,
      "outputs": [
        {
          "output_type": "stream",
          "text": [
            "/usr/local/lib/python3.6/dist-packages/ipykernel_launcher.py:1: DeprecationWarning: Call to deprecated `__getitem__` (Method will be removed in 4.0.0, use self.wv.__getitem__() instead).\n",
            "  \"\"\"Entry point for launching an IPython kernel.\n"
          ],
          "name": "stderr"
        }
      ]
    },
    {
      "cell_type": "markdown",
      "metadata": {
        "id": "7dkgD_DLKps6"
      },
      "source": [
        "Применяем преобразование t-SNE для векторов выбранных 1000 слов:"
      ]
    },
    {
      "cell_type": "code",
      "metadata": {
        "id": "74FvTsuuX-sg",
        "colab": {
          "base_uri": "https://localhost:8080/"
        },
        "outputId": "44117b12-d73c-4015-8269-9e9332bd1b24"
      },
      "source": [
        "%%time\n",
        "# инициализируем модель\n",
        "tsne = TSNE(n_components=2, random_state=0)\n",
        "# обучаем и применяем\n",
        "top_words_tsne = tsne.fit_transform(top_words_vec)"
      ],
      "execution_count": 35,
      "outputs": [
        {
          "output_type": "stream",
          "text": [
            "CPU times: user 14.8 s, sys: 54.8 ms, total: 14.9 s\n",
            "Wall time: 7.95 s\n"
          ],
          "name": "stdout"
        }
      ]
    },
    {
      "cell_type": "code",
      "metadata": {
        "id": "cwyXEGdCzjrq"
      },
      "source": [
        "# !pip install bokeh"
      ],
      "execution_count": 36,
      "outputs": []
    },
    {
      "cell_type": "code",
      "metadata": {
        "id": "R0A__XKwX-si",
        "colab": {
          "base_uri": "https://localhost:8080/",
          "height": 617
        },
        "outputId": "6b00c310-5bb2-4640-8bc7-5c9a3b99c1af"
      },
      "source": [
        "# код для отрисовки визуализации t-SNE, погружаться не надо, \n",
        "# просто много настроек конфигурации :)\n",
        "\n",
        "from bokeh.models import ColumnDataSource, LabelSet\n",
        "from bokeh.plotting import figure, show, output_file\n",
        "from bokeh.io import output_notebook\n",
        "output_notebook()\n",
        "\n",
        "p = figure(tools=\"pan,wheel_zoom,reset,save\",\n",
        "           toolbar_location=\"above\",\n",
        "           title=\"word2vec T-SNE (eng model, top1000 words)\")\n",
        "\n",
        "source = ColumnDataSource(data=dict(x1=top_words_tsne[:,0],\n",
        "                                    x2=top_words_tsne[:,1],\n",
        "                                    names=top_words))\n",
        "\n",
        "p.scatter(x=\"x1\", y=\"x2\", size=8, source=source)\n",
        "\n",
        "labels = LabelSet(x=\"x1\", y=\"x2\", text=\"names\", y_offset=6,\n",
        "                  text_font_size=\"8pt\", text_color=\"#555555\",\n",
        "                  source=source, text_align='center')\n",
        "p.add_layout(labels)\n",
        "\n",
        "show(p)"
      ],
      "execution_count": 37,
      "outputs": [
        {
          "output_type": "display_data",
          "data": {
            "application/javascript": [
              "\n",
              "(function(root) {\n",
              "  function now() {\n",
              "    return new Date();\n",
              "  }\n",
              "\n",
              "  var force = true;\n",
              "\n",
              "  if (typeof root._bokeh_onload_callbacks === \"undefined\" || force === true) {\n",
              "    root._bokeh_onload_callbacks = [];\n",
              "    root._bokeh_is_loading = undefined;\n",
              "  }\n",
              "\n",
              "  var JS_MIME_TYPE = 'application/javascript';\n",
              "  var HTML_MIME_TYPE = 'text/html';\n",
              "  var EXEC_MIME_TYPE = 'application/vnd.bokehjs_exec.v0+json';\n",
              "  var CLASS_NAME = 'output_bokeh rendered_html';\n",
              "\n",
              "  /**\n",
              "   * Render data to the DOM node\n",
              "   */\n",
              "  function render(props, node) {\n",
              "    var script = document.createElement(\"script\");\n",
              "    node.appendChild(script);\n",
              "  }\n",
              "\n",
              "  /**\n",
              "   * Handle when an output is cleared or removed\n",
              "   */\n",
              "  function handleClearOutput(event, handle) {\n",
              "    var cell = handle.cell;\n",
              "\n",
              "    var id = cell.output_area._bokeh_element_id;\n",
              "    var server_id = cell.output_area._bokeh_server_id;\n",
              "    // Clean up Bokeh references\n",
              "    if (id != null && id in Bokeh.index) {\n",
              "      Bokeh.index[id].model.document.clear();\n",
              "      delete Bokeh.index[id];\n",
              "    }\n",
              "\n",
              "    if (server_id !== undefined) {\n",
              "      // Clean up Bokeh references\n",
              "      var cmd = \"from bokeh.io.state import curstate; print(curstate().uuid_to_server['\" + server_id + \"'].get_sessions()[0].document.roots[0]._id)\";\n",
              "      cell.notebook.kernel.execute(cmd, {\n",
              "        iopub: {\n",
              "          output: function(msg) {\n",
              "            var id = msg.content.text.trim();\n",
              "            if (id in Bokeh.index) {\n",
              "              Bokeh.index[id].model.document.clear();\n",
              "              delete Bokeh.index[id];\n",
              "            }\n",
              "          }\n",
              "        }\n",
              "      });\n",
              "      // Destroy server and session\n",
              "      var cmd = \"import bokeh.io.notebook as ion; ion.destroy_server('\" + server_id + \"')\";\n",
              "      cell.notebook.kernel.execute(cmd);\n",
              "    }\n",
              "  }\n",
              "\n",
              "  /**\n",
              "   * Handle when a new output is added\n",
              "   */\n",
              "  function handleAddOutput(event, handle) {\n",
              "    var output_area = handle.output_area;\n",
              "    var output = handle.output;\n",
              "\n",
              "    // limit handleAddOutput to display_data with EXEC_MIME_TYPE content only\n",
              "    if ((output.output_type != \"display_data\") || (!output.data.hasOwnProperty(EXEC_MIME_TYPE))) {\n",
              "      return\n",
              "    }\n",
              "\n",
              "    var toinsert = output_area.element.find(\".\" + CLASS_NAME.split(' ')[0]);\n",
              "\n",
              "    if (output.metadata[EXEC_MIME_TYPE][\"id\"] !== undefined) {\n",
              "      toinsert[toinsert.length - 1].firstChild.textContent = output.data[JS_MIME_TYPE];\n",
              "      // store reference to embed id on output_area\n",
              "      output_area._bokeh_element_id = output.metadata[EXEC_MIME_TYPE][\"id\"];\n",
              "    }\n",
              "    if (output.metadata[EXEC_MIME_TYPE][\"server_id\"] !== undefined) {\n",
              "      var bk_div = document.createElement(\"div\");\n",
              "      bk_div.innerHTML = output.data[HTML_MIME_TYPE];\n",
              "      var script_attrs = bk_div.children[0].attributes;\n",
              "      for (var i = 0; i < script_attrs.length; i++) {\n",
              "        toinsert[toinsert.length - 1].firstChild.setAttribute(script_attrs[i].name, script_attrs[i].value);\n",
              "        toinsert[toinsert.length - 1].firstChild.textContent = bk_div.children[0].textContent\n",
              "      }\n",
              "      // store reference to server id on output_area\n",
              "      output_area._bokeh_server_id = output.metadata[EXEC_MIME_TYPE][\"server_id\"];\n",
              "    }\n",
              "  }\n",
              "\n",
              "  function register_renderer(events, OutputArea) {\n",
              "\n",
              "    function append_mime(data, metadata, element) {\n",
              "      // create a DOM node to render to\n",
              "      var toinsert = this.create_output_subarea(\n",
              "        metadata,\n",
              "        CLASS_NAME,\n",
              "        EXEC_MIME_TYPE\n",
              "      );\n",
              "      this.keyboard_manager.register_events(toinsert);\n",
              "      // Render to node\n",
              "      var props = {data: data, metadata: metadata[EXEC_MIME_TYPE]};\n",
              "      render(props, toinsert[toinsert.length - 1]);\n",
              "      element.append(toinsert);\n",
              "      return toinsert\n",
              "    }\n",
              "\n",
              "    /* Handle when an output is cleared or removed */\n",
              "    events.on('clear_output.CodeCell', handleClearOutput);\n",
              "    events.on('delete.Cell', handleClearOutput);\n",
              "\n",
              "    /* Handle when a new output is added */\n",
              "    events.on('output_added.OutputArea', handleAddOutput);\n",
              "\n",
              "    /**\n",
              "     * Register the mime type and append_mime function with output_area\n",
              "     */\n",
              "    OutputArea.prototype.register_mime_type(EXEC_MIME_TYPE, append_mime, {\n",
              "      /* Is output safe? */\n",
              "      safe: true,\n",
              "      /* Index of renderer in `output_area.display_order` */\n",
              "      index: 0\n",
              "    });\n",
              "  }\n",
              "\n",
              "  // register the mime type if in Jupyter Notebook environment and previously unregistered\n",
              "  if (root.Jupyter !== undefined) {\n",
              "    var events = require('base/js/events');\n",
              "    var OutputArea = require('notebook/js/outputarea').OutputArea;\n",
              "\n",
              "    if (OutputArea.prototype.mime_types().indexOf(EXEC_MIME_TYPE) == -1) {\n",
              "      register_renderer(events, OutputArea);\n",
              "    }\n",
              "  }\n",
              "\n",
              "  \n",
              "  if (typeof (root._bokeh_timeout) === \"undefined\" || force === true) {\n",
              "    root._bokeh_timeout = Date.now() + 5000;\n",
              "    root._bokeh_failed_load = false;\n",
              "  }\n",
              "\n",
              "  var NB_LOAD_WARNING = {'data': {'text/html':\n",
              "     \"<div style='background-color: #fdd'>\\n\"+\n",
              "     \"<p>\\n\"+\n",
              "     \"BokehJS does not appear to have successfully loaded. If loading BokehJS from CDN, this \\n\"+\n",
              "     \"may be due to a slow or bad network connection. Possible fixes:\\n\"+\n",
              "     \"</p>\\n\"+\n",
              "     \"<ul>\\n\"+\n",
              "     \"<li>re-rerun `output_notebook()` to attempt to load from CDN again, or</li>\\n\"+\n",
              "     \"<li>use INLINE resources instead, as so:</li>\\n\"+\n",
              "     \"</ul>\\n\"+\n",
              "     \"<code>\\n\"+\n",
              "     \"from bokeh.resources import INLINE\\n\"+\n",
              "     \"output_notebook(resources=INLINE)\\n\"+\n",
              "     \"</code>\\n\"+\n",
              "     \"</div>\"}};\n",
              "\n",
              "  function display_loaded() {\n",
              "    var el = document.getElementById(null);\n",
              "    if (el != null) {\n",
              "      el.textContent = \"BokehJS is loading...\";\n",
              "    }\n",
              "    if (root.Bokeh !== undefined) {\n",
              "      if (el != null) {\n",
              "        el.textContent = \"BokehJS \" + root.Bokeh.version + \" successfully loaded.\";\n",
              "      }\n",
              "    } else if (Date.now() < root._bokeh_timeout) {\n",
              "      setTimeout(display_loaded, 100)\n",
              "    }\n",
              "  }\n",
              "\n",
              "\n",
              "  function run_callbacks() {\n",
              "    try {\n",
              "      root._bokeh_onload_callbacks.forEach(function(callback) {\n",
              "        if (callback != null)\n",
              "          callback();\n",
              "      });\n",
              "    } finally {\n",
              "      delete root._bokeh_onload_callbacks\n",
              "    }\n",
              "    console.debug(\"Bokeh: all callbacks have finished\");\n",
              "  }\n",
              "\n",
              "  function load_libs(css_urls, js_urls, callback) {\n",
              "    if (css_urls == null) css_urls = [];\n",
              "    if (js_urls == null) js_urls = [];\n",
              "\n",
              "    root._bokeh_onload_callbacks.push(callback);\n",
              "    if (root._bokeh_is_loading > 0) {\n",
              "      console.debug(\"Bokeh: BokehJS is being loaded, scheduling callback at\", now());\n",
              "      return null;\n",
              "    }\n",
              "    if (js_urls == null || js_urls.length === 0) {\n",
              "      run_callbacks();\n",
              "      return null;\n",
              "    }\n",
              "    console.debug(\"Bokeh: BokehJS not loaded, scheduling load and callback at\", now());\n",
              "    root._bokeh_is_loading = css_urls.length + js_urls.length;\n",
              "\n",
              "    function on_load() {\n",
              "      root._bokeh_is_loading--;\n",
              "      if (root._bokeh_is_loading === 0) {\n",
              "        console.debug(\"Bokeh: all BokehJS libraries/stylesheets loaded\");\n",
              "        run_callbacks()\n",
              "      }\n",
              "    }\n",
              "\n",
              "    function on_error() {\n",
              "      console.error(\"failed to load \" + url);\n",
              "    }\n",
              "\n",
              "    for (var i = 0; i < css_urls.length; i++) {\n",
              "      var url = css_urls[i];\n",
              "      const element = document.createElement(\"link\");\n",
              "      element.onload = on_load;\n",
              "      element.onerror = on_error;\n",
              "      element.rel = \"stylesheet\";\n",
              "      element.type = \"text/css\";\n",
              "      element.href = url;\n",
              "      console.debug(\"Bokeh: injecting link tag for BokehJS stylesheet: \", url);\n",
              "      document.body.appendChild(element);\n",
              "    }\n",
              "\n",
              "    const hashes = {\"https://cdn.bokeh.org/bokeh/release/bokeh-2.1.1.min.js\": \"kLr4fYcqcSpbuI95brIH3vnnYCquzzSxHPU6XGQCIkQRGJwhg0StNbj1eegrHs12\", \"https://cdn.bokeh.org/bokeh/release/bokeh-widgets-2.1.1.min.js\": \"xIGPmVtaOm+z0BqfSOMn4lOR6ciex448GIKG4eE61LsAvmGj48XcMQZtKcE/UXZe\", \"https://cdn.bokeh.org/bokeh/release/bokeh-tables-2.1.1.min.js\": \"Dc9u1wF/0zApGIWoBbH77iWEHtdmkuYWG839Uzmv8y8yBLXebjO9ZnERsde5Ln/P\", \"https://cdn.bokeh.org/bokeh/release/bokeh-gl-2.1.1.min.js\": \"cT9JaBz7GiRXdENrJLZNSC6eMNF3nh3fa5fTF51Svp+ukxPdwcU5kGXGPBgDCa2j\"};\n",
              "\n",
              "    for (var i = 0; i < js_urls.length; i++) {\n",
              "      var url = js_urls[i];\n",
              "      var element = document.createElement('script');\n",
              "      element.onload = on_load;\n",
              "      element.onerror = on_error;\n",
              "      element.async = false;\n",
              "      element.src = url;\n",
              "      if (url in hashes) {\n",
              "        element.crossOrigin = \"anonymous\";\n",
              "        element.integrity = \"sha384-\" + hashes[url];\n",
              "      }\n",
              "      console.debug(\"Bokeh: injecting script tag for BokehJS library: \", url);\n",
              "      document.head.appendChild(element);\n",
              "    }\n",
              "  };\n",
              "\n",
              "  function inject_raw_css(css) {\n",
              "    const element = document.createElement(\"style\");\n",
              "    element.appendChild(document.createTextNode(css));\n",
              "    document.body.appendChild(element);\n",
              "  }\n",
              "\n",
              "  \n",
              "  var js_urls = [\"https://cdn.bokeh.org/bokeh/release/bokeh-2.1.1.min.js\", \"https://cdn.bokeh.org/bokeh/release/bokeh-widgets-2.1.1.min.js\", \"https://cdn.bokeh.org/bokeh/release/bokeh-tables-2.1.1.min.js\", \"https://cdn.bokeh.org/bokeh/release/bokeh-gl-2.1.1.min.js\"];\n",
              "  var css_urls = [];\n",
              "  \n",
              "\n",
              "  var inline_js = [\n",
              "    function(Bokeh) {\n",
              "      Bokeh.set_log_level(\"info\");\n",
              "    },\n",
              "    function(Bokeh) {\n",
              "    \n",
              "    \n",
              "    }\n",
              "  ];\n",
              "\n",
              "  function run_inline_js() {\n",
              "    \n",
              "    if (root.Bokeh !== undefined || force === true) {\n",
              "      \n",
              "    for (var i = 0; i < inline_js.length; i++) {\n",
              "      inline_js[i].call(root, root.Bokeh);\n",
              "    }\n",
              "    } else if (Date.now() < root._bokeh_timeout) {\n",
              "      setTimeout(run_inline_js, 100);\n",
              "    } else if (!root._bokeh_failed_load) {\n",
              "      console.log(\"Bokeh: BokehJS failed to load within specified timeout.\");\n",
              "      root._bokeh_failed_load = true;\n",
              "    } else if (force !== true) {\n",
              "      var cell = $(document.getElementById(null)).parents('.cell').data().cell;\n",
              "      cell.output_area.append_execute_result(NB_LOAD_WARNING)\n",
              "    }\n",
              "\n",
              "  }\n",
              "\n",
              "  if (root._bokeh_is_loading === 0) {\n",
              "    console.debug(\"Bokeh: BokehJS loaded, going straight to plotting\");\n",
              "    run_inline_js();\n",
              "  } else {\n",
              "    load_libs(css_urls, js_urls, function() {\n",
              "      console.debug(\"Bokeh: BokehJS plotting callback run at\", now());\n",
              "      run_inline_js();\n",
              "    });\n",
              "  }\n",
              "}(window));"
            ],
            "application/vnd.bokehjs_load.v0+json": "\n(function(root) {\n  function now() {\n    return new Date();\n  }\n\n  var force = true;\n\n  if (typeof root._bokeh_onload_callbacks === \"undefined\" || force === true) {\n    root._bokeh_onload_callbacks = [];\n    root._bokeh_is_loading = undefined;\n  }\n\n  \n\n  \n  if (typeof (root._bokeh_timeout) === \"undefined\" || force === true) {\n    root._bokeh_timeout = Date.now() + 5000;\n    root._bokeh_failed_load = false;\n  }\n\n  var NB_LOAD_WARNING = {'data': {'text/html':\n     \"<div style='background-color: #fdd'>\\n\"+\n     \"<p>\\n\"+\n     \"BokehJS does not appear to have successfully loaded. If loading BokehJS from CDN, this \\n\"+\n     \"may be due to a slow or bad network connection. Possible fixes:\\n\"+\n     \"</p>\\n\"+\n     \"<ul>\\n\"+\n     \"<li>re-rerun `output_notebook()` to attempt to load from CDN again, or</li>\\n\"+\n     \"<li>use INLINE resources instead, as so:</li>\\n\"+\n     \"</ul>\\n\"+\n     \"<code>\\n\"+\n     \"from bokeh.resources import INLINE\\n\"+\n     \"output_notebook(resources=INLINE)\\n\"+\n     \"</code>\\n\"+\n     \"</div>\"}};\n\n  function display_loaded() {\n    var el = document.getElementById(null);\n    if (el != null) {\n      el.textContent = \"BokehJS is loading...\";\n    }\n    if (root.Bokeh !== undefined) {\n      if (el != null) {\n        el.textContent = \"BokehJS \" + root.Bokeh.version + \" successfully loaded.\";\n      }\n    } else if (Date.now() < root._bokeh_timeout) {\n      setTimeout(display_loaded, 100)\n    }\n  }\n\n\n  function run_callbacks() {\n    try {\n      root._bokeh_onload_callbacks.forEach(function(callback) {\n        if (callback != null)\n          callback();\n      });\n    } finally {\n      delete root._bokeh_onload_callbacks\n    }\n    console.debug(\"Bokeh: all callbacks have finished\");\n  }\n\n  function load_libs(css_urls, js_urls, callback) {\n    if (css_urls == null) css_urls = [];\n    if (js_urls == null) js_urls = [];\n\n    root._bokeh_onload_callbacks.push(callback);\n    if (root._bokeh_is_loading > 0) {\n      console.debug(\"Bokeh: BokehJS is being loaded, scheduling callback at\", now());\n      return null;\n    }\n    if (js_urls == null || js_urls.length === 0) {\n      run_callbacks();\n      return null;\n    }\n    console.debug(\"Bokeh: BokehJS not loaded, scheduling load and callback at\", now());\n    root._bokeh_is_loading = css_urls.length + js_urls.length;\n\n    function on_load() {\n      root._bokeh_is_loading--;\n      if (root._bokeh_is_loading === 0) {\n        console.debug(\"Bokeh: all BokehJS libraries/stylesheets loaded\");\n        run_callbacks()\n      }\n    }\n\n    function on_error() {\n      console.error(\"failed to load \" + url);\n    }\n\n    for (var i = 0; i < css_urls.length; i++) {\n      var url = css_urls[i];\n      const element = document.createElement(\"link\");\n      element.onload = on_load;\n      element.onerror = on_error;\n      element.rel = \"stylesheet\";\n      element.type = \"text/css\";\n      element.href = url;\n      console.debug(\"Bokeh: injecting link tag for BokehJS stylesheet: \", url);\n      document.body.appendChild(element);\n    }\n\n    const hashes = {\"https://cdn.bokeh.org/bokeh/release/bokeh-2.1.1.min.js\": \"kLr4fYcqcSpbuI95brIH3vnnYCquzzSxHPU6XGQCIkQRGJwhg0StNbj1eegrHs12\", \"https://cdn.bokeh.org/bokeh/release/bokeh-widgets-2.1.1.min.js\": \"xIGPmVtaOm+z0BqfSOMn4lOR6ciex448GIKG4eE61LsAvmGj48XcMQZtKcE/UXZe\", \"https://cdn.bokeh.org/bokeh/release/bokeh-tables-2.1.1.min.js\": \"Dc9u1wF/0zApGIWoBbH77iWEHtdmkuYWG839Uzmv8y8yBLXebjO9ZnERsde5Ln/P\", \"https://cdn.bokeh.org/bokeh/release/bokeh-gl-2.1.1.min.js\": \"cT9JaBz7GiRXdENrJLZNSC6eMNF3nh3fa5fTF51Svp+ukxPdwcU5kGXGPBgDCa2j\"};\n\n    for (var i = 0; i < js_urls.length; i++) {\n      var url = js_urls[i];\n      var element = document.createElement('script');\n      element.onload = on_load;\n      element.onerror = on_error;\n      element.async = false;\n      element.src = url;\n      if (url in hashes) {\n        element.crossOrigin = \"anonymous\";\n        element.integrity = \"sha384-\" + hashes[url];\n      }\n      console.debug(\"Bokeh: injecting script tag for BokehJS library: \", url);\n      document.head.appendChild(element);\n    }\n  };\n\n  function inject_raw_css(css) {\n    const element = document.createElement(\"style\");\n    element.appendChild(document.createTextNode(css));\n    document.body.appendChild(element);\n  }\n\n  \n  var js_urls = [\"https://cdn.bokeh.org/bokeh/release/bokeh-2.1.1.min.js\", \"https://cdn.bokeh.org/bokeh/release/bokeh-widgets-2.1.1.min.js\", \"https://cdn.bokeh.org/bokeh/release/bokeh-tables-2.1.1.min.js\", \"https://cdn.bokeh.org/bokeh/release/bokeh-gl-2.1.1.min.js\"];\n  var css_urls = [];\n  \n\n  var inline_js = [\n    function(Bokeh) {\n      Bokeh.set_log_level(\"info\");\n    },\n    function(Bokeh) {\n    \n    \n    }\n  ];\n\n  function run_inline_js() {\n    \n    if (root.Bokeh !== undefined || force === true) {\n      \n    for (var i = 0; i < inline_js.length; i++) {\n      inline_js[i].call(root, root.Bokeh);\n    }\n    } else if (Date.now() < root._bokeh_timeout) {\n      setTimeout(run_inline_js, 100);\n    } else if (!root._bokeh_failed_load) {\n      console.log(\"Bokeh: BokehJS failed to load within specified timeout.\");\n      root._bokeh_failed_load = true;\n    } else if (force !== true) {\n      var cell = $(document.getElementById(null)).parents('.cell').data().cell;\n      cell.output_area.append_execute_result(NB_LOAD_WARNING)\n    }\n\n  }\n\n  if (root._bokeh_is_loading === 0) {\n    console.debug(\"Bokeh: BokehJS loaded, going straight to plotting\");\n    run_inline_js();\n  } else {\n    load_libs(css_urls, js_urls, function() {\n      console.debug(\"Bokeh: BokehJS plotting callback run at\", now());\n      run_inline_js();\n    });\n  }\n}(window));"
          },
          "metadata": {
            "tags": []
          }
        },
        {
          "output_type": "display_data",
          "data": {
            "text/html": [
              "\n",
              "\n",
              "\n",
              "\n",
              "\n",
              "\n",
              "  <div class=\"bk-root\" id=\"279624d0-6012-4b07-abe0-da6497e24cf1\" data-root-id=\"1001\"></div>\n"
            ]
          },
          "metadata": {
            "tags": []
          }
        },
        {
          "output_type": "display_data",
          "data": {
            "application/javascript": [
              "(function(root) {\n",
              "  function embed_document(root) {\n",
              "    \n",
              "  var docs_json = {\"e3a670ec-ae1e-466c-bd62-6b055452f28b\":{\"roots\":{\"references\":[{\"attributes\":{\"below\":[{\"id\":\"1012\"}],\"center\":[{\"id\":\"1015\"},{\"id\":\"1019\"},{\"id\":\"1035\"}],\"left\":[{\"id\":\"1016\"}],\"renderers\":[{\"id\":\"1033\"}],\"title\":{\"id\":\"1002\"},\"toolbar\":{\"id\":\"1024\"},\"toolbar_location\":\"above\",\"x_range\":{\"id\":\"1004\"},\"x_scale\":{\"id\":\"1008\"},\"y_range\":{\"id\":\"1006\"},\"y_scale\":{\"id\":\"1010\"}},\"id\":\"1001\",\"subtype\":\"Figure\",\"type\":\"Plot\"},{\"attributes\":{\"source\":{\"id\":\"1029\"}},\"id\":\"1034\",\"type\":\"CDSView\"},{\"attributes\":{},\"id\":\"1017\",\"type\":\"BasicTicker\"},{\"attributes\":{},\"id\":\"1042\",\"type\":\"UnionRenderers\"},{\"attributes\":{\"source\":{\"id\":\"1029\"},\"text\":{\"field\":\"names\"},\"text_align\":\"center\",\"text_color\":{\"value\":\"#555555\"},\"text_font_size\":{\"value\":\"8pt\"},\"x\":{\"field\":\"x1\"},\"y\":{\"field\":\"x2\"},\"y_offset\":{\"value\":6}},\"id\":\"1035\",\"type\":\"LabelSet\"},{\"attributes\":{\"axis\":{\"id\":\"1016\"},\"dimension\":1,\"ticker\":null},\"id\":\"1019\",\"type\":\"Grid\"},{\"attributes\":{},\"id\":\"1043\",\"type\":\"Selection\"},{\"attributes\":{},\"id\":\"1020\",\"type\":\"PanTool\"},{\"attributes\":{},\"id\":\"1039\",\"type\":\"BasicTickFormatter\"},{\"attributes\":{\"data\":{\"names\":[\"the\",\"and\",\"a\",\"of\",\"to\",\"is\",\"it\",\"in\",\"i\",\"this\",\"that\",\"s\",\"was\",\"as\",\"with\",\"for\",\"movie\",\"but\",\"film\",\"you\",\"t\",\"on\",\"not\",\"he\",\"are\",\"his\",\"have\",\"be\",\"one\",\"all\",\"they\",\"at\",\"by\",\"who\",\"an\",\"from\",\"so\",\"like\",\"there\",\"or\",\"her\",\"just\",\"about\",\"out\",\"has\",\"if\",\"what\",\"some\",\"good\",\"can\",\"when\",\"more\",\"very\",\"she\",\"up\",\"no\",\"time\",\"even\",\"would\",\"their\",\"my\",\"which\",\"story\",\"only\",\"really\",\"see\",\"had\",\"were\",\"well\",\"me\",\"we\",\"than\",\"much\",\"bad\",\"been\",\"get\",\"people\",\"great\",\"into\",\"also\",\"do\",\"other\",\"first\",\"will\",\"him\",\"because\",\"most\",\"how\",\"don\",\"them\",\"make\",\"its\",\"made\",\"way\",\"could\",\"then\",\"too\",\"movies\",\"after\",\"any\",\"characters\",\"character\",\"films\",\"two\",\"think\",\"watch\",\"being\",\"plot\",\"many\",\"where\",\"never\",\"love\",\"seen\",\"little\",\"life\",\"acting\",\"best\",\"did\",\"off\",\"know\",\"over\",\"ever\",\"does\",\"show\",\"better\",\"man\",\"your\",\"end\",\"here\",\"scene\",\"while\",\"these\",\"why\",\"still\",\"scenes\",\"something\",\"say\",\"go\",\"m\",\"ve\",\"should\",\"back\",\"such\",\"real\",\"through\",\"those\",\"now\",\"re\",\"doesn\",\"watching\",\"thing\",\"director\",\"funny\",\"though\",\"years\",\"didn\",\"another\",\"actors\",\"new\",\"going\",\"old\",\"makes\",\"nothing\",\"actually\",\"before\",\"work\",\"look\",\"same\",\"find\",\"lot\",\"part\",\"few\",\"every\",\"again\",\"world\",\"action\",\"cast\",\"horror\",\"things\",\"us\",\"quite\",\"want\",\"down\",\"pretty\",\"young\",\"fact\",\"around\",\"seems\",\"enough\",\"both\",\"take\",\"long\",\"however\",\"thought\",\"got\",\"own\",\"give\",\"comedy\",\"between\",\"big\",\"d\",\"must\",\"series\",\"right\",\"may\",\"without\",\"role\",\"guy\",\"original\",\"interesting\",\"whole\",\"come\",\"isn\",\"times\",\"always\",\"saw\",\"least\",\"bit\",\"gets\",\"almost\",\"script\",\"point\",\"last\",\"music\",\"done\",\"minutes\",\"feel\",\"far\",\"since\",\"girl\",\"ll\",\"yet\",\"might\",\"making\",\"performance\",\"away\",\"family\",\"anything\",\"am\",\"probably\",\"hard\",\"woman\",\"tv\",\"kind\",\"fun\",\"rather\",\"day\",\"played\",\"worst\",\"each\",\"found\",\"sure\",\"anyone\",\"especially\",\"trying\",\"having\",\"our\",\"screen\",\"looking\",\"different\",\"believe\",\"sense\",\"place\",\"american\",\"although\",\"ending\",\"goes\",\"worth\",\"course\",\"set\",\"shows\",\"maybe\",\"three\",\"comes\",\"dvd\",\"money\",\"once\",\"everything\",\"plays\",\"effects\",\"put\",\"john\",\"looks\",\"actor\",\"main\",\"together\",\"during\",\"someone\",\"let\",\"wasn\",\"instead\",\"everyone\",\"war\",\"year\",\"reason\",\"takes\",\"special\",\"said\",\"true\",\"high\",\"night\",\"book\",\"seem\",\"job\",\"play\",\"watched\",\"audience\",\"later\",\"wife\",\"black\",\"death\",\"himself\",\"star\",\"half\",\"seeing\",\"used\",\"idea\",\"dead\",\"second\",\"men\",\"left\",\"excellent\",\"simply\",\"shot\",\"else\",\"beautiful\",\"sex\",\"completely\",\"budget\",\"father\",\"women\",\"mind\",\"house\",\"hollywood\",\"poor\",\"less\",\"fan\",\"along\",\"boring\",\"performances\",\"home\",\"line\",\"help\",\"nice\",\"try\",\"couple\",\"top\",\"version\",\"until\",\"either\",\"low\",\"next\",\"camera\",\"use\",\"friends\",\"short\",\"wrong\",\"start\",\"kids\",\"given\",\"mother\",\"read\",\"need\",\"full\",\"enjoy\",\"production\",\"classic\",\"perhaps\",\"school\",\"moments\",\"truly\",\"stupid\",\"keep\",\"awful\",\"getting\",\"rest\",\"video\",\"face\",\"tell\",\"mean\",\"others\",\"itself\",\"understand\",\"boy\",\"terrible\",\"small\",\"name\",\"style\",\"came\",\"won\",\"playing\",\"recommend\",\"doing\",\"lost\",\"person\",\"definitely\",\"gives\",\"dialogue\",\"entertaining\",\"wonderful\",\"often\",\"live\",\"lines\",\"hope\",\"went\",\"stars\",\"case\",\"remember\",\"written\",\"couldn\",\"head\",\"early\",\"title\",\"yes\",\"human\",\"perfect\",\"become\",\"based\",\"friend\",\"children\",\"certainly\",\"liked\",\"problem\",\"drama\",\"son\",\"picture\",\"several\",\"fans\",\"under\",\"lead\",\"laugh\",\"oh\",\"humor\",\"guys\",\"supposed\",\"direction\",\"against\",\"absolutely\",\"overall\",\"sort\",\"piece\",\"episode\",\"finally\",\"game\",\"lives\",\"called\",\"entire\",\"evil\",\"cinema\",\"worse\",\"care\",\"waste\",\"killer\",\"dark\",\"felt\",\"beginning\",\"despite\",\"seemed\",\"genre\",\"final\",\"b\",\"totally\",\"history\",\"wanted\",\"unfortunately\",\"town\",\"throughout\",\"white\",\"city\",\"becomes\",\"able\",\"days\",\"already\",\"turn\",\"guess\",\"run\",\"loved\",\"fine\",\"act\",\"mr\",\"flick\",\"today\",\"horrible\",\"heart\",\"side\",\"hand\",\"kill\",\"tries\",\"wants\",\"starts\",\"quality\",\"killed\",\"past\",\"themselves\",\"child\",\"close\",\"matter\",\"group\",\"sound\",\"turns\",\"daughter\",\"parts\",\"viewer\",\"etc\",\"expect\",\"fight\",\"car\",\"enjoyed\",\"directed\",\"writing\",\"decent\",\"type\",\"violence\",\"stop\",\"example\",\"stuff\",\"self\",\"kid\",\"amazing\",\"behind\",\"soon\",\"blood\",\"favorite\",\"works\",\"known\",\"thinking\",\"gave\",\"obviously\",\"sometimes\",\"hero\",\"eyes\",\"actress\",\"girls\",\"michael\",\"happened\",\"brilliant\",\"stories\",\"except\",\"myself\",\"hour\",\"coming\",\"says\",\"writer\",\"late\",\"husband\",\"extremely\",\"experience\",\"hell\",\"happens\",\"art\",\"heard\",\"police\",\"took\",\"feeling\",\"roles\",\"leave\",\"highly\",\"attempt\",\"taken\",\"interest\",\"wouldn\",\"murder\",\"moment\",\"slow\",\"score\",\"god\",\"including\",\"looked\",\"obvious\",\"involved\",\"living\",\"anyway\",\"robert\",\"david\",\"cool\",\"hours\",\"save\",\"ok\",\"age\",\"voice\",\"o\",\"career\",\"told\",\"across\",\"wonder\",\"none\",\"strong\",\"cut\",\"happen\",\"please\",\"gore\",\"simple\",\"hilarious\",\"brother\",\"important\",\"exactly\",\"power\",\"chance\",\"ago\",\"james\",\"particularly\",\"relationship\",\"documentary\",\"level\",\"complete\",\"light\",\"female\",\"annoying\",\"possible\",\"serious\",\"cannot\",\"hit\",\"crap\",\"sad\",\"running\",\"lack\",\"sequel\",\"talent\",\"usually\",\"whose\",\"basically\",\"reality\",\"ends\",\"seriously\",\"strange\",\"order\",\"finds\",\"call\",\"taking\",\"somewhat\",\"room\",\"happy\",\"silly\",\"scary\",\"middle\",\"turned\",\"alone\",\"apparently\",\"ridiculous\",\"change\",\"clich\",\"country\",\"mostly\",\"attention\",\"miss\",\"four\",\"usual\",\"shown\",\"body\",\"song\",\"wish\",\"jokes\",\"number\",\"opening\",\"released\",\"disappointed\",\"word\",\"jack\",\"thriller\",\"single\",\"opinion\",\"straight\",\"future\",\"english\",\"words\",\"parents\",\"novel\",\"saying\",\"cinematography\",\"yourself\",\"view\",\"cheap\",\"started\",\"french\",\"beyond\",\"huge\",\"talking\",\"non\",\"clearly\",\"sets\",\"talk\",\"major\",\"die\",\"shots\",\"rating\",\"problems\",\"knew\",\"knows\",\"gay\",\"modern\",\"fast\",\"british\",\"due\",\"events\",\"tells\",\"add\",\"bring\",\"comic\",\"clear\",\"ones\",\"above\",\"hate\",\"storyline\",\"york\",\"easy\",\"typical\",\"entertainment\",\"aren\",\"easily\",\"haven\",\"within\",\"local\",\"upon\",\"general\",\"dialog\",\"crime\",\"ten\",\"giving\",\"george\",\"lots\",\"sequence\",\"america\",\"ways\",\"falls\",\"similar\",\"begins\",\"appears\",\"class\",\"near\",\"mystery\",\"named\",\"bunch\",\"filmed\",\"king\",\"elements\",\"romantic\",\"certain\",\"review\",\"team\",\"predictable\",\"working\",\"avoid\",\"stand\",\"de\",\"earth\",\"sorry\",\"th\",\"e\",\"television\",\"mention\",\"enjoyable\",\"supporting\",\"tale\",\"theme\",\"message\",\"points\",\"cop\",\"gone\",\"among\",\"fall\",\"space\",\"tom\",\"viewers\",\"eye\",\"red\",\"truth\",\"leads\",\"surprised\",\"stay\",\"release\",\"kept\",\"minute\",\"richard\",\"five\",\"dull\",\"killing\",\"using\",\"effort\",\"monster\",\"third\",\"brought\",\"musical\",\"feels\",\"suspense\",\"tried\",\"means\",\"whether\",\"comments\",\"sequences\",\"dog\",\"moving\",\"period\",\"peter\",\"lee\",\"needs\",\"doubt\",\"fi\",\"showing\",\"buy\",\"okay\",\"sci\",\"somehow\",\"soundtrack\",\"viewing\",\"rent\",\"herself\",\"nearly\",\"average\",\"songs\",\"theater\",\"episodes\",\"reviews\",\"follow\",\"whatever\",\"surprise\",\"feature\",\"form\",\"move\",\"forget\",\"realistic\",\"believable\",\"free\",\"material\",\"premise\",\"editing\",\"sister\",\"brothers\",\"deep\",\"imagine\",\"gun\",\"forced\",\"famous\",\"poorly\",\"deal\",\"crew\",\"western\",\"indeed\",\"expected\",\"check\",\"possibly\",\"fantastic\",\"lame\",\"society\",\"figure\",\"otherwise\",\"dr\",\"learn\",\"open\",\"paul\",\"eventually\",\"plus\",\"lady\",\"weak\",\"hear\",\"stage\",\"sexual\",\"leaves\",\"question\",\"note\",\"difficult\",\"sit\",\"towards\",\"romance\",\"box\",\"situation\",\"begin\",\"earlier\",\"personal\",\"atmosphere\",\"reading\",\"male\",\"screenplay\",\"wait\",\"decided\",\"joe\",\"battle\",\"interested\",\"powerful\",\"previous\",\"business\",\"greatest\",\"nor\",\"hot\",\"actual\",\"cheesy\",\"became\",\"acted\",\"worked\",\"animation\",\"subject\",\"island\",\"effect\",\"footage\",\"mess\",\"era\",\"oscar\",\"result\",\"meet\",\"rock\",\"credits\",\"features\",\"particular\",\"memorable\",\"whom\",\"boys\",\"air\",\"setting\",\"perfectly\",\"writers\",\"laughs\",\"street\",\"shame\",\"quickly\",\"rich\",\"older\",\"hands\",\"background\",\"keeps\",\"twist\",\"dramatic\",\"bill\",\"total\",\"present\",\"various\",\"appear\",\"pay\",\"telling\",\"directing\",\"william\",\"party\",\"alien\",\"unless\",\"harry\",\"mark\",\"crazy\",\"badly\",\"realize\",\"girlfriend\",\"forward\",\"front\",\"needed\",\"comment\",\"emotional\",\"imdb\",\"development\",\"fighting\",\"secret\",\"break\",\"fairly\",\"unique\",\"c\",\"baby\",\"outside\",\"married\",\"manages\",\"plenty\",\"villain\",\"apart\",\"missing\",\"masterpiece\",\"nature\",\"brings\",\"remake\",\"write\",\"former\",\"superb\",\"weird\",\"doctor\",\"clever\",\"escape\",\"list\",\"incredibly\",\"meets\",\"reasons\",\"hold\",\"created\",\"sounds\",\"sam\",\"inside\",\"unlike\",\"leading\",\"laughing\",\"ideas\",\"japanese\",\"season\",\"prison\",\"directors\",\"copy\",\"cute\",\"public\",\"return\",\"political\",\"violent\",\"success\",\"force\",\"create\",\"caught\",\"admit\",\"meant\",\"water\"],\"x1\":{\"__ndarray__\":\"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\",\"dtype\":\"float32\",\"order\":\"little\",\"shape\":[1000]},\"x2\":{\"__ndarray__\":\"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\",\"dtype\":\"float32\",\"order\":\"little\",\"shape\":[1000]}},\"selected\":{\"id\":\"1043\"},\"selection_policy\":{\"id\":\"1042\"}},\"id\":\"1029\",\"type\":\"ColumnDataSource\"},{\"attributes\":{},\"id\":\"1021\",\"type\":\"WheelZoomTool\"},{\"attributes\":{},\"id\":\"1022\",\"type\":\"ResetTool\"},{\"attributes\":{},\"id\":\"1023\",\"type\":\"SaveTool\"},{\"attributes\":{},\"id\":\"1041\",\"type\":\"BasicTickFormatter\"},{\"attributes\":{\"fill_color\":{\"value\":\"#1f77b4\"},\"line_color\":{\"value\":\"#1f77b4\"},\"size\":{\"units\":\"screen\",\"value\":8},\"x\":{\"field\":\"x1\"},\"y\":{\"field\":\"x2\"}},\"id\":\"1031\",\"type\":\"Scatter\"},{\"attributes\":{\"text\":\"word2vec T-SNE (eng model, top1000 words)\"},\"id\":\"1002\",\"type\":\"Title\"},{\"attributes\":{\"active_drag\":\"auto\",\"active_inspect\":\"auto\",\"active_multi\":null,\"active_scroll\":\"auto\",\"active_tap\":\"auto\",\"tools\":[{\"id\":\"1020\"},{\"id\":\"1021\"},{\"id\":\"1022\"},{\"id\":\"1023\"}]},\"id\":\"1024\",\"type\":\"Toolbar\"},{\"attributes\":{},\"id\":\"1004\",\"type\":\"DataRange1d\"},{\"attributes\":{},\"id\":\"1006\",\"type\":\"DataRange1d\"},{\"attributes\":{\"fill_alpha\":{\"value\":0.1},\"fill_color\":{\"value\":\"#1f77b4\"},\"line_alpha\":{\"value\":0.1},\"line_color\":{\"value\":\"#1f77b4\"},\"size\":{\"units\":\"screen\",\"value\":8},\"x\":{\"field\":\"x1\"},\"y\":{\"field\":\"x2\"}},\"id\":\"1032\",\"type\":\"Scatter\"},{\"attributes\":{},\"id\":\"1008\",\"type\":\"LinearScale\"},{\"attributes\":{},\"id\":\"1010\",\"type\":\"LinearScale\"},{\"attributes\":{\"data_source\":{\"id\":\"1029\"},\"glyph\":{\"id\":\"1031\"},\"hover_glyph\":null,\"muted_glyph\":null,\"nonselection_glyph\":{\"id\":\"1032\"},\"selection_glyph\":null,\"view\":{\"id\":\"1034\"}},\"id\":\"1033\",\"type\":\"GlyphRenderer\"},{\"attributes\":{\"formatter\":{\"id\":\"1041\"},\"ticker\":{\"id\":\"1013\"}},\"id\":\"1012\",\"type\":\"LinearAxis\"},{\"attributes\":{},\"id\":\"1013\",\"type\":\"BasicTicker\"},{\"attributes\":{\"axis\":{\"id\":\"1012\"},\"ticker\":null},\"id\":\"1015\",\"type\":\"Grid\"},{\"attributes\":{\"formatter\":{\"id\":\"1039\"},\"ticker\":{\"id\":\"1017\"}},\"id\":\"1016\",\"type\":\"LinearAxis\"}],\"root_ids\":[\"1001\"]},\"title\":\"Bokeh Application\",\"version\":\"2.1.1\"}};\n",
              "  var render_items = [{\"docid\":\"e3a670ec-ae1e-466c-bd62-6b055452f28b\",\"root_ids\":[\"1001\"],\"roots\":{\"1001\":\"279624d0-6012-4b07-abe0-da6497e24cf1\"}}];\n",
              "  root.Bokeh.embed.embed_items_notebook(docs_json, render_items);\n",
              "\n",
              "  }\n",
              "  if (root.Bokeh !== undefined) {\n",
              "    embed_document(root);\n",
              "  } else {\n",
              "    var attempts = 0;\n",
              "    var timer = setInterval(function(root) {\n",
              "      if (root.Bokeh !== undefined) {\n",
              "        clearInterval(timer);\n",
              "        embed_document(root);\n",
              "      } else {\n",
              "        attempts++;\n",
              "        if (attempts > 100) {\n",
              "          clearInterval(timer);\n",
              "          console.log(\"Bokeh: ERROR: Unable to run BokehJS code because BokehJS library is missing\");\n",
              "        }\n",
              "      }\n",
              "    }, 10, root)\n",
              "  }\n",
              "})(window);"
            ],
            "application/vnd.bokehjs_exec.v0+json": ""
          },
          "metadata": {
            "tags": [],
            "application/vnd.bokehjs_exec.v0+json": {
              "id": "1001"
            }
          }
        }
      ]
    },
    {
      "cell_type": "markdown",
      "metadata": {
        "id": "2Szes63RX-sl"
      },
      "source": [
        "Чтобы вычислить преобразование t-SNE быстрее (и иногда еще и эффективнее), можно сперва снизить размерность исходных данных с помощью, например, SVD (singular value decomposition, сингулярное разлолжение матрицы), и потом применять t-SNE.\n",
        "\n",
        "Понизим размерность наших векторов с исходных 300 до 50 с помощью SVD:\n"
      ]
    },
    {
      "cell_type": "code",
      "metadata": {
        "id": "p0R7hvIfX-sm"
      },
      "source": [
        "# загружаем SVD из библиотеки sklearn\n",
        "from sklearn.decomposition import TruncatedSVD\n",
        "\n",
        "# инициализируем SVD\n",
        "svd_50 = TruncatedSVD(n_components=50)\n",
        "\n",
        "# обучаем и применяем разложение\n",
        "top_words_vec_50 = svd_50.fit_transform(top_words_vec)\n",
        "\n",
        "# обучаем и применяем TSNE\n",
        "top_words_tsne2 = TSNE(n_components=2, random_state=0).fit_transform(top_words_vec_50)"
      ],
      "execution_count": 38,
      "outputs": []
    },
    {
      "cell_type": "markdown",
      "metadata": {
        "id": "uyWn2hUQLNSs"
      },
      "source": [
        "Нарисуем полученный результат:"
      ]
    },
    {
      "cell_type": "code",
      "metadata": {
        "id": "zpUJyJibX-sn",
        "colab": {
          "base_uri": "https://localhost:8080/",
          "height": 617
        },
        "outputId": "5f8a5834-c102-4040-899f-27ad8e5b5ee1"
      },
      "source": [
        "output_notebook()\n",
        "\n",
        "p = figure(tools=\"pan,wheel_zoom,reset,save\",\n",
        "           toolbar_location=\"above\",\n",
        "           title=\"word2vec T-SNE (eng model, top1000 words, +SVD)\")\n",
        "\n",
        "source = ColumnDataSource(data=dict(x1=top_words_tsne2[:,0],\n",
        "                                    x2=top_words_tsne2[:,1],\n",
        "                                    names=top_words))\n",
        "\n",
        "p.scatter(x=\"x1\", y=\"x2\", size=8, source=source)\n",
        "\n",
        "labels = LabelSet(x=\"x1\", y=\"x2\", text=\"names\", y_offset=6,\n",
        "                  text_font_size=\"8pt\", text_color=\"#555555\",\n",
        "                  source=source, text_align='center')\n",
        "p.add_layout(labels)\n",
        "\n",
        "show(p)"
      ],
      "execution_count": 39,
      "outputs": [
        {
          "output_type": "display_data",
          "data": {
            "application/javascript": [
              "\n",
              "(function(root) {\n",
              "  function now() {\n",
              "    return new Date();\n",
              "  }\n",
              "\n",
              "  var force = true;\n",
              "\n",
              "  if (typeof root._bokeh_onload_callbacks === \"undefined\" || force === true) {\n",
              "    root._bokeh_onload_callbacks = [];\n",
              "    root._bokeh_is_loading = undefined;\n",
              "  }\n",
              "\n",
              "  var JS_MIME_TYPE = 'application/javascript';\n",
              "  var HTML_MIME_TYPE = 'text/html';\n",
              "  var EXEC_MIME_TYPE = 'application/vnd.bokehjs_exec.v0+json';\n",
              "  var CLASS_NAME = 'output_bokeh rendered_html';\n",
              "\n",
              "  /**\n",
              "   * Render data to the DOM node\n",
              "   */\n",
              "  function render(props, node) {\n",
              "    var script = document.createElement(\"script\");\n",
              "    node.appendChild(script);\n",
              "  }\n",
              "\n",
              "  /**\n",
              "   * Handle when an output is cleared or removed\n",
              "   */\n",
              "  function handleClearOutput(event, handle) {\n",
              "    var cell = handle.cell;\n",
              "\n",
              "    var id = cell.output_area._bokeh_element_id;\n",
              "    var server_id = cell.output_area._bokeh_server_id;\n",
              "    // Clean up Bokeh references\n",
              "    if (id != null && id in Bokeh.index) {\n",
              "      Bokeh.index[id].model.document.clear();\n",
              "      delete Bokeh.index[id];\n",
              "    }\n",
              "\n",
              "    if (server_id !== undefined) {\n",
              "      // Clean up Bokeh references\n",
              "      var cmd = \"from bokeh.io.state import curstate; print(curstate().uuid_to_server['\" + server_id + \"'].get_sessions()[0].document.roots[0]._id)\";\n",
              "      cell.notebook.kernel.execute(cmd, {\n",
              "        iopub: {\n",
              "          output: function(msg) {\n",
              "            var id = msg.content.text.trim();\n",
              "            if (id in Bokeh.index) {\n",
              "              Bokeh.index[id].model.document.clear();\n",
              "              delete Bokeh.index[id];\n",
              "            }\n",
              "          }\n",
              "        }\n",
              "      });\n",
              "      // Destroy server and session\n",
              "      var cmd = \"import bokeh.io.notebook as ion; ion.destroy_server('\" + server_id + \"')\";\n",
              "      cell.notebook.kernel.execute(cmd);\n",
              "    }\n",
              "  }\n",
              "\n",
              "  /**\n",
              "   * Handle when a new output is added\n",
              "   */\n",
              "  function handleAddOutput(event, handle) {\n",
              "    var output_area = handle.output_area;\n",
              "    var output = handle.output;\n",
              "\n",
              "    // limit handleAddOutput to display_data with EXEC_MIME_TYPE content only\n",
              "    if ((output.output_type != \"display_data\") || (!output.data.hasOwnProperty(EXEC_MIME_TYPE))) {\n",
              "      return\n",
              "    }\n",
              "\n",
              "    var toinsert = output_area.element.find(\".\" + CLASS_NAME.split(' ')[0]);\n",
              "\n",
              "    if (output.metadata[EXEC_MIME_TYPE][\"id\"] !== undefined) {\n",
              "      toinsert[toinsert.length - 1].firstChild.textContent = output.data[JS_MIME_TYPE];\n",
              "      // store reference to embed id on output_area\n",
              "      output_area._bokeh_element_id = output.metadata[EXEC_MIME_TYPE][\"id\"];\n",
              "    }\n",
              "    if (output.metadata[EXEC_MIME_TYPE][\"server_id\"] !== undefined) {\n",
              "      var bk_div = document.createElement(\"div\");\n",
              "      bk_div.innerHTML = output.data[HTML_MIME_TYPE];\n",
              "      var script_attrs = bk_div.children[0].attributes;\n",
              "      for (var i = 0; i < script_attrs.length; i++) {\n",
              "        toinsert[toinsert.length - 1].firstChild.setAttribute(script_attrs[i].name, script_attrs[i].value);\n",
              "        toinsert[toinsert.length - 1].firstChild.textContent = bk_div.children[0].textContent\n",
              "      }\n",
              "      // store reference to server id on output_area\n",
              "      output_area._bokeh_server_id = output.metadata[EXEC_MIME_TYPE][\"server_id\"];\n",
              "    }\n",
              "  }\n",
              "\n",
              "  function register_renderer(events, OutputArea) {\n",
              "\n",
              "    function append_mime(data, metadata, element) {\n",
              "      // create a DOM node to render to\n",
              "      var toinsert = this.create_output_subarea(\n",
              "        metadata,\n",
              "        CLASS_NAME,\n",
              "        EXEC_MIME_TYPE\n",
              "      );\n",
              "      this.keyboard_manager.register_events(toinsert);\n",
              "      // Render to node\n",
              "      var props = {data: data, metadata: metadata[EXEC_MIME_TYPE]};\n",
              "      render(props, toinsert[toinsert.length - 1]);\n",
              "      element.append(toinsert);\n",
              "      return toinsert\n",
              "    }\n",
              "\n",
              "    /* Handle when an output is cleared or removed */\n",
              "    events.on('clear_output.CodeCell', handleClearOutput);\n",
              "    events.on('delete.Cell', handleClearOutput);\n",
              "\n",
              "    /* Handle when a new output is added */\n",
              "    events.on('output_added.OutputArea', handleAddOutput);\n",
              "\n",
              "    /**\n",
              "     * Register the mime type and append_mime function with output_area\n",
              "     */\n",
              "    OutputArea.prototype.register_mime_type(EXEC_MIME_TYPE, append_mime, {\n",
              "      /* Is output safe? */\n",
              "      safe: true,\n",
              "      /* Index of renderer in `output_area.display_order` */\n",
              "      index: 0\n",
              "    });\n",
              "  }\n",
              "\n",
              "  // register the mime type if in Jupyter Notebook environment and previously unregistered\n",
              "  if (root.Jupyter !== undefined) {\n",
              "    var events = require('base/js/events');\n",
              "    var OutputArea = require('notebook/js/outputarea').OutputArea;\n",
              "\n",
              "    if (OutputArea.prototype.mime_types().indexOf(EXEC_MIME_TYPE) == -1) {\n",
              "      register_renderer(events, OutputArea);\n",
              "    }\n",
              "  }\n",
              "\n",
              "  \n",
              "  if (typeof (root._bokeh_timeout) === \"undefined\" || force === true) {\n",
              "    root._bokeh_timeout = Date.now() + 5000;\n",
              "    root._bokeh_failed_load = false;\n",
              "  }\n",
              "\n",
              "  var NB_LOAD_WARNING = {'data': {'text/html':\n",
              "     \"<div style='background-color: #fdd'>\\n\"+\n",
              "     \"<p>\\n\"+\n",
              "     \"BokehJS does not appear to have successfully loaded. If loading BokehJS from CDN, this \\n\"+\n",
              "     \"may be due to a slow or bad network connection. Possible fixes:\\n\"+\n",
              "     \"</p>\\n\"+\n",
              "     \"<ul>\\n\"+\n",
              "     \"<li>re-rerun `output_notebook()` to attempt to load from CDN again, or</li>\\n\"+\n",
              "     \"<li>use INLINE resources instead, as so:</li>\\n\"+\n",
              "     \"</ul>\\n\"+\n",
              "     \"<code>\\n\"+\n",
              "     \"from bokeh.resources import INLINE\\n\"+\n",
              "     \"output_notebook(resources=INLINE)\\n\"+\n",
              "     \"</code>\\n\"+\n",
              "     \"</div>\"}};\n",
              "\n",
              "  function display_loaded() {\n",
              "    var el = document.getElementById(null);\n",
              "    if (el != null) {\n",
              "      el.textContent = \"BokehJS is loading...\";\n",
              "    }\n",
              "    if (root.Bokeh !== undefined) {\n",
              "      if (el != null) {\n",
              "        el.textContent = \"BokehJS \" + root.Bokeh.version + \" successfully loaded.\";\n",
              "      }\n",
              "    } else if (Date.now() < root._bokeh_timeout) {\n",
              "      setTimeout(display_loaded, 100)\n",
              "    }\n",
              "  }\n",
              "\n",
              "\n",
              "  function run_callbacks() {\n",
              "    try {\n",
              "      root._bokeh_onload_callbacks.forEach(function(callback) {\n",
              "        if (callback != null)\n",
              "          callback();\n",
              "      });\n",
              "    } finally {\n",
              "      delete root._bokeh_onload_callbacks\n",
              "    }\n",
              "    console.debug(\"Bokeh: all callbacks have finished\");\n",
              "  }\n",
              "\n",
              "  function load_libs(css_urls, js_urls, callback) {\n",
              "    if (css_urls == null) css_urls = [];\n",
              "    if (js_urls == null) js_urls = [];\n",
              "\n",
              "    root._bokeh_onload_callbacks.push(callback);\n",
              "    if (root._bokeh_is_loading > 0) {\n",
              "      console.debug(\"Bokeh: BokehJS is being loaded, scheduling callback at\", now());\n",
              "      return null;\n",
              "    }\n",
              "    if (js_urls == null || js_urls.length === 0) {\n",
              "      run_callbacks();\n",
              "      return null;\n",
              "    }\n",
              "    console.debug(\"Bokeh: BokehJS not loaded, scheduling load and callback at\", now());\n",
              "    root._bokeh_is_loading = css_urls.length + js_urls.length;\n",
              "\n",
              "    function on_load() {\n",
              "      root._bokeh_is_loading--;\n",
              "      if (root._bokeh_is_loading === 0) {\n",
              "        console.debug(\"Bokeh: all BokehJS libraries/stylesheets loaded\");\n",
              "        run_callbacks()\n",
              "      }\n",
              "    }\n",
              "\n",
              "    function on_error() {\n",
              "      console.error(\"failed to load \" + url);\n",
              "    }\n",
              "\n",
              "    for (var i = 0; i < css_urls.length; i++) {\n",
              "      var url = css_urls[i];\n",
              "      const element = document.createElement(\"link\");\n",
              "      element.onload = on_load;\n",
              "      element.onerror = on_error;\n",
              "      element.rel = \"stylesheet\";\n",
              "      element.type = \"text/css\";\n",
              "      element.href = url;\n",
              "      console.debug(\"Bokeh: injecting link tag for BokehJS stylesheet: \", url);\n",
              "      document.body.appendChild(element);\n",
              "    }\n",
              "\n",
              "    const hashes = {\"https://cdn.bokeh.org/bokeh/release/bokeh-2.1.1.min.js\": \"kLr4fYcqcSpbuI95brIH3vnnYCquzzSxHPU6XGQCIkQRGJwhg0StNbj1eegrHs12\", \"https://cdn.bokeh.org/bokeh/release/bokeh-widgets-2.1.1.min.js\": \"xIGPmVtaOm+z0BqfSOMn4lOR6ciex448GIKG4eE61LsAvmGj48XcMQZtKcE/UXZe\", \"https://cdn.bokeh.org/bokeh/release/bokeh-tables-2.1.1.min.js\": \"Dc9u1wF/0zApGIWoBbH77iWEHtdmkuYWG839Uzmv8y8yBLXebjO9ZnERsde5Ln/P\", \"https://cdn.bokeh.org/bokeh/release/bokeh-gl-2.1.1.min.js\": \"cT9JaBz7GiRXdENrJLZNSC6eMNF3nh3fa5fTF51Svp+ukxPdwcU5kGXGPBgDCa2j\"};\n",
              "\n",
              "    for (var i = 0; i < js_urls.length; i++) {\n",
              "      var url = js_urls[i];\n",
              "      var element = document.createElement('script');\n",
              "      element.onload = on_load;\n",
              "      element.onerror = on_error;\n",
              "      element.async = false;\n",
              "      element.src = url;\n",
              "      if (url in hashes) {\n",
              "        element.crossOrigin = \"anonymous\";\n",
              "        element.integrity = \"sha384-\" + hashes[url];\n",
              "      }\n",
              "      console.debug(\"Bokeh: injecting script tag for BokehJS library: \", url);\n",
              "      document.head.appendChild(element);\n",
              "    }\n",
              "  };\n",
              "\n",
              "  function inject_raw_css(css) {\n",
              "    const element = document.createElement(\"style\");\n",
              "    element.appendChild(document.createTextNode(css));\n",
              "    document.body.appendChild(element);\n",
              "  }\n",
              "\n",
              "  \n",
              "  var js_urls = [\"https://cdn.bokeh.org/bokeh/release/bokeh-2.1.1.min.js\", \"https://cdn.bokeh.org/bokeh/release/bokeh-widgets-2.1.1.min.js\", \"https://cdn.bokeh.org/bokeh/release/bokeh-tables-2.1.1.min.js\", \"https://cdn.bokeh.org/bokeh/release/bokeh-gl-2.1.1.min.js\"];\n",
              "  var css_urls = [];\n",
              "  \n",
              "\n",
              "  var inline_js = [\n",
              "    function(Bokeh) {\n",
              "      Bokeh.set_log_level(\"info\");\n",
              "    },\n",
              "    function(Bokeh) {\n",
              "    \n",
              "    \n",
              "    }\n",
              "  ];\n",
              "\n",
              "  function run_inline_js() {\n",
              "    \n",
              "    if (root.Bokeh !== undefined || force === true) {\n",
              "      \n",
              "    for (var i = 0; i < inline_js.length; i++) {\n",
              "      inline_js[i].call(root, root.Bokeh);\n",
              "    }\n",
              "    } else if (Date.now() < root._bokeh_timeout) {\n",
              "      setTimeout(run_inline_js, 100);\n",
              "    } else if (!root._bokeh_failed_load) {\n",
              "      console.log(\"Bokeh: BokehJS failed to load within specified timeout.\");\n",
              "      root._bokeh_failed_load = true;\n",
              "    } else if (force !== true) {\n",
              "      var cell = $(document.getElementById(null)).parents('.cell').data().cell;\n",
              "      cell.output_area.append_execute_result(NB_LOAD_WARNING)\n",
              "    }\n",
              "\n",
              "  }\n",
              "\n",
              "  if (root._bokeh_is_loading === 0) {\n",
              "    console.debug(\"Bokeh: BokehJS loaded, going straight to plotting\");\n",
              "    run_inline_js();\n",
              "  } else {\n",
              "    load_libs(css_urls, js_urls, function() {\n",
              "      console.debug(\"Bokeh: BokehJS plotting callback run at\", now());\n",
              "      run_inline_js();\n",
              "    });\n",
              "  }\n",
              "}(window));"
            ],
            "application/vnd.bokehjs_load.v0+json": "\n(function(root) {\n  function now() {\n    return new Date();\n  }\n\n  var force = true;\n\n  if (typeof root._bokeh_onload_callbacks === \"undefined\" || force === true) {\n    root._bokeh_onload_callbacks = [];\n    root._bokeh_is_loading = undefined;\n  }\n\n  \n\n  \n  if (typeof (root._bokeh_timeout) === \"undefined\" || force === true) {\n    root._bokeh_timeout = Date.now() + 5000;\n    root._bokeh_failed_load = false;\n  }\n\n  var NB_LOAD_WARNING = {'data': {'text/html':\n     \"<div style='background-color: #fdd'>\\n\"+\n     \"<p>\\n\"+\n     \"BokehJS does not appear to have successfully loaded. If loading BokehJS from CDN, this \\n\"+\n     \"may be due to a slow or bad network connection. Possible fixes:\\n\"+\n     \"</p>\\n\"+\n     \"<ul>\\n\"+\n     \"<li>re-rerun `output_notebook()` to attempt to load from CDN again, or</li>\\n\"+\n     \"<li>use INLINE resources instead, as so:</li>\\n\"+\n     \"</ul>\\n\"+\n     \"<code>\\n\"+\n     \"from bokeh.resources import INLINE\\n\"+\n     \"output_notebook(resources=INLINE)\\n\"+\n     \"</code>\\n\"+\n     \"</div>\"}};\n\n  function display_loaded() {\n    var el = document.getElementById(null);\n    if (el != null) {\n      el.textContent = \"BokehJS is loading...\";\n    }\n    if (root.Bokeh !== undefined) {\n      if (el != null) {\n        el.textContent = \"BokehJS \" + root.Bokeh.version + \" successfully loaded.\";\n      }\n    } else if (Date.now() < root._bokeh_timeout) {\n      setTimeout(display_loaded, 100)\n    }\n  }\n\n\n  function run_callbacks() {\n    try {\n      root._bokeh_onload_callbacks.forEach(function(callback) {\n        if (callback != null)\n          callback();\n      });\n    } finally {\n      delete root._bokeh_onload_callbacks\n    }\n    console.debug(\"Bokeh: all callbacks have finished\");\n  }\n\n  function load_libs(css_urls, js_urls, callback) {\n    if (css_urls == null) css_urls = [];\n    if (js_urls == null) js_urls = [];\n\n    root._bokeh_onload_callbacks.push(callback);\n    if (root._bokeh_is_loading > 0) {\n      console.debug(\"Bokeh: BokehJS is being loaded, scheduling callback at\", now());\n      return null;\n    }\n    if (js_urls == null || js_urls.length === 0) {\n      run_callbacks();\n      return null;\n    }\n    console.debug(\"Bokeh: BokehJS not loaded, scheduling load and callback at\", now());\n    root._bokeh_is_loading = css_urls.length + js_urls.length;\n\n    function on_load() {\n      root._bokeh_is_loading--;\n      if (root._bokeh_is_loading === 0) {\n        console.debug(\"Bokeh: all BokehJS libraries/stylesheets loaded\");\n        run_callbacks()\n      }\n    }\n\n    function on_error() {\n      console.error(\"failed to load \" + url);\n    }\n\n    for (var i = 0; i < css_urls.length; i++) {\n      var url = css_urls[i];\n      const element = document.createElement(\"link\");\n      element.onload = on_load;\n      element.onerror = on_error;\n      element.rel = \"stylesheet\";\n      element.type = \"text/css\";\n      element.href = url;\n      console.debug(\"Bokeh: injecting link tag for BokehJS stylesheet: \", url);\n      document.body.appendChild(element);\n    }\n\n    const hashes = {\"https://cdn.bokeh.org/bokeh/release/bokeh-2.1.1.min.js\": \"kLr4fYcqcSpbuI95brIH3vnnYCquzzSxHPU6XGQCIkQRGJwhg0StNbj1eegrHs12\", \"https://cdn.bokeh.org/bokeh/release/bokeh-widgets-2.1.1.min.js\": \"xIGPmVtaOm+z0BqfSOMn4lOR6ciex448GIKG4eE61LsAvmGj48XcMQZtKcE/UXZe\", \"https://cdn.bokeh.org/bokeh/release/bokeh-tables-2.1.1.min.js\": \"Dc9u1wF/0zApGIWoBbH77iWEHtdmkuYWG839Uzmv8y8yBLXebjO9ZnERsde5Ln/P\", \"https://cdn.bokeh.org/bokeh/release/bokeh-gl-2.1.1.min.js\": \"cT9JaBz7GiRXdENrJLZNSC6eMNF3nh3fa5fTF51Svp+ukxPdwcU5kGXGPBgDCa2j\"};\n\n    for (var i = 0; i < js_urls.length; i++) {\n      var url = js_urls[i];\n      var element = document.createElement('script');\n      element.onload = on_load;\n      element.onerror = on_error;\n      element.async = false;\n      element.src = url;\n      if (url in hashes) {\n        element.crossOrigin = \"anonymous\";\n        element.integrity = \"sha384-\" + hashes[url];\n      }\n      console.debug(\"Bokeh: injecting script tag for BokehJS library: \", url);\n      document.head.appendChild(element);\n    }\n  };\n\n  function inject_raw_css(css) {\n    const element = document.createElement(\"style\");\n    element.appendChild(document.createTextNode(css));\n    document.body.appendChild(element);\n  }\n\n  \n  var js_urls = [\"https://cdn.bokeh.org/bokeh/release/bokeh-2.1.1.min.js\", \"https://cdn.bokeh.org/bokeh/release/bokeh-widgets-2.1.1.min.js\", \"https://cdn.bokeh.org/bokeh/release/bokeh-tables-2.1.1.min.js\", \"https://cdn.bokeh.org/bokeh/release/bokeh-gl-2.1.1.min.js\"];\n  var css_urls = [];\n  \n\n  var inline_js = [\n    function(Bokeh) {\n      Bokeh.set_log_level(\"info\");\n    },\n    function(Bokeh) {\n    \n    \n    }\n  ];\n\n  function run_inline_js() {\n    \n    if (root.Bokeh !== undefined || force === true) {\n      \n    for (var i = 0; i < inline_js.length; i++) {\n      inline_js[i].call(root, root.Bokeh);\n    }\n    } else if (Date.now() < root._bokeh_timeout) {\n      setTimeout(run_inline_js, 100);\n    } else if (!root._bokeh_failed_load) {\n      console.log(\"Bokeh: BokehJS failed to load within specified timeout.\");\n      root._bokeh_failed_load = true;\n    } else if (force !== true) {\n      var cell = $(document.getElementById(null)).parents('.cell').data().cell;\n      cell.output_area.append_execute_result(NB_LOAD_WARNING)\n    }\n\n  }\n\n  if (root._bokeh_is_loading === 0) {\n    console.debug(\"Bokeh: BokehJS loaded, going straight to plotting\");\n    run_inline_js();\n  } else {\n    load_libs(css_urls, js_urls, function() {\n      console.debug(\"Bokeh: BokehJS plotting callback run at\", now());\n      run_inline_js();\n    });\n  }\n}(window));"
          },
          "metadata": {
            "tags": []
          }
        },
        {
          "output_type": "display_data",
          "data": {
            "text/html": [
              "\n",
              "\n",
              "\n",
              "\n",
              "\n",
              "\n",
              "  <div class=\"bk-root\" id=\"cf3570c9-cc65-4a99-9897-e8f44cff5a95\" data-root-id=\"1086\"></div>\n"
            ]
          },
          "metadata": {
            "tags": []
          }
        },
        {
          "output_type": "display_data",
          "data": {
            "application/javascript": [
              "(function(root) {\n",
              "  function embed_document(root) {\n",
              "    \n",
              "  var docs_json = {\"d786a145-c678-4f98-802a-bf589cca31b3\":{\"roots\":{\"references\":[{\"attributes\":{\"below\":[{\"id\":\"1097\"}],\"center\":[{\"id\":\"1100\"},{\"id\":\"1104\"},{\"id\":\"1120\"}],\"left\":[{\"id\":\"1101\"}],\"renderers\":[{\"id\":\"1118\"}],\"title\":{\"id\":\"1087\"},\"toolbar\":{\"id\":\"1109\"},\"toolbar_location\":\"above\",\"x_range\":{\"id\":\"1089\"},\"x_scale\":{\"id\":\"1093\"},\"y_range\":{\"id\":\"1091\"},\"y_scale\":{\"id\":\"1095\"}},\"id\":\"1086\",\"subtype\":\"Figure\",\"type\":\"Plot\"},{\"attributes\":{},\"id\":\"1135\",\"type\":\"Selection\"},{\"attributes\":{\"data\":{\"names\":[\"the\",\"and\",\"a\",\"of\",\"to\",\"is\",\"it\",\"in\",\"i\",\"this\",\"that\",\"s\",\"was\",\"as\",\"with\",\"for\",\"movie\",\"but\",\"film\",\"you\",\"t\",\"on\",\"not\",\"he\",\"are\",\"his\",\"have\",\"be\",\"one\",\"all\",\"they\",\"at\",\"by\",\"who\",\"an\",\"from\",\"so\",\"like\",\"there\",\"or\",\"her\",\"just\",\"about\",\"out\",\"has\",\"if\",\"what\",\"some\",\"good\",\"can\",\"when\",\"more\",\"very\",\"she\",\"up\",\"no\",\"time\",\"even\",\"would\",\"their\",\"my\",\"which\",\"story\",\"only\",\"really\",\"see\",\"had\",\"were\",\"well\",\"me\",\"we\",\"than\",\"much\",\"bad\",\"been\",\"get\",\"people\",\"great\",\"into\",\"also\",\"do\",\"other\",\"first\",\"will\",\"him\",\"because\",\"most\",\"how\",\"don\",\"them\",\"make\",\"its\",\"made\",\"way\",\"could\",\"then\",\"too\",\"movies\",\"after\",\"any\",\"characters\",\"character\",\"films\",\"two\",\"think\",\"watch\",\"being\",\"plot\",\"many\",\"where\",\"never\",\"love\",\"seen\",\"little\",\"life\",\"acting\",\"best\",\"did\",\"off\",\"know\",\"over\",\"ever\",\"does\",\"show\",\"better\",\"man\",\"your\",\"end\",\"here\",\"scene\",\"while\",\"these\",\"why\",\"still\",\"scenes\",\"something\",\"say\",\"go\",\"m\",\"ve\",\"should\",\"back\",\"such\",\"real\",\"through\",\"those\",\"now\",\"re\",\"doesn\",\"watching\",\"thing\",\"director\",\"funny\",\"though\",\"years\",\"didn\",\"another\",\"actors\",\"new\",\"going\",\"old\",\"makes\",\"nothing\",\"actually\",\"before\",\"work\",\"look\",\"same\",\"find\",\"lot\",\"part\",\"few\",\"every\",\"again\",\"world\",\"action\",\"cast\",\"horror\",\"things\",\"us\",\"quite\",\"want\",\"down\",\"pretty\",\"young\",\"fact\",\"around\",\"seems\",\"enough\",\"both\",\"take\",\"long\",\"however\",\"thought\",\"got\",\"own\",\"give\",\"comedy\",\"between\",\"big\",\"d\",\"must\",\"series\",\"right\",\"may\",\"without\",\"role\",\"guy\",\"original\",\"interesting\",\"whole\",\"come\",\"isn\",\"times\",\"always\",\"saw\",\"least\",\"bit\",\"gets\",\"almost\",\"script\",\"point\",\"last\",\"music\",\"done\",\"minutes\",\"feel\",\"far\",\"since\",\"girl\",\"ll\",\"yet\",\"might\",\"making\",\"performance\",\"away\",\"family\",\"anything\",\"am\",\"probably\",\"hard\",\"woman\",\"tv\",\"kind\",\"fun\",\"rather\",\"day\",\"played\",\"worst\",\"each\",\"found\",\"sure\",\"anyone\",\"especially\",\"trying\",\"having\",\"our\",\"screen\",\"looking\",\"different\",\"believe\",\"sense\",\"place\",\"american\",\"although\",\"ending\",\"goes\",\"worth\",\"course\",\"set\",\"shows\",\"maybe\",\"three\",\"comes\",\"dvd\",\"money\",\"once\",\"everything\",\"plays\",\"effects\",\"put\",\"john\",\"looks\",\"actor\",\"main\",\"together\",\"during\",\"someone\",\"let\",\"wasn\",\"instead\",\"everyone\",\"war\",\"year\",\"reason\",\"takes\",\"special\",\"said\",\"true\",\"high\",\"night\",\"book\",\"seem\",\"job\",\"play\",\"watched\",\"audience\",\"later\",\"wife\",\"black\",\"death\",\"himself\",\"star\",\"half\",\"seeing\",\"used\",\"idea\",\"dead\",\"second\",\"men\",\"left\",\"excellent\",\"simply\",\"shot\",\"else\",\"beautiful\",\"sex\",\"completely\",\"budget\",\"father\",\"women\",\"mind\",\"house\",\"hollywood\",\"poor\",\"less\",\"fan\",\"along\",\"boring\",\"performances\",\"home\",\"line\",\"help\",\"nice\",\"try\",\"couple\",\"top\",\"version\",\"until\",\"either\",\"low\",\"next\",\"camera\",\"use\",\"friends\",\"short\",\"wrong\",\"start\",\"kids\",\"given\",\"mother\",\"read\",\"need\",\"full\",\"enjoy\",\"production\",\"classic\",\"perhaps\",\"school\",\"moments\",\"truly\",\"stupid\",\"keep\",\"awful\",\"getting\",\"rest\",\"video\",\"face\",\"tell\",\"mean\",\"others\",\"itself\",\"understand\",\"boy\",\"terrible\",\"small\",\"name\",\"style\",\"came\",\"won\",\"playing\",\"recommend\",\"doing\",\"lost\",\"person\",\"definitely\",\"gives\",\"dialogue\",\"entertaining\",\"wonderful\",\"often\",\"live\",\"lines\",\"hope\",\"went\",\"stars\",\"case\",\"remember\",\"written\",\"couldn\",\"head\",\"early\",\"title\",\"yes\",\"human\",\"perfect\",\"become\",\"based\",\"friend\",\"children\",\"certainly\",\"liked\",\"problem\",\"drama\",\"son\",\"picture\",\"several\",\"fans\",\"under\",\"lead\",\"laugh\",\"oh\",\"humor\",\"guys\",\"supposed\",\"direction\",\"against\",\"absolutely\",\"overall\",\"sort\",\"piece\",\"episode\",\"finally\",\"game\",\"lives\",\"called\",\"entire\",\"evil\",\"cinema\",\"worse\",\"care\",\"waste\",\"killer\",\"dark\",\"felt\",\"beginning\",\"despite\",\"seemed\",\"genre\",\"final\",\"b\",\"totally\",\"history\",\"wanted\",\"unfortunately\",\"town\",\"throughout\",\"white\",\"city\",\"becomes\",\"able\",\"days\",\"already\",\"turn\",\"guess\",\"run\",\"loved\",\"fine\",\"act\",\"mr\",\"flick\",\"today\",\"horrible\",\"heart\",\"side\",\"hand\",\"kill\",\"tries\",\"wants\",\"starts\",\"quality\",\"killed\",\"past\",\"themselves\",\"child\",\"close\",\"matter\",\"group\",\"sound\",\"turns\",\"daughter\",\"parts\",\"viewer\",\"etc\",\"expect\",\"fight\",\"car\",\"enjoyed\",\"directed\",\"writing\",\"decent\",\"type\",\"violence\",\"stop\",\"example\",\"stuff\",\"self\",\"kid\",\"amazing\",\"behind\",\"soon\",\"blood\",\"favorite\",\"works\",\"known\",\"thinking\",\"gave\",\"obviously\",\"sometimes\",\"hero\",\"eyes\",\"actress\",\"girls\",\"michael\",\"happened\",\"brilliant\",\"stories\",\"except\",\"myself\",\"hour\",\"coming\",\"says\",\"writer\",\"late\",\"husband\",\"extremely\",\"experience\",\"hell\",\"happens\",\"art\",\"heard\",\"police\",\"took\",\"feeling\",\"roles\",\"leave\",\"highly\",\"attempt\",\"taken\",\"interest\",\"wouldn\",\"murder\",\"moment\",\"slow\",\"score\",\"god\",\"including\",\"looked\",\"obvious\",\"involved\",\"living\",\"anyway\",\"robert\",\"david\",\"cool\",\"hours\",\"save\",\"ok\",\"age\",\"voice\",\"o\",\"career\",\"told\",\"across\",\"wonder\",\"none\",\"strong\",\"cut\",\"happen\",\"please\",\"gore\",\"simple\",\"hilarious\",\"brother\",\"important\",\"exactly\",\"power\",\"chance\",\"ago\",\"james\",\"particularly\",\"relationship\",\"documentary\",\"level\",\"complete\",\"light\",\"female\",\"annoying\",\"possible\",\"serious\",\"cannot\",\"hit\",\"crap\",\"sad\",\"running\",\"lack\",\"sequel\",\"talent\",\"usually\",\"whose\",\"basically\",\"reality\",\"ends\",\"seriously\",\"strange\",\"order\",\"finds\",\"call\",\"taking\",\"somewhat\",\"room\",\"happy\",\"silly\",\"scary\",\"middle\",\"turned\",\"alone\",\"apparently\",\"ridiculous\",\"change\",\"clich\",\"country\",\"mostly\",\"attention\",\"miss\",\"four\",\"usual\",\"shown\",\"body\",\"song\",\"wish\",\"jokes\",\"number\",\"opening\",\"released\",\"disappointed\",\"word\",\"jack\",\"thriller\",\"single\",\"opinion\",\"straight\",\"future\",\"english\",\"words\",\"parents\",\"novel\",\"saying\",\"cinematography\",\"yourself\",\"view\",\"cheap\",\"started\",\"french\",\"beyond\",\"huge\",\"talking\",\"non\",\"clearly\",\"sets\",\"talk\",\"major\",\"die\",\"shots\",\"rating\",\"problems\",\"knew\",\"knows\",\"gay\",\"modern\",\"fast\",\"british\",\"due\",\"events\",\"tells\",\"add\",\"bring\",\"comic\",\"clear\",\"ones\",\"above\",\"hate\",\"storyline\",\"york\",\"easy\",\"typical\",\"entertainment\",\"aren\",\"easily\",\"haven\",\"within\",\"local\",\"upon\",\"general\",\"dialog\",\"crime\",\"ten\",\"giving\",\"george\",\"lots\",\"sequence\",\"america\",\"ways\",\"falls\",\"similar\",\"begins\",\"appears\",\"class\",\"near\",\"mystery\",\"named\",\"bunch\",\"filmed\",\"king\",\"elements\",\"romantic\",\"certain\",\"review\",\"team\",\"predictable\",\"working\",\"avoid\",\"stand\",\"de\",\"earth\",\"sorry\",\"th\",\"e\",\"television\",\"mention\",\"enjoyable\",\"supporting\",\"tale\",\"theme\",\"message\",\"points\",\"cop\",\"gone\",\"among\",\"fall\",\"space\",\"tom\",\"viewers\",\"eye\",\"red\",\"truth\",\"leads\",\"surprised\",\"stay\",\"release\",\"kept\",\"minute\",\"richard\",\"five\",\"dull\",\"killing\",\"using\",\"effort\",\"monster\",\"third\",\"brought\",\"musical\",\"feels\",\"suspense\",\"tried\",\"means\",\"whether\",\"comments\",\"sequences\",\"dog\",\"moving\",\"period\",\"peter\",\"lee\",\"needs\",\"doubt\",\"fi\",\"showing\",\"buy\",\"okay\",\"sci\",\"somehow\",\"soundtrack\",\"viewing\",\"rent\",\"herself\",\"nearly\",\"average\",\"songs\",\"theater\",\"episodes\",\"reviews\",\"follow\",\"whatever\",\"surprise\",\"feature\",\"form\",\"move\",\"forget\",\"realistic\",\"believable\",\"free\",\"material\",\"premise\",\"editing\",\"sister\",\"brothers\",\"deep\",\"imagine\",\"gun\",\"forced\",\"famous\",\"poorly\",\"deal\",\"crew\",\"western\",\"indeed\",\"expected\",\"check\",\"possibly\",\"fantastic\",\"lame\",\"society\",\"figure\",\"otherwise\",\"dr\",\"learn\",\"open\",\"paul\",\"eventually\",\"plus\",\"lady\",\"weak\",\"hear\",\"stage\",\"sexual\",\"leaves\",\"question\",\"note\",\"difficult\",\"sit\",\"towards\",\"romance\",\"box\",\"situation\",\"begin\",\"earlier\",\"personal\",\"atmosphere\",\"reading\",\"male\",\"screenplay\",\"wait\",\"decided\",\"joe\",\"battle\",\"interested\",\"powerful\",\"previous\",\"business\",\"greatest\",\"nor\",\"hot\",\"actual\",\"cheesy\",\"became\",\"acted\",\"worked\",\"animation\",\"subject\",\"island\",\"effect\",\"footage\",\"mess\",\"era\",\"oscar\",\"result\",\"meet\",\"rock\",\"credits\",\"features\",\"particular\",\"memorable\",\"whom\",\"boys\",\"air\",\"setting\",\"perfectly\",\"writers\",\"laughs\",\"street\",\"shame\",\"quickly\",\"rich\",\"older\",\"hands\",\"background\",\"keeps\",\"twist\",\"dramatic\",\"bill\",\"total\",\"present\",\"various\",\"appear\",\"pay\",\"telling\",\"directing\",\"william\",\"party\",\"alien\",\"unless\",\"harry\",\"mark\",\"crazy\",\"badly\",\"realize\",\"girlfriend\",\"forward\",\"front\",\"needed\",\"comment\",\"emotional\",\"imdb\",\"development\",\"fighting\",\"secret\",\"break\",\"fairly\",\"unique\",\"c\",\"baby\",\"outside\",\"married\",\"manages\",\"plenty\",\"villain\",\"apart\",\"missing\",\"masterpiece\",\"nature\",\"brings\",\"remake\",\"write\",\"former\",\"superb\",\"weird\",\"doctor\",\"clever\",\"escape\",\"list\",\"incredibly\",\"meets\",\"reasons\",\"hold\",\"created\",\"sounds\",\"sam\",\"inside\",\"unlike\",\"leading\",\"laughing\",\"ideas\",\"japanese\",\"season\",\"prison\",\"directors\",\"copy\",\"cute\",\"public\",\"return\",\"political\",\"violent\",\"success\",\"force\",\"create\",\"caught\",\"admit\",\"meant\",\"water\"],\"x1\":{\"__ndarray__\":\"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\",\"dtype\":\"float32\",\"order\":\"little\",\"shape\":[1000]},\"x2\":{\"__ndarray__\":\"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\",\"dtype\":\"float32\",\"order\":\"little\",\"shape\":[1000]}},\"selected\":{\"id\":\"1135\"},\"selection_policy\":{\"id\":\"1134\"}},\"id\":\"1114\",\"type\":\"ColumnDataSource\"},{\"attributes\":{},\"id\":\"1089\",\"type\":\"DataRange1d\"},{\"attributes\":{},\"id\":\"1095\",\"type\":\"LinearScale\"},{\"attributes\":{\"text\":\"word2vec T-SNE (eng model, top1000 words, +SVD)\"},\"id\":\"1087\",\"type\":\"Title\"},{\"attributes\":{},\"id\":\"1102\",\"type\":\"BasicTicker\"},{\"attributes\":{},\"id\":\"1091\",\"type\":\"DataRange1d\"},{\"attributes\":{\"active_drag\":\"auto\",\"active_inspect\":\"auto\",\"active_multi\":null,\"active_scroll\":\"auto\",\"active_tap\":\"auto\",\"tools\":[{\"id\":\"1105\"},{\"id\":\"1106\"},{\"id\":\"1107\"},{\"id\":\"1108\"}]},\"id\":\"1109\",\"type\":\"Toolbar\"},{\"attributes\":{\"source\":{\"id\":\"1114\"},\"text\":{\"field\":\"names\"},\"text_align\":\"center\",\"text_color\":{\"value\":\"#555555\"},\"text_font_size\":{\"value\":\"8pt\"},\"x\":{\"field\":\"x1\"},\"y\":{\"field\":\"x2\"},\"y_offset\":{\"value\":6}},\"id\":\"1120\",\"type\":\"LabelSet\"},{\"attributes\":{\"axis\":{\"id\":\"1101\"},\"dimension\":1,\"ticker\":null},\"id\":\"1104\",\"type\":\"Grid\"},{\"attributes\":{\"formatter\":{\"id\":\"1131\"},\"ticker\":{\"id\":\"1102\"}},\"id\":\"1101\",\"type\":\"LinearAxis\"},{\"attributes\":{},\"id\":\"1093\",\"type\":\"LinearScale\"},{\"attributes\":{},\"id\":\"1105\",\"type\":\"PanTool\"},{\"attributes\":{\"axis\":{\"id\":\"1097\"},\"ticker\":null},\"id\":\"1100\",\"type\":\"Grid\"},{\"attributes\":{\"formatter\":{\"id\":\"1133\"},\"ticker\":{\"id\":\"1098\"}},\"id\":\"1097\",\"type\":\"LinearAxis\"},{\"attributes\":{},\"id\":\"1098\",\"type\":\"BasicTicker\"},{\"attributes\":{},\"id\":\"1107\",\"type\":\"ResetTool\"},{\"attributes\":{\"source\":{\"id\":\"1114\"}},\"id\":\"1119\",\"type\":\"CDSView\"},{\"attributes\":{},\"id\":\"1106\",\"type\":\"WheelZoomTool\"},{\"attributes\":{\"data_source\":{\"id\":\"1114\"},\"glyph\":{\"id\":\"1116\"},\"hover_glyph\":null,\"muted_glyph\":null,\"nonselection_glyph\":{\"id\":\"1117\"},\"selection_glyph\":null,\"view\":{\"id\":\"1119\"}},\"id\":\"1118\",\"type\":\"GlyphRenderer\"},{\"attributes\":{},\"id\":\"1108\",\"type\":\"SaveTool\"},{\"attributes\":{\"fill_alpha\":{\"value\":0.1},\"fill_color\":{\"value\":\"#1f77b4\"},\"line_alpha\":{\"value\":0.1},\"line_color\":{\"value\":\"#1f77b4\"},\"size\":{\"units\":\"screen\",\"value\":8},\"x\":{\"field\":\"x1\"},\"y\":{\"field\":\"x2\"}},\"id\":\"1117\",\"type\":\"Scatter\"},{\"attributes\":{\"fill_color\":{\"value\":\"#1f77b4\"},\"line_color\":{\"value\":\"#1f77b4\"},\"size\":{\"units\":\"screen\",\"value\":8},\"x\":{\"field\":\"x1\"},\"y\":{\"field\":\"x2\"}},\"id\":\"1116\",\"type\":\"Scatter\"},{\"attributes\":{},\"id\":\"1134\",\"type\":\"UnionRenderers\"},{\"attributes\":{},\"id\":\"1133\",\"type\":\"BasicTickFormatter\"},{\"attributes\":{},\"id\":\"1131\",\"type\":\"BasicTickFormatter\"}],\"root_ids\":[\"1086\"]},\"title\":\"Bokeh Application\",\"version\":\"2.1.1\"}};\n",
              "  var render_items = [{\"docid\":\"d786a145-c678-4f98-802a-bf589cca31b3\",\"root_ids\":[\"1086\"],\"roots\":{\"1086\":\"cf3570c9-cc65-4a99-9897-e8f44cff5a95\"}}];\n",
              "  root.Bokeh.embed.embed_items_notebook(docs_json, render_items);\n",
              "\n",
              "  }\n",
              "  if (root.Bokeh !== undefined) {\n",
              "    embed_document(root);\n",
              "  } else {\n",
              "    var attempts = 0;\n",
              "    var timer = setInterval(function(root) {\n",
              "      if (root.Bokeh !== undefined) {\n",
              "        clearInterval(timer);\n",
              "        embed_document(root);\n",
              "      } else {\n",
              "        attempts++;\n",
              "        if (attempts > 100) {\n",
              "          clearInterval(timer);\n",
              "          console.log(\"Bokeh: ERROR: Unable to run BokehJS code because BokehJS library is missing\");\n",
              "        }\n",
              "      }\n",
              "    }, 10, root)\n",
              "  }\n",
              "})(window);"
            ],
            "application/vnd.bokehjs_exec.v0+json": ""
          },
          "metadata": {
            "tags": [],
            "application/vnd.bokehjs_exec.v0+json": {
              "id": "1086"
            }
          }
        }
      ]
    },
    {
      "cell_type": "markdown",
      "metadata": {
        "id": "9qZcF3nGX-sp"
      },
      "source": [
        "## FastText\n",
        "\n",
        "FastText использует не только эмбеддинги слов, но и эмбеддинги n-грам. В корпусе каждое слово автоматически представляется в виде набора символьных n-грамм. \n",
        "\n",
        "Скажем, если мы установим n=3, то вектор для слова \"where\" будет представлен суммой векторов следующих триграм: \"<wh\", \"whe\", \"her\", \"ere\", \"re>\" (где \"<\" и \">\" символы, обозначающие начало и конец слова). \n",
        "\n",
        "Благодаря этому мы можем также получать вектора для слов, отсутствуюших в словаре, а также эффективно работать с текстами, содержащими ошибки и опечатки.\n",
        "\n",
        "* [Статья](https://aclweb.org/anthology/Q17-1010)\n",
        "* [Сайт](https://fasttext.cc/)\n",
        "* [Тьюториал](https://fasttext.cc/docs/en/support.html)\n",
        "* [Вектора для 157 языков](https://fasttext.cc/docs/en/crawl-vectors.html)\n",
        "* [Вектора, обученные на википедии](https://fasttext.cc/docs/en/pretrained-vectors.html) (отдельно для 294 разных языков)\n",
        "* [Репозиторий](https://github.com/facebookresearch/fasttext)\n",
        "\n",
        "Есть библиотека `fasttext` для питона (с готовыми моделями можно работать и через `gensim`)."
      ]
    },
    {
      "cell_type": "code",
      "metadata": {
        "id": "NvzM2AL7Z8gl",
        "colab": {
          "base_uri": "https://localhost:8080/"
        },
        "outputId": "50bff29b-623a-40cd-ea2f-43dcb8b1d431"
      },
      "source": [
        "# чтобы усатновить fasstext, можно склонировать его с репозитория \n",
        "\n",
        "! git clone https://github.com/facebookresearch/fastText.git\n",
        "! pip3 install fastText/."
      ],
      "execution_count": 40,
      "outputs": [
        {
          "output_type": "stream",
          "text": [
            "Cloning into 'fastText'...\n",
            "remote: Enumerating objects: 3854, done.\u001b[K\n",
            "remote: Total 3854 (delta 0), reused 0 (delta 0), pack-reused 3854\u001b[K\n",
            "Receiving objects: 100% (3854/3854), 8.22 MiB | 5.38 MiB/s, done.\n",
            "Resolving deltas: 100% (2417/2417), done.\n",
            "Processing ./fastText\n",
            "Requirement already satisfied: pybind11>=2.2 in /usr/local/lib/python3.6/dist-packages (from fasttext==0.9.2) (2.6.1)\n",
            "Requirement already satisfied: setuptools>=0.7.0 in /usr/local/lib/python3.6/dist-packages (from fasttext==0.9.2) (50.3.2)\n",
            "Requirement already satisfied: numpy in /usr/local/lib/python3.6/dist-packages (from fasttext==0.9.2) (1.18.5)\n",
            "Building wheels for collected packages: fasttext\n",
            "  Building wheel for fasttext (setup.py) ... \u001b[?25l\u001b[?25hdone\n",
            "  Created wheel for fasttext: filename=fasttext-0.9.2-cp36-cp36m-linux_x86_64.whl size=3037262 sha256=5c7e14aa33aa51748e71f2448bb6837a26e508131779646318393693c7ec6073\n",
            "  Stored in directory: /tmp/pip-ephem-wheel-cache-n17egp0a/wheels/a1/9f/52/696ce6c5c46325e840c76614ee5051458c0df10306987e7443\n",
            "Successfully built fasttext\n",
            "Installing collected packages: fasttext\n",
            "Successfully installed fasttext-0.9.2\n"
          ],
          "name": "stdout"
        }
      ]
    },
    {
      "cell_type": "markdown",
      "metadata": {
        "id": "nNIZPDUYLas4"
      },
      "source": [
        "Обучить свою модель можно аналогично w2v:\n"
      ]
    },
    {
      "cell_type": "code",
      "metadata": {
        "id": "s-IW_cBDX-sp"
      },
      "source": [
        "import fasttext\n",
        "\n",
        "ft_model = fasttext.train_unsupervised('clean_text.txt', minn=3, maxn=4, dim=300)"
      ],
      "execution_count": 41,
      "outputs": []
    },
    {
      "cell_type": "markdown",
      "metadata": {
        "id": "l8DPGBDVLfYc"
      },
      "source": [
        "Посмотрим на вектор для слова \"movie\":"
      ]
    },
    {
      "cell_type": "code",
      "metadata": {
        "id": "NNiuzf4DX-sr",
        "colab": {
          "base_uri": "https://localhost:8080/"
        },
        "outputId": "7273fbc3-5c86-43de-85cb-9dea8359247e"
      },
      "source": [
        "ft_model.get_word_vector(\"movie\")"
      ],
      "execution_count": 42,
      "outputs": [
        {
          "output_type": "execute_result",
          "data": {
            "text/plain": [
              "array([-3.57243493e-02,  1.58063918e-01, -1.31975710e-01, -4.58512418e-02,\n",
              "        1.07560731e-01,  2.17444181e-01, -1.32337660e-01,  2.36562882e-02,\n",
              "        2.35748856e-04,  2.43025094e-01,  3.16724479e-02,  1.34295747e-01,\n",
              "       -3.92858200e-02, -1.53035549e-02,  3.50480936e-02,  5.05375341e-02,\n",
              "        3.09894625e-02, -2.97354937e-01, -1.11680967e-03,  1.60186350e-01,\n",
              "        9.39910933e-02,  6.12168089e-02,  7.73812756e-02, -2.73895264e-02,\n",
              "       -2.06161775e-02, -6.11183990e-04,  1.21513978e-01, -1.09616116e-01,\n",
              "       -1.08716406e-01, -4.59789261e-02,  7.11279437e-02,  1.83442477e-02,\n",
              "        1.14463326e-02,  6.98599890e-02, -5.05972980e-03,  6.63157851e-02,\n",
              "       -6.26043826e-02, -1.02846317e-01, -1.00384094e-01, -4.58281077e-02,\n",
              "        6.26604706e-02,  1.24450661e-01, -7.05418810e-02, -2.00940818e-02,\n",
              "        9.89525095e-02, -5.13858572e-02,  1.43190414e-01, -8.29519033e-02,\n",
              "        5.86603582e-02,  5.74491732e-02,  5.35967126e-02, -8.11504871e-02,\n",
              "       -4.13022004e-02, -4.89385612e-02,  1.47303924e-01, -2.02642471e-01,\n",
              "       -9.69567336e-04, -2.07232889e-02,  6.61429986e-02,  5.12582548e-02,\n",
              "       -3.46167460e-02, -8.70176256e-02, -2.68741492e-02, -1.06329717e-01,\n",
              "       -4.04618196e-02, -1.50380403e-01, -4.02619429e-02,  6.57797083e-02,\n",
              "       -2.69193258e-02, -4.67493162e-02, -4.80095111e-02, -1.32716179e-01,\n",
              "       -1.31028622e-01,  5.54440580e-02,  8.62858742e-02,  1.45042285e-01,\n",
              "        8.71923938e-02, -3.20949927e-02,  1.48978028e-02,  1.93489285e-03,\n",
              "        5.44316769e-02,  1.83029890e-01,  1.45052344e-01,  3.70641015e-02,\n",
              "        1.13238588e-01, -9.07873884e-02,  8.11819881e-02,  9.91018340e-02,\n",
              "        3.17137875e-02, -1.10917144e-01,  3.04320138e-02, -4.55927588e-02,\n",
              "        1.58781216e-01,  9.51287150e-03,  3.97008425e-03, -1.71268210e-01,\n",
              "       -4.06642370e-02, -7.95229003e-02,  6.19767569e-02, -3.35138291e-04,\n",
              "        8.01996291e-02, -2.15760083e-03,  1.11182809e-01, -2.33279597e-02,\n",
              "       -2.03379542e-02,  1.45708084e-01, -5.80861568e-02, -8.04211274e-02,\n",
              "        1.43105373e-01,  6.48506209e-02,  1.31459996e-01, -1.99482329e-02,\n",
              "       -1.71590727e-02, -4.31983843e-02,  4.56410758e-02,  1.36778995e-01,\n",
              "        4.89749461e-02, -8.85981973e-03, -1.28492221e-01,  5.01314662e-02,\n",
              "        1.76036552e-01,  5.67089692e-02, -4.54425141e-02,  6.20641522e-02,\n",
              "       -5.36735775e-03,  3.44185941e-02,  1.58129439e-01,  4.25208025e-02,\n",
              "        6.14861166e-03, -4.33316901e-02,  1.21710241e-01, -5.00650657e-03,\n",
              "        5.16064130e-02,  7.29323998e-02, -1.12134457e-01,  3.87162529e-02,\n",
              "        4.36568260e-02, -5.65001182e-02, -9.12339985e-03, -3.68468165e-02,\n",
              "       -9.82870683e-02, -3.72663327e-02, -1.75505672e-02,  2.09059432e-01,\n",
              "        2.41721924e-02, -2.27678660e-02, -7.67727643e-02,  1.31814167e-01,\n",
              "       -4.75141406e-02, -9.95040312e-02, -2.01240443e-02, -4.20100503e-02,\n",
              "       -4.77649039e-03,  2.49261744e-02,  6.25884756e-02,  2.81689465e-02,\n",
              "       -7.06250593e-02,  1.60410181e-01, -4.61991224e-03,  1.66490674e-02,\n",
              "        1.15990378e-01,  8.75921994e-02,  5.88274486e-02,  4.79529910e-02,\n",
              "        1.51547596e-01,  4.62733693e-02,  1.21005019e-02,  1.43236965e-02,\n",
              "       -3.22300903e-02,  5.85649498e-02, -7.67225325e-02, -5.18948734e-02,\n",
              "       -1.27144873e-01,  9.23194885e-02, -6.87140301e-02, -6.62902836e-03,\n",
              "       -6.68666139e-02, -2.40327101e-02,  1.38832986e-01, -6.80172965e-02,\n",
              "       -1.15417860e-01, -1.38939288e-03,  2.91105509e-02,  4.12131064e-02,\n",
              "        3.26633714e-02,  1.50755957e-01,  1.88048825e-01,  6.43622726e-02,\n",
              "       -2.12058336e-01,  6.26223907e-02,  1.21869761e-02,  5.90685681e-02,\n",
              "        5.27202189e-02, -3.32240909e-02,  1.52026415e-01, -1.02895811e-01,\n",
              "       -1.60907596e-01, -3.00674867e-02,  2.58914661e-02, -8.82051513e-02,\n",
              "        1.84931725e-01,  1.26048774e-01,  8.56592804e-02, -4.08729864e-03,\n",
              "        4.34557609e-02,  6.41868934e-02, -8.14754963e-02,  5.32192402e-02,\n",
              "       -7.81964809e-02, -3.71568999e-03,  5.34816459e-03,  6.29046261e-02,\n",
              "       -1.78521097e-01,  3.91233675e-02, -1.37155697e-01, -2.31767260e-02,\n",
              "       -8.87872502e-02, -2.00256497e-01,  1.28802881e-02, -5.92309348e-02,\n",
              "        3.73778380e-02,  7.36574233e-02,  1.02951102e-01, -3.67718972e-02,\n",
              "       -1.04360357e-01,  1.38254702e-01, -1.03305869e-01, -2.60867011e-02,\n",
              "       -4.51161340e-02,  8.18912610e-02, -1.74232312e-02,  3.14154267e-01,\n",
              "        3.70708480e-02, -2.15460323e-02,  1.56376846e-02,  3.09676714e-02,\n",
              "       -9.33982134e-02,  7.71449273e-03, -4.40897420e-02,  1.05632983e-01,\n",
              "       -1.97907463e-01, -4.35676575e-02,  2.86257006e-02,  3.70986015e-02,\n",
              "        1.77731276e-01, -2.29750350e-01,  1.43632054e-01, -8.06624964e-02,\n",
              "       -5.01213856e-02,  1.72958657e-01, -2.03536659e-01, -2.02668663e-02,\n",
              "       -5.72857037e-02, -2.11207941e-02,  5.28866425e-02, -5.27832983e-03,\n",
              "        1.80434525e-01,  2.00603455e-02,  5.94908092e-03, -1.08605381e-02,\n",
              "       -3.67511855e-03, -4.16590013e-02,  2.40983162e-02,  1.22906864e-01,\n",
              "        7.15216920e-02,  8.89238343e-02, -7.49600306e-02,  6.76286444e-02,\n",
              "       -8.97115003e-03, -5.12092002e-02, -3.12860310e-02,  2.42284145e-02,\n",
              "        1.95348546e-01, -2.76240595e-02, -4.89457771e-02, -7.54649788e-02,\n",
              "        5.95561080e-02,  5.66050000e-02, -5.53822890e-02, -7.30858510e-03,\n",
              "        1.92675158e-01,  2.11838633e-01,  7.56252855e-02, -5.50689101e-02,\n",
              "        2.03147694e-01,  1.57373115e-01, -1.96769424e-02,  1.07339874e-01,\n",
              "        9.32959691e-02,  2.54439283e-03,  4.51713689e-02, -7.40312114e-02,\n",
              "        8.74231830e-02,  6.14446998e-02,  3.08033228e-02,  5.08478880e-02,\n",
              "       -1.10164799e-01,  1.39026985e-01, -3.20530161e-02, -1.12873517e-01],\n",
              "      dtype=float32)"
            ]
          },
          "metadata": {
            "tags": []
          },
          "execution_count": 42
        }
      ]
    },
    {
      "cell_type": "markdown",
      "metadata": {
        "id": "Z08WVXl-Lkx3"
      },
      "source": [
        "Метод ```get_nearest_neighbors``` возвращает самые похожие слова (аналог метода ```most_similar()``` для w2v):"
      ]
    },
    {
      "cell_type": "code",
      "metadata": {
        "id": "TsZnXqH8X-st",
        "colab": {
          "base_uri": "https://localhost:8080/"
        },
        "outputId": "ff112169-33dd-45c6-952d-d95333310cf9"
      },
      "source": [
        "ft_model.get_nearest_neighbors('actor')"
      ],
      "execution_count": 43,
      "outputs": [
        {
          "output_type": "execute_result",
          "data": {
            "text/plain": [
              "[(0.9999606013298035, 'actors'),\n",
              " (0.9999364018440247, 'attractive'),\n",
              " (0.9999338984489441, 'fact'),\n",
              " (0.9999316334724426, 'actual'),\n",
              " (0.9999226331710815, 'display'),\n",
              " (0.9999191761016846, 'terrific'),\n",
              " (0.9999188780784607, 'battle'),\n",
              " (0.9999170899391174, 'israel'),\n",
              " (0.9999163746833801, 'british'),\n",
              " (0.9999160170555115, 'predator')]"
            ]
          },
          "metadata": {
            "tags": []
          },
          "execution_count": 43
        }
      ]
    },
    {
      "cell_type": "markdown",
      "metadata": {
        "id": "1AYmqk4JLz72"
      },
      "source": [
        "С помощью метода ```get_analogues()``` можно получить аналогии:"
      ]
    },
    {
      "cell_type": "code",
      "metadata": {
        "id": "iKR3FzCFX-sv",
        "colab": {
          "base_uri": "https://localhost:8080/"
        },
        "outputId": "3085d3a9-5506-4ac7-cc5c-8420f222c190"
      },
      "source": [
        "ft_model.get_analogies(\"woman\", \"man\", \"actor\")"
      ],
      "execution_count": 44,
      "outputs": [
        {
          "output_type": "execute_result",
          "data": {
            "text/plain": [
              "[(0.999938428401947, 'act'),\n",
              " (0.9998956918716431, 'exactly'),\n",
              " (0.9998955726623535, 'actress'),\n",
              " (0.999885082244873, 'seemingly'),\n",
              " (0.9998830556869507, 'terrible'),\n",
              " (0.9998824596405029, 'surprisingly'),\n",
              " (0.9998821020126343, 'believable'),\n",
              " (0.9998811483383179, 'double'),\n",
              " (0.9998807907104492, 'written'),\n",
              " (0.9998795986175537, 'cable')]"
            ]
          },
          "metadata": {
            "tags": []
          },
          "execution_count": 44
        }
      ]
    },
    {
      "cell_type": "markdown",
      "metadata": {
        "id": "rs7X9dGjL7O7"
      },
      "source": [
        "Проблема с опечатками решена!"
      ]
    },
    {
      "cell_type": "code",
      "metadata": {
        "id": "ttAgMPC_X-sx",
        "colab": {
          "base_uri": "https://localhost:8080/"
        },
        "outputId": "ed9db895-ee38-432d-e9e8-8670cedcb3e8"
      },
      "source": [
        "ft_model.get_nearest_neighbors('actr')"
      ],
      "execution_count": 45,
      "outputs": [
        {
          "output_type": "execute_result",
          "data": {
            "text/plain": [
              "[(0.9999391436576843, 'act'),\n",
              " (0.9998903274536133, 'actors'),\n",
              " (0.9998863339424133, 'actor'),\n",
              " (0.9998792409896851, 'actress'),\n",
              " (0.9998623728752136, 'single'),\n",
              " (0.9998517632484436, 'actual'),\n",
              " (0.9998226761817932, 'terrible'),\n",
              " (0.9998196363449097, 'exact'),\n",
              " (0.9998190402984619, 'plot'),\n",
              " (0.9998172521591187, 'wrong')]"
            ]
          },
          "metadata": {
            "tags": []
          },
          "execution_count": 45
        }
      ]
    },
    {
      "cell_type": "markdown",
      "metadata": {
        "id": "EkftfIJnL-6W"
      },
      "source": [
        "Проблема с out of vocabulary словами тоже решена!\n"
      ]
    },
    {
      "cell_type": "code",
      "metadata": {
        "id": "V9alEdz0X-s0",
        "colab": {
          "base_uri": "https://localhost:8080/"
        },
        "outputId": "05613da2-2553-467c-cbab-b2b23469854b"
      },
      "source": [
        "ft_model.get_nearest_neighbors('moviegeek')"
      ],
      "execution_count": 46,
      "outputs": [
        {
          "output_type": "execute_result",
          "data": {
            "text/plain": [
              "[(0.9999324679374695, 'reviews'),\n",
              " (0.9999246597290039, 'review'),\n",
              " (0.9999151825904846, 'recommended'),\n",
              " (0.9999132752418518, 'rented'),\n",
              " (0.9998916387557983, 'waste'),\n",
              " (0.999889075756073, 'movie'),\n",
              " (0.9998835921287537, 'thank'),\n",
              " (0.9998812079429626, 'not'),\n",
              " (0.9998751878738403, 'watchable'),\n",
              " (0.9998645782470703, 'only')]"
            ]
          },
          "metadata": {
            "tags": []
          },
          "execution_count": 46
        }
      ]
    },
    {
      "cell_type": "markdown",
      "metadata": {
        "id": "a2M62-Vq8b2H"
      },
      "source": [
        "# Бонус*: Применим полученные выше навыки и решим простую задачу анализа тональности твиттов:\n",
        "\n",
        "Проделаем весь пайплайн от сырых текстов до получения обученной модели.\n",
        "Отдельно скачиваем файлы с положительно окрашенными твитами и негативно окрашеннными. \n",
        "Это реальные данные русскоязычного сегмента твиттера.\n"
      ]
    },
    {
      "cell_type": "code",
      "metadata": {
        "id": "HSzVZF3bX-s3",
        "colab": {
          "base_uri": "https://localhost:8080/"
        },
        "outputId": "342b1945-270a-4f52-de61-5e0942896f48"
      },
      "source": [
        "!wget -O positive.csv https://www.dropbox.com/s/fnpq3z4bcnoktiv/positive.csv?dl=0"
      ],
      "execution_count": 47,
      "outputs": [
        {
          "output_type": "stream",
          "text": [
            "--2020-12-05 08:31:44--  https://www.dropbox.com/s/fnpq3z4bcnoktiv/positive.csv?dl=0\n",
            "Resolving www.dropbox.com (www.dropbox.com)... 162.125.82.1, 2620:100:6032:1::a27d:5201\n",
            "Connecting to www.dropbox.com (www.dropbox.com)|162.125.82.1|:443... connected.\n",
            "HTTP request sent, awaiting response... 301 Moved Permanently\n",
            "Location: /s/raw/fnpq3z4bcnoktiv/positive.csv [following]\n",
            "--2020-12-05 08:31:44--  https://www.dropbox.com/s/raw/fnpq3z4bcnoktiv/positive.csv\n",
            "Reusing existing connection to www.dropbox.com:443.\n",
            "HTTP request sent, awaiting response... 302 Found\n",
            "Location: https://ucbc8ed0132a6bb1eea4ce8936a1.dl.dropboxusercontent.com/cd/0/inline/BEfvVb7CJGftnXD3RPxSZ4sJnOpFPnLhIpB5buaVE5n29MYT7BNw1V_85d5A6if-TktnAGNKMBuC6hh7XjB27s7r0nU0wPtHNozoST5_LrQ7Qg/file# [following]\n",
            "--2020-12-05 08:31:45--  https://ucbc8ed0132a6bb1eea4ce8936a1.dl.dropboxusercontent.com/cd/0/inline/BEfvVb7CJGftnXD3RPxSZ4sJnOpFPnLhIpB5buaVE5n29MYT7BNw1V_85d5A6if-TktnAGNKMBuC6hh7XjB27s7r0nU0wPtHNozoST5_LrQ7Qg/file\n",
            "Resolving ucbc8ed0132a6bb1eea4ce8936a1.dl.dropboxusercontent.com (ucbc8ed0132a6bb1eea4ce8936a1.dl.dropboxusercontent.com)... 162.125.82.15, 2620:100:6032:15::a27d:520f\n",
            "Connecting to ucbc8ed0132a6bb1eea4ce8936a1.dl.dropboxusercontent.com (ucbc8ed0132a6bb1eea4ce8936a1.dl.dropboxusercontent.com)|162.125.82.15|:443... connected.\n",
            "HTTP request sent, awaiting response... 200 OK\n",
            "Length: 26233379 (25M) [text/plain]\n",
            "Saving to: ‘positive.csv’\n",
            "\n",
            "positive.csv        100%[===================>]  25.02M  14.3MB/s    in 1.7s    \n",
            "\n",
            "2020-12-05 08:31:47 (14.3 MB/s) - ‘positive.csv’ saved [26233379/26233379]\n",
            "\n"
          ],
          "name": "stdout"
        }
      ]
    },
    {
      "cell_type": "code",
      "metadata": {
        "id": "yVDNoIcuX-s5",
        "colab": {
          "base_uri": "https://localhost:8080/"
        },
        "outputId": "6a2ec3f7-264a-489a-d147-04cca08003ec"
      },
      "source": [
        "!wget -O negative.csv https://www.dropbox.com/s/r6u59ljhhjdg6j0/negative.csv?dl=0"
      ],
      "execution_count": 48,
      "outputs": [
        {
          "output_type": "stream",
          "text": [
            "--2020-12-05 08:32:00--  https://www.dropbox.com/s/r6u59ljhhjdg6j0/negative.csv?dl=0\n",
            "Resolving www.dropbox.com (www.dropbox.com)... 162.125.82.1, 2620:100:6032:1::a27d:5201\n",
            "Connecting to www.dropbox.com (www.dropbox.com)|162.125.82.1|:443... connected.\n",
            "HTTP request sent, awaiting response... 301 Moved Permanently\n",
            "Location: /s/raw/r6u59ljhhjdg6j0/negative.csv [following]\n",
            "--2020-12-05 08:32:00--  https://www.dropbox.com/s/raw/r6u59ljhhjdg6j0/negative.csv\n",
            "Reusing existing connection to www.dropbox.com:443.\n",
            "HTTP request sent, awaiting response... 302 Found\n",
            "Location: https://uc303d0ce1522a2e0c91d93975e3.dl.dropboxusercontent.com/cd/0/inline/BEd8roteux3UC9ylUl7bnZ5MIpfPAI2Mqqiys7N5iY1RuEuUMlLPaTJGvlWxGXHLo0TjBR0mQC6JiR49jtXnS2wPOkzKDYlnBt0zV0Vv5WyXnA/file# [following]\n",
            "--2020-12-05 08:32:00--  https://uc303d0ce1522a2e0c91d93975e3.dl.dropboxusercontent.com/cd/0/inline/BEd8roteux3UC9ylUl7bnZ5MIpfPAI2Mqqiys7N5iY1RuEuUMlLPaTJGvlWxGXHLo0TjBR0mQC6JiR49jtXnS2wPOkzKDYlnBt0zV0Vv5WyXnA/file\n",
            "Resolving uc303d0ce1522a2e0c91d93975e3.dl.dropboxusercontent.com (uc303d0ce1522a2e0c91d93975e3.dl.dropboxusercontent.com)... 162.125.82.15, 2620:100:6032:15::a27d:520f\n",
            "Connecting to uc303d0ce1522a2e0c91d93975e3.dl.dropboxusercontent.com (uc303d0ce1522a2e0c91d93975e3.dl.dropboxusercontent.com)|162.125.82.15|:443... connected.\n",
            "HTTP request sent, awaiting response... 200 OK\n",
            "Length: 24450101 (23M) [text/plain]\n",
            "Saving to: ‘negative.csv’\n",
            "\n",
            "negative.csv        100%[===================>]  23.32M  12.4MB/s    in 1.9s    \n",
            "\n",
            "2020-12-05 08:32:03 (12.4 MB/s) - ‘negative.csv’ saved [24450101/24450101]\n",
            "\n"
          ],
          "name": "stdout"
        }
      ]
    },
    {
      "cell_type": "code",
      "metadata": {
        "id": "HLidtYsuX-s8",
        "colab": {
          "base_uri": "https://localhost:8080/",
          "height": 204
        },
        "outputId": "4ae5553b-6e70-4558-d758-34a30d7ed922"
      },
      "source": [
        "import pandas as pd # библиотека для удобной работы с датафреймами\n",
        "# загрузим и посмотрим на наш датасет\n",
        "\n",
        "# загружаем положительные твитты\n",
        "positive = pd.read_csv('positive.csv', sep=';', usecols=[3], names=['text'])\n",
        "positive['label'] = ['positive'] * len(positive) # расставляем метки\n",
        "\n",
        "# загружаем отрицательные твитты\n",
        "negative = pd.read_csv('negative.csv', sep=';', usecols=[3], names=['text'])\n",
        "negative['label'] = ['negative'] * len(negative) # расставляем метки\n",
        "\n",
        "# соединяем два набора данных\n",
        "df = positive.append(negative)\n",
        "df.head()"
      ],
      "execution_count": 49,
      "outputs": [
        {
          "output_type": "execute_result",
          "data": {
            "text/html": [
              "<div>\n",
              "<style scoped>\n",
              "    .dataframe tbody tr th:only-of-type {\n",
              "        vertical-align: middle;\n",
              "    }\n",
              "\n",
              "    .dataframe tbody tr th {\n",
              "        vertical-align: top;\n",
              "    }\n",
              "\n",
              "    .dataframe thead th {\n",
              "        text-align: right;\n",
              "    }\n",
              "</style>\n",
              "<table border=\"1\" class=\"dataframe\">\n",
              "  <thead>\n",
              "    <tr style=\"text-align: right;\">\n",
              "      <th></th>\n",
              "      <th>text</th>\n",
              "      <th>label</th>\n",
              "    </tr>\n",
              "  </thead>\n",
              "  <tbody>\n",
              "    <tr>\n",
              "      <th>0</th>\n",
              "      <td>@first_timee хоть я и школота, но поверь, у на...</td>\n",
              "      <td>positive</td>\n",
              "    </tr>\n",
              "    <tr>\n",
              "      <th>1</th>\n",
              "      <td>Да, все-таки он немного похож на него. Но мой ...</td>\n",
              "      <td>positive</td>\n",
              "    </tr>\n",
              "    <tr>\n",
              "      <th>2</th>\n",
              "      <td>RT @KatiaCheh: Ну ты идиотка) я испугалась за ...</td>\n",
              "      <td>positive</td>\n",
              "    </tr>\n",
              "    <tr>\n",
              "      <th>3</th>\n",
              "      <td>RT @digger2912: \"Кто то в углу сидит и погибае...</td>\n",
              "      <td>positive</td>\n",
              "    </tr>\n",
              "    <tr>\n",
              "      <th>4</th>\n",
              "      <td>@irina_dyshkant Вот что значит страшилка :D\\nН...</td>\n",
              "      <td>positive</td>\n",
              "    </tr>\n",
              "  </tbody>\n",
              "</table>\n",
              "</div>"
            ],
            "text/plain": [
              "                                                text     label\n",
              "0  @first_timee хоть я и школота, но поверь, у на...  positive\n",
              "1  Да, все-таки он немного похож на него. Но мой ...  positive\n",
              "2  RT @KatiaCheh: Ну ты идиотка) я испугалась за ...  positive\n",
              "3  RT @digger2912: \"Кто то в углу сидит и погибае...  positive\n",
              "4  @irina_dyshkant Вот что значит страшилка :D\\nН...  positive"
            ]
          },
          "metadata": {
            "tags": []
          },
          "execution_count": 49
        }
      ]
    },
    {
      "cell_type": "code",
      "metadata": {
        "id": "-YB6B4CvmNJ8",
        "colab": {
          "base_uri": "https://localhost:8080/"
        },
        "outputId": "890b5698-3c47-4386-e4ca-cd2c8dbc8e17"
      },
      "source": [
        "len(df)"
      ],
      "execution_count": 50,
      "outputs": [
        {
          "output_type": "execute_result",
          "data": {
            "text/plain": [
              "226834"
            ]
          },
          "metadata": {
            "tags": []
          },
          "execution_count": 50
        }
      ]
    },
    {
      "cell_type": "markdown",
      "metadata": {
        "id": "5jtZR-uYX-tA"
      },
      "source": [
        "Проведем стандартный препроцессинг:"
      ]
    },
    {
      "cell_type": "code",
      "metadata": {
        "id": "sI706u75jFdq",
        "colab": {
          "base_uri": "https://localhost:8080/"
        },
        "outputId": "a9c53dbb-60ef-40ea-9949-3fabfa087043"
      },
      "source": [
        "! pip install pymorphy2"
      ],
      "execution_count": 51,
      "outputs": [
        {
          "output_type": "stream",
          "text": [
            "Collecting pymorphy2\n",
            "\u001b[?25l  Downloading https://files.pythonhosted.org/packages/07/57/b2ff2fae3376d4f3c697b9886b64a54b476e1a332c67eee9f88e7f1ae8c9/pymorphy2-0.9.1-py3-none-any.whl (55kB)\n",
            "\u001b[K     |████████████████████████████████| 61kB 2.9MB/s \n",
            "\u001b[?25hCollecting pymorphy2-dicts-ru<3.0,>=2.4\n",
            "\u001b[?25l  Downloading https://files.pythonhosted.org/packages/3a/79/bea0021eeb7eeefde22ef9e96badf174068a2dd20264b9a378f2be1cdd9e/pymorphy2_dicts_ru-2.4.417127.4579844-py2.py3-none-any.whl (8.2MB)\n",
            "\u001b[K     |████████████████████████████████| 8.2MB 5.0MB/s \n",
            "\u001b[?25hRequirement already satisfied: docopt>=0.6 in /usr/local/lib/python3.6/dist-packages (from pymorphy2) (0.6.2)\n",
            "Collecting dawg-python>=0.7.1\n",
            "  Downloading https://files.pythonhosted.org/packages/6a/84/ff1ce2071d4c650ec85745766c0047ccc3b5036f1d03559fd46bb38b5eeb/DAWG_Python-0.7.2-py2.py3-none-any.whl\n",
            "Installing collected packages: pymorphy2-dicts-ru, dawg-python, pymorphy2\n",
            "Successfully installed dawg-python-0.7.2 pymorphy2-0.9.1 pymorphy2-dicts-ru-2.4.417127.4579844\n"
          ],
          "name": "stdout"
        }
      ]
    },
    {
      "cell_type": "code",
      "metadata": {
        "id": "3qAiiLvsX-tB"
      },
      "source": [
        "import pymorphy2\n",
        "from functools import lru_cache\n",
        "from multiprocessing import Pool\n",
        "import numpy as np\n",
        "from sklearn.model_selection import train_test_split\n",
        "from tqdm import tqdm_notebook as tqdm\n",
        "import re\n",
        "\n",
        "# pymorphy2 - библиотека методов для морфологического анализа (в том числе лемматизации) русскоязычного текста\n",
        "m = pymorphy2.MorphAnalyzer()\n",
        "\n",
        "# убираем все небуквенные символы\n",
        "regex = re.compile(\"[А-Яа-я:=!\\)\\()A-z\\_\\%/|]+\")\n",
        "\n",
        "def words_only(text, regex=regex):\n",
        "    try:\n",
        "        return regex.findall(text)\n",
        "    except:\n",
        "        return []"
      ],
      "execution_count": 52,
      "outputs": []
    },
    {
      "cell_type": "code",
      "metadata": {
        "id": "9zakhvVrX-tC"
      },
      "source": [
        "#@lru_cache(maxsize=128)\n",
        "# если вы работаете не колабе, можно заменить pymorphy на mystem и раскомментирвать первую строку про lru_cache\n",
        "def lemmatize(text, pymorphy=m):\n",
        "    try:\n",
        "        return \" \".join([pymorphy.parse(w)[0].normal_form for w in text])\n",
        "    except:\n",
        "        return \" \"    "
      ],
      "execution_count": 53,
      "outputs": []
    },
    {
      "cell_type": "code",
      "metadata": {
        "id": "nDQdq4MLX-tE"
      },
      "source": [
        "def clean_text(text):\n",
        "    return lemmatize(words_only(text))"
      ],
      "execution_count": 54,
      "outputs": []
    },
    {
      "cell_type": "code",
      "metadata": {
        "id": "fj6dS127X-tG",
        "colab": {
          "base_uri": "https://localhost:8080/",
          "height": 308,
          "referenced_widgets": [
            "38030aa7c61d438498ced5b6934b4fb9",
            "9f117e1688b4456f88372c3f352b4430",
            "b7a1a4e90e5048f09a3e5e458d8eddd6",
            "bacde2a9f4f2489db2c2ef212c4cc827",
            "e19ebd2fa67c428788bfcbfcc4d3b1e7",
            "9b533443e88347eaad31351968310acd",
            "f28b8a2482a045dcba1dff1b2518b5f2",
            "70704152243e4841ade1cfae79505527"
          ]
        },
        "outputId": "1104d8c8-c048-4327-83dd-ef8fb96f7eed"
      },
      "source": [
        "# распараллелим процесс на 8 копий, чтобы ускорить, \n",
        "# и к каждому объекту датасета ( = твиту) применим написанную выше функцию препроцессинга\n",
        "\n",
        "with Pool(8) as p:\n",
        "    lemmas = list(tqdm(p.imap(clean_text, df['text']), total=len(df)))\n",
        "    \n",
        "df['lemmas'] = lemmas\n",
        "df.head()"
      ],
      "execution_count": 55,
      "outputs": [
        {
          "output_type": "stream",
          "text": [
            "/usr/local/lib/python3.6/dist-packages/ipykernel_launcher.py:5: TqdmDeprecationWarning: This function will be removed in tqdm==5.0.0\n",
            "Please use `tqdm.notebook.tqdm` instead of `tqdm.tqdm_notebook`\n",
            "  \"\"\"\n"
          ],
          "name": "stderr"
        },
        {
          "output_type": "display_data",
          "data": {
            "application/vnd.jupyter.widget-view+json": {
              "model_id": "38030aa7c61d438498ced5b6934b4fb9",
              "version_minor": 0,
              "version_major": 2
            },
            "text/plain": [
              "HBox(children=(FloatProgress(value=0.0, max=226834.0), HTML(value='')))"
            ]
          },
          "metadata": {
            "tags": []
          }
        },
        {
          "output_type": "stream",
          "text": [
            "\n"
          ],
          "name": "stdout"
        },
        {
          "output_type": "execute_result",
          "data": {
            "text/html": [
              "<div>\n",
              "<style scoped>\n",
              "    .dataframe tbody tr th:only-of-type {\n",
              "        vertical-align: middle;\n",
              "    }\n",
              "\n",
              "    .dataframe tbody tr th {\n",
              "        vertical-align: top;\n",
              "    }\n",
              "\n",
              "    .dataframe thead th {\n",
              "        text-align: right;\n",
              "    }\n",
              "</style>\n",
              "<table border=\"1\" class=\"dataframe\">\n",
              "  <thead>\n",
              "    <tr style=\"text-align: right;\">\n",
              "      <th></th>\n",
              "      <th>text</th>\n",
              "      <th>label</th>\n",
              "      <th>lemmas</th>\n",
              "    </tr>\n",
              "  </thead>\n",
              "  <tbody>\n",
              "    <tr>\n",
              "      <th>0</th>\n",
              "      <td>@first_timee хоть я и школота, но поверь, у на...</td>\n",
              "      <td>positive</td>\n",
              "      <td>first_timee хоть я и школотый но поверь у мы т...</td>\n",
              "    </tr>\n",
              "    <tr>\n",
              "      <th>1</th>\n",
              "      <td>Да, все-таки он немного похож на него. Но мой ...</td>\n",
              "      <td>positive</td>\n",
              "      <td>да всё таки он немного похожий на он но мой ма...</td>\n",
              "    </tr>\n",
              "    <tr>\n",
              "      <th>2</th>\n",
              "      <td>RT @KatiaCheh: Ну ты идиотка) я испугалась за ...</td>\n",
              "      <td>positive</td>\n",
              "      <td>rt katiacheh: ну ты идиотка) я испугаться за т...</td>\n",
              "    </tr>\n",
              "    <tr>\n",
              "      <th>3</th>\n",
              "      <td>RT @digger2912: \"Кто то в углу сидит и погибае...</td>\n",
              "      <td>positive</td>\n",
              "      <td>rt digger : кто то в угол сидеть и погибать от...</td>\n",
              "    </tr>\n",
              "    <tr>\n",
              "      <th>4</th>\n",
              "      <td>@irina_dyshkant Вот что значит страшилка :D\\nН...</td>\n",
              "      <td>positive</td>\n",
              "      <td>irina_dyshkant вот что значит страшилка :d но ...</td>\n",
              "    </tr>\n",
              "  </tbody>\n",
              "</table>\n",
              "</div>"
            ],
            "text/plain": [
              "                                                text  ...                                             lemmas\n",
              "0  @first_timee хоть я и школота, но поверь, у на...  ...  first_timee хоть я и школотый но поверь у мы т...\n",
              "1  Да, все-таки он немного похож на него. Но мой ...  ...  да всё таки он немного похожий на он но мой ма...\n",
              "2  RT @KatiaCheh: Ну ты идиотка) я испугалась за ...  ...  rt katiacheh: ну ты идиотка) я испугаться за т...\n",
              "3  RT @digger2912: \"Кто то в углу сидит и погибае...  ...  rt digger : кто то в угол сидеть и погибать от...\n",
              "4  @irina_dyshkant Вот что значит страшилка :D\\nН...  ...  irina_dyshkant вот что значит страшилка :d но ...\n",
              "\n",
              "[5 rows x 3 columns]"
            ]
          },
          "metadata": {
            "tags": []
          },
          "execution_count": 55
        }
      ]
    },
    {
      "cell_type": "markdown",
      "metadata": {
        "id": "3QuPeLrvX-tI"
      },
      "source": [
        "Запишем полученные данные в формате для обучения классификатора:"
      ]
    },
    {
      "cell_type": "code",
      "metadata": {
        "id": "AGOFQSekX-tI",
        "colab": {
          "base_uri": "https://localhost:8080/"
        },
        "outputId": "9e7c947b-40b6-43ae-90fa-362335b1e5b6"
      },
      "source": [
        "# переводим данные из датафрейма в списки\n",
        "\n",
        "X = df.lemmas.tolist()\n",
        "y = df.label.tolist()\n",
        "\n",
        "X, y = np.array(X), np.array(y)\n",
        "\n",
        "# разбиваем на обучающую и тестовую выборки\n",
        "X_train, X_test, y_train, y_test = train_test_split(X,y, test_size=0.33)\n",
        "print (\"total train examples %s\" % len(y_train))\n",
        "print (\"total test examples %s\" % len(y_test))"
      ],
      "execution_count": 56,
      "outputs": [
        {
          "output_type": "stream",
          "text": [
            "total train examples 151978\n",
            "total test examples 74856\n"
          ],
          "name": "stdout"
        }
      ]
    },
    {
      "cell_type": "markdown",
      "metadata": {
        "id": "hxCS7CR59uEX"
      },
      "source": [
        "Мы исользуем для классификации библиотеку fasstext, для этого ей нужно подать данные на вход в особенном формате: текстовый файл, в котором одна строка - один объект выборки, в формате \n",
        "\n",
        "\n",
        "\n",
        "```\n",
        "__label__ 0 первый текст\n",
        "\n",
        "__label__ 1 второй текст\n",
        "\n",
        "__label__ 0 третий текст\n",
        "```\n",
        "\n",
        "\n",
        "и т.д."
      ]
    },
    {
      "cell_type": "markdown",
      "metadata": {
        "id": "6jKVeS0DM26H"
      },
      "source": [
        "Записываем train и test выборки в файлы в соответствии с форматом выше:"
      ]
    },
    {
      "cell_type": "code",
      "metadata": {
        "id": "mogTwRfnX-tK"
      },
      "source": [
        "with open('data.train.txt', 'w+') as outfile:\n",
        "    for i in range(len(X_train)):\n",
        "        outfile.write('__label__' + y_train[i] + ' '+ X_train[i] + '\\n')\n",
        "    \n",
        "\n",
        "with open('test.txt', 'w+') as outfile:\n",
        "    for i in range(len(X_test)):\n",
        "        outfile.write('__label__' + y_test[i] + ' ' + X_test[i] + '\\n')"
      ],
      "execution_count": 57,
      "outputs": []
    },
    {
      "cell_type": "markdown",
      "metadata": {
        "id": "wXTm1VYBM7ej"
      },
      "source": [
        "Обучаем классификатор fasttext:"
      ]
    },
    {
      "cell_type": "code",
      "metadata": {
        "id": "ledZdPquM6R5"
      },
      "source": [
        "classifier = fasttext.train_supervised('data.train.txt')\n",
        "result = classifier.test('test.txt')"
      ],
      "execution_count": 58,
      "outputs": []
    },
    {
      "cell_type": "markdown",
      "metadata": {
        "id": "C2D8b0KuM_H9"
      },
      "source": [
        "Смотрим на метрики качества (precision и recall) полученной модели:"
      ]
    },
    {
      "cell_type": "code",
      "metadata": {
        "id": "u0rt2mhjX-tL",
        "colab": {
          "base_uri": "https://localhost:8080/"
        },
        "outputId": "e1fafef7-618d-49b4-8349-a1f3a0de3978"
      },
      "source": [
        "print('P@1:', result[1])\n",
        "print('R@1:', result[2])\n",
        "print('Number of examples:', result[0])"
      ],
      "execution_count": 59,
      "outputs": [
        {
          "output_type": "stream",
          "text": [
            "P@1: 0.8962942182323395\n",
            "R@1: 0.8962942182323395\n",
            "Number of examples: 74856\n"
          ],
          "name": "stdout"
        }
      ]
    }
  ]
}