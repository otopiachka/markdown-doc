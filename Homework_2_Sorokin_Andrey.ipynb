{
  "nbformat": 4,
  "nbformat_minor": 0,
  "metadata": {
    "hide_input": false,
    "kernelspec": {
      "display_name": "Python 3",
      "language": "python",
      "name": "python3"
    },
    "language_info": {
      "codemirror_mode": {
        "name": "ipython",
        "version": 3
      },
      "file_extension": ".py",
      "mimetype": "text/x-python",
      "name": "python",
      "nbconvert_exporter": "python",
      "pygments_lexer": "ipython3",
      "version": "3.8.3"
    },
    "toc": {
      "base_numbering": 1,
      "nav_menu": {},
      "number_sections": true,
      "sideBar": true,
      "skip_h1_title": false,
      "title_cell": "Table of Contents",
      "title_sidebar": "Contents",
      "toc_cell": true,
      "toc_position": {},
      "toc_section_display": true,
      "toc_window_display": false
    },
    "varInspector": {
      "cols": {
        "lenName": 16,
        "lenType": 16,
        "lenVar": 40
      },
      "kernels_config": {
        "python": {
          "delete_cmd_postfix": "",
          "delete_cmd_prefix": "del ",
          "library": "var_list.py",
          "varRefreshCmd": "print(var_dic_list())"
        },
        "r": {
          "delete_cmd_postfix": ") ",
          "delete_cmd_prefix": "rm(",
          "library": "var_list.r",
          "varRefreshCmd": "cat(var_dic_list()) "
        }
      },
      "types_to_exclude": [
        "module",
        "function",
        "builtin_function_or_method",
        "instance",
        "_Feature"
      ],
      "window_display": false
    },
    "colab": {
      "name": "Homework_2_Sorokin_Andrey.ipynb",
      "provenance": [],
      "include_colab_link": true
    }
  },
  "cells": [
    {
      "cell_type": "markdown",
      "metadata": {
        "id": "view-in-github",
        "colab_type": "text"
      },
      "source": [
        "<a href=\"https://colab.research.google.com/github/otopiachka/markdown-doc/blob/master/Homework_2_Sorokin_Andrey.ipynb\" target=\"_parent\"><img src=\"https://colab.research.google.com/assets/colab-badge.svg\" alt=\"Open In Colab\"/></a>"
      ]
    },
    {
      "cell_type": "markdown",
      "metadata": {
        "toc": true,
        "id": "TCWTzUW0-uiJ"
      },
      "source": [
        "<h1>Table of Contents<span class=\"tocSkip\"></span></h1>\n",
        "<div class=\"toc\"><ul class=\"toc-item\"><li><span><a href=\"#-Homework-2-(Topics-5-7:-Groupby,-Merge,-Visualization)\" data-toc-modified-id=\"-Homework-2-(Topics-5-7:-Groupby,-Merge,-Visualization)-1\"><span class=\"toc-item-num\">1&nbsp;&nbsp;</span><center> Homework 2 (Topics 5-7: Groupby, Merge, Visualization)</center></a></span><ul class=\"toc-item\"><li><ul class=\"toc-item\"><li><ul class=\"toc-item\"><li><span><a href=\"#Task-0.\" data-toc-modified-id=\"Task-0.-1.0.0.1\"><span class=\"toc-item-num\">1.0.0.1&nbsp;&nbsp;</span>Task 0.</a></span></li><li><span><a href=\"#Task-1.\" data-toc-modified-id=\"Task-1.-1.0.0.2\"><span class=\"toc-item-num\">1.0.0.2&nbsp;&nbsp;</span>Task 1.</a></span></li><li><span><a href=\"#Task-2:\" data-toc-modified-id=\"Task-2:-1.0.0.3\"><span class=\"toc-item-num\">1.0.0.3&nbsp;&nbsp;</span>Task 2:</a></span></li><li><span><a href=\"#Task-3:\" data-toc-modified-id=\"Task-3:-1.0.0.4\"><span class=\"toc-item-num\">1.0.0.4&nbsp;&nbsp;</span>Task 3:</a></span></li><li><span><a href=\"#Task-4:\" data-toc-modified-id=\"Task-4:-1.0.0.5\"><span class=\"toc-item-num\">1.0.0.5&nbsp;&nbsp;</span>Task 4:</a></span></li><li><span><a href=\"#Task-5:\" data-toc-modified-id=\"Task-5:-1.0.0.6\"><span class=\"toc-item-num\">1.0.0.6&nbsp;&nbsp;</span>Task 5:</a></span></li><li><span><a href=\"#Вопросы:\" data-toc-modified-id=\"Вопросы:-1.0.0.7\"><span class=\"toc-item-num\">1.0.0.7&nbsp;&nbsp;</span>Вопросы:</a></span></li><li><span><a href=\"#Task-6:\" data-toc-modified-id=\"Task-6:-1.0.0.8\"><span class=\"toc-item-num\">1.0.0.8&nbsp;&nbsp;</span>Task 6:</a></span></li><li><span><a href=\"#Вопросы:\" data-toc-modified-id=\"Вопросы:-1.0.0.9\"><span class=\"toc-item-num\">1.0.0.9&nbsp;&nbsp;</span>Вопросы:</a></span></li></ul></li></ul></li></ul></li></ul></div>"
      ]
    },
    {
      "cell_type": "markdown",
      "metadata": {
        "id": "uJTl5QXw-uiJ"
      },
      "source": [
        "# <center> Homework 2 (Topics 5-7: Groupby, Merge, Visualization)"
      ]
    },
    {
      "cell_type": "markdown",
      "metadata": {
        "id": "l5MemS3z-uiJ"
      },
      "source": [
        "**Загружаем библиотеки**"
      ]
    },
    {
      "cell_type": "code",
      "metadata": {
        "ExecuteTime": {
          "end_time": "2020-04-23T10:26:06.303166Z",
          "start_time": "2020-04-23T10:26:05.458848Z"
        },
        "id": "HmFmIogm-uiJ"
      },
      "source": [
        "import pandas as pd\n",
        "import numpy as np\n",
        "\n",
        "import matplotlib.pyplot as plt\n",
        "import seaborn as sns\n",
        "%matplotlib inline"
      ],
      "execution_count": 1,
      "outputs": []
    },
    {
      "cell_type": "markdown",
      "metadata": {
        "id": "YtaCiEAM-uiK"
      },
      "source": [
        "Ещё раз (как и в задании 1) считайте в переменные tr_mcc_codes, tr_types, transactions и customers_gender_train. В transactions опять считайте только первые 1000000 строк."
      ]
    },
    {
      "cell_type": "markdown",
      "metadata": {
        "id": "2hjgTHTy-uiK"
      },
      "source": [
        "**Cчитываем в переменные tr_mcc_codes, tr_types, transactions и gender_train из одноимённых таблиц из папки данного Homework_2. Для таблицы transactions используйте только первые n=1000000 строк.**"
      ]
    },
    {
      "cell_type": "code",
      "metadata": {
        "ExecuteTime": {
          "end_time": "2020-04-23T10:26:18.234475Z",
          "start_time": "2020-04-23T10:26:18.232003Z"
        },
        "id": "xMFkEkLj-uiK"
      },
      "source": [
        "### Type your code here\n",
        "tr_mcc_codes = pd.read_csv(filepath_or_buffer = 'tr_mcc_codes.csv', sep=';')\n",
        "tr_types = pd.read_csv(filepath_or_buffer = 'tr_types.csv', sep=';')\n",
        "transactions = pd.read_csv(filepath_or_buffer = 'transactions.csv', nrows=1000000)\n",
        "gender_train = pd.read_csv(filepath_or_buffer = 'gender_train.csv')"
      ],
      "execution_count": 3,
      "outputs": []
    },
    {
      "cell_type": "markdown",
      "metadata": {
        "id": "GXlsc2az-uiK"
      },
      "source": [
        "#### Task 0.\n",
        "Соедините transactions с всеми остальными таблицами (tr_mcc_codes, tr_types, gender_train). Причём с customers_gender_train необходимо смёрджиться с помощью left join, а с оставшимися датафреймами - через inner.\n",
        "После получения результата таблицы gender_train, tr_types, tr_mcc_codes можно удалить. В результате соединения датафреймов должно получиться 999584 строки."
      ]
    },
    {
      "cell_type": "markdown",
      "metadata": {
        "id": "NS-C_heV-uiK"
      },
      "source": [
        "**Соединяем transactions с всеми остальными таблицами (tr_mcc_codes, tr_types, gender_train).**"
      ]
    },
    {
      "cell_type": "code",
      "metadata": {
        "ExecuteTime": {
          "end_time": "2020-04-23T10:26:27.618399Z",
          "start_time": "2020-04-23T10:26:27.615930Z"
        },
        "colab": {
          "base_uri": "https://localhost:8080/",
          "height": 289
        },
        "id": "2W5bYtU8-uiK",
        "outputId": "f5593c73-52c8-4604-9706-854df64176fb"
      },
      "source": [
        "### Type your code here\n",
        "transactions = transactions.merge(gender_train, how='left')\n",
        "transactions = transactions.merge(tr_mcc_codes)\n",
        "transactions = transactions.merge(tr_types)\n",
        "transactions.head()"
      ],
      "execution_count": 4,
      "outputs": [
        {
          "output_type": "execute_result",
          "data": {
            "text/html": [
              "<div>\n",
              "<style scoped>\n",
              "    .dataframe tbody tr th:only-of-type {\n",
              "        vertical-align: middle;\n",
              "    }\n",
              "\n",
              "    .dataframe tbody tr th {\n",
              "        vertical-align: top;\n",
              "    }\n",
              "\n",
              "    .dataframe thead th {\n",
              "        text-align: right;\n",
              "    }\n",
              "</style>\n",
              "<table border=\"1\" class=\"dataframe\">\n",
              "  <thead>\n",
              "    <tr style=\"text-align: right;\">\n",
              "      <th></th>\n",
              "      <th>customer_id</th>\n",
              "      <th>tr_datetime</th>\n",
              "      <th>mcc_code</th>\n",
              "      <th>tr_type</th>\n",
              "      <th>amount</th>\n",
              "      <th>term_id</th>\n",
              "      <th>gender</th>\n",
              "      <th>mcc_description</th>\n",
              "      <th>tr_description</th>\n",
              "    </tr>\n",
              "  </thead>\n",
              "  <tbody>\n",
              "    <tr>\n",
              "      <th>0</th>\n",
              "      <td>39026145</td>\n",
              "      <td>0 10:23:26</td>\n",
              "      <td>4814</td>\n",
              "      <td>1030</td>\n",
              "      <td>-2245.92</td>\n",
              "      <td>NaN</td>\n",
              "      <td>1.0</td>\n",
              "      <td>Звонки с использованием телефонов, считывающих...</td>\n",
              "      <td>Оплата услуги. Банкоматы СБ РФ</td>\n",
              "    </tr>\n",
              "    <tr>\n",
              "      <th>1</th>\n",
              "      <td>39026145</td>\n",
              "      <td>6 07:08:31</td>\n",
              "      <td>4814</td>\n",
              "      <td>1030</td>\n",
              "      <td>-5614.79</td>\n",
              "      <td>NaN</td>\n",
              "      <td>1.0</td>\n",
              "      <td>Звонки с использованием телефонов, считывающих...</td>\n",
              "      <td>Оплата услуги. Банкоматы СБ РФ</td>\n",
              "    </tr>\n",
              "    <tr>\n",
              "      <th>2</th>\n",
              "      <td>39026145</td>\n",
              "      <td>8 07:06:10</td>\n",
              "      <td>4814</td>\n",
              "      <td>1030</td>\n",
              "      <td>-1122.96</td>\n",
              "      <td>NaN</td>\n",
              "      <td>1.0</td>\n",
              "      <td>Звонки с использованием телефонов, считывающих...</td>\n",
              "      <td>Оплата услуги. Банкоматы СБ РФ</td>\n",
              "    </tr>\n",
              "    <tr>\n",
              "      <th>3</th>\n",
              "      <td>39026145</td>\n",
              "      <td>11 08:49:03</td>\n",
              "      <td>4814</td>\n",
              "      <td>1030</td>\n",
              "      <td>-2245.92</td>\n",
              "      <td>NaN</td>\n",
              "      <td>1.0</td>\n",
              "      <td>Звонки с использованием телефонов, считывающих...</td>\n",
              "      <td>Оплата услуги. Банкоматы СБ РФ</td>\n",
              "    </tr>\n",
              "    <tr>\n",
              "      <th>4</th>\n",
              "      <td>39026145</td>\n",
              "      <td>11 14:12:08</td>\n",
              "      <td>4814</td>\n",
              "      <td>1030</td>\n",
              "      <td>-2245.92</td>\n",
              "      <td>NaN</td>\n",
              "      <td>1.0</td>\n",
              "      <td>Звонки с использованием телефонов, считывающих...</td>\n",
              "      <td>Оплата услуги. Банкоматы СБ РФ</td>\n",
              "    </tr>\n",
              "  </tbody>\n",
              "</table>\n",
              "</div>"
            ],
            "text/plain": [
              "   customer_id  ...                  tr_description\n",
              "0     39026145  ...  Оплата услуги. Банкоматы СБ РФ\n",
              "1     39026145  ...  Оплата услуги. Банкоматы СБ РФ\n",
              "2     39026145  ...  Оплата услуги. Банкоматы СБ РФ\n",
              "3     39026145  ...  Оплата услуги. Банкоматы СБ РФ\n",
              "4     39026145  ...  Оплата услуги. Банкоматы СБ РФ\n",
              "\n",
              "[5 rows x 9 columns]"
            ]
          },
          "metadata": {
            "tags": []
          },
          "execution_count": 4
        }
      ]
    },
    {
      "cell_type": "markdown",
      "metadata": {
        "id": "nsqJUgv8-uiM"
      },
      "source": [
        "**Данный код запускает удаление таблиц gender_train, tr_types, tr_mcc_codes, но лучше этого не делать -я их использую дальше в работе** 😊"
      ]
    },
    {
      "cell_type": "code",
      "metadata": {
        "id": "-bl4clqC-uiM"
      },
      "source": [
        "del gender_train, tr_mcc_codes, tr_types"
      ],
      "execution_count": null,
      "outputs": []
    },
    {
      "cell_type": "markdown",
      "metadata": {
        "id": "dpXJFP-Z-uiM"
      },
      "source": [
        "#### Task 1.\n",
        "1. Определите модуль разницы между средними тратами женщин и мужчин (трата - отрицательное значение amount). (*)\n",
        "\n",
        "Выведите ответ в виде вещественного числа, округлённого до двух знаков после запятой, отделив дробную часть точкой в формате \"123.45\"\n",
        "\n",
        "##### Пояснения:\n",
        "(\\*) Если в результате для мужчин получились значения [-1,-3,-5], а для женщин [-1,-2,-3],  \n",
        "то модуль разницы между средними арифметическими -3 и -2 будет равен 1.\n",
        "\n",
        "(\\**) Обратите внимание, что для вычисления модуля разности точных знаний о том,  \n",
        "какой класc относится к мужчинам, а какой - к женщинам, пока не требуется.\n",
        "\n",
        "(\\***) Округление не нужно производить отдельно по средним тратам женщин и мужчин, а только в самом конце, когда получите значение модуля разницы трат."
      ]
    },
    {
      "cell_type": "markdown",
      "metadata": {
        "id": "vWLZzdeE-uiM"
      },
      "source": [
        "**Отсекаем транзакции больше нуля**"
      ]
    },
    {
      "cell_type": "code",
      "metadata": {
        "id": "ppQ8h0fy-uiM"
      },
      "source": [
        "tr_spend = transactions[transactions.amount <0]"
      ],
      "execution_count": 5,
      "outputs": []
    },
    {
      "cell_type": "markdown",
      "metadata": {
        "id": "glvQbcj6-uiN"
      },
      "source": [
        "**Берем транзакции по столбцу gender тип 1**"
      ]
    },
    {
      "cell_type": "code",
      "metadata": {
        "id": "-holEpVn-uiN"
      },
      "source": [
        "tr_spend_1 = tr_spend[tr_spend.gender == 1] "
      ],
      "execution_count": 6,
      "outputs": []
    },
    {
      "cell_type": "markdown",
      "metadata": {
        "id": "Y3oW5-pq-uiN"
      },
      "source": [
        "**Берем транзакции по столбцу gender тип 0**"
      ]
    },
    {
      "cell_type": "code",
      "metadata": {
        "id": "TEamObp3-uiN"
      },
      "source": [
        "tr_spend_0 = tr_spend[tr_spend.gender == 0] "
      ],
      "execution_count": 7,
      "outputs": []
    },
    {
      "cell_type": "markdown",
      "metadata": {
        "id": "F3BvV2D0-uiN"
      },
      "source": [
        "**Определяем модуль разницы между средними тратами gender=1 & gender=0. Округляем до 2-х знаков после запятой и записываем результат в переменную delta**"
      ]
    },
    {
      "cell_type": "code",
      "metadata": {
        "id": "ZD_4kH9Q-uiN"
      },
      "source": [
        "delta = round(abs((tr_spend_1.amount.mean() - tr_spend_0.amount.mean())),2) "
      ],
      "execution_count": 8,
      "outputs": []
    },
    {
      "cell_type": "code",
      "metadata": {
        "colab": {
          "base_uri": "https://localhost:8080/"
        },
        "id": "mjy3oP-A-uiN",
        "outputId": "a845c7b1-feb1-4bc5-a527-837a9de5b6a8"
      },
      "source": [
        "delta"
      ],
      "execution_count": 9,
      "outputs": [
        {
          "output_type": "execute_result",
          "data": {
            "text/plain": [
              "32718.05"
            ]
          },
          "metadata": {
            "tags": []
          },
          "execution_count": 9
        }
      ]
    },
    {
      "cell_type": "markdown",
      "metadata": {
        "id": "9tnEmIgv-uiN"
      },
      "source": [
        "#### Task 2:\n",
        "1. Создайте новый столбец - mcc_code+tr_type, сконкатенировав значения из соответствующих столбцов. (\\*)\n",
        "2. Оставьте только наблюдения с отрицательным значением amount. Посчитайте дисперсию по категориям получившегося столбца mcc_code+tr_type, в которых количество наблюдений >= 10. \n",
        "3. Определите отношение максимальной дисперсии к минимальной.\n",
        "\n",
        "Выведите ответ в виде вещественного числа, округлённого до ближайшего целого в формате \"123456\" без дробной части.\n",
        "\n",
        "##### Пояснения:\n",
        "(\\*) Для конкатенации значений в столбцах можно использовать метод .astype(str) для серии и складывать соответствующие серии. Либо же применять apply к строкам датафрейма, прописывая логику преобразования и конкатенации значений внутри.\n",
        "\n",
        "(\\**) Для одновременного подсчета количества наблюдений и дисперсии по категориям можно воспользоваться функцией .agg()"
      ]
    },
    {
      "cell_type": "markdown",
      "metadata": {
        "id": "YntXyrOq-uiN"
      },
      "source": [
        "**Создаем новый столбец - mcc_code+tr_type, объединив столбцы mcc_code и tr_type и приводим новый столбец к типу данных string (строка)**"
      ]
    },
    {
      "cell_type": "code",
      "metadata": {
        "id": "jn-zYS51-uiN"
      },
      "source": [
        "transactions['mcc_code+tr_type'] = transactions['mcc_code'].astype(str) + transactions['tr_type'].astype(str)"
      ],
      "execution_count": 10,
      "outputs": []
    },
    {
      "cell_type": "markdown",
      "metadata": {
        "id": "eoO9X_8L-uiN"
      },
      "source": [
        "**Отсекаем amount больше 0, делаем сводную таблицу по mcc_code+tr_type, высчитываем дисперсию по amount, оставляем наблюдения >=10 и удаляем недостающие значения. Результат записываем в res**"
      ]
    },
    {
      "cell_type": "code",
      "metadata": {
        "id": "0y6ioz07-uiN"
      },
      "source": [
        "res = (transactions.query('amount < 0').groupby('mcc_code+tr_type')['amount'].agg(lambda x: x.var()**2 if len(x)>=10 else np.nan).dropna())"
      ],
      "execution_count": 11,
      "outputs": []
    },
    {
      "cell_type": "markdown",
      "metadata": {
        "id": "t1Hype50-uiO"
      },
      "source": [
        "**Определяем отношение максимальной дисперсии к минимальной, полученное значение округляем до целого числа**"
      ]
    },
    {
      "cell_type": "code",
      "metadata": {
        "id": "gn4foVPs-uiO"
      },
      "source": [
        "ratio = round(res.max() / res.min())"
      ],
      "execution_count": 12,
      "outputs": []
    },
    {
      "cell_type": "code",
      "metadata": {
        "colab": {
          "base_uri": "https://localhost:8080/"
        },
        "id": "t5wz5oLK-uiO",
        "outputId": "d7bb0113-0085-4d2e-8399-ca5f6c31563f"
      },
      "source": [
        "ratio"
      ],
      "execution_count": 13,
      "outputs": [
        {
          "output_type": "execute_result",
          "data": {
            "text/plain": [
              "84099886070340"
            ]
          },
          "metadata": {
            "tags": []
          },
          "execution_count": 13
        }
      ]
    },
    {
      "cell_type": "markdown",
      "metadata": {
        "id": "mz9mHvIT-uiO"
      },
      "source": [
        "#### Task 3:\n",
        "1. По всем типам транзакций рассчитайте максимальную сумму прихода на карту (из строго положительных сумм по столбцу amount) отдельно для мужчин и женщин (назовите ее \"max_income\"). Оставьте по 5 транзакций для мужчин и для женщин, наименьших среди всех транзакций по полученным значениям \"max_income\". (\\*)\n",
        "2. Выделите среди них те, которые встречаются одновременно и у мужчин, и у женщин:\n",
        "    - 1) Покупка. POS ТУ СБ РФ\t\n",
        "    - 2) Списание после проведения претензионной работы\t\n",
        "    - 3) Плата за получение наличных. Россия\n",
        "    - 4) Перевод на карту/ с карты через АТМ (со взиманием комиссии с отправителя) по счету в овердрафте<br>\t\n",
        "    - 5) Плата за получение наличных в АТМ. Россия\n",
        "    - 6) Наличные. Зарубеж. банк\n",
        "    - 7) Возврат покупки. POS ТУ Россия\n",
        "\n",
        "##### Пояснения:\n",
        "(\\*) Если максимальные суммы приходов по каким-то типам были равны [1,2,3,4,5,6,7,8], то 5 минимальных из них: [1,2,3,4,5]"
      ]
    },
    {
      "cell_type": "markdown",
      "metadata": {
        "id": "HQJQOlKm-uiO"
      },
      "source": [
        "**Отсекаем транзакции меньше нуля**"
      ]
    },
    {
      "cell_type": "code",
      "metadata": {
        "id": "N4J4OlvC-uiO"
      },
      "source": [
        "tr_max_income = transactions[transactions.amount >0]"
      ],
      "execution_count": 14,
      "outputs": []
    },
    {
      "cell_type": "markdown",
      "metadata": {
        "id": "AiH4cmx--uiO"
      },
      "source": [
        "**Берем транзакции по столбцу gender тип 1**"
      ]
    },
    {
      "cell_type": "code",
      "metadata": {
        "id": "9Oug_3r_-uiO"
      },
      "source": [
        "max_income_1 = tr_max_income[tr_max_income.gender == 1] "
      ],
      "execution_count": 15,
      "outputs": []
    },
    {
      "cell_type": "markdown",
      "metadata": {
        "id": "pv6xDjt7-uiO"
      },
      "source": [
        "**Берем транзакции по столбцу gender тип 0**"
      ]
    },
    {
      "cell_type": "code",
      "metadata": {
        "id": "hoLGlIow-uiO"
      },
      "source": [
        "max_income_0 = tr_max_income[tr_max_income.gender == 0]"
      ],
      "execution_count": 16,
      "outputs": []
    },
    {
      "cell_type": "markdown",
      "metadata": {
        "id": "ereaIUwh-uiO"
      },
      "source": [
        "**Делаем сводную таблицу gender = 1 по столбцу tr_type с максимальными значениями amount и берем пять нижних значений**"
      ]
    },
    {
      "cell_type": "code",
      "metadata": {
        "id": "uygSQJpz-uiP"
      },
      "source": [
        "max_income_1 = max_income_1.groupby('tr_type')[['amount']].max().tail()"
      ],
      "execution_count": 17,
      "outputs": []
    },
    {
      "cell_type": "markdown",
      "metadata": {
        "id": "WRfXIbrp-uiP"
      },
      "source": [
        "**Делаем массив top_list_1 из индексов tr_type**"
      ]
    },
    {
      "cell_type": "code",
      "metadata": {
        "id": "N4GU5Saj-uiP"
      },
      "source": [
        "top_list_1 = max_income_1.index.values"
      ],
      "execution_count": 18,
      "outputs": []
    },
    {
      "cell_type": "markdown",
      "metadata": {
        "id": "TvQcr2iW-uiP"
      },
      "source": [
        "**Для gender 0, все тоже самое как и для gender=1**"
      ]
    },
    {
      "cell_type": "code",
      "metadata": {
        "id": "3PvWyvnU-uiP"
      },
      "source": [
        "max_income_0 = max_income_0.groupby('tr_type')[['amount']].max().tail()\n",
        "top_list_0 = max_income_0.index.values"
      ],
      "execution_count": 19,
      "outputs": []
    },
    {
      "cell_type": "markdown",
      "metadata": {
        "id": "0ui2O87z-uiP"
      },
      "source": [
        "**Тут объеденяем две таблицы gender 1 & 0 по пересечениям, по идее должна получиться таблица с ответами**"
      ]
    },
    {
      "cell_type": "code",
      "metadata": {
        "id": "GAvUh2ax-uiP"
      },
      "source": [
        "max_income = tr_types[tr_types.tr_type.isin(top_list_1)].merge(tr_types[tr_types.tr_type.isin(top_list_0)])"
      ],
      "execution_count": 20,
      "outputs": []
    },
    {
      "cell_type": "code",
      "metadata": {
        "colab": {
          "base_uri": "https://localhost:8080/",
          "height": 173
        },
        "id": "4eSb_2R3-uiP",
        "outputId": "941cdd03-50d7-4215-f176-8a2d50c1d758"
      },
      "source": [
        "max_income"
      ],
      "execution_count": 21,
      "outputs": [
        {
          "output_type": "execute_result",
          "data": {
            "text/html": [
              "<div>\n",
              "<style scoped>\n",
              "    .dataframe tbody tr th:only-of-type {\n",
              "        vertical-align: middle;\n",
              "    }\n",
              "\n",
              "    .dataframe tbody tr th {\n",
              "        vertical-align: top;\n",
              "    }\n",
              "\n",
              "    .dataframe thead th {\n",
              "        text-align: right;\n",
              "    }\n",
              "</style>\n",
              "<table border=\"1\" class=\"dataframe\">\n",
              "  <thead>\n",
              "    <tr style=\"text-align: right;\">\n",
              "      <th></th>\n",
              "      <th>tr_type</th>\n",
              "      <th>tr_description</th>\n",
              "    </tr>\n",
              "  </thead>\n",
              "  <tbody>\n",
              "    <tr>\n",
              "      <th>0</th>\n",
              "      <td>7070</td>\n",
              "      <td>Перевод на карту (с карты) через Мобильный бан...</td>\n",
              "    </tr>\n",
              "    <tr>\n",
              "      <th>1</th>\n",
              "      <td>7071</td>\n",
              "      <td>Перевод на карту (с карты) через Мобильный бан...</td>\n",
              "    </tr>\n",
              "    <tr>\n",
              "      <th>2</th>\n",
              "      <td>7074</td>\n",
              "      <td>Перевод с карты на карту в овердрафте через Мо...</td>\n",
              "    </tr>\n",
              "    <tr>\n",
              "      <th>3</th>\n",
              "      <td>7075</td>\n",
              "      <td>Перевод с карты на карту в овердрафте через Мо...</td>\n",
              "    </tr>\n",
              "  </tbody>\n",
              "</table>\n",
              "</div>"
            ],
            "text/plain": [
              "   tr_type                                     tr_description\n",
              "0     7070  Перевод на карту (с карты) через Мобильный бан...\n",
              "1     7071  Перевод на карту (с карты) через Мобильный бан...\n",
              "2     7074  Перевод с карты на карту в овердрафте через Мо...\n",
              "3     7075  Перевод с карты на карту в овердрафте через Мо..."
            ]
          },
          "metadata": {
            "tags": []
          },
          "execution_count": 21
        }
      ]
    },
    {
      "cell_type": "markdown",
      "metadata": {
        "id": "RndDtO64-uiP"
      },
      "source": [
        "#### Task 4:\n",
        "1. Выделите из поля tr_datetime относительный день tr_day (первое число до точного времени). (\\*)\n",
        "2. Отфильтруйте строки таким образом, чтобы оставить только те транзакции, у которых в соответствующий относительный день tr_day количество уникальных MCC кодов при транзакциях было больше 75 (можно воспользоваться функцией nunique())\n",
        "3. Сгруппируйте полученный отфильтрованный датафрейм по MCC коду и полу, после чего, пронализировав результат, выберите верные варианты ответов ниже (\\**): \n",
        "    - 1) gender == 0 - женщины, gender == 1 - мужчины\n",
        "    - 2) gender == 1 - женщины, gender == 0 - мужчины\n",
        "    - 3) Абсолютное значение медианы с типом \"Флористика\" (расходов/приходов) у мужчин выше той же медианы у женщин\n",
        "    - 4) Абсолютное значение медианы женских трат (расходов/приходов) на ценные бумаги выше мужских\n",
        "    - 5) Абсолютное значение медианы женских трат (расходов/приходов) в категории \"Бары, коктейль-бары, дискотеки, ночные клубы и таверны — места продажи алкогольных напитков\" ниже мужских\n",
        "    \n",
        "##### Пояснения:\n",
        "(\\*) Для того, чтобы выделить всё, что стоит до первого пробела, можо использовать строковые методы для датафрейма - .str.split(), например. Либо же реализовывать логику выделения подстроки с помощью метода apply. <br>\n",
        "(\\**) Понять, какой класс к какому типу транзакций (мужские/женские) относится можно, если поизучать типичные для мужчин/женщин категории и сравнить средние/медианы расходов и/или приходов в них."
      ]
    },
    {
      "cell_type": "markdown",
      "metadata": {
        "id": "BwlhP9gg-uiP"
      },
      "source": [
        "**Тут у меня не очень получилсь** 🤷‍♂️"
      ]
    },
    {
      "cell_type": "code",
      "metadata": {
        "id": "zEO66jvw-uiP"
      },
      "source": [
        "transactions[['tr_day','tr_time']] = transactions.tr_datetime.str.split(expand=True)"
      ],
      "execution_count": 22,
      "outputs": []
    },
    {
      "cell_type": "code",
      "metadata": {
        "id": "RuGTDp1Q-uiP"
      },
      "source": [
        "tr_mcc = transactions[transactions.groupby('tr_day')['mcc_code'].transform('nunique')>75]"
      ],
      "execution_count": 23,
      "outputs": []
    },
    {
      "cell_type": "code",
      "metadata": {
        "colab": {
          "base_uri": "https://localhost:8080/"
        },
        "id": "2FNfqu4I-uiP",
        "outputId": "a1ed4cab-f652-480a-e8d7-6f6417cf145e"
      },
      "source": [
        "tr_mcc = tr_mcc[transactions.amount < 0]"
      ],
      "execution_count": 24,
      "outputs": [
        {
          "output_type": "stream",
          "text": [
            "/usr/local/lib/python3.6/dist-packages/ipykernel_launcher.py:1: UserWarning: Boolean Series key will be reindexed to match DataFrame index.\n",
            "  \"\"\"Entry point for launching an IPython kernel.\n"
          ],
          "name": "stderr"
        }
      ]
    },
    {
      "cell_type": "code",
      "metadata": {
        "colab": {
          "base_uri": "https://localhost:8080/"
        },
        "id": "Uu7pnNr6-uiP",
        "outputId": "e42b980f-6035-4d2e-a350-c20040c8c290"
      },
      "source": [
        "tr_mcc['mcc_description'].value_counts()"
      ],
      "execution_count": 25,
      "outputs": [
        {
          "output_type": "execute_result",
          "data": {
            "text/plain": [
              "Финансовые институты — снятие наличности автоматически                                                                                                        101612\n",
              "Бакалейные магазины, супермаркеты                                                                                                                              89210\n",
              "Звонки с использованием телефонов, считывающих магнитную ленту                                                                                                 72292\n",
              "Денежные переводы                                                                                                                                              48460\n",
              "Различные продовольственные магазины — рынки, магазины со спец-ассортиментом, продажа полуфабрикатов, фирменных блюд, продажа с помощью торговых автоматов     29980\n",
              "                                                                                                                                                               ...  \n",
              "Подрядчики по электричеству                                                                                                                                        2\n",
              "Школы — бизнес и секретарей                                                                                                                                        2\n",
              "Услуги по переделке, починке и пошиву одежды                                                                                                                       1\n",
              "Веломагазины — продажа и обслуживание                                                                                                                              1\n",
              "Производство и дистрибуция видеофильмов                                                                                                                            1\n",
              "Name: mcc_description, Length: 184, dtype: int64"
            ]
          },
          "metadata": {
            "tags": []
          },
          "execution_count": 25
        }
      ]
    },
    {
      "cell_type": "code",
      "metadata": {
        "id": "pZWEB4Fp-uiQ"
      },
      "source": [
        "tr_mcc_0 = tr_mcc[tr_mcc.gender == 0]"
      ],
      "execution_count": 26,
      "outputs": []
    },
    {
      "cell_type": "code",
      "metadata": {
        "colab": {
          "base_uri": "https://localhost:8080/"
        },
        "id": "beqpAsZz-uiQ",
        "outputId": "b28d6e88-8b70-41a4-fb3c-4f4139c51be5"
      },
      "source": [
        "tr_mcc_0.groupby(['gender', 'mcc_description'])['amount'].median()"
      ],
      "execution_count": 27,
      "outputs": [
        {
          "output_type": "execute_result",
          "data": {
            "text/plain": [
              "gender  mcc_description                                           \n",
              "0.0     Авиалинии, авиакомпании                                      -281031.44\n",
              "        Авиалинии, авиакомпании, нигде более не классифицированные   -132756.98\n",
              "        Автобусные линии                                              -31038.56\n",
              "        Автозапчасти и аксессуары                                     -14261.57\n",
              "        Автоматизированные бензозаправки                              -18360.36\n",
              "                                                                        ...    \n",
              "        Цифровые товары, игры                                          -4480.60\n",
              "        Школы — бизнес и секретарей                                  -160582.98\n",
              "        Штрафы                                                        -11903.35\n",
              "        Штучные товары, галантерея и другие текстильные товары         -7186.93\n",
              "        Электрические части и оборудование                            -93963.50\n",
              "Name: amount, Length: 170, dtype: float64"
            ]
          },
          "metadata": {
            "tags": []
          },
          "execution_count": 27
        }
      ]
    },
    {
      "cell_type": "code",
      "metadata": {
        "colab": {
          "base_uri": "https://localhost:8080/"
        },
        "id": "kb33NPUE-uiQ",
        "outputId": "5373762e-dbe4-4a6f-8c0f-4dd610779ed7"
      },
      "source": [
        "tr_mcc_1 = tr_mcc[tr_mcc.gender == 1]\n",
        "tr_mcc_1.groupby(['gender', 'mcc_description'])['amount'].median()"
      ],
      "execution_count": 28,
      "outputs": [
        {
          "output_type": "execute_result",
          "data": {
            "text/plain": [
              "gender  mcc_description                                           \n",
              "1.0     Авиалинии, авиакомпании                                      -238594.865\n",
              "        Авиалинии, авиакомпании, нигде более не классифицированные   -204827.520\n",
              "        Автобусные линии                                              -18683.320\n",
              "        Автозапчасти и аксессуары                                     -13475.490\n",
              "        Автоматизированные бензозаправки                              -31009.810\n",
              "                                                                         ...    \n",
              "        Центры здоровья                                               -36585.970\n",
              "        Цифровые товары, игры                                          -4480.600\n",
              "        Школы — бизнес и секретарей                                   -13475.490\n",
              "        Штрафы                                                        -11678.760\n",
              "        Электрические части и оборудование                            -16414.610\n",
              "Name: amount, Length: 171, dtype: float64"
            ]
          },
          "metadata": {
            "tags": []
          },
          "execution_count": 28
        }
      ]
    },
    {
      "cell_type": "code",
      "metadata": {
        "colab": {
          "base_uri": "https://localhost:8080/"
        },
        "id": "JImFATCO-uiS",
        "outputId": "f05a1c24-40ce-42ed-ea7d-f3c39a06d44a"
      },
      "source": [
        "tr_mcc[tr_mcc.gender == 1].mcc_code.value_counts()"
      ],
      "execution_count": 29,
      "outputs": [
        {
          "output_type": "execute_result",
          "data": {
            "text/plain": [
              "6011    28089\n",
              "5411    23948\n",
              "4814    16917\n",
              "4829    12948\n",
              "5499     8331\n",
              "        ...  \n",
              "7932        2\n",
              "1731        1\n",
              "9402        1\n",
              "8244        1\n",
              "3351        1\n",
              "Name: mcc_code, Length: 171, dtype: int64"
            ]
          },
          "metadata": {
            "tags": []
          },
          "execution_count": 29
        }
      ]
    },
    {
      "cell_type": "code",
      "metadata": {
        "colab": {
          "base_uri": "https://localhost:8080/",
          "height": 205
        },
        "id": "LvkLpud0-uiS",
        "outputId": "c19bfd62-4357-4955-f0ef-0dda1bc1ac73"
      },
      "source": [
        "tr_mcc\n",
        "top_gender.info()\n",
        "top_gender = top_gender.index.values"
      ],
      "execution_count": 30,
      "outputs": [
        {
          "output_type": "error",
          "ename": "NameError",
          "evalue": "ignored",
          "traceback": [
            "\u001b[0;31m---------------------------------------------------------------------------\u001b[0m",
            "\u001b[0;31mNameError\u001b[0m                                 Traceback (most recent call last)",
            "\u001b[0;32m<ipython-input-30-392ece42e229>\u001b[0m in \u001b[0;36m<module>\u001b[0;34m()\u001b[0m\n\u001b[1;32m      1\u001b[0m \u001b[0mtr_mcc\u001b[0m\u001b[0;34m\u001b[0m\u001b[0;34m\u001b[0m\u001b[0m\n\u001b[0;32m----> 2\u001b[0;31m \u001b[0mtop_gender\u001b[0m\u001b[0;34m.\u001b[0m\u001b[0minfo\u001b[0m\u001b[0;34m(\u001b[0m\u001b[0;34m)\u001b[0m\u001b[0;34m\u001b[0m\u001b[0;34m\u001b[0m\u001b[0m\n\u001b[0m\u001b[1;32m      3\u001b[0m \u001b[0mtop_gender\u001b[0m \u001b[0;34m=\u001b[0m \u001b[0mtop_gender\u001b[0m\u001b[0;34m.\u001b[0m\u001b[0mindex\u001b[0m\u001b[0;34m.\u001b[0m\u001b[0mvalues\u001b[0m\u001b[0;34m\u001b[0m\u001b[0;34m\u001b[0m\u001b[0m\n",
            "\u001b[0;31mNameError\u001b[0m: name 'top_gender' is not defined"
          ]
        }
      ]
    },
    {
      "cell_type": "code",
      "metadata": {
        "id": "aMOPLB8Z-uiS"
      },
      "source": [
        "transactions[['tr_day','tr_time','mcc_description']]"
      ],
      "execution_count": null,
      "outputs": []
    },
    {
      "cell_type": "code",
      "metadata": {
        "id": "3htCfVYk-uiS"
      },
      "source": [
        "len(pd.unique(transactions['mcc_code']))"
      ],
      "execution_count": null,
      "outputs": []
    },
    {
      "cell_type": "code",
      "metadata": {
        "id": "KuPOCN8Z-uiU"
      },
      "source": [
        "transactions['tr_day'].astype('int')"
      ],
      "execution_count": null,
      "outputs": []
    },
    {
      "cell_type": "code",
      "metadata": {
        "id": "cV5uAkI_-uiU"
      },
      "source": [
        "mcc_tr_n = transactions.groupby(['tr_day'])['mcc_code'].nunique()\n",
        "mcc_tr_n[400]"
      ],
      "execution_count": null,
      "outputs": []
    },
    {
      "cell_type": "code",
      "metadata": {
        "id": "sGLqvJCw-uiV"
      },
      "source": [
        "mcc_tr_n[2]"
      ],
      "execution_count": null,
      "outputs": []
    },
    {
      "cell_type": "code",
      "metadata": {
        "id": "gQ45Nkv8-uiV"
      },
      "source": [
        "mcc_tr_1 = transactions.groupby('gender')['mcc_code'].nunique()"
      ],
      "execution_count": null,
      "outputs": []
    },
    {
      "cell_type": "code",
      "metadata": {
        "id": "7ChudtJr-uiV"
      },
      "source": [
        "mcc_tr_1"
      ],
      "execution_count": null,
      "outputs": []
    },
    {
      "cell_type": "code",
      "metadata": {
        "id": "BH7v3J97-uiV"
      },
      "source": [
        "mcc_tr = transactions.groupby('tr_day')['mcc_code'].transform('size')>75\n",
        "mcc_tr.shape"
      ],
      "execution_count": null,
      "outputs": []
    },
    {
      "cell_type": "code",
      "metadata": {
        "id": "KKWMy4sz-uiV"
      },
      "source": [
        "mcc_tr_1 = transactions[['tr_day', 'mcc_description', 'mcc_code', 'amount']]\n",
        "mcc_tr_1"
      ],
      "execution_count": null,
      "outputs": []
    },
    {
      "cell_type": "code",
      "metadata": {
        "id": "aYBhTaFw-uiW"
      },
      "source": [
        "transactions.groupby('tr_day')['mcc_description'].transform('size')>75"
      ],
      "execution_count": null,
      "outputs": []
    },
    {
      "cell_type": "markdown",
      "metadata": {
        "id": "OwJZRSiO-uiW"
      },
      "source": [
        "#### Task 5:\n",
        "1. Разбейте расходы (отрицательные значения сумм) на 5 бакетов amount_bucket равного объёма (с помощью pd.qcut), разбив все траты на категории 'Very High', 'High', 'Middle', 'Low', 'Very Low'. (\\*)\n",
        "2. Оставшиеся неотрицательные траты отнесите к категории 'Income'.\n",
        "(воспользуйтесь функцией .cat.add_categories('Income') для того, чтобы добавить новую категорию 'Income' к категориям 'Very High', 'High', 'Middle', 'Low', 'Very Low', а затем заполните пустые значения новой категорией).\n",
        "3. Из поля tr_datetime выделите час tr_hour, в который произошла транзакция, как первые 2 цифры до \":\". (\\**)\n",
        "3. После этого постройте сводную таблицу, значениями в которой является пол gender, индексы - tr_hour, столбцы - amount_bucket.\n",
        "4. Отрисуйте полученные результаты, передав их в функцию plot_pivot_table, расположенную ниже.\n",
        "5. Выберите верные ответы на вопросы ниже.\n",
        "\n",
        "#### Вопросы:\n",
        "    - 1) Ночные поступления денег (01-05 часов) в более чем 85% случаев являются мужскими.\n",
        "    - 2) Посмотрев на долю мужчин в поступлениях средств (Income), можно сделать вывод, что количество поступлений средств женщинам в целом больше, чем мужчинам.\n",
        "    - 3) Самые низкие траты в 3 часа ночи осуществляются в более 70% случаев женщинами.\n",
        "    - 4) Существуют особые часы в мелких тратах, когда женщины тратят намного больше мужчин (>80%)\n",
        "    - 5) Посмотрев на долю мужчин в максимальных тратах средств (Very High), можно сделать вывод, что количество высоких трат в каждый возможный час мужчин больше, чем у женщин.\n",
        "\n",
        "##### Пояснения:\n",
        "(\\*) Обратите внимание, что в категории Very High Должны оказаться максимальные по модулю отрицательные транзакции. <br>\n",
        "(\\**) Например, для строки \"0 10:23:26\" час будет равен 10, а для строки \"6 07:08:31\"- 07. Можно воспользоваться функциями str.split() или str.find() и \n",
        "функцией .apply(lambda x: x[])"
      ]
    },
    {
      "cell_type": "code",
      "metadata": {
        "id": "yTrtWihM-uiW"
      },
      "source": [
        "def plot_pivot_table(pivot_table):\n",
        "    plt.figure(figsize=(9, 11))\n",
        "    sns.heatmap(pivot_table, cmap=\"YlGnBu\", annot=True, \n",
        "                fmt='.3g', annot_kws={\"size\": 14, \"fontsize\": 14})\n",
        "    plt.xticks(fontsize=15)\n",
        "    plt.yticks(rotation=0, fontsize=15)\n",
        "    plt.xlabel('Bucket', size=18)\n",
        "    plt.ylabel('Hour', fontsize=18)\n",
        "    plt.title('Gender analysis per bucket and hour', fontsize=20)\n",
        "    plt.show()"
      ],
      "execution_count": 41,
      "outputs": []
    },
    {
      "cell_type": "markdown",
      "metadata": {
        "id": "Q2UYvdno-uiW"
      },
      "source": [
        "**Тут тоже не очень получилсь** 🤷‍♂️"
      ]
    },
    {
      "cell_type": "code",
      "metadata": {
        "id": "PEQxygpR-uiW"
      },
      "source": [
        "minus = transactions[transactions.amount<0].amount"
      ],
      "execution_count": 42,
      "outputs": []
    },
    {
      "cell_type": "code",
      "metadata": {
        "id": "rhdIEBAQ-uiW"
      },
      "source": [
        "transactions['amount_bucket'] = pd.qcut(minus,5,labels=['Very High','High','Middle','Low','Very Low'])"
      ],
      "execution_count": 43,
      "outputs": []
    },
    {
      "cell_type": "code",
      "metadata": {
        "id": "CFYvjC9X-uiW"
      },
      "source": [
        "transactions['amount_bucket'] = transactions['amount_bucket'].cat.add_categories('Income').fillna('Income') "
      ],
      "execution_count": 44,
      "outputs": []
    },
    {
      "cell_type": "code",
      "metadata": {
        "id": "TeRDvUXo-uiW"
      },
      "source": [
        "hours = transactions['tr_datetime'].apply(lambda x: x.split()[1].split(':')[0])"
      ],
      "execution_count": 45,
      "outputs": []
    },
    {
      "cell_type": "code",
      "metadata": {
        "id": "zuXDWBV--uiW"
      },
      "source": [
        "amount_bucket = transactions['amount_bucket']"
      ],
      "execution_count": 46,
      "outputs": []
    },
    {
      "cell_type": "code",
      "metadata": {
        "id": "uyNhGdan-uiX"
      },
      "source": [
        "amount_bucket = np.array(amount_bucket.values)"
      ],
      "execution_count": 47,
      "outputs": []
    },
    {
      "cell_type": "code",
      "metadata": {
        "id": "AKfqyKwz-uiX"
      },
      "source": [
        "gender = transactions['gender']"
      ],
      "execution_count": 48,
      "outputs": []
    },
    {
      "cell_type": "code",
      "metadata": {
        "id": "YaoCfgeK-uiX"
      },
      "source": [
        "data = {'gender' : gender.values, 'amount_bucket' : amount_bucket}"
      ],
      "execution_count": 49,
      "outputs": []
    },
    {
      "cell_type": "code",
      "metadata": {
        "id": "XGoyN85q-uiX"
      },
      "source": [
        "frameNew = pd.DataFrame(data,index=hours.values,columns=['gender'])"
      ],
      "execution_count": 50,
      "outputs": []
    },
    {
      "cell_type": "code",
      "metadata": {
        "id": "fP2qwizF-uiX"
      },
      "source": [
        "frameNew.gender = frameNew.gender.astype(float)"
      ],
      "execution_count": 51,
      "outputs": []
    },
    {
      "cell_type": "code",
      "metadata": {
        "id": "VjJ8lTS2-uiX"
      },
      "source": [
        "frameNew.index = frameNew.index.astype(float)"
      ],
      "execution_count": 52,
      "outputs": []
    },
    {
      "cell_type": "code",
      "metadata": {
        "id": "OVVVTKIL-uiX"
      },
      "source": [
        "frameNew = frameNew[(frameNew.gender==1.0) | (frameNew.gender==0.0)]"
      ],
      "execution_count": 53,
      "outputs": []
    },
    {
      "cell_type": "markdown",
      "metadata": {
        "id": "5qvUHm5g-uiX"
      },
      "source": [
        "**Это лучше не запускать если нет минимум 6Gb ОЗУ**"
      ]
    },
    {
      "cell_type": "code",
      "metadata": {
        "colab": {
          "base_uri": "https://localhost:8080/",
          "height": 694
        },
        "id": "tM-2qx31-uiX",
        "outputId": "6e6e2129-d458-4e9a-9e20-3e5180b9b6ba"
      },
      "source": [
        "plot_pivot_table(frameNew)"
      ],
      "execution_count": 54,
      "outputs": [
        {
          "output_type": "display_data",
          "data": {
            "image/png": "[encoded data removed]",
            "text/plain": [
              "<Figure size 648x792 with 2 Axes>"
            ]
          },
          "metadata": {
            "tags": [],
            "needs_background": "light"
          }
        }
      ]
    },
    {
      "cell_type": "markdown",
      "metadata": {
        "id": "JARcJR0L-uiX"
      },
      "source": [
        "#### Task 6:\n",
        "1. Измените тип поля tr_day на int.\n",
        "2. Выберите из transactions все MCC коды, которые встретились в выборке более чем 60000 раз.\n",
        "3. Сгруппируйте отфильтрованный датафрейм по дню и MCC-коду, получая средние значения суммы amount.  \n",
        "4. Далее отрисуйте зависимость средних сумм (может пригодится метод unstack()) по каждому из MCC-кодов по дням.\n",
        "5. Выберите верные ответы на вопросы ниже.\n",
        "\n",
        "#### Вопросы:\n",
        "   <p><b>- 1) 2 из полученных MCC-кодов связаны с финансовыми институтами</b><br>\n",
        "    - 2) 2 MCC кода, связанные со снятием наличности имеют в целом разные знаки (в одном случае почти везде - траты, в другом - пополнения)<br>\n",
        "    <b>- 3) Бакалейные магазины обладают максимальными средними тратами среди выбранных MCC-кодов</b><br>\n",
        "    - 4) Денежные переводы имеют как минимум 3 явных минимума средних<br>\n",
        "    - 5) Категория \"Звонки с использованием телефонов, считывающих магнитную ленту\" имеет визуально очень большую дисперсию.</p> "
      ]
    },
    {
      "cell_type": "markdown",
      "metadata": {
        "id": "sxVFkRXb-uiX"
      },
      "source": [
        "**Результат есть, решение не очень хорошее**"
      ]
    },
    {
      "cell_type": "code",
      "metadata": {
        "ExecuteTime": {
          "end_time": "2020-04-23T10:40:09.383871Z",
          "start_time": "2020-04-23T10:40:09.381395Z"
        },
        "scrolled": true,
        "colab": {
          "base_uri": "https://localhost:8080/"
        },
        "id": "MF7ehmA1-uiX",
        "outputId": "01f5a5b9-c73e-4f77-c411-5dcdf71869f4"
      },
      "source": [
        "# Type your code here\n",
        "transactions['tr_day'].astype('int')"
      ],
      "execution_count": 31,
      "outputs": [
        {
          "output_type": "execute_result",
          "data": {
            "text/plain": [
              "0           0\n",
              "1           6\n",
              "2           8\n",
              "3          11\n",
              "4          11\n",
              "         ... \n",
              "999579     18\n",
              "999580    206\n",
              "999581     90\n",
              "999582    104\n",
              "999583    105\n",
              "Name: tr_day, Length: 999584, dtype: int64"
            ]
          },
          "metadata": {
            "tags": []
          },
          "execution_count": 31
        }
      ]
    },
    {
      "cell_type": "code",
      "metadata": {
        "id": "o5qLv-os-uiY"
      },
      "source": [
        "tr_mcc123 = transactions['mcc_code'].value_counts() > 60000"
      ],
      "execution_count": 32,
      "outputs": []
    },
    {
      "cell_type": "code",
      "metadata": {
        "id": "MtdJzLbG-uiY"
      },
      "source": [
        "tr_mcc1234 = tr_mcc123.index.values"
      ],
      "execution_count": 33,
      "outputs": []
    },
    {
      "cell_type": "code",
      "metadata": {
        "id": "DQFEzuXf-uiY"
      },
      "source": [
        "tr_mcc1234 = tr_mcc123.head()"
      ],
      "execution_count": 34,
      "outputs": []
    },
    {
      "cell_type": "code",
      "metadata": {
        "id": "x0vPLQ0Q-uiY"
      },
      "source": [
        "tr_mcc1234 = tr_mcc1234.index.values"
      ],
      "execution_count": 35,
      "outputs": []
    },
    {
      "cell_type": "code",
      "metadata": {
        "id": "36gGpUgO-uiY"
      },
      "source": [
        "tr_mcc12345 = transactions[transactions.mcc_code.isin(tr_mcc1234)]"
      ],
      "execution_count": 36,
      "outputs": []
    },
    {
      "cell_type": "code",
      "metadata": {
        "id": "OpZPnfKx-uiY"
      },
      "source": [
        "tr_mcc123456 = tr_mcc12345.groupby(['tr_day', 'mcc_code'])[['amount']].mean()"
      ],
      "execution_count": 37,
      "outputs": []
    },
    {
      "cell_type": "code",
      "metadata": {
        "id": "RXu2352X-uiY"
      },
      "source": [
        "tr_unstack = tr_mcc123456.unstack()"
      ],
      "execution_count": 38,
      "outputs": []
    },
    {
      "cell_type": "code",
      "metadata": {
        "colab": {
          "base_uri": "https://localhost:8080/",
          "height": 481
        },
        "id": "DsuxqG37-uiY",
        "outputId": "e29a6c1b-9bb1-45d9-fe63-7a171040dee6"
      },
      "source": [
        "tr_unstack"
      ],
      "execution_count": 39,
      "outputs": [
        {
          "output_type": "execute_result",
          "data": {
            "text/html": [
              "<div>\n",
              "<style scoped>\n",
              "    .dataframe tbody tr th:only-of-type {\n",
              "        vertical-align: middle;\n",
              "    }\n",
              "\n",
              "    .dataframe tbody tr th {\n",
              "        vertical-align: top;\n",
              "    }\n",
              "\n",
              "    .dataframe thead tr th {\n",
              "        text-align: left;\n",
              "    }\n",
              "\n",
              "    .dataframe thead tr:last-of-type th {\n",
              "        text-align: right;\n",
              "    }\n",
              "</style>\n",
              "<table border=\"1\" class=\"dataframe\">\n",
              "  <thead>\n",
              "    <tr>\n",
              "      <th></th>\n",
              "      <th colspan=\"5\" halign=\"left\">amount</th>\n",
              "    </tr>\n",
              "    <tr>\n",
              "      <th>mcc_code</th>\n",
              "      <th>4814</th>\n",
              "      <th>4829</th>\n",
              "      <th>5411</th>\n",
              "      <th>6010</th>\n",
              "      <th>6011</th>\n",
              "    </tr>\n",
              "    <tr>\n",
              "      <th>tr_day</th>\n",
              "      <th></th>\n",
              "      <th></th>\n",
              "      <th></th>\n",
              "      <th></th>\n",
              "      <th></th>\n",
              "    </tr>\n",
              "  </thead>\n",
              "  <tbody>\n",
              "    <tr>\n",
              "      <th>0</th>\n",
              "      <td>-5631.316489</td>\n",
              "      <td>-214754.866266</td>\n",
              "      <td>-15462.567344</td>\n",
              "      <td>90390.672987</td>\n",
              "      <td>-55388.115175</td>\n",
              "    </tr>\n",
              "    <tr>\n",
              "      <th>1</th>\n",
              "      <td>-6375.587685</td>\n",
              "      <td>-158317.573750</td>\n",
              "      <td>-17770.243543</td>\n",
              "      <td>57658.709639</td>\n",
              "      <td>-38938.920557</td>\n",
              "    </tr>\n",
              "    <tr>\n",
              "      <th>10</th>\n",
              "      <td>-5389.918248</td>\n",
              "      <td>-228132.640744</td>\n",
              "      <td>-11786.959640</td>\n",
              "      <td>86468.790485</td>\n",
              "      <td>-61714.964187</td>\n",
              "    </tr>\n",
              "    <tr>\n",
              "      <th>100</th>\n",
              "      <td>-4781.903545</td>\n",
              "      <td>-194239.654396</td>\n",
              "      <td>-19120.905404</td>\n",
              "      <td>37740.259740</td>\n",
              "      <td>-39384.263698</td>\n",
              "    </tr>\n",
              "    <tr>\n",
              "      <th>101</th>\n",
              "      <td>-4855.970763</td>\n",
              "      <td>-168552.888955</td>\n",
              "      <td>-12993.806543</td>\n",
              "      <td>76511.451009</td>\n",
              "      <td>-71570.902418</td>\n",
              "    </tr>\n",
              "    <tr>\n",
              "      <th>...</th>\n",
              "      <td>...</td>\n",
              "      <td>...</td>\n",
              "      <td>...</td>\n",
              "      <td>...</td>\n",
              "      <td>...</td>\n",
              "    </tr>\n",
              "    <tr>\n",
              "      <th>95</th>\n",
              "      <td>-6011.389778</td>\n",
              "      <td>-95164.485222</td>\n",
              "      <td>-16356.643977</td>\n",
              "      <td>34125.577421</td>\n",
              "      <td>-61171.779236</td>\n",
              "    </tr>\n",
              "    <tr>\n",
              "      <th>96</th>\n",
              "      <td>-6170.333992</td>\n",
              "      <td>-300806.325346</td>\n",
              "      <td>-11947.709291</td>\n",
              "      <td>165642.031479</td>\n",
              "      <td>-61565.050328</td>\n",
              "    </tr>\n",
              "    <tr>\n",
              "      <th>97</th>\n",
              "      <td>-4466.734959</td>\n",
              "      <td>-194807.377683</td>\n",
              "      <td>-13448.300000</td>\n",
              "      <td>47729.581370</td>\n",
              "      <td>-45838.899178</td>\n",
              "    </tr>\n",
              "    <tr>\n",
              "      <th>98</th>\n",
              "      <td>-5547.525586</td>\n",
              "      <td>-192217.046461</td>\n",
              "      <td>-15145.675611</td>\n",
              "      <td>95705.710442</td>\n",
              "      <td>-99406.001923</td>\n",
              "    </tr>\n",
              "    <tr>\n",
              "      <th>99</th>\n",
              "      <td>-4309.617361</td>\n",
              "      <td>-131829.295859</td>\n",
              "      <td>-19178.533333</td>\n",
              "      <td>88828.474225</td>\n",
              "      <td>-65287.720000</td>\n",
              "    </tr>\n",
              "  </tbody>\n",
              "</table>\n",
              "<p>457 rows × 5 columns</p>\n",
              "</div>"
            ],
            "text/plain": [
              "               amount                                                          \n",
              "mcc_code         4814           4829          5411           6010          6011\n",
              "tr_day                                                                         \n",
              "0        -5631.316489 -214754.866266 -15462.567344   90390.672987 -55388.115175\n",
              "1        -6375.587685 -158317.573750 -17770.243543   57658.709639 -38938.920557\n",
              "10       -5389.918248 -228132.640744 -11786.959640   86468.790485 -61714.964187\n",
              "100      -4781.903545 -194239.654396 -19120.905404   37740.259740 -39384.263698\n",
              "101      -4855.970763 -168552.888955 -12993.806543   76511.451009 -71570.902418\n",
              "...               ...            ...           ...            ...           ...\n",
              "95       -6011.389778  -95164.485222 -16356.643977   34125.577421 -61171.779236\n",
              "96       -6170.333992 -300806.325346 -11947.709291  165642.031479 -61565.050328\n",
              "97       -4466.734959 -194807.377683 -13448.300000   47729.581370 -45838.899178\n",
              "98       -5547.525586 -192217.046461 -15145.675611   95705.710442 -99406.001923\n",
              "99       -4309.617361 -131829.295859 -19178.533333   88828.474225 -65287.720000\n",
              "\n",
              "[457 rows x 5 columns]"
            ]
          },
          "metadata": {
            "tags": []
          },
          "execution_count": 39
        }
      ]
    },
    {
      "cell_type": "code",
      "metadata": {
        "colab": {
          "base_uri": "https://localhost:8080/",
          "height": 204
        },
        "id": "yD-bnAFY-uiY",
        "outputId": "76d35738-1bfd-46b4-d958-04c4f7302284"
      },
      "source": [
        "demo = tr_mcc_codes[tr_mcc_codes.mcc_code.isin(tr_mcc1234)]\n",
        "demo"
      ],
      "execution_count": 40,
      "outputs": [
        {
          "output_type": "execute_result",
          "data": {
            "text/html": [
              "<div>\n",
              "<style scoped>\n",
              "    .dataframe tbody tr th:only-of-type {\n",
              "        vertical-align: middle;\n",
              "    }\n",
              "\n",
              "    .dataframe tbody tr th {\n",
              "        vertical-align: top;\n",
              "    }\n",
              "\n",
              "    .dataframe thead th {\n",
              "        text-align: right;\n",
              "    }\n",
              "</style>\n",
              "<table border=\"1\" class=\"dataframe\">\n",
              "  <thead>\n",
              "    <tr style=\"text-align: right;\">\n",
              "      <th></th>\n",
              "      <th>mcc_code</th>\n",
              "      <th>mcc_description</th>\n",
              "    </tr>\n",
              "  </thead>\n",
              "  <tbody>\n",
              "    <tr>\n",
              "      <th>20</th>\n",
              "      <td>4814</td>\n",
              "      <td>Звонки с использованием телефонов, считывающих...</td>\n",
              "    </tr>\n",
              "    <tr>\n",
              "      <th>22</th>\n",
              "      <td>4829</td>\n",
              "      <td>Денежные переводы</td>\n",
              "    </tr>\n",
              "    <tr>\n",
              "      <th>56</th>\n",
              "      <td>5411</td>\n",
              "      <td>Бакалейные магазины, супермаркеты</td>\n",
              "    </tr>\n",
              "    <tr>\n",
              "      <th>123</th>\n",
              "      <td>6010</td>\n",
              "      <td>Финансовые институты — снятие наличности вручную</td>\n",
              "    </tr>\n",
              "    <tr>\n",
              "      <th>124</th>\n",
              "      <td>6011</td>\n",
              "      <td>Финансовые институты — снятие наличности автом...</td>\n",
              "    </tr>\n",
              "  </tbody>\n",
              "</table>\n",
              "</div>"
            ],
            "text/plain": [
              "     mcc_code                                    mcc_description\n",
              "20       4814  Звонки с использованием телефонов, считывающих...\n",
              "22       4829                                  Денежные переводы\n",
              "56       5411                  Бакалейные магазины, супермаркеты\n",
              "123      6010   Финансовые институты — снятие наличности вручную\n",
              "124      6011  Финансовые институты — снятие наличности автом..."
            ]
          },
          "metadata": {
            "tags": []
          },
          "execution_count": 40
        }
      ]
    }
  ]
}