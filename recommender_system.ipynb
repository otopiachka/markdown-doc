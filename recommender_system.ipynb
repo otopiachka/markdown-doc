{
  "nbformat": 4,
  "nbformat_minor": 0,
  "metadata": {
    "kernelspec": {
      "display_name": "Python 3",
      "language": "python",
      "name": "python3"
    },
    "language_info": {
      "codemirror_mode": {
        "name": "ipython",
        "version": 3
      },
      "file_extension": ".py",
      "mimetype": "text/x-python",
      "name": "python",
      "nbconvert_exporter": "python",
      "pygments_lexer": "ipython3",
      "version": "3.8.3-final"
    },
    "name": "lesson11_recsys.ipynb",
    "colab": {
      "name": "recommender_system.ipynb",
      "provenance": [],
      "collapsed_sections": [
        "cf4lbaFSxyo7",
        "llNUr_9xxypo",
        "C4Ok7gk1xypx",
        "QJmVZW0TxyqA",
        "QZ2AV3PIxyqT",
        "RXDUM0i_xyqk"
      ],
      "toc_visible": true,
      "include_colab_link": true
    }
  },
  "cells": [
    {
      "cell_type": "markdown",
      "metadata": {
        "id": "view-in-github",
        "colab_type": "text"
      },
      "source": [
        "<a href=\"https://colab.research.google.com/github/otopiachka/markdown-doc/blob/master/recommender_system.ipynb\" target=\"_parent\"><img src=\"https://colab.research.google.com/assets/colab-badge.svg\" alt=\"Open In Colab\"/></a>"
      ]
    },
    {
      "cell_type": "markdown",
      "metadata": {
        "collapsed": true,
        "id": "Y4hNYuBMxyoa"
      },
      "source": [
        "# Рекомендательные системы"
      ]
    },
    {
      "cell_type": "markdown",
      "metadata": {
        "id": "-lUBUB45Zlp8"
      },
      "source": [
        "# Новый раздел"
      ]
    },
    {
      "cell_type": "markdown",
      "metadata": {
        "id": "qYGpzP9Wxyoc"
      },
      "source": [
        "Идея рекомендательных систем на основе ближайшего соседа – использовать предпочтения некоторой группы людей, похожих на данного пользователя, чтобы рекомендовать ему что-либо.\n",
        "\n",
        "У такой модели много применений:\n",
        "    \n",
        "   * рекомендация товаров интернет-магазинов\n",
        "   * рекомендация музыки или фильмов\n",
        "   * рекомендация людей/контента в социальных сетях"
      ]
    },
    {
      "cell_type": "code",
      "metadata": {
        "id": "XVwWoUruXCic"
      },
      "source": [
        ""
      ],
      "execution_count": null,
      "outputs": []
    },
    {
      "cell_type": "markdown",
      "metadata": {
        "collapsed": true,
        "id": "kAuT-D94xyod"
      },
      "source": [
        "![](amazon.jpg)\n",
        "\n",
        "<a href=\"https://drive.google.com/uc?id=1jAZLpihYxu_FPvN9PIJ1G4S_KvO_6Ku6\n",
        "\" target=\"_blank\"><img src=\"https://drive.google.com/uc?id=1buQlTY5D-uT18rsjmp-hO60sjtN0rpXg\" \n",
        "alt=\"IMAGE ALT TEXT HERE\" width=\"700\" border=\"0\" /></a>\n"
      ]
    },
    {
      "cell_type": "markdown",
      "metadata": {
        "id": "Dk3ekSpTxyoe"
      },
      "source": [
        "**Пример рекомендательной системы Amazon.com**"
      ]
    },
    {
      "cell_type": "markdown",
      "metadata": {
        "id": "kVL4BOUmxyof"
      },
      "source": [
        "![](imdb.png)\n",
        "\n",
        "<a href=\"https://drive.google.com/uc?id=1jAZLpihYxu_FPvN9PIJ1G4S_KvO_6Ku6\n",
        "\" target=\"_blank\"><img src=\"https://drive.google.com/uc?id=1zEIj_g4A-5assEIxY7UCQpLMsaETmyCi\" \n",
        "alt=\"IMAGE ALT TEXT HERE\" width=\"700\" border=\"0\" /></a>\n"
      ]
    },
    {
      "cell_type": "markdown",
      "metadata": {
        "id": "HKjLouqcxyog"
      },
      "source": [
        "**Рекомендация фильмов от IMDb**"
      ]
    },
    {
      "cell_type": "markdown",
      "metadata": {
        "id": "qyeCkv1Yxyoh"
      },
      "source": [
        "Естественный способ получить рекомендацию о чем-либо - спросить мнение об этом у друзей или любых людей, которым нравится то же, что и вам. Эту идею можно использовать и для машины: для каждого человека алгоритм просматривает большую группу людей и ищет в ней подгруппу с похожим на данного человека вкусом. Далее создается список того, что еще нравится этим людям, а затем человеку рекомендуются предложения из этого списка. Такой алгоритм называется алгоритмом **коллаборативной фильтрации**. "
      ]
    },
    {
      "cell_type": "markdown",
      "metadata": {
        "id": "Gyar1-zixyoi"
      },
      "source": [
        "**Отключаем предупреждения**\n",
        "\n",
        "Библиотека **warnings** отвечает за то, какие предупреждения (warnings) о работе будут выводиться пользователю. \n",
        "FutureWarning - предупреждения о том, как изменится работа библиотек в будущих версиях. Такие предупреждения мы будем игнорировать.\n",
        "Чтобы включить режим игнорирования, мы отбираем все предупреждения из категории FutureWarning и выбираем для них действия 'ignore'.\n",
        "Это делается вызовом функции simplefilter c задание двух атрибутов: действия action и категории предупреждений category.\n",
        "\n",
        "**Code 0:**"
      ]
    },
    {
      "cell_type": "code",
      "metadata": {
        "id": "ckjaZ99Bxyoj"
      },
      "source": [
        "import warnings\n",
        "warnings.filterwarnings(\"ignore\")"
      ],
      "execution_count": 1,
      "outputs": []
    },
    {
      "cell_type": "markdown",
      "metadata": {
        "id": "KVU_vx2kxyon"
      },
      "source": [
        "Для красивого вывода на экран сложных объектов будем использовать **pprint**"
      ]
    },
    {
      "cell_type": "code",
      "metadata": {
        "id": "C98_ZyD-xyoo"
      },
      "source": [
        "import pprint\n",
        "pp = pprint.PrettyPrinter(indent=4)"
      ],
      "execution_count": 2,
      "outputs": []
    },
    {
      "cell_type": "markdown",
      "metadata": {
        "id": "6Rcimj60xyoq"
      },
      "source": [
        "### Подготовка данных"
      ]
    },
    {
      "cell_type": "markdown",
      "metadata": {
        "id": "W1k3PWS_xyor"
      },
      "source": [
        "Чтобы хранить сразу много предпочтений для каждого человека, удобнее всего воспользоваться **вложенным словарем**. \n",
        "\n",
        "Самый простой способ создать словарь в python - использовать фигурные скобки {}. Данные в словаре хранятся в формате ключ – значение, разделенные двоеточием:\n",
        "\n",
        "```python\n",
        "dict = {'key': 'value'}\n",
        "```\n",
        "\n",
        "Мы будем работать с *вложенным словарем* кинокритиков и выставленных ими оценок для небольшого набора данных о фильмах. Построим его следующим образом:\n",
        "\n",
        "1) для каждого кинокритика создаем словарь оценок фильмов в формате\n",
        "   ```python\n",
        "    scores_dict = {\n",
        "        'film_1': 'score_1', \n",
        "        'film_2': 'score_2', \n",
        "        ...\n",
        "    }\n",
        "   ```\n",
        "   \n",
        "2) создаем словарь кинокритиков, где в качестве значений будет соответствующий ему словарь оценок\n",
        "   ```python\n",
        "     critics = {\n",
        "         'name_1': 'scores_dict_1', \n",
        "         'name_2': 'scores_dict_2',\n",
        "         ...\n",
        "     }\n",
        "   ```\n",
        "   \n",
        "**Code 1:**"
      ]
    },
    {
      "cell_type": "code",
      "metadata": {
        "id": "rW47UBSVxyos"
      },
      "source": [
        "# Словарь кинокритиков и выставленных ими оценок\n",
        "critics={'Lisa Rose': {'Lady in the Water': 2.5, 'Snakes on a Plane': 3.5,\n",
        " 'Just My Luck': 3.0, 'Superman Returns': 3.5, 'You, Me and Dupree': 2.5, \n",
        " 'The Night Listener': 3.0},\n",
        "'Gene Seymour': {'Lady in the Water': 3.0, 'Snakes on a Plane': 3.5, \n",
        " 'Just My Luck': 1.5, 'Superman Returns': 5.0, 'The Night Listener': 3.0, \n",
        " 'You, Me and Dupree': 3.5}, \n",
        "'Michael Phillips': {'Lady in the Water': 2.5, 'Snakes on a Plane': 3.0,\n",
        " 'Superman Returns': 3.5, 'The Night Listener': 4.0},\n",
        "'Claudia Puig': {'Snakes on a Plane': 3.5, 'Just My Luck': 3.0,\n",
        " 'The Night Listener': 4.5, 'Superman Returns': 4.0, \n",
        " 'You, Me and Dupree': 2.5},\n",
        "'Mick LaSalle': {'Lady in the Water': 3.0, 'Snakes on a Plane': 4.0, \n",
        " 'Just My Luck': 2.0, 'Superman Returns': 3.0, 'The Night Listener': 3.0,\n",
        " 'You, Me and Dupree': 2.0}, \n",
        "'Jack Matthews': {'Lady in the Water': 3.0, 'Snakes on a Plane': 4.0,\n",
        " 'The Night Listener': 3.0, 'Superman Returns': 5.0, 'You, Me and Dupree': 3.5},\n",
        "'Toby': {'Snakes on a Plane':4.5,'You, Me and Dupree':1.0,'Superman Returns':4.0}}"
      ],
      "execution_count": null,
      "outputs": []
    },
    {
      "cell_type": "code",
      "metadata": {
        "id": "PeqIatl7xyov",
        "tags": [],
        "colab": {
          "base_uri": "https://localhost:8080/",
          "height": 633
        },
        "outputId": "186eca4c-8638-4784-db9b-407201ebd758"
      },
      "source": [
        "pp.pprint(critics)"
      ],
      "execution_count": null,
      "outputs": [
        {
          "output_type": "stream",
          "text": [
            "{   'Claudia Puig': {   'Just My Luck': 3.0,\n",
            "                        'Snakes on a Plane': 3.5,\n",
            "                        'Superman Returns': 4.0,\n",
            "                        'The Night Listener': 4.5,\n",
            "                        'You, Me and Dupree': 2.5},\n",
            "    'Gene Seymour': {   'Just My Luck': 1.5,\n",
            "                        'Lady in the Water': 3.0,\n",
            "                        'Snakes on a Plane': 3.5,\n",
            "                        'Superman Returns': 5.0,\n",
            "                        'The Night Listener': 3.0,\n",
            "                        'You, Me and Dupree': 3.5},\n",
            "    'Jack Matthews': {   'Lady in the Water': 3.0,\n",
            "                         'Snakes on a Plane': 4.0,\n",
            "                         'Superman Returns': 5.0,\n",
            "                         'The Night Listener': 3.0,\n",
            "                         'You, Me and Dupree': 3.5},\n",
            "    'Lisa Rose': {   'Just My Luck': 3.0,\n",
            "                     'Lady in the Water': 2.5,\n",
            "                     'Snakes on a Plane': 3.5,\n",
            "                     'Superman Returns': 3.5,\n",
            "                     'The Night Listener': 3.0,\n",
            "                     'You, Me and Dupree': 2.5},\n",
            "    'Michael Phillips': {   'Lady in the Water': 2.5,\n",
            "                            'Snakes on a Plane': 3.0,\n",
            "                            'Superman Returns': 3.5,\n",
            "                            'The Night Listener': 4.0},\n",
            "    'Mick LaSalle': {   'Just My Luck': 2.0,\n",
            "                        'Lady in the Water': 3.0,\n",
            "                        'Snakes on a Plane': 4.0,\n",
            "                        'Superman Returns': 3.0,\n",
            "                        'The Night Listener': 3.0,\n",
            "                        'You, Me and Dupree': 2.0},\n",
            "    'Toby': {   'Snakes on a Plane': 4.5,\n",
            "                'Superman Returns': 4.0,\n",
            "                'You, Me and Dupree': 1.0}}\n"
          ],
          "name": "stdout"
        }
      ]
    },
    {
      "cell_type": "markdown",
      "metadata": {
        "id": "fhKbiEVUxyo1"
      },
      "source": [
        "**Code 2:**  \n",
        "**Упражнение.** Выведите оценки, которые выставил Toby"
      ]
    },
    {
      "cell_type": "code",
      "metadata": {
        "id": "shl5uOURxyo1",
        "tags": [],
        "colab": {
          "base_uri": "https://localhost:8080/",
          "height": 34
        },
        "outputId": "9d96a923-b1e9-4bc0-ae24-798a887036a9"
      },
      "source": [
        "pp.pprint(critics['Toby'])"
      ],
      "execution_count": null,
      "outputs": [
        {
          "output_type": "stream",
          "text": [
            "{'Snakes on a Plane': 4.5, 'Superman Returns': 4.0, 'You, Me and Dupree': 1.0}\n"
          ],
          "name": "stdout"
        }
      ]
    },
    {
      "cell_type": "markdown",
      "metadata": {
        "id": "m-DbnG-Lxyo4"
      },
      "source": [
        "**Code 3:**  \n",
        "**Упражнение.** Выведите оценку критика Lisa Rose для фильма Lady in the Water"
      ]
    },
    {
      "cell_type": "code",
      "metadata": {
        "id": "_e4_I81Vxyo5",
        "tags": [],
        "colab": {
          "base_uri": "https://localhost:8080/",
          "height": 34
        },
        "outputId": "ea4e1ee2-1bed-4960-e451-ffb171a3b585"
      },
      "source": [
        "pp.pprint(critics['Lisa Rose']['Lady in the Water'])"
      ],
      "execution_count": null,
      "outputs": [
        {
          "output_type": "stream",
          "text": [
            "2.5\n"
          ],
          "name": "stdout"
        }
      ]
    },
    {
      "cell_type": "markdown",
      "metadata": {
        "id": "cf4lbaFSxyo7"
      },
      "source": [
        "### Критерий похожести"
      ]
    },
    {
      "cell_type": "markdown",
      "metadata": {
        "id": "iOgyFSQQxyo8"
      },
      "source": [
        "Как мы уже говорили, чтобы выделить подгруппу людей с похожим вкусом, необходимо как-то определить, насколько люди похожи. В нашем случае мы будем сравнивать оценки людей у одинаковых фильмов. Мы рассмотрим два способа сравнения. С помощью \n",
        "- расстояния Евклида \n",
        "- корреляции Пирсона"
      ]
    },
    {
      "cell_type": "markdown",
      "metadata": {
        "id": "88OOgKKXxyo9"
      },
      "source": [
        "**Оценка по евклидову расстоянию**"
      ]
    },
    {
      "cell_type": "markdown",
      "metadata": {
        "id": "2UhBb6NWxyo9"
      },
      "source": [
        "Евклидово расстояние для точек $x = (x_1, x_2, ... , x_n)$ и $y = (y_1, y_2, ... , y_n)$ определяется следующим образом:\n",
        "\n",
        "\\begin{equation}\n",
        "d(x, y) = \\sqrt{\\sum_{i = 1}^n (x_i - y_i)^2}\n",
        "\\end{equation}"
      ]
    },
    {
      "cell_type": "markdown",
      "metadata": {
        "id": "qJ3URIOrxyo-"
      },
      "source": [
        "Для вычисления квадратного корня можно воспользоваться готовой функцией **sqrt()** из библиотеки для работы с числами **math**:\n",
        "\n",
        "**Code 4:**"
      ]
    },
    {
      "cell_type": "code",
      "metadata": {
        "id": "yi82VNh0xyo_"
      },
      "source": [
        "from math import sqrt"
      ],
      "execution_count": null,
      "outputs": []
    },
    {
      "cell_type": "markdown",
      "metadata": {
        "id": "sPSNyHX5xypC"
      },
      "source": [
        "Для понимания расстояния Евклида рассмотрим случай, когда *n = 2*. То есть каждый объект выборки (точка) описывается двумя параметрами (координатами). $x = (x_1, x_2)$ и $y = (y_1, y_2)$. Тогда Евклидово расстояние равно расстоянию между точками на плоскости.\n",
        "\n",
        "\\begin{equation}\n",
        "d(x, y) = \\sqrt{\\sum_{i = 1}^n (x_i - y_i)^2} = \\sqrt{(x_2 - x_1)^2 + (y_2 - y_1)^2}\n",
        "\\end{equation}\n",
        "\n",
        "Или, если представить задачу геометрически:\n",
        "\n",
        "<a href=\"https://drive.google.com/uc?id=1jAZLpihYxu_FPvN9PIJ1G4S_KvO_6Ku6\n",
        "\" target=\"_blank\"><img src=\"https://drive.google.com/uc?id=1BXgfArl4T8N2M4eFur3JrsGloGWDDAlb\" \n",
        "alt=\"IMAGE ALT TEXT HERE\" width=\"300\" border=\"0\" /></a>\n"
      ]
    },
    {
      "cell_type": "markdown",
      "metadata": {
        "id": "z9WNha1hvmhb"
      },
      "source": [
        "**Упражнение.**  \n",
        "Реализуйте функцию для вычисления расстояния Евклида"
      ]
    },
    {
      "cell_type": "code",
      "metadata": {
        "id": "M8PyCnouvp-G"
      },
      "source": [
        "def compute_euclid(x, y):\n",
        "    # your code here\n",
        "    distance = 0\n",
        "    for i in range(len(x)):\n",
        "      distance = distance + (y[i] - x[i]) ** 2\n",
        "    return sqrt(distance)"
      ],
      "execution_count": null,
      "outputs": []
    },
    {
      "cell_type": "markdown",
      "metadata": {
        "id": "MP5fk4udxypC"
      },
      "source": [
        "Для примера вычислим расстояния Евклида для близких точек с координатам (1, 1) и (2, 3):\n",
        "\n",
        "**Code 5:**"
      ]
    },
    {
      "cell_type": "code",
      "metadata": {
        "id": "1BJV1H73xypD",
        "colab": {
          "base_uri": "https://localhost:8080/"
        },
        "outputId": "1fce1d30-0132-47c7-b26f-82e3d5c04319"
      },
      "source": [
        "compute_euclid([1, 1], [2, 3])"
      ],
      "execution_count": null,
      "outputs": [
        {
          "output_type": "execute_result",
          "data": {
            "text/plain": [
              "2.23606797749979"
            ]
          },
          "metadata": {
            "tags": []
          },
          "execution_count": 13
        }
      ]
    },
    {
      "cell_type": "markdown",
      "metadata": {
        "id": "QPl2ZDzSxypI"
      },
      "source": [
        "Теперь вычислим расстояния Евклида для точек, которые находятся далеко (1, 1) и (8, 10):\n",
        "\n",
        "**Code 6:**"
      ]
    },
    {
      "cell_type": "code",
      "metadata": {
        "id": "oS5NfMNHxypJ",
        "colab": {
          "base_uri": "https://localhost:8080/"
        },
        "outputId": "06d64b14-90f9-4207-eae8-c189a2f762d8"
      },
      "source": [
        "compute_euclid([1, 1], [8, 10])"
      ],
      "execution_count": null,
      "outputs": [
        {
          "output_type": "execute_result",
          "data": {
            "text/plain": [
              "11.40175425099138"
            ]
          },
          "metadata": {
            "tags": []
          },
          "execution_count": 14
        }
      ]
    },
    {
      "cell_type": "markdown",
      "metadata": {
        "id": "AZkWMa__xypL"
      },
      "source": [
        "Расстояние, вычисленное по этой формуле, будет тем меньше, чем больше сходство людей (чем ближе точки). Нам же нужна функция, значение которой будет, наоборот, большое, если люди сильно похожи друг на друга. То есть схожесть больше (от 0 до 1), если точки ближе друг другу\n",
        "\n",
        "\n",
        "Для этого будем использовать функцию \"похожести\" в таком виде:\n",
        "\n",
        "\\begin{equation}\n",
        "\\text{similarity }(x, y) = \\dfrac{1}{1 + d(x, y)},\n",
        "\\end{equation}\n",
        "\n",
        "где $d(x, y)$ - расстояние Евклида. "
      ]
    },
    {
      "cell_type": "markdown",
      "metadata": {
        "id": "S0BcscxQxypM"
      },
      "source": [
        "Пример вычисления сходства по новой функции для точек с координатами (1, 1) и (2, 3):\n",
        "\n",
        "**Code 7:**"
      ]
    },
    {
      "cell_type": "code",
      "metadata": {
        "id": "NthnN2f3xypN",
        "colab": {
          "base_uri": "https://localhost:8080/"
        },
        "outputId": "4290e416-6918-46cc-cd51-52ca7389f9ec"
      },
      "source": [
        "1 / (1 + compute_euclid([1, 1], [2, 3]))"
      ],
      "execution_count": null,
      "outputs": [
        {
          "output_type": "execute_result",
          "data": {
            "text/plain": [
              "0.3090169943749474"
            ]
          },
          "metadata": {
            "tags": []
          },
          "execution_count": 15
        }
      ]
    },
    {
      "cell_type": "markdown",
      "metadata": {
        "id": "vmY4Yfq-Trcr"
      },
      "source": [
        "# Новый раздел"
      ]
    },
    {
      "cell_type": "markdown",
      "metadata": {
        "id": "1FTeBZ00xypQ"
      },
      "source": [
        "Пример вычисления сходства по новой функции для точек с координатами (1, 1) и (8, 10):\n",
        "\n",
        "**Code 8:**"
      ]
    },
    {
      "cell_type": "code",
      "metadata": {
        "id": "UODSjEYaxypQ",
        "colab": {
          "base_uri": "https://localhost:8080/"
        },
        "outputId": "54f09d7e-b3f3-44c8-b490-470268525ed2"
      },
      "source": [
        "1 / (1 + compute_euclid([1, 1], [8, 10]))"
      ],
      "execution_count": null,
      "outputs": [
        {
          "output_type": "execute_result",
          "data": {
            "text/plain": [
              "0.08063375388365411"
            ]
          },
          "metadata": {
            "tags": []
          },
          "execution_count": 16
        }
      ]
    },
    {
      "cell_type": "markdown",
      "metadata": {
        "id": "KxSbdwfTxypT"
      },
      "source": [
        "Далее реализуем несколько простых функций для коллаборативной фильтрации на основе ближайшего соседа. Чтобы воспользоваться ими, необходимо их импортировать из модуля **recommendations**:\n",
        "\n",
        "**Code 9:**"
      ]
    },
    {
      "cell_type": "code",
      "metadata": {
        "id": "Vzx4ZVoxxypU",
        "colab": {
          "base_uri": "https://localhost:8080/",
          "height": 313
        },
        "outputId": "5a00566a-f153-44ad-d222-3789d964fdbb"
      },
      "source": [
        "from recommendations import *"
      ],
      "execution_count": 3,
      "outputs": [
        {
          "output_type": "error",
          "ename": "ModuleNotFoundError",
          "evalue": "ignored",
          "traceback": [
            "\u001b[0;31m---------------------------------------------------------------------------\u001b[0m",
            "\u001b[0;31mModuleNotFoundError\u001b[0m                       Traceback (most recent call last)",
            "\u001b[0;32m<ipython-input-3-c524be74991c>\u001b[0m in \u001b[0;36m<module>\u001b[0;34m()\u001b[0m\n\u001b[0;32m----> 1\u001b[0;31m \u001b[0;32mfrom\u001b[0m \u001b[0mrecommendations\u001b[0m \u001b[0;32mimport\u001b[0m \u001b[0;34m*\u001b[0m\u001b[0;34m\u001b[0m\u001b[0;34m\u001b[0m\u001b[0m\n\u001b[0m",
            "\u001b[0;31mModuleNotFoundError\u001b[0m: No module named 'recommendations'",
            "",
            "\u001b[0;31m---------------------------------------------------------------------------\u001b[0;32m\nNOTE: If your import is failing due to a missing package, you can\nmanually install dependencies using either !pip or !apt.\n\nTo view examples of installing some common dependencies, click the\n\"Open Examples\" button below.\n\u001b[0;31m---------------------------------------------------------------------------\u001b[0m\n"
          ]
        }
      ]
    },
    {
      "cell_type": "markdown",
      "metadata": {
        "id": "QHfiH9dTxypX"
      },
      "source": [
        "Функцию для подсчета сходства двух критиков на основе расстояния Евклида реализована в модуле **recommendations** и называется **sim_distance()**. Функция принимает на вход три аргумента:\n",
        "* словарь критиков\n",
        "* имя первого критика для сравнения\n",
        "* имя второго критика для сравнения"
      ]
    },
    {
      "cell_type": "markdown",
      "metadata": {
        "id": "ravKDWOaxypY"
      },
      "source": [
        "Посмотрим, как работает эта функция для двух критиков Lisa Rose и Toby:\n",
        "\n",
        "**Code 10:**"
      ]
    },
    {
      "cell_type": "code",
      "metadata": {
        "id": "Dol4H8AgxypZ",
        "colab": {
          "base_uri": "https://localhost:8080/"
        },
        "outputId": "e92a0ddb-7763-4a54-dffd-f8e70ab93546"
      },
      "source": [
        "sim_distance(critics, 'Lisa Rose', 'Toby')"
      ],
      "execution_count": null,
      "outputs": [
        {
          "output_type": "execute_result",
          "data": {
            "text/plain": [
              "0.2222222222222222"
            ]
          },
          "metadata": {
            "tags": []
          },
          "execution_count": 21
        }
      ]
    },
    {
      "cell_type": "markdown",
      "metadata": {
        "id": "WCtW_24Sxype"
      },
      "source": [
        "Эта функция работает также как:\n",
        "\n",
        "\\begin{equation}\n",
        "\\text{similarity }(x, y) = \\dfrac{1}{1 + d(x, y)},\n",
        "\\end{equation}\n",
        "\n",
        "где $d(x, y)$ - расстояние Евклида. \n",
        "\n",
        "Однако, по осям будет фильмы и оценки от критиков. Если у критиков нет одинаковых фильмов, то мы этих критиков не рассматриваем"
      ]
    },
    {
      "cell_type": "markdown",
      "metadata": {
        "id": "nMyTUfCbxypf"
      },
      "source": [
        "**Коэффициент корреляции Пирсона** "
      ]
    },
    {
      "cell_type": "markdown",
      "metadata": {
        "id": "0Bq9JuCExypg"
      },
      "source": [
        "Другой способ определять степень схожести - использовать коэффициент корреляции Пирсона. Этот коэффициент показывает, насколько два набора данных хорошо ложатся на прямую. "
      ]
    },
    {
      "cell_type": "markdown",
      "metadata": {
        "id": "Inb-3sBExyph"
      },
      "source": [
        "<a href=\"https://drive.google.com/uc?id=1jAZLpihYxu_FPvN9PIJ1G4S_KvO_6Ku6\n",
        "\" target=\"_blank\"><img src=\"https://drive.google.com/uc?id=1qXZxG2sE3Y0oAcgayaEdN6nCYVunj_83\" \n",
        "alt=\"IMAGE ALT TEXT HERE\" width=\"800\" border=\"0\" /></a>"
      ]
    },
    {
      "cell_type": "markdown",
      "metadata": {
        "id": "LRepT7krxypi"
      },
      "source": [
        "Два кинокритика со средним значением корреляции 0.41 (слева) и два кинокритика с высоким значением корреляции 0.75 (справа).  "
      ]
    },
    {
      "cell_type": "markdown",
      "metadata": {
        "id": "uKzTDyNcxypj"
      },
      "source": [
        "Корреляция Пирсона считается по формуле:     \n",
        "\\begin{equation}\n",
        "    \\text{corr}(x, y) = \\dfrac{\\sum_{i = 1}^n (x_i - \\overline x) (y_i - \\overline y)}{\\sqrt{\\sum_{i = 1}^n (x_i - \\overline x)^2 \\sum_{i = 1}^n (y_i - \\overline y)^2}}\n",
        "\\end{equation}\n",
        "где $\\overline x = \\frac{1}{n}\\sum_{j = 1}^n x_j, \\overline y = \\frac{1}{n}\\sum_{j = 1}^n y_j$ - средние значения"
      ]
    },
    {
      "cell_type": "markdown",
      "metadata": {
        "id": "p3E7vXwAxypj"
      },
      "source": [
        "По аналогии с функцией **sim_distance()** в модуле **recommendations** реализована функция для подсчета сходства двух критиков на основе корреляции Пирсона. Она называется **sim_pearson()**. Функция принимает на вход те же самые аргументы, что и **sim_distance()**:\n",
        "* словарь критиков\n",
        "* имя первого критика для сравнения\n",
        "* имя второго критика для сравнения"
      ]
    },
    {
      "cell_type": "markdown",
      "metadata": {
        "collapsed": true,
        "id": "xsZWvacrxypk"
      },
      "source": [
        "Посмотрим, как работает эта функция для двух критиков Lisa Rose и Gene Seymour:\n",
        "\n",
        "**Code 11:**  \n",
        "**Задание.** Допишите функцию для вычисления корреляции Пирсона"
      ]
    },
    {
      "cell_type": "code",
      "metadata": {
        "id": "XBZxMyLAv7OU"
      },
      "source": [
        "def pearson_corr(x, y):\n",
        "    numerator = 0\n",
        "    x_norm = 0\n",
        "    y_norm = 0\n",
        "\n",
        "    x_mean = sum(x) / len(x)\n",
        "    y_mean = sum(y) / len(y)\n",
        "    for i in range(len(x)):\n",
        "        numerator += 1\n",
        "        x_norm += 1\n",
        "        y_norm += 1\n",
        "    return # your code here"
      ],
      "execution_count": null,
      "outputs": []
    },
    {
      "cell_type": "code",
      "metadata": {
        "id": "w-0G2kHBv_sM",
        "tags": [],
        "colab": {
          "base_uri": "https://localhost:8080/"
        },
        "outputId": "6251c414-cd10-4a5f-8e9f-34e94f4deb64"
      },
      "source": [
        "x = []\n",
        "y = []\n",
        "for film in critics['Lisa Rose']:\n",
        "    x.append(critics['Lisa Rose'][film])\n",
        "    y.append(critics['Gene Seymour'][film])\n",
        "\n",
        "print(pearson_corr(x, y))"
      ],
      "execution_count": null,
      "outputs": [
        {
          "output_type": "stream",
          "text": [
            "None\n"
          ],
          "name": "stdout"
        }
      ]
    },
    {
      "cell_type": "code",
      "metadata": {
        "id": "V4quusN2xypl",
        "colab": {
          "base_uri": "https://localhost:8080/"
        },
        "outputId": "6d60323e-3094-442d-db93-b5016dcbb031"
      },
      "source": [
        "sim_pearson(critics, 'Lisa Rose', 'Gene Seymour')"
      ],
      "execution_count": null,
      "outputs": [
        {
          "output_type": "execute_result",
          "data": {
            "text/plain": [
              "0.39605901719066977"
            ]
          },
          "metadata": {
            "tags": []
          },
          "execution_count": 24
        }
      ]
    },
    {
      "cell_type": "code",
      "metadata": {
        "id": "2F-k6JIFwE9P",
        "colab": {
          "base_uri": "https://localhost:8080/"
        },
        "outputId": "404706aa-ce7f-421a-f051-3aea14fc0e87"
      },
      "source": [
        "from scipy.stats import pearsonr\n",
        "pearsonr(x, y)[0]"
      ],
      "execution_count": null,
      "outputs": [
        {
          "output_type": "execute_result",
          "data": {
            "text/plain": [
              "0.39605901719066977"
            ]
          },
          "metadata": {
            "tags": []
          },
          "execution_count": 25
        }
      ]
    },
    {
      "cell_type": "markdown",
      "metadata": {
        "id": "llNUr_9xxypo"
      },
      "source": [
        "### Ранжирование критиков"
      ]
    },
    {
      "cell_type": "markdown",
      "metadata": {
        "id": "9GHarQp1xypp"
      },
      "source": [
        "После того как мы выбрали критерий для сравнения двух людей, можно начать искать для каждого человека подгруппу других людей с наиболее похожими вкусами. \n",
        "\n",
        "Для этого в модуле **recommendations** реализована функция **topMatches()**. Функция возвращает список n наилучших соответствий для человека из словаря critics. \n",
        "\n",
        "Соответственно, аргументы у функции: \n",
        "* словарь критиков *critics\\_dict*\n",
        "* имя персоны *person*, для которой подбираем соответствия \n",
        "* число *n* наилучших соответствий \n",
        "\n",
        "Кроме этого, так как мы хотим использовать различные расстояния, то в качестве аргумента мы будем также передавать имя функции-расстояния (*similarity*).  "
      ]
    },
    {
      "cell_type": "markdown",
      "metadata": {
        "id": "IICRst0Mxypp"
      },
      "source": [
        "Пример вычисления топ-3 критиков похожих на Toby по корреляции Пирсона:\n",
        "\n",
        "**Code 12:**"
      ]
    },
    {
      "cell_type": "code",
      "metadata": {
        "id": "CM0WA6yBxypq",
        "colab": {
          "base_uri": "https://localhost:8080/"
        },
        "outputId": "86934603-22e1-4f58-8cb9-f0b279200d04"
      },
      "source": [
        "topMatches(critics, 'Toby', n=3, similarity=sim_pearson)"
      ],
      "execution_count": null,
      "outputs": [
        {
          "output_type": "execute_result",
          "data": {
            "text/plain": [
              "[(0.9912407071619302, 'Lisa Rose'),\n",
              " (0.9244734516419049, 'Mick LaSalle'),\n",
              " (0.8934051474415643, 'Claudia Puig')]"
            ]
          },
          "metadata": {
            "tags": []
          },
          "execution_count": 26
        }
      ]
    },
    {
      "cell_type": "markdown",
      "metadata": {
        "id": "l11l0LBWxyps"
      },
      "source": [
        "Как работает эта функция: \n",
        "*  считаем схожесть интересующего нас критика с каждым другим критиком используя функцию **similarity**\n",
        "*  сортируем результаты\n",
        "*  возвращаем топ **n** результатов"
      ]
    },
    {
      "cell_type": "markdown",
      "metadata": {
        "id": "a6zrN8IRxypt"
      },
      "source": [
        "**Code 13:**  \n",
        "**Упражнение** Вычислите топ-3 критиков похожих на Toby по евклидову расстоянию:"
      ]
    },
    {
      "cell_type": "code",
      "metadata": {
        "id": "63IHuLZSxypu"
      },
      "source": [
        "# your code here"
      ],
      "execution_count": null,
      "outputs": []
    },
    {
      "cell_type": "markdown",
      "metadata": {
        "id": "UnsodNg7xypw"
      },
      "source": [
        "Выбор расстояния для подбора похожести зависит от конкретной задачи. Имеет смысл попробовать разные критерии и посмотреть, какой из них дает наилучший результат. "
      ]
    },
    {
      "cell_type": "markdown",
      "metadata": {
        "id": "C4Ok7gk1xypx"
      },
      "source": [
        "## Рекомендация фильмов (User-based подход)"
      ]
    },
    {
      "cell_type": "markdown",
      "metadata": {
        "id": "oigqx0dDxypy"
      },
      "source": [
        "Мы умеем находить людей с похожим мнением как у рассматриваемого человека. Но как получить конкретную рекомендацию с набором фильмов? Можно было бы просто посмотреть на то, какие фильмы понравились похожему человеку, и выбрать из них не просмотренные. Однако, такой способ не стабилен: можем, например, отобрать критика, которому по каким-то причинам понравился фильм, получивший негативные оценки от остальных. \n",
        "\n",
        "Чтобы разрешить эту проблему, можно ранжировать сами фильмы, вычисляя взвешенную сумму оценок критиков. Мы будем брать оценку фильма у критика и умножать его на коэффициент похожести с тем, для которого мы строим рекомендацию. Затем полученный результат суммировать и нормировать.  \n",
        "\n",
        "Идея такого подхода в том, что люди похожие на тебя вносят больший вклад в \"рейтинг\" фильма. "
      ]
    },
    {
      "cell_type": "markdown",
      "metadata": {
        "id": "Ep7vuCLpxypz"
      },
      "source": [
        "<a href=\"https://drive.google.com/uc?id=1jAZLpihYxu_FPvN9PIJ1G4S_KvO_6Ku6\n",
        "\" target=\"_blank\"><img src=\"https://drive.google.com/uc?id=1x0QC1Blvr_ZugJ5BKPJdi2Bp30FvBxvL\" \n",
        "alt=\"IMAGE ALT TEXT HERE\" width=\"500\" border=\"0\" /></a>"
      ]
    },
    {
      "cell_type": "markdown",
      "metadata": {
        "id": "CYT3JXArxypz"
      },
      "source": [
        "Этот подход реализован в модуле **recommendations** в функции **getRecommendations()**. Функция принимает на вход следующие аргументы: \n",
        "* словарь критиков *critics\\_dict*\n",
        "* имя персоны *person*, для которой подбираем соответствия \n",
        "* имя функции-критерия для сравнения\n",
        "\n",
        "**Code 14:**"
      ]
    },
    {
      "cell_type": "code",
      "metadata": {
        "id": "68nh1yH-xyp1",
        "colab": {
          "base_uri": "https://localhost:8080/"
        },
        "outputId": "d490b729-b494-46b0-a670-929f99dc99e4"
      },
      "source": [
        "getRecommendations(critics,'Toby', sim_pearson)"
      ],
      "execution_count": null,
      "outputs": [
        {
          "output_type": "execute_result",
          "data": {
            "text/plain": [
              "[(3.347789526713101, 'The Night Listener'),\n",
              " (2.832549918264162, 'Lady in the Water'),\n",
              " (2.530980703765565, 'Just My Luck')]"
            ]
          },
          "metadata": {
            "tags": []
          },
          "execution_count": 28
        }
      ]
    },
    {
      "cell_type": "markdown",
      "metadata": {
        "id": "HBxow-45xyp8"
      },
      "source": [
        "Как работает эта функция:\n",
        "*  считаем схожесть пользователя с каждым другим пользователем\n",
        "*  перебираем фильмы, которые смотрели другие пользователи, но не смотрел текущий пользователь\n",
        "*  нормируем рейтинг фильмов на основе того насколько он понравился другим пользователям, и того насколько каждый из других пользователей похож на текущего пользователя\n",
        "*  сортируем список"
      ]
    },
    {
      "cell_type": "markdown",
      "metadata": {
        "id": "pR4A_2uLxyp9"
      },
      "source": [
        "**Code 15:**"
      ]
    },
    {
      "cell_type": "code",
      "metadata": {
        "id": "H8LpwS_Xxyp9",
        "colab": {
          "base_uri": "https://localhost:8080/"
        },
        "outputId": "d54a8d02-0a21-48d5-c0f6-dd0902b75ec2"
      },
      "source": [
        "getRecommendations(critics,'Toby', sim_distance)"
      ],
      "execution_count": null,
      "outputs": [
        {
          "output_type": "execute_result",
          "data": {
            "text/plain": [
              "[(3.5002478401415877, 'The Night Listener'),\n",
              " (2.7561242939959363, 'Lady in the Water'),\n",
              " (2.461988486074374, 'Just My Luck')]"
            ]
          },
          "metadata": {
            "tags": []
          },
          "execution_count": 29
        }
      ]
    },
    {
      "cell_type": "markdown",
      "metadata": {
        "id": "O4HGFTxnxyqA"
      },
      "source": [
        "Мы получили ранжированный список фильмов, а также прогноз оценки, которую поставит Toby этим фильмам. "
      ]
    },
    {
      "cell_type": "markdown",
      "metadata": {
        "id": "QJmVZW0TxyqA"
      },
      "source": [
        "## Коллаборативная фильтрация по сходству объектов (Item-based collaborative filtering)"
      ]
    },
    {
      "cell_type": "markdown",
      "metadata": {
        "id": "dZAPvgpTxyqB"
      },
      "source": [
        "Мы реализовали механизм выдачи рекомендаций таким образом, что для создания набора данных необходимы оценки, выставленные каждым\n",
        "пользователем. Для нескольких тысяч людей это, возможно, и будет работать, но, когда речь идет о миллионах пользователей и товаров, сравнение каждого пользователя со всеми другими, а затем сравнение товаров, займет недопустимо много времени. "
      ]
    },
    {
      "cell_type": "markdown",
      "metadata": {
        "id": "f0nZBimVxyqC"
      },
      "source": [
        "<a href=\"https://drive.google.com/uc?id=1jAZLpihYxu_FPvN9PIJ1G4S_KvO_6Ku6\n",
        "\" target=\"_blank\"><img src=\"https://drive.google.com/uc?id=1Vd3ofIheUgmxDKLq72cVPTPyl5IyAxo0\" \n",
        "alt=\"IMAGE ALT TEXT HERE\" width=\"500\" border=\"0\" /></a>\n"
      ]
    },
    {
      "cell_type": "markdown",
      "metadata": {
        "id": "zis-eUSbxyqC"
      },
      "source": [
        "Техника, которую мы применяли до сих пор, называется **коллаборативной фильтрацией по схожести пользователей**. Альтернатива известна под названием **коллаборативная фильтрация по схожести образцов**. "
      ]
    },
    {
      "cell_type": "markdown",
      "metadata": {
        "id": "r2xvZzNpxyqD"
      },
      "source": [
        "Основная идея процедуры фильтрации по схожести образцов заключается в том, чтобы для каждого образца заранее вычислить большинство похожих на него. Тогда для выдачи рекомендаций алгоритму достаточно будет найти те образцы, которым пользователь выставил наивысшие оценки, а затем сформировать список образцов, максимально похожих на эти. \n",
        "\n",
        "Отметим одно существенное отличие: хотя на первом шаге необходимо исследовать все данные, результаты сравнения образцов изменяются не так часто, как результаты сравнения пользователей."
      ]
    },
    {
      "cell_type": "markdown",
      "metadata": {
        "id": "8jpIms0rxyqD"
      },
      "source": [
        "<a href=\"https://drive.google.com/uc?id=1jAZLpihYxu_FPvN9PIJ1G4S_KvO_6Ku6\n",
        "\" target=\"_blank\"><img src=\"https://drive.google.com/uc?id=1VAoSpaUcbabIFRWlXqrBFDs7LhIISkA5\" \n",
        "alt=\"IMAGE ALT TEXT HERE\" width=\"700\" border=\"0\" /></a>"
      ]
    },
    {
      "cell_type": "markdown",
      "metadata": {
        "collapsed": true,
        "id": "_8Z0LEmBxyqE"
      },
      "source": [
        "Чтобы сравнивать образцы, нужно первым делом построить полный набор данных о похожих образцах. В первую очередь, нам нужно переделать словарь предпочтений критиков таким образом, чтобы теперь был словарь фильмов и их оценок: \n",
        "```python\n",
        "film_dict = {\n",
        "    'film_name_1': \n",
        "    {'critic_1': 'score_1', \n",
        "     'critic_2': 'score_2', \n",
        "     ...\n",
        "    }, \n",
        "    ...\n",
        "}\n",
        "```\n",
        "Далее для каждого фильма посчитать наиболее похожие образцы и коэффициенты похожести для них. Для подсчета схожести будем использовать евклидово расстояние. \n",
        "\n",
        "В модуле **recommendations** есть функция **calculateSimilarItems()**, которая делает сразу оба шага. На вход её нужно подать словарь с оценками критиков *critics* и число образцов, которые мы считаем наиболее похожими (остальные не выводим).\n",
        "\n",
        "**Code 16:**"
      ]
    },
    {
      "cell_type": "code",
      "metadata": {
        "id": "mcnJJQ9cxyqG"
      },
      "source": [
        "itemsim = calculateSimilarItems(critics, n=10)"
      ],
      "execution_count": null,
      "outputs": []
    },
    {
      "cell_type": "code",
      "metadata": {
        "id": "PwUnCFgqxyqJ",
        "tags": [],
        "colab": {
          "base_uri": "https://localhost:8080/"
        },
        "outputId": "56a887dc-7676-48e2-9f79-f271b8da0b63"
      },
      "source": [
        "pp.pprint(itemsim)"
      ],
      "execution_count": null,
      "outputs": [
        {
          "output_type": "stream",
          "text": [
            "{   'Just My Luck': [   (0.2222222222222222, 'Lady in the Water'),\n",
            "                        (0.18181818181818182, 'You, Me and Dupree'),\n",
            "                        (0.15384615384615385, 'The Night Listener'),\n",
            "                        (0.10526315789473684, 'Snakes on a Plane'),\n",
            "                        (0.06451612903225806, 'Superman Returns')],\n",
            "    'Lady in the Water': [   (0.4, 'You, Me and Dupree'),\n",
            "                             (0.2857142857142857, 'The Night Listener'),\n",
            "                             (0.2222222222222222, 'Snakes on a Plane'),\n",
            "                             (0.2222222222222222, 'Just My Luck'),\n",
            "                             (0.09090909090909091, 'Superman Returns')],\n",
            "    'Snakes on a Plane': [   (0.2222222222222222, 'Lady in the Water'),\n",
            "                             (0.18181818181818182, 'The Night Listener'),\n",
            "                             (0.16666666666666666, 'Superman Returns'),\n",
            "                             (0.10526315789473684, 'Just My Luck'),\n",
            "                             (0.05128205128205128, 'You, Me and Dupree')],\n",
            "    'Superman Returns': [   (0.16666666666666666, 'Snakes on a Plane'),\n",
            "                            (0.10256410256410256, 'The Night Listener'),\n",
            "                            (0.09090909090909091, 'Lady in the Water'),\n",
            "                            (0.06451612903225806, 'Just My Luck'),\n",
            "                            (0.05333333333333334, 'You, Me and Dupree')],\n",
            "    'The Night Listener': [   (0.2857142857142857, 'Lady in the Water'),\n",
            "                              (0.18181818181818182, 'Snakes on a Plane'),\n",
            "                              (0.15384615384615385, 'Just My Luck'),\n",
            "                              (0.14814814814814814, 'You, Me and Dupree'),\n",
            "                              (0.10256410256410256, 'Superman Returns')],\n",
            "    'You, Me and Dupree': [   (0.4, 'Lady in the Water'),\n",
            "                              (0.18181818181818182, 'Just My Luck'),\n",
            "                              (0.14814814814814814, 'The Night Listener'),\n",
            "                              (0.05333333333333334, 'Superman Returns'),\n",
            "                              (0.05128205128205128, 'Snakes on a Plane')]}\n"
          ],
          "name": "stdout"
        }
      ]
    },
    {
      "cell_type": "markdown",
      "metadata": {
        "id": "XajxbUimxyqM"
      },
      "source": [
        "Получили вложенный словарь с фильмами и их похожестью на другие фильмы. "
      ]
    },
    {
      "cell_type": "markdown",
      "metadata": {
        "id": "fcsEaB_fxyqN"
      },
      "source": [
        "Теперь мы готовы выдавать рекомендации, пользуясь словарем данных о схожести образцов. По аналогии с тем, что мы уже делали, необходимо получить список всех образцов, которым пользователь выставлял оценки, найти похожие и взвесить их с учетом коэффициентов подобия (умножить оценку на коэффициент подобия). "
      ]
    },
    {
      "cell_type": "markdown",
      "metadata": {
        "id": "EpUyM57bxyqO"
      },
      "source": [
        "<a href=\"https://drive.google.com/uc?id=1jAZLpihYxu_FPvN9PIJ1G4S_KvO_6Ku6\n",
        "\" target=\"_blank\"><img src=\"https://drive.google.com/uc?id=1QIJpqC6zQkiQ-1-AzNSmvK4bc8fohsH1\" \n",
        "alt=\"IMAGE ALT TEXT HERE\" width=\"500\" border=\"0\" /></a>"
      ]
    },
    {
      "cell_type": "markdown",
      "metadata": {
        "id": "wmkuMQvaxyqP"
      },
      "source": [
        "Этот механизм реализован в функции **getRecommendedItems()** из **recommendations**. На вход подается:\n",
        "* словарь с оценками пользователя (в нашем случае это словарь критиков, *critics*)\n",
        "* словарь с данными о схожести образцов, *itemsim*\n",
        "* имя критика, для которого строим рекомендации"
      ]
    },
    {
      "cell_type": "markdown",
      "metadata": {
        "id": "JaUsLOhqxyqP"
      },
      "source": [
        "Получим рекомендации для пользователя Toby:\n",
        "\n",
        "**Code 17:**"
      ]
    },
    {
      "cell_type": "code",
      "metadata": {
        "id": "bC-V0ovMxyqQ",
        "colab": {
          "base_uri": "https://localhost:8080/"
        },
        "outputId": "01244aea-4c41-44f6-d9bb-0c6eca71efff"
      },
      "source": [
        "getRecommendedItems(critics, itemsim, 'Toby')"
      ],
      "execution_count": null,
      "outputs": [
        {
          "output_type": "execute_result",
          "data": {
            "text/plain": [
              "[(3.182634730538922, 'The Night Listener'),\n",
              " (2.5983318700614575, 'Just My Luck'),\n",
              " (2.4730878186968837, 'Lady in the Water')]"
            ]
          },
          "metadata": {
            "tags": []
          },
          "execution_count": 32
        }
      ]
    },
    {
      "cell_type": "markdown",
      "metadata": {
        "id": "QZ2AV3PIxyqT"
      },
      "source": [
        "## Метрики качества для рекомендательных систем"
      ]
    },
    {
      "cell_type": "markdown",
      "metadata": {
        "id": "GNdfljpXxyqT"
      },
      "source": [
        "Для оценки качества работы рекомендательных систем можно рассмотреть две специальные метрики **Hit Rate** (HR) и **Mean Reciprocal Rank** (MRR).\n",
        "\n",
        "Определим как **попадание** (**hit**) - ситуацию, когда фильм был рекомендован пользователю в топ-N и пользователь посмотрел его. "
      ]
    },
    {
      "cell_type": "markdown",
      "metadata": {
        "id": "vXzO8K8DxyqU"
      },
      "source": [
        "**Hit Rate (HR)**"
      ]
    },
    {
      "cell_type": "markdown",
      "metadata": {
        "id": "494F_M5vxyqU"
      },
      "source": [
        "**Hit Rate (процент попаданий)** определяется как общее число попаданий, нормированное на количество пользователей. \n",
        "\n",
        "$$\n",
        "\\text{HR} = \\frac{1}{\\text{# test users}} \\sum_{\\text{test users}}{\\text{hit}}, \\quad\n",
        "$$\n",
        "\n",
        "Чем больше процент попаданий, тем лучше будет наша система рекомендаций."
      ]
    },
    {
      "cell_type": "markdown",
      "metadata": {
        "id": "MG2WBYqgxyqV"
      },
      "source": [
        "*Замечание*: в некотором смысле, Hit Rate представляет собой производное от классических ML метрик precision и recall. "
      ]
    },
    {
      "cell_type": "markdown",
      "metadata": {
        "id": "IqnXC-9ixyqX"
      },
      "source": [
        "**Mean Reciprocal Rank (MRR)**"
      ]
    },
    {
      "cell_type": "markdown",
      "metadata": {
        "id": "ZEB1TP_BxyqY"
      },
      "source": [
        "Отличие метрики **Mean Reciprocal Rank** от предыдущей в том, что мы учитываем не общее количество попаданий, а обратное рангу (месту в списке рекомендаций) **первое попадание**. Например, если фильм, просмотренный пользователем (попадание), стоял на втором месте, обратное рангу будет равно $\\frac{1}{2}$, а если бы стоял на третьем - $\\frac{1}{3}$ и так далее. "
      ]
    },
    {
      "cell_type": "markdown",
      "metadata": {
        "id": "4yY1VJGNxyqY"
      },
      "source": [
        "$$\n",
        "\\text{MRR} = \\frac{1}{\\text{# test users}} \\sum_{\\text{test users}}{\\frac{1}{\\text{hit rank}}}\n",
        "$$"
      ]
    },
    {
      "cell_type": "markdown",
      "metadata": {
        "id": "d69KOo96xyqb"
      },
      "source": [
        "Рассмотрим на примере. Toby получил следующий список рекомендаций: \n",
        "\n",
        "**Code 18:**"
      ]
    },
    {
      "cell_type": "code",
      "metadata": {
        "id": "LjqvONZLxyqe",
        "colab": {
          "base_uri": "https://localhost:8080/"
        },
        "outputId": "3cc3f209-78c1-4460-b376-996922996f33"
      },
      "source": [
        "getRecommendations(critics,'Toby', sim_pearson)"
      ],
      "execution_count": null,
      "outputs": [
        {
          "output_type": "execute_result",
          "data": {
            "text/plain": [
              "[(3.347789526713101, 'The Night Listener'),\n",
              " (2.832549918264162, 'Lady in the Water'),\n",
              " (2.530980703765565, 'Just My Luck')]"
            ]
          },
          "metadata": {
            "tags": []
          },
          "execution_count": 33
        }
      ]
    },
    {
      "cell_type": "markdown",
      "metadata": {
        "id": "3lAo-FpRUwXq"
      },
      "source": [
        "# Новый раздел"
      ]
    },
    {
      "cell_type": "markdown",
      "metadata": {
        "id": "KAS5UJXxxyqh"
      },
      "source": [
        "Допустим, после этого Toby посмотрел 5 фильмов и выставил им следующие оценки:\n"
      ]
    },
    {
      "cell_type": "markdown",
      "metadata": {
        "id": "GlyQ_Jidxyqh"
      },
      "source": [
        "|Score|Film|\n",
        "|----|--------------------|\n",
        "|4.5 | The Departed |\n",
        "|4   | The Night Listener |\n",
        "|3.9 | Lady in the Water |\n",
        "|3.7 | The Firm |\n",
        "|3   | Just My Luck |"
      ]
    },
    {
      "cell_type": "markdown",
      "metadata": {
        "id": "VjT082gPxyqi"
      },
      "source": [
        "Как мы видим, только два фильма из списка рекомендаций попали в личный топ-3 Toby. Получается, что **попадание (hits)** у него 2.\n",
        "\n",
        "**HR = $\\dfrac{1}{1} * 2 = 2$**, так как выборка тестовых пользователей (test\\_users) состоит из одного Toby.  "
      ]
    },
    {
      "cell_type": "markdown",
      "metadata": {
        "id": "3Z2xaFKZxyqj"
      },
      "source": [
        "* **$\\frac{1}{hit\\_rank}$** для фильма The Night Listener - это $\\dfrac{1}{2}$\n",
        "* **$\\frac{1}{hit\\_rank}$** для фильма Lady in the Water - это $\\dfrac{1}{3}$\n",
        "\n",
        "Но фильм **The Night Listener** стоит выше в рейтинге Toby, чем **Lady in the Water**, поэтому:\n",
        "\n",
        "**MRR = $\\dfrac{1}{1}*\\dfrac{1}{2} = \\dfrac{1}{2}$**, так как, опять же, выборка тестовых пользователей (test\\_users) состоит из одного Toby.  "
      ]
    }
  ]
}