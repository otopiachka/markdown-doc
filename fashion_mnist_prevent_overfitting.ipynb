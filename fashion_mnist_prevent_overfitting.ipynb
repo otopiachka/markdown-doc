{
  "nbformat": 4,
  "nbformat_minor": 0,
  "metadata": {
    "accelerator": "GPU",
    "colab": {
      "name": "fashion_mnist_prevent_overfitting.ipynb",
      "private_outputs": true,
      "provenance": [],
      "include_colab_link": true
    },
    "kernelspec": {
      "display_name": "Python 3",
      "language": "python",
      "name": "python3"
    },
    "language_info": {
      "codemirror_mode": {
        "name": "ipython",
        "version": 3
      },
      "file_extension": ".py",
      "mimetype": "text/x-python",
      "name": "python",
      "nbconvert_exporter": "python",
      "pygments_lexer": "ipython3",
      "version": "3.6.5"
    }
  },
  "cells": [
    {
      "cell_type": "markdown",
      "metadata": {
        "id": "view-in-github",
        "colab_type": "text"
      },
      "source": [
        "<a href=\"https://colab.research.google.com/github/otopiachka/markdown-doc/blob/master/fashion_mnist_prevent_overfitting.ipynb\" target=\"_parent\"><img src=\"https://colab.research.google.com/assets/colab-badge.svg\" alt=\"Open In Colab\"/></a>"
      ]
    },
    {
      "cell_type": "markdown",
      "metadata": {
        "id": "Ah7dy1kFL2H9"
      },
      "source": [
        "# Анализ качества работы нейронной сети для распознавание моделей одежды в Keras\n",
        "\n",
        "Чтобы запускать и редактировать код, сохраните копию этого ноутбука себе (File->Save a copy in Drive...). Свою копию вы сможете изменять и запускать.\n",
        "\n",
        "Учебный курс \"[Программирование глубоких нейронных сетей на Python](https://www.asozykin.ru/courses/nnpython)\"."
      ]
    },
    {
      "cell_type": "code",
      "metadata": {
        "id": "qrfd6FzSLrE2"
      },
      "source": [
        "from tensorflow.keras.datasets import fashion_mnist\n",
        "from tensorflow.keras.models import Sequential\n",
        "from tensorflow.keras.layers import Dense, Dropout\n",
        "from tensorflow.keras import utils\n",
        "from tensorflow.keras.preprocessing import image\n",
        "import numpy as np\n",
        "import matplotlib.pyplot as plt\n",
        "from PIL import Image\n",
        "%matplotlib inline "
      ],
      "execution_count": null,
      "outputs": []
    },
    {
      "cell_type": "markdown",
      "metadata": {
        "id": "xiurjCBVMDTG"
      },
      "source": [
        "## Подготовка данных для обучения сети"
      ]
    },
    {
      "cell_type": "markdown",
      "metadata": {
        "id": "1yDF75Cx8VPz"
      },
      "source": [
        "**Загружаем набор данных**"
      ]
    },
    {
      "cell_type": "code",
      "metadata": {
        "id": "E5L3LUIi8PDV"
      },
      "source": [
        "# В Keras встроены средства работы с популярными наборами данных\n",
        "# (x_train, y_train) - набор данных для обучения\n",
        "# (x_test, y_test) - набор данных для тестирования\n",
        "(x_train, y_train), (x_test, y_test) = fashion_mnist.load_data()"
      ],
      "execution_count": null,
      "outputs": []
    },
    {
      "cell_type": "markdown",
      "metadata": {
        "id": "pInj9ORInZGV"
      },
      "source": [
        "Список с названиями классов"
      ]
    },
    {
      "cell_type": "code",
      "metadata": {
        "id": "90LpN34CnXwW"
      },
      "source": [
        "classes = ['футболка', 'брюки', 'свитер', 'платье', 'пальто', 'туфли', 'рубашка', 'кроссовки', 'сумка', 'ботинки']"
      ],
      "execution_count": null,
      "outputs": []
    },
    {
      "cell_type": "markdown",
      "metadata": {
        "id": "nzysANKIZTzU"
      },
      "source": [
        "Просматриваем примеры изображений"
      ]
    },
    {
      "cell_type": "code",
      "metadata": {
        "id": "Wl4k_OPybdqL"
      },
      "source": [
        "plt.figure(figsize=(10,10))\n",
        "for i in range(100,150):\n",
        "    plt.subplot(5,10,i-100+1)\n",
        "    plt.xticks([])\n",
        "    plt.yticks([])\n",
        "    plt.grid(False)\n",
        "    plt.imshow(x_train[i], cmap=plt.cm.binary)\n",
        "    plt.xlabel(classes[y_train[i]])"
      ],
      "execution_count": null,
      "outputs": []
    },
    {
      "cell_type": "markdown",
      "metadata": {
        "id": "7uXTnIojJLbl"
      },
      "source": [
        "**Преобразование размерности данных в наборе**"
      ]
    },
    {
      "cell_type": "code",
      "metadata": {
        "id": "GBAqLKjGJJ-V"
      },
      "source": [
        "x_train = x_train.reshape(60000, 784)\n",
        "x_test = x_test.reshape(10000, 784)"
      ],
      "execution_count": null,
      "outputs": []
    },
    {
      "cell_type": "markdown",
      "metadata": {
        "id": "hDaHO5LgJYxU"
      },
      "source": [
        "**Нормализация данных**"
      ]
    },
    {
      "cell_type": "code",
      "metadata": {
        "id": "rscaAuBNJdq9"
      },
      "source": [
        "# Векторизованные операции\n",
        "# Применяются к каждому элементу массива отдельно\n",
        "x_train = x_train / 255 \n",
        "x_test = x_test / 255 "
      ],
      "execution_count": null,
      "outputs": []
    },
    {
      "cell_type": "markdown",
      "metadata": {
        "id": "KRcMlNzqJk1t"
      },
      "source": [
        "**Работа с правильными ответами**"
      ]
    },
    {
      "cell_type": "code",
      "metadata": {
        "id": "QkrbzBjIOhJa"
      },
      "source": [
        "n = 0"
      ],
      "execution_count": null,
      "outputs": []
    },
    {
      "cell_type": "code",
      "metadata": {
        "id": "A5lKe_syJqPu"
      },
      "source": [
        "print(y_train[n])"
      ],
      "execution_count": null,
      "outputs": []
    },
    {
      "cell_type": "markdown",
      "metadata": {
        "id": "zqJ9GA1kJxBF"
      },
      "source": [
        "**Преобразуем метки в формат one hot encoding**"
      ]
    },
    {
      "cell_type": "code",
      "metadata": {
        "id": "zQnasUyyJ3cG"
      },
      "source": [
        "y_train = utils.to_categorical(y_train, 10)"
      ],
      "execution_count": null,
      "outputs": []
    },
    {
      "cell_type": "code",
      "metadata": {
        "id": "F2mEQ0i8sWEC"
      },
      "source": [
        "y_test = utils.to_categorical(y_test, 10)"
      ],
      "execution_count": null,
      "outputs": []
    },
    {
      "cell_type": "markdown",
      "metadata": {
        "id": "KfuqlyjHJ_ye"
      },
      "source": [
        "**Правильный ответ в формате one hot encoding**"
      ]
    },
    {
      "cell_type": "code",
      "metadata": {
        "id": "9zUfd1aeKH3e"
      },
      "source": [
        "print(y_train[n])"
      ],
      "execution_count": null,
      "outputs": []
    },
    {
      "cell_type": "markdown",
      "metadata": {
        "id": "BmTr_lXTKNbN"
      },
      "source": [
        "## Создаем нейронную сеть"
      ]
    },
    {
      "cell_type": "markdown",
      "metadata": {
        "id": "fV_igNZuMNXe"
      },
      "source": [
        "**Создаем последовательную модель**"
      ]
    },
    {
      "cell_type": "code",
      "metadata": {
        "id": "kYVSvpNIMSnG"
      },
      "source": [
        "# Создаем последовательную модель\n",
        "model = Sequential()\n",
        "# Входной полносвязный слой, 800 нейронов, 784 входа в каждый нейрон\n",
        "model.add(Dense(800, input_dim=784, activation=\"relu\"))\n",
        "# Выходной полносвязный слой, 10 нейронов (по количеству рукописных цифр)\n",
        "model.add(Dense(10, activation=\"softmax\"))"
      ],
      "execution_count": null,
      "outputs": []
    },
    {
      "cell_type": "markdown",
      "metadata": {
        "id": "G__m76T-KWhd"
      },
      "source": [
        "**Компилируем сеть**"
      ]
    },
    {
      "cell_type": "code",
      "metadata": {
        "id": "PTcbSxchKZjd"
      },
      "source": [
        "model.compile(loss=\"categorical_crossentropy\", optimizer=\"SGD\", metrics=[\"accuracy\"])\n",
        "\n",
        "print(model.summary())"
      ],
      "execution_count": null,
      "outputs": []
    },
    {
      "cell_type": "markdown",
      "metadata": {
        "id": "lspCHiaCKl72"
      },
      "source": [
        "## Обучаем нейронную сеть"
      ]
    },
    {
      "cell_type": "code",
      "metadata": {
        "id": "H6EIXu1dKoju"
      },
      "source": [
        "history = model.fit(x_train, y_train, \n",
        "                    batch_size=200, \n",
        "                    epochs=100,\n",
        "                    validation_split=0.2,\n",
        "                    verbose=1)"
      ],
      "execution_count": null,
      "outputs": []
    },
    {
      "cell_type": "markdown",
      "metadata": {
        "id": "p8sPOaFqrz4M"
      },
      "source": [
        "## Оценка качества обучения"
      ]
    },
    {
      "cell_type": "markdown",
      "metadata": {
        "id": "DIl_s4PAr39x"
      },
      "source": [
        "Проверка качества работы на наборе данных для тестирования"
      ]
    },
    {
      "cell_type": "code",
      "metadata": {
        "id": "4CX6To0sr2zd"
      },
      "source": [
        "scores = model.evaluate(x_test, y_test, verbose=1)"
      ],
      "execution_count": null,
      "outputs": []
    },
    {
      "cell_type": "code",
      "metadata": {
        "id": "s7iZsuR8scXk"
      },
      "source": [
        "print(\"Доля верных ответов на тестовых данных, в процентах:\", round(scores[1] * 100, 4))"
      ],
      "execution_count": null,
      "outputs": []
    },
    {
      "cell_type": "markdown",
      "metadata": {
        "id": "7vMx5V5QMYlW"
      },
      "source": [
        "## Используем сеть для распознавания предметов одежды"
      ]
    },
    {
      "cell_type": "code",
      "metadata": {
        "id": "-AGygAcPMd0G"
      },
      "source": [
        "n_rec = 495"
      ],
      "execution_count": null,
      "outputs": []
    },
    {
      "cell_type": "code",
      "metadata": {
        "id": "TT4Ofqx1WTCq"
      },
      "source": [
        "plt.imshow(x_test[n_rec].reshape(28, 28), cmap=plt.cm.binary)\n",
        "plt.show()"
      ],
      "execution_count": null,
      "outputs": []
    },
    {
      "cell_type": "markdown",
      "metadata": {
        "id": "Lnft8V55M0Rc"
      },
      "source": [
        "**Меняем размерность изображения и нормализуем его**"
      ]
    },
    {
      "cell_type": "code",
      "metadata": {
        "id": "UKFWqSHtM7Nf"
      },
      "source": [
        "x = x_test[n_rec]\n",
        "x = np.expand_dims(x, axis=0)"
      ],
      "execution_count": null,
      "outputs": []
    },
    {
      "cell_type": "markdown",
      "metadata": {
        "id": "bMruIcf2NHlN"
      },
      "source": [
        "**Запускаем распознавание**"
      ]
    },
    {
      "cell_type": "code",
      "metadata": {
        "id": "Ap72-9_kNKU2"
      },
      "source": [
        "prediction = model.predict(x)"
      ],
      "execution_count": null,
      "outputs": []
    },
    {
      "cell_type": "markdown",
      "metadata": {
        "id": "2Gldpmn2NQ6-"
      },
      "source": [
        "**Печатаем результаты распознавания**"
      ]
    },
    {
      "cell_type": "code",
      "metadata": {
        "id": "CRS-vpJdOhJb"
      },
      "source": [
        "prediction"
      ],
      "execution_count": null,
      "outputs": []
    },
    {
      "cell_type": "markdown",
      "metadata": {
        "id": "LQTiyEM3NfRG"
      },
      "source": [
        "**Преобразуем результаты из формата one hot encoding**"
      ]
    },
    {
      "cell_type": "code",
      "metadata": {
        "id": "XVC_dTGqNohG"
      },
      "source": [
        "prediction = np.argmax(prediction[0])\n",
        "print(\"Номер класса:\", prediction)\n",
        "print(\"Название класса:\", classes[prediction])"
      ],
      "execution_count": null,
      "outputs": []
    },
    {
      "cell_type": "markdown",
      "metadata": {
        "id": "zJy8tKjuNyD2"
      },
      "source": [
        "**Печатаем правильный ответ**"
      ]
    },
    {
      "cell_type": "code",
      "metadata": {
        "id": "0zoGlCZWN2Id"
      },
      "source": [
        "label = np.argmax(y_test[0])\n",
        "print(\"Номер класса:\", label)\n",
        "print(\"Название класса:\", classes[label])"
      ],
      "execution_count": null,
      "outputs": []
    },
    {
      "cell_type": "markdown",
      "metadata": {
        "id": "kqee4iO3CiZm"
      },
      "source": [
        "## Идеи по изменению архитектуры нейронной сети\n",
        "\n",
        "1. Попробуйте использовать разное количество нейронов на входном слое: 400, 600, 800, 1200.\n",
        "2. Добавьте в нейронную сеть скрытый слой с разным количеством нейронов: 200, 300, 400, 600, 800.\n",
        "3. Добавьте несколько скрытых слоев в сеть с разным количеством нейронов в каждом слое.\n",
        "3. Используйте разное количество эпох: 10, 15, 20, 25, 30.\n",
        "4. Используйте разные размеры мини-выборки (batch_size): 10, 50, 100, 200, 500.\n",
        " \n",
        "\n",
        "Подберить разные комбинации гиперпараметров таким образом, чтобы получить лучший результат на тестовом наборе данных.\n",
        "\n",
        "Убедитесь, что в вашей модели нет переобучения."
      ]
    }
  ]
}