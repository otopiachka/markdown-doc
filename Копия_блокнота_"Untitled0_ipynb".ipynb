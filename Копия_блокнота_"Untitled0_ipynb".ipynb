{
  "nbformat": 4,
  "nbformat_minor": 0,
  "metadata": {
    "colab": {
      "name": "Копия блокнота \"Untitled0.ipynb\"",
      "provenance": [],
      "authorship_tag": "ABX9TyPgf9sk9TjWWiyb5tVDZwng",
      "include_colab_link": true
    },
    "kernelspec": {
      "name": "python3",
      "display_name": "Python 3"
    }
  },
  "cells": [
    {
      "cell_type": "markdown",
      "metadata": {
        "id": "view-in-github",
        "colab_type": "text"
      },
      "source": [
        "<a href=\"https://colab.research.google.com/github/otopiachka/markdown-doc/blob/master/%D0%9A%D0%BE%D0%BF%D0%B8%D1%8F_%D0%B1%D0%BB%D0%BE%D0%BA%D0%BD%D0%BE%D1%82%D0%B0_%22Untitled0_ipynb%22.ipynb\" target=\"_parent\"><img src=\"https://colab.research.google.com/assets/colab-badge.svg\" alt=\"Open In Colab\"/></a>"
      ]
    },
    {
      "cell_type": "code",
      "metadata": {
        "id": "t8xI4AzYdya4"
      },
      "source": [
        "import torch"
      ],
      "execution_count": null,
      "outputs": []
    },
    {
      "cell_type": "code",
      "metadata": {
        "colab": {
          "base_uri": "https://localhost:8080/"
        },
        "id": "w9BesCr8d5Of",
        "outputId": "929e8577-ef72-43f7-bbff-5aa489e231df"
      },
      "source": [
        "a = torch.FloatTensor(3, 4)\n",
        "b = torch.FloatTensor(12,)\n",
        "print(a, b)"
      ],
      "execution_count": null,
      "outputs": [
        {
          "output_type": "stream",
          "text": [
            "tensor([[3.6315e-35, 0.0000e+00, 3.7835e-44, 0.0000e+00],\n",
            "        [       nan, 0.0000e+00, 1.3733e-14, 6.4069e+02],\n",
            "        [4.3066e+21, 1.1824e+22, 4.3066e+21, 6.3828e+28]]) tensor([3.6315e-35, 0.0000e+00, 3.9236e-44, 0.0000e+00,        nan, 0.0000e+00,\n",
            "        1.3733e-14, 1.2102e+25, 1.6992e-07, 2.9599e+21, 2.8175e+20, 1.7566e+25])\n"
          ],
          "name": "stdout"
        }
      ]
    },
    {
      "cell_type": "code",
      "metadata": {
        "colab": {
          "base_uri": "https://localhost:8080/"
        },
        "id": "9aDYssdOeFFQ",
        "outputId": "43b4d340-2557-4416-ec32-83ee8d82731b"
      },
      "source": [
        "c=b.view(2, 2, 3)\n",
        "print(c)"
      ],
      "execution_count": null,
      "outputs": [
        {
          "output_type": "stream",
          "text": [
            "tensor([[[3.6315e-35, 0.0000e+00, 3.9236e-44],\n",
            "         [0.0000e+00,        nan, 0.0000e+00]],\n",
            "\n",
            "        [[1.3733e-14, 1.2102e+25, 1.6992e-07],\n",
            "         [2.9599e+21, 2.8175e+20, 1.7566e+25]]])\n"
          ],
          "name": "stdout"
        }
      ]
    },
    {
      "cell_type": "code",
      "metadata": {
        "colab": {
          "base_uri": "https://localhost:8080/"
        },
        "id": "EkTutQVkfZ_9",
        "outputId": "d739b808-be2c-4bce-fc57-053f47ce34a3"
      },
      "source": [
        "c[0,:]"
      ],
      "execution_count": null,
      "outputs": [
        {
          "output_type": "execute_result",
          "data": {
            "text/plain": [
              "tensor([[3.6315e-35, 0.0000e+00, 3.9236e-44],\n",
              "        [0.0000e+00,        nan, 0.0000e+00]])"
            ]
          },
          "metadata": {
            "tags": []
          },
          "execution_count": 4
        }
      ]
    },
    {
      "cell_type": "code",
      "metadata": {
        "colab": {
          "base_uri": "https://localhost:8080/"
        },
        "id": "VlYDK8CqfpXu",
        "outputId": "0dc4252c-909b-4a36-cbd9-9e433e54da51"
      },
      "source": [
        "a = torch.FloatTensor(5, 2)\n",
        "b = torch.FloatTensor(1, 10)\n",
        "c=b.view(5, 2)\n",
        "print(c)"
      ],
      "execution_count": null,
      "outputs": [
        {
          "output_type": "stream",
          "text": [
            "tensor([[5.7878e-35, 0.0000e+00],\n",
            "        [3.7835e-44, 0.0000e+00],\n",
            "        [       nan, 0.0000e+00],\n",
            "        [1.3733e-14, 6.4069e+02],\n",
            "        [4.3066e+21, 1.1824e+22]])\n"
          ],
          "name": "stdout"
        }
      ]
    },
    {
      "cell_type": "code",
      "metadata": {
        "colab": {
          "base_uri": "https://localhost:8080/"
        },
        "id": "C6zYH_1mf-DM",
        "outputId": "9aa7666f-d3a5-40ab-9a77-0a9f7edd66ce"
      },
      "source": [
        "a.add(c)"
      ],
      "execution_count": null,
      "outputs": [
        {
          "output_type": "execute_result",
          "data": {
            "text/plain": [
              "tensor([[1.1576e-34, 0.0000e+00],\n",
              "        [7.1466e-44, 0.0000e+00],\n",
              "        [       nan, 0.0000e+00],\n",
              "        [4.4721e+21, 1.5956e+25],\n",
              "        [4.3067e+21, 1.1824e+22]])"
            ]
          },
          "metadata": {
            "tags": []
          },
          "execution_count": 6
        }
      ]
    },
    {
      "cell_type": "code",
      "metadata": {
        "colab": {
          "base_uri": "https://localhost:8080/"
        },
        "id": "XbBn_9lpgEKt",
        "outputId": "62bb4e64-62e8-4d3b-e1f1-2fdb00d8b4c0"
      },
      "source": [
        "a.sub(c)"
      ],
      "execution_count": null,
      "outputs": [
        {
          "output_type": "execute_result",
          "data": {
            "text/plain": [
              "tensor([[ 0.0000e+00,  0.0000e+00],\n",
              "        [-4.2039e-45,  0.0000e+00],\n",
              "        [        nan,  0.0000e+00],\n",
              "        [ 4.4721e+21,  1.5956e+25],\n",
              "        [-4.3066e+21, -1.1824e+22]])"
            ]
          },
          "metadata": {
            "tags": []
          },
          "execution_count": 7
        }
      ]
    },
    {
      "cell_type": "code",
      "metadata": {
        "colab": {
          "base_uri": "https://localhost:8080/"
        },
        "id": "1ZN2fNy9gT4E",
        "outputId": "ce34a936-f1db-4e9e-dfa0-1f2d6826d407"
      },
      "source": [
        "a.mul(c)"
      ],
      "execution_count": null,
      "outputs": [
        {
          "output_type": "execute_result",
          "data": {
            "text/plain": [
              "tensor([[0.0000e+00, 0.0000e+00],\n",
              "        [0.0000e+00, 0.0000e+00],\n",
              "        [       nan, 0.0000e+00],\n",
              "        [6.1417e+07, 1.0223e+28],\n",
              "        [2.0413e+38, 1.1024e+14]])"
            ]
          },
          "metadata": {
            "tags": []
          },
          "execution_count": 8
        }
      ]
    },
    {
      "cell_type": "code",
      "metadata": {
        "colab": {
          "base_uri": "https://localhost:8080/"
        },
        "id": "vZPRCvpygXHF",
        "outputId": "9bdf3da2-6e02-4e8b-ee00-2c41254a5f03"
      },
      "source": [
        "a.div(c)"
      ],
      "execution_count": null,
      "outputs": [
        {
          "output_type": "execute_result",
          "data": {
            "text/plain": [
              "tensor([[1.0000e+00,        nan],\n",
              "        [8.8889e-01,        nan],\n",
              "        [       nan,        nan],\n",
              "        [3.2564e+35, 2.4905e+22],\n",
              "        [1.1006e-05, 7.8849e-31]])"
            ]
          },
          "metadata": {
            "tags": []
          },
          "execution_count": 9
        }
      ]
    },
    {
      "cell_type": "code",
      "metadata": {
        "colab": {
          "base_uri": "https://localhost:8080/",
          "height": 269
        },
        "id": "cSlmluKehiWm",
        "outputId": "d0a5dee1-a441-4f0c-9f9b-b92ab7ff1b90"
      },
      "source": [
        "import matplotlib.pyplot as plt\n",
        "\n",
        "images = torch.IntTensor(100, 200, 200, 3).zero_()\n",
        "\n",
        "for i in range(images.shape[0]):\n",
        "  images[i, 2*i:2*i+2, :, :] = 255\n",
        "\n",
        "plt.imshow(images[50].numpy());"
      ],
      "execution_count": null,
      "outputs": [
        {
          "output_type": "display_data",
          "data": {
            "image/png": "[encoded data removed]",
            "text/plain": [
              "<Figure size 432x288 with 1 Axes>"
            ]
          },
          "metadata": {
            "tags": [],
            "needs_background": "light"
          }
        }
      ]
    },
    {
      "cell_type": "code",
      "metadata": {
        "colab": {
          "base_uri": "https://localhost:8080/",
          "height": 269
        },
        "id": "AxE6yttYixIM",
        "outputId": "cad1ce28-a73b-446c-b728-506ae9d5f8d4"
      },
      "source": [
        "mean_image = images.float().mean(dim=0) * 70\n",
        "plt.imshow(mean_image.int());"
      ],
      "execution_count": null,
      "outputs": [
        {
          "output_type": "display_data",
          "data": {
            "image/png": "[encoded data removed]",
            "text/plain": [
              "<Figure size 432x288 with 1 Axes>"
            ]
          },
          "metadata": {
            "tags": [],
            "needs_background": "light"
          }
        }
      ]
    },
    {
      "cell_type": "code",
      "metadata": {
        "id": "tNlpkQ8ji7sq"
      },
      "source": [
        "def forward_pass(X, w):\n",
        "  return torch.sigmoid(X @ w)"
      ],
      "execution_count": null,
      "outputs": []
    },
    {
      "cell_type": "code",
      "metadata": {
        "colab": {
          "base_uri": "https://localhost:8080/"
        },
        "id": "okDFWtPmjFA1",
        "outputId": "dff88872-e7b8-48f6-9bab-194c280a0fab"
      },
      "source": [
        "X = torch.FloatTensor([[-5, 5], [2, 3], [1, -1]])\n",
        "w = torch.FloatTensor([[-0.5], [2.5]])\n",
        "result = forward_pass(X, w)\n",
        "print('result: {}'.format(result))"
      ],
      "execution_count": null,
      "outputs": [
        {
          "output_type": "stream",
          "text": [
            "result: tensor([[1.0000],\n",
            "        [0.9985],\n",
            "        [0.0474]])\n"
          ],
          "name": "stdout"
        }
      ]
    }
  ]
}