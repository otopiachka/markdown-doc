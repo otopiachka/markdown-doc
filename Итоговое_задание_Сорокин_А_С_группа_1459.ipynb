{
  "nbformat": 4,
  "nbformat_minor": 0,
  "metadata": {
    "kernelspec": {
      "display_name": "Python 3",
      "language": "python",
      "name": "python3"
    },
    "language_info": {
      "codemirror_mode": {
        "name": "ipython",
        "version": 3
      },
      "file_extension": ".py",
      "mimetype": "text/x-python",
      "name": "python",
      "nbconvert_exporter": "python",
      "pygments_lexer": "ipython3",
      "version": "3.8.3"
    },
    "colab": {
      "name": "Итоговое задание Сорокин А.С. группа 1459.ipynb",
      "provenance": [],
      "include_colab_link": true
    }
  },
  "cells": [
    {
      "cell_type": "markdown",
      "metadata": {
        "id": "view-in-github",
        "colab_type": "text"
      },
      "source": [
        "<a href=\"https://colab.research.google.com/github/otopiachka/markdown-doc/blob/master/%D0%98%D1%82%D0%BE%D0%B3%D0%BE%D0%B2%D0%BE%D0%B5_%D0%B7%D0%B0%D0%B4%D0%B0%D0%BD%D0%B8%D0%B5_%D0%A1%D0%BE%D1%80%D0%BE%D0%BA%D0%B8%D0%BD_%D0%90_%D0%A1_%D0%B3%D1%80%D1%83%D0%BF%D0%BF%D0%B0_1459.ipynb\" target=\"_parent\"><img src=\"https://colab.research.google.com/assets/colab-badge.svg\" alt=\"Open In Colab\"/></a>"
      ]
    },
    {
      "cell_type": "markdown",
      "metadata": {
        "id": "ixvVzIUVEF_B"
      },
      "source": [
        "### <center> Итоговое задание </center>\n",
        "### <center> Выполнил  Сорокин А.С. группа 1459 </center>\n",
        "#### <center> Определение количества слов в книге Adventures of Huckleberry Finn by Mark Twain </center>\n",
        "#### Описание задачи \n",
        "##### необходимо определить количество слов книги Adventures of Huckleberry Finn by Mark Twain,  расположенной на https://www.gutenberg.org/files/76/76-h/76-h.htm с использованием  NLP.\n",
        "##### Выполнение это задачи предполагает \n",
        "##### 1. C использованием инструментов обработки текста выделить текст c сайта\n",
        "##### 2. Токенизировать текст\n",
        "##### 3. Загрузить в стоп-слова и удалить их из текста книги\n",
        "##### 4. Найти ответ на вопрос с использованием графики"
      ]
    },
    {
      "cell_type": "markdown",
      "metadata": {
        "id": "jNGBGDF-EF_B"
      },
      "source": [
        "#### 1. Подготовка данных"
      ]
    },
    {
      "cell_type": "code",
      "metadata": {
        "id": "UG5UuWV9EF_B"
      },
      "source": [
        "# Присвоим переменной url адрес сайта\n",
        "url = 'https://www.gutenberg.org/files/76/76-h/76-h.htm'\n"
      ],
      "execution_count": 1,
      "outputs": []
    },
    {
      "cell_type": "code",
      "metadata": {
        "colab": {
          "base_uri": "https://localhost:8080/"
        },
        "id": "hMIb9jeqEF_C",
        "outputId": "9d70765f-6041-4e77-f97a-abbb35279654"
      },
      "source": [
        "# Импортируем Библиотеку запросов `requests`,позволяющей отправлять запросы HTTP в Python.\n",
        "\n",
        "import requests\n",
        "\n",
        "# присвоем переменной r информацию с сайта\n",
        "r = requests.get(url)\n",
        "\n",
        "#Проверяем\n",
        "type(r)"
      ],
      "execution_count": 2,
      "outputs": [
        {
          "output_type": "execute_result",
          "data": {
            "text/plain": [
              "requests.models.Response"
            ]
          },
          "metadata": {
            "tags": []
          },
          "execution_count": 2
        }
      ]
    },
    {
      "cell_type": "code",
      "metadata": {
        "id": "2DP11VhIEF_D"
      },
      "source": [
        "# Излекаем HTML код в виде текста и присваеваем его переменной html\n",
        "html = r.text\n",
        "\n",
        "# проверяем\n",
        "# print(html)"
      ],
      "execution_count": 3,
      "outputs": []
    },
    {
      "cell_type": "code",
      "metadata": {
        "id": "L_3HcByuEF_D"
      },
      "source": [
        "# Импортируем Библиотеку парсинга `BeautifulSoup`,осуществляющая парсинг HTML в Python.\n",
        "from bs4 import BeautifulSoup\n",
        "\n",
        "# Создаем обьект с применением функции BeautifulSoup\n",
        "soup = BeautifulSoup(html, \"html5lib\")\n",
        "#print(soup)"
      ],
      "execution_count": 4,
      "outputs": []
    },
    {
      "cell_type": "code",
      "metadata": {
        "colab": {
          "base_uri": "https://localhost:8080/",
          "height": 36
        },
        "id": "3ORl3_aWEF_D",
        "outputId": "cf7d745b-85a9-4dc0-d7a0-805bb72df7b5"
      },
      "source": [
        "# Тоже самое но в виде строки\n",
        "soup.title.string"
      ],
      "execution_count": 5,
      "outputs": [
        {
          "output_type": "execute_result",
          "data": {
            "application/vnd.google.colaboratory.intrinsic+json": {
              "type": "string"
            },
            "text/plain": [
              "'\\n      HUCKLEBERRY FINN, By Mark Twain, Complete\\n    '"
            ]
          },
          "metadata": {
            "tags": []
          },
          "execution_count": 5
        }
      ]
    },
    {
      "cell_type": "code",
      "metadata": {
        "id": "dCdwXW5uEF_D"
      },
      "source": [
        "# Назначаем переменную text, выводим текст \n",
        "text = soup.get_text()\n",
        "# print(text)"
      ],
      "execution_count": 6,
      "outputs": []
    },
    {
      "cell_type": "markdown",
      "metadata": {
        "id": "lbfxeY4gEF_D"
      },
      "source": [
        "#### 2.   Работа с текстом с применением NLP"
      ]
    },
    {
      "cell_type": "code",
      "metadata": {
        "colab": {
          "base_uri": "https://localhost:8080/"
        },
        "id": "atMJ_TQGEF_D",
        "outputId": "b86dd369-6ea0-481e-d7ae-080d34b58d08"
      },
      "source": [
        "# Подключаем пакет regex package\n",
        "import re\n",
        "\n",
        "# Находим все слова в данных и выводим 10 из них\n",
        "tokens = re.findall('\\w+', text)\n",
        "tokens[:10]"
      ],
      "execution_count": 7,
      "outputs": [
        {
          "output_type": "execute_result",
          "data": {
            "text/plain": [
              "['ï',\n",
              " 'HUCKLEBERRY',\n",
              " 'FINN',\n",
              " 'By',\n",
              " 'Mark',\n",
              " 'Twain',\n",
              " 'Complete',\n",
              " 'body',\n",
              " 'margin',\n",
              " '5']"
            ]
          },
          "metadata": {
            "tags": []
          },
          "execution_count": 7
        }
      ]
    },
    {
      "cell_type": "code",
      "metadata": {
        "colab": {
          "base_uri": "https://localhost:8080/"
        },
        "id": "HOmkAn_TEF_D",
        "outputId": "1835b3a7-bea2-457f-a96e-d40e0c86d358"
      },
      "source": [
        "# Подключаем библиотеку и токенизируем слова- RegexpTokenizer from nltk.tokenize\n",
        "from nltk.tokenize import RegexpTokenizer\n",
        "\n",
        "# Токенезируем\n",
        "tokenizer = RegexpTokenizer('\\w+')\n",
        "\n",
        "# создаем переменную и выводим ее\n",
        "tokens = tokenizer.tokenize(text)\n",
        "# выводим 10 из них\n",
        "tokens[:10]"
      ],
      "execution_count": 8,
      "outputs": [
        {
          "output_type": "execute_result",
          "data": {
            "text/plain": [
              "['ï',\n",
              " 'HUCKLEBERRY',\n",
              " 'FINN',\n",
              " 'By',\n",
              " 'Mark',\n",
              " 'Twain',\n",
              " 'Complete',\n",
              " 'body',\n",
              " 'margin',\n",
              " '5']"
            ]
          },
          "metadata": {
            "tags": []
          },
          "execution_count": 8
        }
      ]
    },
    {
      "cell_type": "code",
      "metadata": {
        "colab": {
          "base_uri": "https://localhost:8080/"
        },
        "id": "6l-mbgmBEF_D",
        "outputId": "c57de2fc-fc81-4453-d9c7-c982b7abf84b"
      },
      "source": [
        "# Создадим список, содержащий все слова в в книге Adventures of Huckleberry Finn by Mark Twain\n",
        "# причём сделем так, чтобы все слова содержали только строчные буквы.\n",
        "words = []\n",
        "\n",
        "# Пройдём циклом по нашему токену и сформируем список из строчных букв\n",
        "for word in tokens:\n",
        "    words.append(word.lower())\n",
        "\n",
        "# проверим 12 из них\n",
        "words[:12]\n"
      ],
      "execution_count": 9,
      "outputs": [
        {
          "output_type": "execute_result",
          "data": {
            "text/plain": [
              "['ï',\n",
              " 'huckleberry',\n",
              " 'finn',\n",
              " 'by',\n",
              " 'mark',\n",
              " 'twain',\n",
              " 'complete',\n",
              " 'body',\n",
              " 'margin',\n",
              " '5',\n",
              " 'background',\n",
              " 'faebd0']"
            ]
          },
          "metadata": {
            "tags": []
          },
          "execution_count": 9
        }
      ]
    },
    {
      "cell_type": "markdown",
      "metadata": {
        "id": "-_pBmSgJEF_D"
      },
      "source": [
        "#### 3.Удаление стоп-слов ( местоимения ,союзы и т.д. c помощью имеющихся библиотек)"
      ]
    },
    {
      "cell_type": "code",
      "metadata": {
        "colab": {
          "base_uri": "https://localhost:8080/"
        },
        "id": "qKjY98ucEF_D",
        "outputId": "1f83f66e-e03d-4121-c34e-e971b1013f13"
      },
      "source": [
        "# Импортируем пакет nltk, он содержит стоп-слова\n",
        "import nltk\n",
        "nltk.download('stopwords')\n",
        "\n",
        "# Выводим для примера 8 из них\n",
        "sw = nltk.corpus.stopwords.words('english')\n",
        "sw[:8]"
      ],
      "execution_count": 10,
      "outputs": [
        {
          "output_type": "stream",
          "text": [
            "[nltk_data] Downloading package stopwords to /root/nltk_data...\n",
            "[nltk_data]   Unzipping corpora/stopwords.zip.\n"
          ],
          "name": "stdout"
        },
        {
          "output_type": "execute_result",
          "data": {
            "text/plain": [
              "['i', 'me', 'my', 'myself', 'we', 'our', 'ours', 'ourselves']"
            ]
          },
          "metadata": {
            "tags": []
          },
          "execution_count": 10
        }
      ]
    },
    {
      "cell_type": "code",
      "metadata": {
        "colab": {
          "base_uri": "https://localhost:8080/"
        },
        "id": "A0QJiGKwEF_E",
        "outputId": "22a3af06-ebad-49e4-be1f-1a6ebb274e3b"
      },
      "source": [
        "# Создаем новый список без стоп-слов\n",
        "# Создаем пустой список\n",
        "words_ns = []\n",
        "\n",
        "# Проходим циклом для исключения стоп-слов и формирования нового списка\n",
        "for word in words:\n",
        "    if word not in sw:\n",
        "        words_ns.append(word)\n",
        "\n",
        "# Выведем  6 слов для примера из нового списка\n",
        "words_ns[1:7]"
      ],
      "execution_count": 11,
      "outputs": [
        {
          "output_type": "execute_result",
          "data": {
            "text/plain": [
              "['huckleberry', 'finn', 'mark', 'twain', 'complete', 'body']"
            ]
          },
          "metadata": {
            "tags": []
          },
          "execution_count": 11
        }
      ]
    },
    {
      "cell_type": "markdown",
      "metadata": {
        "id": "EPDgSgUbEF_E"
      },
      "source": [
        "#### 4. Определим количество слов в книге с помощью графики и ответим на вопрос какие слова, наиболее часто встречаются.\n"
      ]
    },
    {
      "cell_type": "code",
      "metadata": {
        "colab": {
          "base_uri": "https://localhost:8080/",
          "height": 309
        },
        "id": "fVhGuYhwEF_E",
        "outputId": "cf247743-7998-489a-e3b0-20afd92d7153"
      },
      "source": [
        "# Подключаем библиотеки визуализации \n",
        "import matplotlib.pyplot as plt\n",
        "import seaborn as sns\n",
        "\n",
        "# Выберем стиль визуализации данных\n",
        "%matplotlib inline\n",
        "sns.set()\n",
        "\n",
        "# Создаём объект распределения слов с помощью метода FreqDist. \n",
        "freqdist1 = nltk.FreqDist(words_ns)\n",
        "\n",
        "# Выводим 15 смых частовстречаемых слов.\n",
        "freqdist1.plot(15)"
      ],
      "execution_count": 12,
      "outputs": [
        {
          "output_type": "display_data",
          "data": {
            "image/png": "[encoded data removed]",
            "text/plain": [
              "<Figure size 432x288 with 1 Axes>"
            ]
          },
          "metadata": {
            "tags": []
          }
        }
      ]
    },
    {
      "cell_type": "markdown",
      "metadata": {
        "id": "LD51a3qcEF_E"
      },
      "source": [
        "#### Результат: Самое часто втречающееся слово в книге - слово \"говорит\" (says)\n",
        "\n",
        "##### Далее добавим  стоп-слова из библиотеки sklearn"
      ]
    },
    {
      "cell_type": "code",
      "metadata": {
        "colab": {
          "base_uri": "https://localhost:8080/",
          "height": 362
        },
        "id": "_nb3uuSPEF_E",
        "outputId": "87bc9013-d7ad-4d03-b78a-82744bb42df1"
      },
      "source": [
        "# Импортируем стоп-слова из библиотеки sklearn\n",
        "from sklearn.feature_extraction.stop_words import ENGLISH_STOP_WORDS\n",
        "\n",
        "# Добавим имеющиеся эти слова к уже имеющимся стоп-словам \n",
        "sw = set(sw + list(ENGLISH_STOP_WORDS))\n",
        "\n",
        "# Создадим новый список с учетом увеличенного числа стоп-слов\n",
        "#создаем список\n",
        "words_ns = []\n",
        "\n",
        "# Циклом включаем в него все слова которые не являются \"стоп-словом\"\n",
        "for word in words:\n",
        "    if word not in sw:\n",
        "        words_ns.append(word)\n",
        "\n",
        "# Создаем и выводим полученный список\n",
        "freqdist2 = nltk.FreqDist(words_ns)\n",
        "freqdist2.plot(15)\n"
      ],
      "execution_count": 13,
      "outputs": [
        {
          "output_type": "stream",
          "text": [
            "/usr/local/lib/python3.6/dist-packages/sklearn/utils/deprecation.py:144: FutureWarning: The sklearn.feature_extraction.stop_words module is  deprecated in version 0.22 and will be removed in version 0.24. The corresponding classes / functions should instead be imported from sklearn.feature_extraction.text. Anything that cannot be imported from sklearn.feature_extraction.text is now part of the private API.\n",
            "  warnings.warn(message, FutureWarning)\n"
          ],
          "name": "stderr"
        },
        {
          "output_type": "display_data",
          "data": {
            "image/png": "[encoded data removed]",
            "text/plain": [
              "<Figure size 432x288 with 1 Axes>"
            ]
          },
          "metadata": {
            "tags": []
          }
        }
      ]
    },
    {
      "cell_type": "markdown",
      "metadata": {
        "id": "QQFVBpIqEF_E"
      },
      "source": [
        "### Вывод: \n",
        "#### Самое часто встречающееся слово в книге - слово \"говорит\" (says). Оно используется 650 раз. Как видно при увеличении количества стоп-слов выдача изменилась в ней были исключены слова see, wel, would, one, get, could."
      ]
    }
  ]
}