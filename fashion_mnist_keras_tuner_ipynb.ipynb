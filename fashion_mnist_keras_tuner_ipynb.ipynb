{
  "nbformat": 4,
  "nbformat_minor": 0,
  "metadata": {
    "colab": {
      "name": "Копия блокнота \"fashion_mnist_keras_tuner.ipynb\"",
      "provenance": [],
      "toc_visible": true,
      "include_colab_link": true
    },
    "kernelspec": {
      "name": "python3",
      "display_name": "Python 3"
    },
    "accelerator": "GPU"
  },
  "cells": [
    {
      "cell_type": "markdown",
      "metadata": {
        "id": "view-in-github",
        "colab_type": "text"
      },
      "source": [
        "<a href=\"https://colab.research.google.com/github/otopiachka/markdown-doc/blob/master/fashion_mnist_keras_tuner_ipynb.ipynb\" target=\"_parent\"><img src=\"https://colab.research.google.com/assets/colab-badge.svg\" alt=\"Open In Colab\"/></a>"
      ]
    },
    {
      "cell_type": "markdown",
      "metadata": {
        "id": "Ah7dy1kFL2H9"
      },
      "source": [
        "# Оптимизация гиперпараметров нейросети с помощью [Keras Tuner](https://github.com/keras-team/keras-tuner)\n",
        "\n",
        "Учебный курс \"[Программирование нейросетей на Python](https://www.asozykin.ru/courses/nnpython)\".\n",
        "\n",
        "Чтобы запускать и редактировать код, сохраните копию этого ноутбука себе (File->Save a copy in Drive...). Свою копию вы сможете изменять и запускать.\n",
        "\n",
        "Не забудьте подключить GPU, чтобы сеть обучалась быстрее (Runtime -> Change Runtime Type -> Hardware Accelerator -> GPU).\n",
        "\n"
      ]
    },
    {
      "cell_type": "markdown",
      "metadata": {
        "id": "Om0LL5DEZfEo"
      },
      "source": [
        "## Гиперпараметры обучения нейронной сети\n",
        "\n",
        "- Количество слоев нейронной сети\n",
        "- Количество нейронов в каждом слое\n",
        "- Функции активации, которые используются в слоях\n",
        "- Тип оптимизатора при обучении нейронной сети\n",
        "- Количество эпох обучения"
      ]
    },
    {
      "cell_type": "markdown",
      "metadata": {
        "id": "eVmxmhjuia9a"
      },
      "source": [
        "## Установка Keras Tuner"
      ]
    },
    {
      "cell_type": "code",
      "metadata": {
        "id": "ftLg2Tt0Rejk",
        "colab": {
          "base_uri": "https://localhost:8080/"
        },
        "outputId": "e5356671-f835-494d-c0e2-63c862ce939e"
      },
      "source": [
        "pip install -U keras-tuner"
      ],
      "execution_count": 34,
      "outputs": [
        {
          "output_type": "stream",
          "text": [
            "Requirement already up-to-date: keras-tuner in /usr/local/lib/python3.6/dist-packages (1.0.2)\n",
            "Requirement already satisfied, skipping upgrade: tabulate in /usr/local/lib/python3.6/dist-packages (from keras-tuner) (0.8.7)\n",
            "Requirement already satisfied, skipping upgrade: packaging in /usr/local/lib/python3.6/dist-packages (from keras-tuner) (20.8)\n",
            "Requirement already satisfied, skipping upgrade: numpy in /usr/local/lib/python3.6/dist-packages (from keras-tuner) (1.19.4)\n",
            "Requirement already satisfied, skipping upgrade: future in /usr/local/lib/python3.6/dist-packages (from keras-tuner) (0.16.0)\n",
            "Requirement already satisfied, skipping upgrade: scipy in /usr/local/lib/python3.6/dist-packages (from keras-tuner) (1.4.1)\n",
            "Requirement already satisfied, skipping upgrade: colorama in /usr/local/lib/python3.6/dist-packages (from keras-tuner) (0.4.4)\n",
            "Requirement already satisfied, skipping upgrade: tqdm in /usr/local/lib/python3.6/dist-packages (from keras-tuner) (4.41.1)\n",
            "Requirement already satisfied, skipping upgrade: terminaltables in /usr/local/lib/python3.6/dist-packages (from keras-tuner) (3.1.0)\n",
            "Requirement already satisfied, skipping upgrade: scikit-learn in /usr/local/lib/python3.6/dist-packages (from keras-tuner) (0.22.2.post1)\n",
            "Requirement already satisfied, skipping upgrade: requests in /usr/local/lib/python3.6/dist-packages (from keras-tuner) (2.23.0)\n",
            "Requirement already satisfied, skipping upgrade: pyparsing>=2.0.2 in /usr/local/lib/python3.6/dist-packages (from packaging->keras-tuner) (2.4.7)\n",
            "Requirement already satisfied, skipping upgrade: joblib>=0.11 in /usr/local/lib/python3.6/dist-packages (from scikit-learn->keras-tuner) (1.0.0)\n",
            "Requirement already satisfied, skipping upgrade: chardet<4,>=3.0.2 in /usr/local/lib/python3.6/dist-packages (from requests->keras-tuner) (3.0.4)\n",
            "Requirement already satisfied, skipping upgrade: urllib3!=1.25.0,!=1.25.1,<1.26,>=1.21.1 in /usr/local/lib/python3.6/dist-packages (from requests->keras-tuner) (1.24.3)\n",
            "Requirement already satisfied, skipping upgrade: certifi>=2017.4.17 in /usr/local/lib/python3.6/dist-packages (from requests->keras-tuner) (2020.12.5)\n",
            "Requirement already satisfied, skipping upgrade: idna<3,>=2.5 in /usr/local/lib/python3.6/dist-packages (from requests->keras-tuner) (2.10)\n"
          ],
          "name": "stdout"
        }
      ]
    },
    {
      "cell_type": "markdown",
      "metadata": {
        "id": "TRs9p254BLSu"
      },
      "source": [
        "## Подключаем нужные пакеты"
      ]
    },
    {
      "cell_type": "code",
      "metadata": {
        "id": "qrfd6FzSLrE2"
      },
      "source": [
        "%tensorflow_version 2.x\n",
        "from tensorflow.keras.datasets import fashion_mnist\n",
        "from tensorflow.keras.models import Sequential\n",
        "from tensorflow.keras.layers import Dense\n",
        "from tensorflow.keras import utils\n",
        "from google.colab import files\n",
        "from kerastuner.tuners import RandomSearch, Hyperband, BayesianOptimization\n",
        "import numpy as np"
      ],
      "execution_count": 35,
      "outputs": []
    },
    {
      "cell_type": "markdown",
      "metadata": {
        "id": "xiurjCBVMDTG"
      },
      "source": [
        "## Подготовка данных для обучения сети"
      ]
    },
    {
      "cell_type": "code",
      "metadata": {
        "id": "E5L3LUIi8PDV"
      },
      "source": [
        "(x_train, y_train), (x_test, y_test) = fashion_mnist.load_data()"
      ],
      "execution_count": 36,
      "outputs": []
    },
    {
      "cell_type": "code",
      "metadata": {
        "id": "6Z52YG_1kXbi"
      },
      "source": [
        "x_train = x_train.reshape(60000, 784)\n",
        "x_test = x_test.reshape(10000, 784)\n",
        "x_train = x_train / 255 \n",
        "x_test = x_test / 255 \n",
        "y_train = utils.to_categorical(y_train, 10)\n",
        "y_test = utils.to_categorical(y_test, 10)"
      ],
      "execution_count": 37,
      "outputs": []
    },
    {
      "cell_type": "markdown",
      "metadata": {
        "id": "rpEltSGUkJAG"
      },
      "source": [
        "## Задаем функцию создания нейронной сети"
      ]
    },
    {
      "cell_type": "code",
      "metadata": {
        "id": "Sd62W3GOQtKU"
      },
      "source": [
        "def build_model(hp):\n",
        "    model = Sequential()\n",
        "    activation_choice = hp.Choice('activation', values=['relu', 'sigmoid', 'tanh', 'elu', 'selu'])    \n",
        "    model.add(Dense(units=hp.Int('units_input',    # Полносвязный слой с разным количеством нейронов\n",
        "                                   min_value=800,    # минимальное количество нейронов - 128\n",
        "                                   max_value=19200,   # максимальное количество - 1024\n",
        "                                   step=800),\n",
        "                    input_dim=784,\n",
        "                    activation=activation_choice))\n",
        "    model.add(Dense(units=hp.Int('units_hidden',        \n",
        "                                   min_value=128,   \n",
        "                                   max_value=1200,   \n",
        "                                   step=32),\n",
        "                    activation=activation_choice))    \n",
        "    model.add(Dense(10, activation='softmax'))\n",
        "    model.compile(\n",
        "        optimizer=hp.Choice('optimizer', values=['Adam','Adamax','rmsprop','SGD']),\n",
        "        loss='categorical_crossentropy',\n",
        "        metrics=['accuracy'])\n",
        "    return model"
      ],
      "execution_count": 62,
      "outputs": []
    },
    {
      "cell_type": "markdown",
      "metadata": {
        "id": "lFw-0sZsmFOJ"
      },
      "source": [
        "## Создаем tuner\n",
        "\n",
        "Доступные типы тюнеров: \n",
        "- RandomSearch - случайный поиск.\n",
        "- Hyperband - алгоритм оптимизации на основе многорукого бандита, Li, Lisha, and Kevin Jamieson. [\"Hyperband: A Novel Bandit-Based Approach to Hyperparameter Optimization.\"Journal of Machine Learning Research 18 (2018): 1-52](http://jmlr.org/papers/v18/16-558.html).\n",
        "- BayesianOptimization - [байесовская оптимизация](https://en.wikipedia.org/wiki/Bayesian_optimization)."
      ]
    },
    {
      "cell_type": "code",
      "metadata": {
        "id": "OZwA47cOQz4b"
      },
      "source": [
        "tuner = BayesianOptimization(\n",
        "    build_model,                 # функция создания модели\n",
        "    objective='val_accuracy',    # метрика, которую нужно оптимизировать - \n",
        "                                 # доля правильных ответов на проверочном наборе данных\n",
        "    max_trials=80,               # максимальное количество запусков обучения \n",
        "    directory='test_directory'   # каталог, куда сохраняются обученные сети  \n",
        "    )"
      ],
      "execution_count": 63,
      "outputs": []
    },
    {
      "cell_type": "markdown",
      "metadata": {
        "id": "-znOiwDZB1C5"
      },
      "source": [
        "## Запускаем подбор гиперпараметров"
      ]
    },
    {
      "cell_type": "markdown",
      "metadata": {
        "id": "63MVEBFYmdpB"
      },
      "source": [
        "Пространство поиска"
      ]
    },
    {
      "cell_type": "code",
      "metadata": {
        "id": "JeJ87qoVB4PV",
        "colab": {
          "base_uri": "https://localhost:8080/"
        },
        "outputId": "b7dc8b5f-491c-4a09-d0be-2dc8502ba848"
      },
      "source": [
        "tuner.search_space_summary()"
      ],
      "execution_count": 64,
      "outputs": [
        {
          "output_type": "stream",
          "text": [
            "Search space summary\n",
            "Default search space size: 4\n",
            "activation (Choice)\n",
            "{'default': 'relu', 'conditions': [], 'values': ['relu', 'sigmoid', 'tanh', 'elu', 'selu'], 'ordered': False}\n",
            "units_input (Int)\n",
            "{'default': None, 'conditions': [], 'min_value': 800, 'max_value': 19200, 'step': 800, 'sampling': None}\n",
            "units_hidden (Int)\n",
            "{'default': None, 'conditions': [], 'min_value': 128, 'max_value': 1200, 'step': 32, 'sampling': None}\n",
            "optimizer (Choice)\n",
            "{'default': 'Adam', 'conditions': [], 'values': ['Adam', 'Adamax', 'rmsprop', 'SGD'], 'ordered': False}\n"
          ],
          "name": "stdout"
        }
      ]
    },
    {
      "cell_type": "markdown",
      "metadata": {
        "id": "EfT4ecI8n5Ga"
      },
      "source": [
        "Подбор гиперпараметров"
      ]
    },
    {
      "cell_type": "code",
      "metadata": {
        "id": "NEFHVKDBB-Z9",
        "colab": {
          "base_uri": "https://localhost:8080/"
        },
        "outputId": "1e5de707-4855-4374-85ee-6b68318a81c9"
      },
      "source": [
        "tuner.search(x_train,                  # Данные для обучения\n",
        "             y_train,                  # Правильные ответы\n",
        "             batch_size=400,           # Размер мини-выборки\n",
        "             epochs=80,                # Количество эпох обучения \n",
        "             validation_split=0.2,     # Часть данных, которая будет использоваться для проверки\n",
        "             )"
      ],
      "execution_count": 65,
      "outputs": [
        {
          "output_type": "stream",
          "text": [
            "Trial 80 Complete [00h 02m 24s]\n",
            "val_accuracy: 0.902916669845581\n",
            "\n",
            "Best val_accuracy So Far: 0.9055833220481873\n",
            "Total elapsed time: 03h 19m 02s\n",
            "INFO:tensorflow:Oracle triggered exit\n"
          ],
          "name": "stdout"
        }
      ]
    },
    {
      "cell_type": "markdown",
      "metadata": {
        "id": "KlPTC0r3pLyB"
      },
      "source": [
        "## Выбираем лучшую модель"
      ]
    },
    {
      "cell_type": "code",
      "metadata": {
        "id": "i1TDBMF6ORNW",
        "colab": {
          "base_uri": "https://localhost:8080/"
        },
        "outputId": "aba11354-6705-4514-a782-9a6126115da7"
      },
      "source": [
        "tuner.results_summary(num_trials=1)"
      ],
      "execution_count": 66,
      "outputs": [
        {
          "output_type": "stream",
          "text": [
            "Results summary\n",
            "Results in test_directory/untitled_project\n",
            "Showing 1 best trials\n",
            "Objective(name='val_accuracy', direction='max')\n",
            "Trial summary\n",
            "Hyperparameters:\n",
            "activation: relu\n",
            "units_input: 1600\n",
            "units_hidden: 1088\n",
            "optimizer: rmsprop\n",
            "Score: 0.9055833220481873\n"
          ],
          "name": "stdout"
        }
      ]
    },
    {
      "cell_type": "markdown",
      "metadata": {
        "id": "_it8FZ8epSue"
      },
      "source": [
        "Получаем три лучших модели"
      ]
    },
    {
      "cell_type": "code",
      "metadata": {
        "id": "31_zCfjqQVL6",
        "colab": {
          "base_uri": "https://localhost:8080/"
        },
        "outputId": "979ce4b2-7b29-4f0f-b281-0f5317fd0de2"
      },
      "source": [
        "models = tuner.get_best_models(num_models=1)\r\n",
        "models"
      ],
      "execution_count": 67,
      "outputs": [
        {
          "output_type": "execute_result",
          "data": {
            "text/plain": [
              "[<tensorflow.python.keras.engine.sequential.Sequential at 0x7f8060134b00>]"
            ]
          },
          "metadata": {
            "tags": []
          },
          "execution_count": 67
        }
      ]
    },
    {
      "cell_type": "markdown",
      "metadata": {
        "id": "Oje7bSQppVkF"
      },
      "source": [
        "Оцениваем качество модели на тестовых данных"
      ]
    },
    {
      "cell_type": "code",
      "metadata": {
        "id": "CUoo7iM-bBht",
        "colab": {
          "base_uri": "https://localhost:8080/"
        },
        "outputId": "7bc03253-594d-4035-97b6-22e87924c6d4"
      },
      "source": [
        "for model in models:\n",
        "  model.summary()\n",
        "  model.evaluate(x_test, y_test)\n",
        "  print() "
      ],
      "execution_count": 68,
      "outputs": [
        {
          "output_type": "stream",
          "text": [
            "Model: \"sequential\"\n",
            "_________________________________________________________________\n",
            "Layer (type)                 Output Shape              Param #   \n",
            "=================================================================\n",
            "dense (Dense)                (None, 1600)              1256000   \n",
            "_________________________________________________________________\n",
            "dense_1 (Dense)              (None, 1088)              1741888   \n",
            "_________________________________________________________________\n",
            "dense_2 (Dense)              (None, 10)                10890     \n",
            "=================================================================\n",
            "Total params: 3,008,778\n",
            "Trainable params: 3,008,778\n",
            "Non-trainable params: 0\n",
            "_________________________________________________________________\n",
            "313/313 [==============================] - 1s 2ms/step - loss: 0.8276 - accuracy: 0.9008\n",
            "\n"
          ],
          "name": "stdout"
        }
      ]
    },
    {
      "cell_type": "code",
      "metadata": {
        "colab": {
          "base_uri": "https://localhost:8080/"
        },
        "id": "-Pxdqi-MymcO",
        "outputId": "842f9c79-413a-400c-bcbd-c82ddaedd783"
      },
      "source": [
        "scores = model.evaluate(x_test, y_test)\r\n",
        "print(\"Доля верных ответов на тестовых данных, в процентах:\", round(scores[1] * 100, 4))"
      ],
      "execution_count": 69,
      "outputs": [
        {
          "output_type": "stream",
          "text": [
            "313/313 [==============================] - 1s 2ms/step - loss: 0.8110 - accuracy: 0.9007\n",
            "Доля верных ответов на тестовых данных, в процентах: 90.07\n"
          ],
          "name": "stdout"
        }
      ]
    }
  ]
}